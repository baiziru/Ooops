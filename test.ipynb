{
 "cells": [
  {
   "cell_type": "markdown",
   "metadata": {},
   "source": [
    "https://www.kaggle.com/janiobachmann/credit-fraud-dealing-with-imbalanced-datasets#notebook-container"
   ]
  },
  {
   "cell_type": "markdown",
   "metadata": {},
   "source": [
    "## Load library"
   ]
  },
  {
   "cell_type": "code",
   "execution_count": 1,
   "metadata": {},
   "outputs": [
    {
     "name": "stderr",
     "output_type": "stream",
     "text": [
      "Using TensorFlow backend.\n"
     ]
    }
   ],
   "source": [
    "# This Python 3 environment comes with many helpful analytics libraries installed\n",
    "# It is defined by the kaggle/python docker image: https://github.com/kaggle/docker-python\n",
    "# For example, here's several helpful packages to load in \n",
    "\n",
    "# Imported Libraries\n",
    "\n",
    "import numpy as np # linear algebra\n",
    "import pandas as pd # data processing, CSV file I/O (e.g. pd.read_csv)\n",
    "import tensorflow as tf\n",
    "import matplotlib.pyplot as plt\n",
    "import seaborn as sns\n",
    "from sklearn.manifold import TSNE\n",
    "from sklearn.decomposition import PCA, TruncatedSVD\n",
    "import matplotlib.patches as mpatches\n",
    "import time\n",
    "\n",
    "# Classifier Libraries\n",
    "from sklearn.linear_model import LogisticRegression\n",
    "from sklearn.svm import SVC\n",
    "from sklearn.neighbors import KNeighborsClassifier\n",
    "from sklearn.tree import DecisionTreeClassifier\n",
    "from sklearn.ensemble import RandomForestClassifier\n",
    "import collections\n",
    "\n",
    "\n",
    "# Other Libraries\n",
    "from sklearn.model_selection import train_test_split\n",
    "from sklearn.pipeline import make_pipeline\n",
    "from imblearn.pipeline import make_pipeline as imbalanced_make_pipeline\n",
    "from imblearn.over_sampling import SMOTE\n",
    "from imblearn.under_sampling import NearMiss\n",
    "from imblearn.metrics import classification_report_imbalanced\n",
    "from sklearn.metrics import precision_score, recall_score, f1_score, roc_auc_score, accuracy_score, classification_report\n",
    "from collections import Counter\n",
    "from sklearn.model_selection import KFold, StratifiedKFold\n",
    "import warnings\n",
    "warnings.filterwarnings(\"ignore\")\n",
    "\n",
    "\n",
    "\n",
    "import numpy as np\n",
    "import pandas as pd\n",
    "import matplotlib.pyplot as plt\n",
    "import seaborn as sns\n",
    "sns.set() #set style as seaborn\n",
    "from sklearn.manifold import TSNE\n",
    "from sklearn.model_selection import GridSearchCV\n",
    "from sklearn.metrics import classification_report,roc_auc_score,confusion_matrix\n",
    "from sklearn.model_selection import train_test_split\n",
    "import random\n",
    "from sklearn.preprocessing import StandardScaler,MinMaxScaler\n",
    "from sklearn.ensemble import RandomForestClassifier\n",
    "from sklearn.linear_model import LogisticRegression\n",
    "from sklearn.neighbors import KNeighborsClassifier\n",
    "from sklearn.ensemble import VotingClassifier\n",
    "from sklearn.cluster import KMeans,MiniBatchKMeans\n",
    "\n",
    "\n",
    "import pickle"
   ]
  },
  {
   "cell_type": "markdown",
   "metadata": {},
   "source": [
    "## Load Data"
   ]
  },
  {
   "cell_type": "code",
   "execution_count": 4,
   "metadata": {},
   "outputs": [
    {
     "data": {
      "text/html": [
       "<div>\n",
       "<style scoped>\n",
       "    .dataframe tbody tr th:only-of-type {\n",
       "        vertical-align: middle;\n",
       "    }\n",
       "\n",
       "    .dataframe tbody tr th {\n",
       "        vertical-align: top;\n",
       "    }\n",
       "\n",
       "    .dataframe thead th {\n",
       "        text-align: right;\n",
       "    }\n",
       "</style>\n",
       "<table border=\"1\" class=\"dataframe\">\n",
       "  <thead>\n",
       "    <tr style=\"text-align: right;\">\n",
       "      <th></th>\n",
       "      <th>id</th>\n",
       "      <th>certId</th>\n",
       "      <th>loanProduct</th>\n",
       "      <th>gender</th>\n",
       "      <th>age</th>\n",
       "      <th>dist</th>\n",
       "      <th>edu</th>\n",
       "      <th>job</th>\n",
       "      <th>lmt</th>\n",
       "      <th>basicLevel</th>\n",
       "      <th>...</th>\n",
       "      <th>highestEdu</th>\n",
       "      <th>linkRela</th>\n",
       "      <th>setupHour</th>\n",
       "      <th>weekday</th>\n",
       "      <th>ncloseCreditCard</th>\n",
       "      <th>unpayIndvLoan</th>\n",
       "      <th>unpayOtherLoan</th>\n",
       "      <th>unpayNormalLoan</th>\n",
       "      <th>5yearBadloan</th>\n",
       "      <th>isNew</th>\n",
       "    </tr>\n",
       "  </thead>\n",
       "  <tbody>\n",
       "    <tr>\n",
       "      <th>0</th>\n",
       "      <td>1</td>\n",
       "      <td>640582</td>\n",
       "      <td>1</td>\n",
       "      <td>2</td>\n",
       "      <td>27</td>\n",
       "      <td>640500</td>\n",
       "      <td>0</td>\n",
       "      <td>8</td>\n",
       "      <td>5.963</td>\n",
       "      <td>3</td>\n",
       "      <td>...</td>\n",
       "      <td>-999</td>\n",
       "      <td>0</td>\n",
       "      <td>9</td>\n",
       "      <td>6</td>\n",
       "      <td>1</td>\n",
       "      <td>0</td>\n",
       "      <td>1</td>\n",
       "      <td>0</td>\n",
       "      <td>0</td>\n",
       "      <td>1</td>\n",
       "    </tr>\n",
       "    <tr>\n",
       "      <th>1</th>\n",
       "      <td>2</td>\n",
       "      <td>621023</td>\n",
       "      <td>2</td>\n",
       "      <td>2</td>\n",
       "      <td>25</td>\n",
       "      <td>640600</td>\n",
       "      <td>0</td>\n",
       "      <td>3</td>\n",
       "      <td>6.467</td>\n",
       "      <td>3</td>\n",
       "      <td>...</td>\n",
       "      <td>99</td>\n",
       "      <td>11</td>\n",
       "      <td>6</td>\n",
       "      <td>5</td>\n",
       "      <td>1</td>\n",
       "      <td>0</td>\n",
       "      <td>1</td>\n",
       "      <td>0</td>\n",
       "      <td>0</td>\n",
       "      <td>1</td>\n",
       "    </tr>\n",
       "    <tr>\n",
       "      <th>2</th>\n",
       "      <td>3</td>\n",
       "      <td>641283</td>\n",
       "      <td>1</td>\n",
       "      <td>2</td>\n",
       "      <td>37</td>\n",
       "      <td>641200</td>\n",
       "      <td>70</td>\n",
       "      <td>5</td>\n",
       "      <td>0.596</td>\n",
       "      <td>1</td>\n",
       "      <td>...</td>\n",
       "      <td>70</td>\n",
       "      <td>0</td>\n",
       "      <td>1</td>\n",
       "      <td>6</td>\n",
       "      <td>0</td>\n",
       "      <td>0</td>\n",
       "      <td>0</td>\n",
       "      <td>0</td>\n",
       "      <td>0</td>\n",
       "      <td>1</td>\n",
       "    </tr>\n",
       "    <tr>\n",
       "      <th>3</th>\n",
       "      <td>4</td>\n",
       "      <td>340821</td>\n",
       "      <td>3</td>\n",
       "      <td>2</td>\n",
       "      <td>29</td>\n",
       "      <td>340821</td>\n",
       "      <td>0</td>\n",
       "      <td>4</td>\n",
       "      <td>6.300</td>\n",
       "      <td>3</td>\n",
       "      <td>...</td>\n",
       "      <td>-999</td>\n",
       "      <td>-999</td>\n",
       "      <td>13</td>\n",
       "      <td>6</td>\n",
       "      <td>1</td>\n",
       "      <td>0</td>\n",
       "      <td>1</td>\n",
       "      <td>0</td>\n",
       "      <td>0</td>\n",
       "      <td>1</td>\n",
       "    </tr>\n",
       "    <tr>\n",
       "      <th>4</th>\n",
       "      <td>5</td>\n",
       "      <td>732628</td>\n",
       "      <td>2</td>\n",
       "      <td>2</td>\n",
       "      <td>22</td>\n",
       "      <td>732628</td>\n",
       "      <td>0</td>\n",
       "      <td>2</td>\n",
       "      <td>6.700</td>\n",
       "      <td>2</td>\n",
       "      <td>...</td>\n",
       "      <td>99</td>\n",
       "      <td>11</td>\n",
       "      <td>8</td>\n",
       "      <td>3</td>\n",
       "      <td>1</td>\n",
       "      <td>0</td>\n",
       "      <td>1</td>\n",
       "      <td>0</td>\n",
       "      <td>0</td>\n",
       "      <td>1</td>\n",
       "    </tr>\n",
       "  </tbody>\n",
       "</table>\n",
       "<p>5 rows × 104 columns</p>\n",
       "</div>"
      ],
      "text/plain": [
       "   id  certId  loanProduct  gender  age    dist  edu  job    lmt  basicLevel  \\\n",
       "0   1  640582            1       2   27  640500    0    8  5.963           3   \n",
       "1   2  621023            2       2   25  640600    0    3  6.467           3   \n",
       "2   3  641283            1       2   37  641200   70    5  0.596           1   \n",
       "3   4  340821            3       2   29  340821    0    4  6.300           3   \n",
       "4   5  732628            2       2   22  732628    0    2  6.700           2   \n",
       "\n",
       "   ...  highestEdu  linkRela  setupHour  weekday  ncloseCreditCard  \\\n",
       "0  ...        -999         0          9        6                 1   \n",
       "1  ...          99        11          6        5                 1   \n",
       "2  ...          70         0          1        6                 0   \n",
       "3  ...        -999      -999         13        6                 1   \n",
       "4  ...          99        11          8        3                 1   \n",
       "\n",
       "   unpayIndvLoan  unpayOtherLoan  unpayNormalLoan  5yearBadloan  isNew  \n",
       "0              0               1                0             0      1  \n",
       "1              0               1                0             0      1  \n",
       "2              0               0                0             0      1  \n",
       "3              0               1                0             0      1  \n",
       "4              0               1                0             0      1  \n",
       "\n",
       "[5 rows x 104 columns]"
      ]
     },
     "execution_count": 4,
     "metadata": {},
     "output_type": "execute_result"
    }
   ],
   "source": [
    "## D:\\study\\notebook\\2019厦门国际银行“数创金融杯”数据建模大赛\\data\n",
    "path = r'D:\\study\\notebook\\2019厦门国际银行“数创金融杯”数据建模大赛\\data\\\\'\n",
    "\n",
    "train_x_file = path + 'train.csv'\n",
    "train_target_file = path + 'train_target.csv'\n",
    "test_x_file = path + 'test.csv'\n",
    "\n",
    "def load_data():\n",
    "    train_x = pd.read_csv(train_x_file, low_memory = False)\n",
    "    train_y = pd.read_csv(train_target_file,low_memory = False)\n",
    "    test_x = pd.read_csv(test_x_file,  low_memory = False)\n",
    "    return train_x,train_y,test_x\n",
    "\n",
    "\n",
    "train_x,train_y,test_x = load_data()\n",
    "#data = train_x.merge(train_y, on='id', how='left')\n",
    "train_x.replace(np.NaN,0,inplace=True)\n",
    "train_x.head()"
   ]
  },
  {
   "cell_type": "code",
   "execution_count": 3,
   "metadata": {},
   "outputs": [
    {
     "name": "stdout",
     "output_type": "stream",
     "text": [
      "Index(['id', 'certId', 'loanProduct', 'gender', 'age', 'dist', 'edu', 'job',\n",
      "       'lmt', 'basicLevel', 'x_0', 'x_1', 'x_2', 'x_3', 'x_4', 'x_5', 'x_6',\n",
      "       'x_7', 'x_8', 'x_9'],\n",
      "      dtype='object')\n",
      "Index(['x_10', 'x_11', 'x_12', 'x_13', 'x_14', 'x_15', 'x_16', 'x_17', 'x_18',\n",
      "       'x_19', 'x_20', 'x_21', 'x_22', 'x_23', 'x_24', 'x_25', 'x_26', 'x_27',\n",
      "       'x_28', 'x_29'],\n",
      "      dtype='object')\n",
      "Index(['x_30', 'x_31', 'x_32', 'x_33', 'x_34', 'x_35', 'x_36', 'x_37', 'x_38',\n",
      "       'x_39', 'x_40', 'x_41', 'x_42', 'x_43', 'x_44', 'x_45', 'x_46', 'x_47',\n",
      "       'x_48', 'x_49'],\n",
      "      dtype='object')\n",
      "Index(['x_50', 'x_51', 'x_52', 'x_53', 'x_54', 'x_55', 'x_56', 'x_57', 'x_58',\n",
      "       'x_59', 'x_60', 'x_61', 'x_62', 'x_63', 'x_64', 'x_65', 'x_66', 'x_67',\n",
      "       'x_68', 'x_69'],\n",
      "      dtype='object')\n",
      "Index(['x_70', 'x_71', 'x_72', 'x_73', 'x_74', 'x_75', 'x_76', 'x_77', 'x_78',\n",
      "       'certValidBegin', 'certValidStop', 'bankCard', 'ethnic', 'residentAddr',\n",
      "       'highestEdu', 'linkRela', 'setupHour', 'weekday', 'ncloseCreditCard',\n",
      "       'unpayIndvLoan', 'unpayOtherLoan', 'unpayNormalLoan', '5yearBadloan',\n",
      "       'isNew'],\n",
      "      dtype='object')\n"
     ]
    }
   ],
   "source": [
    "print(train_x.columns[:20])\n",
    "print(train_x.columns[20:40])\n",
    "print(train_x.columns[40:60])\n",
    "print(train_x.columns[60:80])\n",
    "print(train_x.columns[80:])"
   ]
  },
  {
   "cell_type": "markdown",
   "metadata": {},
   "source": [
    "##  EDA"
   ]
  },
  {
   "cell_type": "code",
   "execution_count": 3,
   "metadata": {},
   "outputs": [
    {
     "name": "stdout",
     "output_type": "stream",
     "text": [
      "正常贷款： 99.27 % of the dataset\n",
      "逾期贷款： 0.73 % of the dataset\n"
     ]
    },
    {
     "data": {
      "text/plain": [
       "Text(0.5, 1.0, 'Class Distributions \\n (0: No Default || 1: Default)')"
      ]
     },
     "execution_count": 3,
     "metadata": {},
     "output_type": "execute_result"
    },
    {
     "data": {
      "image/png": "[encoded data removed]",
      "text/plain": [
       "<Figure size 432x288 with 1 Axes>"
      ]
     },
     "metadata": {
      "needs_background": "light"
     },
     "output_type": "display_data"
    }
   ],
   "source": [
    "# The classes are heavily skewed we need to solve this issue later.\n",
    "print('正常贷款：', round(train_y['target'].value_counts()[0]/len(train_y) * 100,2), '% of the dataset')\n",
    "print('逾期贷款：', round(train_y['target'].value_counts()[1]/len(train_y) * 100,2), '% of the dataset')\n",
    "\n",
    "colors = [\"#0101DF\", \"#DF0101\"]\n",
    "\n",
    "sns.countplot('target', data=train_y, palette=colors)\n",
    "plt.title('Class Distributions \\n (0: No Default || 1: Default)', fontsize=14)"
   ]
  },
  {
   "cell_type": "code",
   "execution_count": null,
   "metadata": {},
   "outputs": [],
   "source": []
  },
  {
   "cell_type": "code",
   "execution_count": 40,
   "metadata": {},
   "outputs": [
    {
     "data": {
      "image/png": "[encoded data removed]",
      "text/plain": [
       "<Figure size 1296x576 with 1 Axes>"
      ]
     },
     "metadata": {},
     "output_type": "display_data"
    }
   ],
   "source": [
    "sns.set_style('whitegrid')\n",
    "#subplot(numRows, numCols, plotNum)\n",
    "plt.figure()\n",
    "\n",
    "data[(data.target == 1)]['job'].value_counts().sort_values(ascending=True).plot(kind='barh',figsize=(18,8))\n",
    "\n",
    "plt.title('Number of loans distributed by job type',fontsize=20)\n",
    "plt.xlabel('Number of loans',fontsize=15)\n",
    "plt.ylabel('Job Type',fontsize=15);"
   ]
  },
  {
   "cell_type": "code",
   "execution_count": 42,
   "metadata": {},
   "outputs": [
    {
     "data": {
      "image/png": "[encoded data removed]",
      "text/plain": [
       "<Figure size 1296x288 with 2 Axes>"
      ]
     },
     "metadata": {},
     "output_type": "display_data"
    }
   ],
   "source": [
    "fig, ax = plt.subplots(1, 2, figsize=(18,4))\n",
    "\n",
    "amount_val = data['scaled_lmt'].values\n",
    "time_val = data['scaled_setupHour'].values\n",
    "\n",
    "sns.distplot(amount_val, ax=ax[0], color='r')\n",
    "ax[0].set_title('Distribution of Transaction Amount', fontsize=14)\n",
    "ax[0].set_xlim([min(amount_val), max(amount_val)])\n",
    "\n",
    "sns.distplot(time_val, ax=ax[1], color='b')\n",
    "ax[1].set_title('Distribution of Transaction Time', fontsize=14)\n",
    "ax[1].set_xlim([min(time_val), max(time_val)])\n",
    "\n",
    "plt.show()"
   ]
  },
  {
   "cell_type": "code",
   "execution_count": 50,
   "metadata": {},
   "outputs": [
    {
     "data": {
      "text/plain": [
       "<matplotlib.axes._subplots.AxesSubplot at 0x28e843a9e80>"
      ]
     },
     "execution_count": 50,
     "metadata": {},
     "output_type": "execute_result"
    },
    {
     "data": {
      "image/png": "[encoded data removed]",
      "text/plain": [
       "<Figure size 1296x576 with 1 Axes>"
      ]
     },
     "metadata": {},
     "output_type": "display_data"
    }
   ],
   "source": [
    "data[(data.target ==1)]['basicLevel'].value_counts().sort_values(ascending=True).plot(kind='barh',figsize=(18,8))"
   ]
  },
  {
   "cell_type": "code",
   "execution_count": 43,
   "metadata": {},
   "outputs": [
    {
     "name": "stdout",
     "output_type": "stream",
     "text": [
      "Index(['certId', 'loanProduct', 'gender', 'age', 'dist', 'edu', 'job',\n",
      "       'basicLevel', 'x_0', 'x_1', 'x_2', 'x_3', 'x_4', 'x_5', 'x_6', 'x_7',\n",
      "       'x_8', 'x_9', 'x_10', 'x_11'],\n",
      "      dtype='object')\n",
      "Index(['x_12', 'x_13', 'x_14', 'x_15', 'x_16', 'x_17', 'x_18', 'x_19', 'x_20',\n",
      "       'x_21', 'x_22', 'x_23', 'x_24', 'x_25', 'x_26', 'x_27', 'x_28', 'x_29',\n",
      "       'x_30', 'x_31'],\n",
      "      dtype='object')\n",
      "Index(['x_32', 'x_33', 'x_34', 'x_35', 'x_36', 'x_37', 'x_38', 'x_39', 'x_40',\n",
      "       'x_41', 'x_42', 'x_43', 'x_44', 'x_45', 'x_46', 'x_47', 'x_48', 'x_49',\n",
      "       'x_50', 'x_51'],\n",
      "      dtype='object')\n",
      "Index(['x_52', 'x_53', 'x_54', 'x_55', 'x_56', 'x_57', 'x_58', 'x_59', 'x_60',\n",
      "       'x_61', 'x_62', 'x_63', 'x_64', 'x_65', 'x_66', 'x_67', 'x_68', 'x_69',\n",
      "       'x_70', 'x_71'],\n",
      "      dtype='object')\n",
      "Index(['x_72', 'x_73', 'x_74', 'x_75', 'x_76', 'x_77', 'x_78', 'bankCard',\n",
      "       'ethnic', 'residentAddr', 'highestEdu', 'linkRela', 'weekday',\n",
      "       'ncloseCreditCard', 'unpayIndvLoan', 'unpayOtherLoan',\n",
      "       'unpayNormalLoan', '5yearBadloan', 'target', 'scaled_lmt',\n",
      "       'scaled_setupHour'],\n",
      "      dtype='object')\n"
     ]
    }
   ],
   "source": [
    "print(data.columns[:20])\n",
    "print(data.columns[20:40])\n",
    "print(data.columns[40:60])\n",
    "print(data.columns[60:80])\n",
    "print(data.columns[80:])"
   ]
  },
  {
   "cell_type": "code",
   "execution_count": 25,
   "metadata": {},
   "outputs": [
    {
     "data": {
      "text/plain": [
       "0    84196\n",
       "1    47833\n",
       "Name: isNew, dtype: int64"
      ]
     },
     "execution_count": 25,
     "metadata": {},
     "output_type": "execute_result"
    }
   ],
   "source": [
    "data.isNew.value_counts()"
   ]
  },
  {
   "cell_type": "markdown",
   "metadata": {},
   "source": [
    "## 变量分箱\n",
    "\n",
    "> 采用卡方（ChiMerge）分箱，要求分箱完成之后：\n",
    "\n",
    "> - 不超过5箱（本模型默认不超过5箱）\n",
    "> - 坏样本率（Bad Rate）单调\n",
    "> - 每箱同时包含好坏样本\n",
    "> - 如有特殊值如-1单独成一箱，此箱不参与Bad Rate单调性检验\n",
    "> - 连续型的变量可以直接进行分箱，对于类别型的变量分为以下几种情况：\n",
    "\n",
    "- 当类别型变量取值比较多时（本例中大于5），先用bad rate 进行编码，然后放入连续型变量列表中，使用连续型变量分箱的方法进行分箱。\n",
    "当取值较少时（本例中小于等于5），分两种情况：\n",
    " - （1）如果每种类别同时包含好坏样本，则无需分箱；\n",
    " - （2）如果有类别只包含好坏样本的一种，则需要合并；\n",
    "\n",
    "\n",
    "- 作者：乘物以游心\n",
    "- 链接：https://www.jianshu.com/p/eaf80fcaeed0\n",
    "- 来源：简书\n",
    "- 著作权归作者所有。商业转载请联系作者获得授权，非商业转载请注明出处。"
   ]
  },
  {
   "cell_type": "code",
   "execution_count": 5,
   "metadata": {},
   "outputs": [
    {
     "data": {
      "text/plain": [
       " 3      43821\n",
       " 1      41166\n",
       " 2      22697\n",
       " 4      11492\n",
       " 5      11044\n",
       " 6       1498\n",
       "-999      311\n",
       "Name: x_33, dtype: int64"
      ]
     },
     "execution_count": 5,
     "metadata": {},
     "output_type": "execute_result"
    }
   ],
   "source": [
    "train_x.x_33.value_counts()"
   ]
  },
  {
   "cell_type": "code",
   "execution_count": 6,
   "metadata": {},
   "outputs": [
    {
     "name": "stdout",
     "output_type": "stream",
     "text": [
      "Index(['id', 'certId', 'loanProduct', 'gender', 'age', 'dist', 'edu', 'job',\n",
      "       'lmt', 'basicLevel', 'x_0', 'x_1', 'x_2', 'x_3', 'x_4', 'x_5', 'x_6',\n",
      "       'x_7', 'x_8', 'x_9'],\n",
      "      dtype='object')\n",
      "Index(['x_10', 'x_11', 'x_12', 'x_13', 'x_14', 'x_15', 'x_16', 'x_17', 'x_18',\n",
      "       'x_19', 'x_20', 'x_21', 'x_22', 'x_23', 'x_24', 'x_25', 'x_26', 'x_27',\n",
      "       'x_28', 'x_29'],\n",
      "      dtype='object')\n",
      "Index(['x_30', 'x_31', 'x_32', 'x_33', 'x_34', 'x_35', 'x_36', 'x_37', 'x_38',\n",
      "       'x_39', 'x_40', 'x_41', 'x_42', 'x_43', 'x_44', 'x_45', 'x_46', 'x_47',\n",
      "       'x_48', 'x_49'],\n",
      "      dtype='object')\n",
      "Index(['x_50', 'x_51', 'x_52', 'x_53', 'x_54', 'x_55', 'x_56', 'x_57', 'x_58',\n",
      "       'x_59', 'x_60', 'x_61', 'x_62', 'x_63', 'x_64', 'x_65', 'x_66', 'x_67',\n",
      "       'x_68', 'x_69'],\n",
      "      dtype='object')\n",
      "Index(['x_70', 'x_71', 'x_72', 'x_73', 'x_74', 'x_75', 'x_76', 'x_77', 'x_78',\n",
      "       'certValidBegin', 'certValidStop', 'bankCard', 'ethnic', 'residentAddr',\n",
      "       'highestEdu', 'linkRela', 'setupHour', 'weekday', 'ncloseCreditCard',\n",
      "       'unpayIndvLoan', 'unpayOtherLoan', 'unpayNormalLoan', '5yearBadloan',\n",
      "       'isNew'],\n",
      "      dtype='object')\n"
     ]
    }
   ],
   "source": [
    "print(train_x.columns[:20])\n",
    "print(train_x.columns[20:40])\n",
    "print(train_x.columns[40:60])\n",
    "print(train_x.columns[60:80])\n",
    "print(train_x.columns[80:])"
   ]
  },
  {
   "cell_type": "markdown",
   "metadata": {},
   "source": [
    "### 特征分类（数值型/分类变量）"
   ]
  },
  {
   "cell_type": "code",
   "execution_count": 25,
   "metadata": {},
   "outputs": [
    {
     "name": "stdout",
     "output_type": "stream",
     "text": [
      "Original shape:(132029, 105)\n",
      "num_features shape:8\n",
      "cat_features shape:92\n"
     ]
    }
   ],
   "source": [
    "#我们初步挑选变量如下，分为两类：数值型（连续型）的和类别型的变量\n",
    "data = train_x.merge(train_y, on='id', how='left')\n",
    "\n",
    "#remove :['certValidBegin','certValidStop']\n",
    "num_features = [ 'age','lmt', 'setupHour',  'ncloseCreditCard',\n",
    "       'unpayIndvLoan', 'unpayOtherLoan', 'unpayNormalLoan', '5yearBadloan']\n",
    "\n",
    "#remove :['id','isnew']\n",
    "cat_features = ['certId', 'loanProduct', 'gender',  'dist', 'edu', 'job','basicLevel',\n",
    "       'bankCard', 'ethnic', 'residentAddr','highestEdu', 'linkRela','weekday',\n",
    "       'x_0', 'x_1', 'x_2', 'x_3', 'x_4', 'x_5', 'x_6',\n",
    "       'x_7', 'x_8', 'x_9','x_10', 'x_11', 'x_12', 'x_13', 'x_14', 'x_15', 'x_16', 'x_17', 'x_18',\n",
    "       'x_19', 'x_20', 'x_21', 'x_22', 'x_23', 'x_24', 'x_25', 'x_26', 'x_27',\n",
    "       'x_28', 'x_29','x_30', 'x_31', 'x_32', 'x_33', 'x_34', 'x_35', 'x_36', 'x_37', 'x_38',\n",
    "       'x_39', 'x_40', 'x_41', 'x_42', 'x_43', 'x_44', 'x_45', 'x_46', 'x_47',\n",
    "       'x_48', 'x_49','x_50', 'x_51', 'x_52', 'x_53', 'x_54', 'x_55', 'x_56', 'x_57', 'x_58',\n",
    "       'x_59', 'x_60', 'x_61', 'x_62', 'x_63', 'x_64', 'x_65', 'x_66', 'x_67',\n",
    "       'x_68', 'x_69','x_70', 'x_71', 'x_72', 'x_73', 'x_74', 'x_75', 'x_76', 'x_77', 'x_78',]\n",
    "\n",
    "print(\"Original shape:{}\".format(data.shape))\n",
    "\n",
    "print(\"num_features shape:{}\".format(len(num_features)))\n",
    "print(\"cat_features shape:{}\".format(len(cat_features)))"
   ]
  },
  {
   "cell_type": "markdown",
   "metadata": {},
   "source": [
    "### 类别型变量分类"
   ]
  },
  {
   "cell_type": "code",
   "execution_count": 26,
   "metadata": {},
   "outputs": [
    {
     "name": "stdout",
     "output_type": "stream",
     "text": [
      "more_value_features: ['certId', 'dist', 'edu', 'job', 'basicLevel', 'bankCard', 'ethnic', 'residentAddr', 'highestEdu', 'linkRela', 'weekday', 'x_33', 'x_34'] , total_num: 13\n",
      "less_value_features: ['loanProduct', 'gender', 'x_0', 'x_1', 'x_2', 'x_3', 'x_4', 'x_5', 'x_6', 'x_7', 'x_8', 'x_9', 'x_10', 'x_11', 'x_12', 'x_13', 'x_14', 'x_15', 'x_16', 'x_17', 'x_18', 'x_19', 'x_20', 'x_21', 'x_22', 'x_23', 'x_24', 'x_25', 'x_26', 'x_27', 'x_28', 'x_29', 'x_30', 'x_31', 'x_32', 'x_35', 'x_36', 'x_37', 'x_38', 'x_39', 'x_40', 'x_41', 'x_42', 'x_43', 'x_44', 'x_45', 'x_46', 'x_47', 'x_48', 'x_49', 'x_50', 'x_51', 'x_52', 'x_53', 'x_54', 'x_55', 'x_56', 'x_57', 'x_58', 'x_59', 'x_60', 'x_61', 'x_62', 'x_63', 'x_64', 'x_65', 'x_66', 'x_67', 'x_68', 'x_69', 'x_70', 'x_71', 'x_72', 'x_73', 'x_74', 'x_75', 'x_76', 'x_77', 'x_78'], total_num: 79\n"
     ]
    }
   ],
   "source": [
    "more_value_features = []\n",
    "less_value_features = []\n",
    "# 第一步，检查类别型变量中，哪些变量取值超过5\n",
    "\n",
    "for var in cat_features:\n",
    "    valueCounts = len(set(data[var]))\n",
    "    #print(var,\" ->\",valueCounts)\n",
    "    if valueCounts > 5:\n",
    "        more_value_features.append(var)  #取值超过5的变量，需要bad rate编码，再用卡方分箱法进行分箱\n",
    "    else:\n",
    "        less_value_features.append(var)\n",
    "        \n",
    "print(\"more_value_features: {} , total_num: {}\".format(more_value_features, len(more_value_features)))\n",
    "print(\"less_value_features: {}, total_num: {}\".format(less_value_features,len(less_value_features)))"
   ]
  },
  {
   "cell_type": "code",
   "execution_count": 27,
   "metadata": {},
   "outputs": [
    {
     "name": "stdout",
     "output_type": "stream",
     "text": [
      "13\n",
      "79\n"
     ]
    }
   ],
   "source": [
    "print(len(more_value_features))\n",
    "print(len(less_value_features))"
   ]
  },
  {
   "cell_type": "markdown",
   "metadata": {},
   "source": [
    "#### 特征合并（取值<5时）"
   ]
  },
  {
   "cell_type": "code",
   "execution_count": 28,
   "metadata": {},
   "outputs": [
    {
     "name": "stdout",
     "output_type": "stream",
     "text": [
      "do loanProduct ....\n",
      "<pandas.core.groupby.generic.SeriesGroupBy object at 0x000001E106A87EB8>\n",
      "do gender ....\n",
      "<pandas.core.groupby.generic.SeriesGroupBy object at 0x000001E106A872B0>\n",
      "do x_0 ....\n",
      "<pandas.core.groupby.generic.SeriesGroupBy object at 0x000001E106A87198>\n",
      "do x_1 ....\n",
      "<pandas.core.groupby.generic.SeriesGroupBy object at 0x000001E156BF0BA8>\n",
      "do x_2 ....\n",
      "<pandas.core.groupby.generic.SeriesGroupBy object at 0x000001E156BF0A20>\n",
      "do x_3 ....\n",
      "<pandas.core.groupby.generic.SeriesGroupBy object at 0x000001E157CCE6A0>\n",
      "do x_4 ....\n",
      "<pandas.core.groupby.generic.SeriesGroupBy object at 0x000001E157CCEDD8>\n",
      "do x_5 ....\n",
      "<pandas.core.groupby.generic.SeriesGroupBy object at 0x000001E157CCEE48>\n",
      "do x_6 ....\n",
      "<pandas.core.groupby.generic.SeriesGroupBy object at 0x000001E157CCEEB8>\n",
      "do x_7 ....\n",
      "<pandas.core.groupby.generic.SeriesGroupBy object at 0x000001E14D1BD5C0>\n",
      "do x_8 ....\n",
      "<pandas.core.groupby.generic.SeriesGroupBy object at 0x000001E106D27DD8>\n",
      "do x_9 ....\n",
      "<pandas.core.groupby.generic.SeriesGroupBy object at 0x000001E106D20240>\n",
      "do x_10 ....\n",
      "<pandas.core.groupby.generic.SeriesGroupBy object at 0x000001E106D20668>\n",
      "do x_11 ....\n",
      "<pandas.core.groupby.generic.SeriesGroupBy object at 0x000001E106D20F98>\n",
      "do x_12 ....\n",
      "<pandas.core.groupby.generic.SeriesGroupBy object at 0x000001E106D20240>\n",
      "do x_13 ....\n",
      "<pandas.core.groupby.generic.SeriesGroupBy object at 0x000001E157CCE7F0>\n",
      "do x_14 ....\n",
      "<pandas.core.groupby.generic.SeriesGroupBy object at 0x000001E157CCEEF0>\n",
      "do x_15 ....\n",
      "<pandas.core.groupby.generic.SeriesGroupBy object at 0x000001E157CCE908>\n",
      "do x_16 ....\n",
      "<pandas.core.groupby.generic.SeriesGroupBy object at 0x000001E156BF0668>\n",
      "do x_17 ....\n",
      "<pandas.core.groupby.generic.SeriesGroupBy object at 0x000001E156BF07F0>\n",
      "do x_18 ....\n",
      "<pandas.core.groupby.generic.SeriesGroupBy object at 0x000001E156BF0FD0>\n",
      "do x_19 ....\n",
      "<pandas.core.groupby.generic.SeriesGroupBy object at 0x000001E106A87BE0>\n",
      "do x_20 ....\n",
      "<pandas.core.groupby.generic.SeriesGroupBy object at 0x000001E106A87FD0>\n",
      "do x_21 ....\n",
      "<pandas.core.groupby.generic.SeriesGroupBy object at 0x000001E106D27DA0>\n",
      "do x_22 ....\n",
      "<pandas.core.groupby.generic.SeriesGroupBy object at 0x000001E14D1BD5C0>\n",
      "do x_23 ....\n",
      "<pandas.core.groupby.generic.SeriesGroupBy object at 0x000001E1085B3EF0>\n",
      "do x_24 ....\n",
      "<pandas.core.groupby.generic.SeriesGroupBy object at 0x000001E14D1BD390>\n",
      "do x_25 ....\n",
      "<pandas.core.groupby.generic.SeriesGroupBy object at 0x000001E14D1BD5C0>\n",
      "do x_26 ....\n",
      "<pandas.core.groupby.generic.SeriesGroupBy object at 0x000001E106A87EF0>\n",
      "do x_27 ....\n",
      "<pandas.core.groupby.generic.SeriesGroupBy object at 0x000001E106A87DA0>\n",
      "do x_28 ....\n",
      "<pandas.core.groupby.generic.SeriesGroupBy object at 0x000001E156BF0BA8>\n",
      "do x_29 ....\n",
      "<pandas.core.groupby.generic.SeriesGroupBy object at 0x000001E156BF0BA8>\n",
      "do x_30 ....\n",
      "<pandas.core.groupby.generic.SeriesGroupBy object at 0x000001E157CCEC88>\n",
      "do x_31 ....\n",
      "<pandas.core.groupby.generic.SeriesGroupBy object at 0x000001E157CCEE80>\n",
      "x_31 need to be combined due to 0 bad rate\n",
      "<pandas.core.groupby.generic.SeriesGroupBy object at 0x000001E157CCEA58>\n",
      "do x_32 ....\n",
      "<pandas.core.groupby.generic.SeriesGroupBy object at 0x000001E157CCE0F0>\n",
      "x_32 need to be combined due to 0 bad rate\n",
      "<pandas.core.groupby.generic.SeriesGroupBy object at 0x000001E157CCEC18>\n",
      "do x_35 ....\n",
      "<pandas.core.groupby.generic.SeriesGroupBy object at 0x000001E106A87A90>\n",
      "do x_36 ....\n",
      "<pandas.core.groupby.generic.SeriesGroupBy object at 0x000001E106D20828>\n",
      "do x_37 ....\n",
      "<pandas.core.groupby.generic.SeriesGroupBy object at 0x000001E1085B3A58>\n",
      "do x_38 ....\n",
      "<pandas.core.groupby.generic.SeriesGroupBy object at 0x000001E1085B3CF8>\n",
      "do x_39 ....\n",
      "<pandas.core.groupby.generic.SeriesGroupBy object at 0x000001E1085B3B38>\n",
      "x_39 need to be combined due to 0 bad rate\n",
      "<pandas.core.groupby.generic.SeriesGroupBy object at 0x000001E1085B3A58>\n",
      "do x_40 ....\n",
      "<pandas.core.groupby.generic.SeriesGroupBy object at 0x000001E10725F0F0>\n",
      "do x_41 ....\n",
      "<pandas.core.groupby.generic.SeriesGroupBy object at 0x000001E10725F438>\n",
      "do x_42 ....\n",
      "<pandas.core.groupby.generic.SeriesGroupBy object at 0x000001E10725F358>\n",
      "x_42 need to be combined due to 0 bad rate\n",
      "<pandas.core.groupby.generic.SeriesGroupBy object at 0x000001E1085B3438>\n",
      "do x_43 ....\n",
      "<pandas.core.groupby.generic.SeriesGroupBy object at 0x000001E1085B3128>\n",
      "do x_44 ....\n",
      "<pandas.core.groupby.generic.SeriesGroupBy object at 0x000001E1085B32E8>\n",
      "do x_45 ....\n",
      "<pandas.core.groupby.generic.SeriesGroupBy object at 0x000001E106D20048>\n",
      "do x_46 ....\n",
      "<pandas.core.groupby.generic.SeriesGroupBy object at 0x000001E157CCE3C8>\n",
      "do x_47 ....\n",
      "<pandas.core.groupby.generic.SeriesGroupBy object at 0x000001E157CCE898>\n",
      "do x_48 ....\n",
      "<pandas.core.groupby.generic.SeriesGroupBy object at 0x000001E157CCEE48>\n",
      "do x_49 ....\n",
      "<pandas.core.groupby.generic.SeriesGroupBy object at 0x000001E157CCED30>\n",
      "do x_50 ....\n",
      "<pandas.core.groupby.generic.SeriesGroupBy object at 0x000001E157CCE6D8>\n",
      "do x_51 ....\n",
      "<pandas.core.groupby.generic.SeriesGroupBy object at 0x000001E156BF07F0>\n",
      "do x_52 ....\n",
      "<pandas.core.groupby.generic.SeriesGroupBy object at 0x000001E156BF0F60>\n",
      "do x_53 ....\n",
      "<pandas.core.groupby.generic.SeriesGroupBy object at 0x000001E106A87F60>\n",
      "do x_54 ....\n",
      "<pandas.core.groupby.generic.SeriesGroupBy object at 0x000001E106A870F0>\n",
      "do x_55 ....\n",
      "<pandas.core.groupby.generic.SeriesGroupBy object at 0x000001E106D27438>\n",
      "do x_56 ....\n",
      "<pandas.core.groupby.generic.SeriesGroupBy object at 0x000001E106D27240>\n",
      "do x_57 ....\n",
      "<pandas.core.groupby.generic.SeriesGroupBy object at 0x000001E106A87E10>\n",
      "do x_58 ....\n",
      "<pandas.core.groupby.generic.SeriesGroupBy object at 0x000001E106A87FD0>\n",
      "do x_59 ....\n",
      "<pandas.core.groupby.generic.SeriesGroupBy object at 0x000001E106A870F0>\n",
      "do x_60 ....\n",
      "<pandas.core.groupby.generic.SeriesGroupBy object at 0x000001E156BF0B00>\n",
      "do x_61 ....\n",
      "<pandas.core.groupby.generic.SeriesGroupBy object at 0x000001E157CCEEF0>\n",
      "do x_62 ....\n",
      "<pandas.core.groupby.generic.SeriesGroupBy object at 0x000001E157CCEFD0>\n",
      "do x_63 ....\n",
      "<pandas.core.groupby.generic.SeriesGroupBy object at 0x000001E157CCE780>\n",
      "do x_64 ....\n",
      "<pandas.core.groupby.generic.SeriesGroupBy object at 0x000001E157CCEFD0>\n",
      "do x_65 ....\n",
      "<pandas.core.groupby.generic.SeriesGroupBy object at 0x000001E106D20780>\n",
      "do x_66 ....\n",
      "<pandas.core.groupby.generic.SeriesGroupBy object at 0x000001E1085B3C18>\n",
      "do x_67 ....\n",
      "<pandas.core.groupby.generic.SeriesGroupBy object at 0x000001E1085B3BA8>\n",
      "do x_68 ....\n",
      "<pandas.core.groupby.generic.SeriesGroupBy object at 0x000001E1085B3748>\n",
      "do x_69 ....\n",
      "<pandas.core.groupby.generic.SeriesGroupBy object at 0x000001E1085B31D0>\n",
      "do x_70 ....\n",
      "<pandas.core.groupby.generic.SeriesGroupBy object at 0x000001E1085B3128>\n",
      "do x_71 ....\n",
      "<pandas.core.groupby.generic.SeriesGroupBy object at 0x000001E1085B3C18>\n",
      "do x_72 ....\n",
      "<pandas.core.groupby.generic.SeriesGroupBy object at 0x000001E106D20748>\n",
      "do x_73 ....\n",
      "<pandas.core.groupby.generic.SeriesGroupBy object at 0x000001E157CCEC88>\n",
      "do x_74 ....\n",
      "<pandas.core.groupby.generic.SeriesGroupBy object at 0x000001E157CCE668>\n",
      "do x_75 ....\n",
      "<pandas.core.groupby.generic.SeriesGroupBy object at 0x000001E157CCE3C8>\n",
      "do x_76 ....\n",
      "<pandas.core.groupby.generic.SeriesGroupBy object at 0x000001E156BF0828>\n",
      "do x_77 ....\n",
      "<pandas.core.groupby.generic.SeriesGroupBy object at 0x000001E157CCEDD8>\n",
      "do x_78 ....\n",
      "<pandas.core.groupby.generic.SeriesGroupBy object at 0x000001E106A87BE0>\n"
     ]
    }
   ],
   "source": [
    "#第二步，当取值<5时：如果每种类别同时包含好坏样本，无需分箱；如果有类别只包含好坏样本的一种，需要合并。\n",
    "from utils import  BinBadRate,MergeBad0\n",
    "\n",
    "merge_bin_dict = {}  #存放需要合并的变量，以及合并方法\n",
    "var_bin_list = []   #由于某个取值没有好或者坏样本而需要合并的变量\n",
    "for col in less_value_features:\n",
    "    print(\"do {} ....\".format(col))\n",
    "    binBadRate = BinBadRate(data, col, 'target')[0]\n",
    "    if min(binBadRate.values()) == 0 :  #由于某个取值没有坏样本而进行合并\n",
    "        print ('{} need to be combined due to 0 bad rate'.format(col))\n",
    "        combine_bin = MergeBad0(data, col, 'target')\n",
    "        merge_bin_dict[col] = combine_bin\n",
    "        newVar = col + '_Bin'\n",
    "        data[newVar] = data[col].map(combine_bin)\n",
    "        data.drop([col], axis=1, inplace=True)\n",
    "        var_bin_list.append(newVar)\n",
    "        #less_value_features.remove(col)\n",
    "\n",
    "    if max(binBadRate.values()) == 1:    #由于某个取值没有好样本而进行合并\n",
    "        print ('{} need to be combined due to 0 good rate'.format(col))\n",
    "        combine_bin = MergeBad0(data, col, 'target',direction = 'good')\n",
    "        merge_bin_dict[col] = combine_bin\n",
    "        newVar = col + '_Bin'\n",
    "        data[newVar] = data[col].map(combine_bin)\n",
    "        data.drop([col], axis=1, inplace=True)\n",
    "        var_bin_list.append(newVar)\n",
    "        #less_value_features.remove(col)\n",
    "\n",
    "\n",
    "#less_value_features里剩下不需要合并的变量\n",
    "less_value_features = [i for i in less_value_features if i + '_Bin' not in var_bin_list]\n",
    "\n",
    "\n",
    "#保存merge_bin_dict\n",
    "file1 = open(path+'merge_bin_dict.pkl','wb+')\n",
    "pickle.dump(merge_bin_dict,file1)\n",
    "file1.close()"
   ]
  },
  {
   "cell_type": "code",
   "execution_count": 29,
   "metadata": {},
   "outputs": [
    {
     "name": "stdout",
     "output_type": "stream",
     "text": [
      "75\n",
      "4\n",
      "4\n"
     ]
    }
   ],
   "source": [
    "print(len(less_value_features))\n",
    "print(len(var_bin_list))\n",
    "print(len(merge_bin_dict))"
   ]
  },
  {
   "cell_type": "code",
   "execution_count": 30,
   "metadata": {},
   "outputs": [
    {
     "name": "stdout",
     "output_type": "stream",
     "text": [
      "['x_31_Bin', 'x_32_Bin', 'x_39_Bin', 'x_42_Bin']\n"
     ]
    }
   ],
   "source": [
    "print(var_bin_list)"
   ]
  },
  {
   "cell_type": "markdown",
   "metadata": {},
   "source": [
    "#### 特征类别调整（取值>5时）"
   ]
  },
  {
   "cell_type": "code",
   "execution_count": 31,
   "metadata": {
    "scrolled": false
   },
   "outputs": [
    {
     "name": "stdout",
     "output_type": "stream",
     "text": [
      "<pandas.core.groupby.generic.SeriesGroupBy object at 0x000001E106D205F8>\n",
      "<pandas.core.groupby.generic.SeriesGroupBy object at 0x000001E107047828>\n",
      "<pandas.core.groupby.generic.SeriesGroupBy object at 0x000001E1070477B8>\n",
      "<pandas.core.groupby.generic.SeriesGroupBy object at 0x000001E156BF0B00>\n",
      "<pandas.core.groupby.generic.SeriesGroupBy object at 0x000001E156BF06D8>\n",
      "<pandas.core.groupby.generic.SeriesGroupBy object at 0x000001E157CCE978>\n",
      "<pandas.core.groupby.generic.SeriesGroupBy object at 0x000001E156BF0668>\n",
      "<pandas.core.groupby.generic.SeriesGroupBy object at 0x000001E107047828>\n",
      "<pandas.core.groupby.generic.SeriesGroupBy object at 0x000001E1070477B8>\n",
      "<pandas.core.groupby.generic.SeriesGroupBy object at 0x000001E156BF0A58>\n",
      "<pandas.core.groupby.generic.SeriesGroupBy object at 0x000001E157CCE240>\n",
      "<pandas.core.groupby.generic.SeriesGroupBy object at 0x000001E157CCE908>\n",
      "<pandas.core.groupby.generic.SeriesGroupBy object at 0x000001E106D20550>\n"
     ]
    }
   ],
   "source": [
    "#（ii） 第三步，当取值>5时：用bad rate进行编码，放入连续型变量里。\n",
    "br_encoding_dict = {}   #记录按照bad rate进行编码的变量，及编码方式\n",
    "from utils import BadRateEncoding\n",
    "for col in more_value_features:\n",
    "    #print(\"do {} ....\".format(col))\n",
    "    br_encoding = BadRateEncoding(data, col, 'target')\n",
    "    data[col+'_br_encoding'] = br_encoding['encoding']\n",
    "    data.drop([col], axis=1, inplace=True)\n",
    "    \n",
    "    br_encoding_dict[col] = br_encoding['bad_rate']\n",
    "    num_features.append(col+'_br_encoding')\n",
    "    \n",
    "file2 = open(path+'br_encoding_dict.pkl','wb+')\n",
    "pickle.dump(br_encoding_dict,file2)\n",
    "file2.close()"
   ]
  },
  {
   "cell_type": "code",
   "execution_count": 32,
   "metadata": {},
   "outputs": [
    {
     "name": "stdout",
     "output_type": "stream",
     "text": [
      "less_value_features: 75\n",
      "var_bin_list: 4\n",
      "merge_bin_dict: 4\n",
      "more_value_features: 13\n",
      "br_encoding_dict: 13\n"
     ]
    }
   ],
   "source": [
    "print(\"less_value_features:\",len(less_value_features))\n",
    "print(\"var_bin_list:\",len(var_bin_list))\n",
    "print(\"merge_bin_dict:\",len(merge_bin_dict))\n",
    "print(\"more_value_features:\",len(more_value_features))\n",
    "print(\"br_encoding_dict:\",len(br_encoding_dict))"
   ]
  },
  {
   "cell_type": "code",
   "execution_count": 33,
   "metadata": {},
   "outputs": [
    {
     "name": "stdout",
     "output_type": "stream",
     "text": [
      "['age', 'lmt', 'setupHour', 'ncloseCreditCard', 'unpayIndvLoan', 'unpayOtherLoan', 'unpayNormalLoan', '5yearBadloan', 'certId_br_encoding', 'dist_br_encoding', 'edu_br_encoding', 'job_br_encoding', 'basicLevel_br_encoding', 'bankCard_br_encoding', 'ethnic_br_encoding', 'residentAddr_br_encoding', 'highestEdu_br_encoding', 'linkRela_br_encoding', 'weekday_br_encoding', 'x_33_br_encoding', 'x_34_br_encoding']\n"
     ]
    }
   ],
   "source": [
    "print(num_features)"
   ]
  },
  {
   "cell_type": "code",
   "execution_count": 34,
   "metadata": {},
   "outputs": [
    {
     "name": "stdout",
     "output_type": "stream",
     "text": [
      "['id', 'loanProduct', 'gender', 'age', 'lmt', 'x_0', 'x_1', 'x_2', 'x_3', 'x_4', 'x_5', 'x_6', 'x_7', 'x_8', 'x_9', 'x_10', 'x_11', 'x_12', 'x_13', 'x_14', 'x_15', 'x_16', 'x_17', 'x_18', 'x_19', 'x_20', 'x_21', 'x_22', 'x_23', 'x_24', 'x_25', 'x_26', 'x_27', 'x_28', 'x_29', 'x_30', 'x_35', 'x_36', 'x_37', 'x_38', 'x_40', 'x_41', 'x_43', 'x_44', 'x_45', 'x_46', 'x_47', 'x_48', 'x_49', 'x_50', 'x_51', 'x_52', 'x_53', 'x_54', 'x_55', 'x_56', 'x_57', 'x_58', 'x_59', 'x_60', 'x_61', 'x_62', 'x_63', 'x_64', 'x_65', 'x_66', 'x_67', 'x_68', 'x_69', 'x_70', 'x_71', 'x_72', 'x_73', 'x_74', 'x_75', 'x_76', 'x_77', 'x_78', 'certValidBegin', 'certValidStop', 'setupHour', 'ncloseCreditCard', 'unpayIndvLoan', 'unpayOtherLoan', 'unpayNormalLoan', '5yearBadloan', 'isNew', 'target', 'x_31_Bin', 'x_32_Bin', 'x_39_Bin', 'x_42_Bin', 'certId_br_encoding', 'dist_br_encoding', 'edu_br_encoding', 'job_br_encoding', 'basicLevel_br_encoding', 'bankCard_br_encoding', 'ethnic_br_encoding', 'residentAddr_br_encoding', 'highestEdu_br_encoding', 'linkRela_br_encoding', 'weekday_br_encoding', 'x_33_br_encoding', 'x_34_br_encoding']\n"
     ]
    }
   ],
   "source": [
    "print(data.columns.tolist())"
   ]
  },
  {
   "cell_type": "markdown",
   "metadata": {},
   "source": [
    "###  连续变量特征分箱"
   ]
  },
  {
   "cell_type": "code",
   "execution_count": null,
   "metadata": {
    "scrolled": true
   },
   "outputs": [
    {
     "name": "stdout",
     "output_type": "stream",
     "text": [
      "age is in processing\n",
      "<pandas.core.groupby.generic.SeriesGroupBy object at 0x000001E10855A908>\n",
      "<pandas.core.groupby.generic.SeriesGroupBy object at 0x000001E10719A6D8>\n",
      "<pandas.core.groupby.generic.SeriesGroupBy object at 0x000001E106CB1860>\n",
      "<pandas.core.groupby.generic.SeriesGroupBy object at 0x000001E106CB15F8>\n",
      "<pandas.core.groupby.generic.SeriesGroupBy object at 0x000001E106C388D0>\n",
      "<pandas.core.groupby.generic.SeriesGroupBy object at 0x000001E106CB1BA8>\n",
      "<pandas.core.groupby.generic.SeriesGroupBy object at 0x000001E106CB1DA0>\n",
      "<pandas.core.groupby.generic.SeriesGroupBy object at 0x000001E10A0FB2E8>\n",
      "<pandas.core.groupby.generic.SeriesGroupBy object at 0x000001E106F5BA20>\n",
      "<pandas.core.groupby.generic.SeriesGroupBy object at 0x000001E106F5B978>\n",
      "<pandas.core.groupby.generic.SeriesGroupBy object at 0x000001E10CAB6DA0>\n",
      "lmt is in processing\n",
      "<pandas.core.groupby.generic.SeriesGroupBy object at 0x000001E10CAB6E80>\n",
      "<pandas.core.groupby.generic.SeriesGroupBy object at 0x000001E108AE59B0>\n",
      "<pandas.core.groupby.generic.SeriesGroupBy object at 0x000001E109233710>\n",
      "setupHour is in processing\n",
      "<pandas.core.groupby.generic.SeriesGroupBy object at 0x000001E109233358>\n",
      "<pandas.core.groupby.generic.SeriesGroupBy object at 0x000001E1098BAAC8>\n",
      "<pandas.core.groupby.generic.SeriesGroupBy object at 0x000001E108AED518>\n",
      "<pandas.core.groupby.generic.SeriesGroupBy object at 0x000001E108AED828>\n",
      "<pandas.core.groupby.generic.SeriesGroupBy object at 0x000001E10819FC88>\n",
      "<pandas.core.groupby.generic.SeriesGroupBy object at 0x000001E108AED2E8>\n",
      "<pandas.core.groupby.generic.SeriesGroupBy object at 0x000001E108AED0F0>\n",
      "<pandas.core.groupby.generic.SeriesGroupBy object at 0x000001E10A83D080>\n",
      "<pandas.core.groupby.generic.SeriesGroupBy object at 0x000001E107A3E9E8>\n",
      "ncloseCreditCard is in processing\n",
      "The number of original levels for ncloseCreditCard is less than or equal to max intervals\n",
      "<pandas.core.groupby.generic.SeriesGroupBy object at 0x000001E107AD5CC0>\n",
      "unpayIndvLoan is in processing\n",
      "The number of original levels for unpayIndvLoan is less than or equal to max intervals\n",
      "<pandas.core.groupby.generic.SeriesGroupBy object at 0x000001E107A80B00>\n",
      "unpayOtherLoan is in processing\n",
      "The number of original levels for unpayOtherLoan is less than or equal to max intervals\n",
      "<pandas.core.groupby.generic.SeriesGroupBy object at 0x000001E107A27C88>\n",
      "unpayNormalLoan is in processing\n",
      "The number of original levels for unpayNormalLoan is less than or equal to max intervals\n",
      "<pandas.core.groupby.generic.SeriesGroupBy object at 0x000001E107053AC8>\n",
      "5yearBadloan is in processing\n",
      "The number of original levels for 5yearBadloan is less than or equal to max intervals\n",
      "certId_br_encoding is in processing\n",
      "<pandas.core.groupby.generic.SeriesGroupBy object at 0x000001E1066593C8>\n",
      "<pandas.core.groupby.generic.SeriesGroupBy object at 0x000001E1070BF978>\n",
      "<pandas.core.groupby.generic.SeriesGroupBy object at 0x000001E1070BF8D0>\n",
      "<pandas.core.groupby.generic.SeriesGroupBy object at 0x000001E108AEC080>\n",
      "dist_br_encoding is in processing\n",
      "<pandas.core.groupby.generic.SeriesGroupBy object at 0x000001E1066595F8>\n",
      "<pandas.core.groupby.generic.SeriesGroupBy object at 0x000001E1092091D0>\n",
      "<pandas.core.groupby.generic.SeriesGroupBy object at 0x000001E109209278>\n",
      "<pandas.core.groupby.generic.SeriesGroupBy object at 0x000001E106CAB1D0>\n",
      "edu_br_encoding is in processing\n",
      "The number of original levels for edu_br_encoding is less than or equal to max intervals\n",
      "<pandas.core.groupby.generic.SeriesGroupBy object at 0x000001E10A04E1D0>\n",
      "job_br_encoding is in processing\n",
      "<pandas.core.groupby.generic.SeriesGroupBy object at 0x000001E10A01AE80>\n",
      "<pandas.core.groupby.generic.SeriesGroupBy object at 0x000001E10A8871D0>\n",
      "<pandas.core.groupby.generic.SeriesGroupBy object at 0x000001E10A8870F0>\n",
      "<pandas.core.groupby.generic.SeriesGroupBy object at 0x000001E10A151B38>\n",
      "basicLevel_br_encoding is in processing\n",
      "<pandas.core.groupby.generic.SeriesGroupBy object at 0x000001E10A151828>\n",
      "<pandas.core.groupby.generic.SeriesGroupBy object at 0x000001E10AF4C048>\n",
      "<pandas.core.groupby.generic.SeriesGroupBy object at 0x000001E10AF4BEF0>\n",
      "<pandas.core.groupby.generic.SeriesGroupBy object at 0x000001E107196048>\n",
      "bankCard_br_encoding is in processing\n",
      "<pandas.core.groupby.generic.SeriesGroupBy object at 0x000001E10AE38320>\n",
      "<pandas.core.groupby.generic.SeriesGroupBy object at 0x000001E10AE37B00>\n",
      "<pandas.core.groupby.generic.SeriesGroupBy object at 0x000001E10AE37A20>\n",
      "<pandas.core.groupby.generic.SeriesGroupBy object at 0x000001E1068884E0>\n",
      "ethnic_br_encoding is in processing\n",
      "<pandas.core.groupby.generic.SeriesGroupBy object at 0x000001E106888240>\n",
      "<pandas.core.groupby.generic.SeriesGroupBy object at 0x000001E10C468B38>\n",
      "<pandas.core.groupby.generic.SeriesGroupBy object at 0x000001E10C468A58>\n",
      "<pandas.core.groupby.generic.SeriesGroupBy object at 0x000001E106CC8668>\n",
      "residentAddr_br_encoding is in processing\n",
      "<pandas.core.groupby.generic.SeriesGroupBy object at 0x000001E10AE387B8>\n",
      "<pandas.core.groupby.generic.SeriesGroupBy object at 0x000001E106AF7B70>\n",
      "<pandas.core.groupby.generic.SeriesGroupBy object at 0x000001E106AF7A90>\n",
      "<pandas.core.groupby.generic.SeriesGroupBy object at 0x000001E106887518>\n",
      "highestEdu_br_encoding is in processing\n",
      "<pandas.core.groupby.generic.SeriesGroupBy object at 0x000001E106887828>\n",
      "<pandas.core.groupby.generic.SeriesGroupBy object at 0x000001E10C5229E8>\n",
      "<pandas.core.groupby.generic.SeriesGroupBy object at 0x000001E10C522908>\n",
      "<pandas.core.groupby.generic.SeriesGroupBy object at 0x000001E10718A080>\n",
      "linkRela_br_encoding is in processing\n",
      "<pandas.core.groupby.generic.SeriesGroupBy object at 0x000001E10C32FC18>\n",
      "<pandas.core.groupby.generic.SeriesGroupBy object at 0x000001E10CBDA080>\n",
      "<pandas.core.groupby.generic.SeriesGroupBy object at 0x000001E106F3AF60>\n",
      "<pandas.core.groupby.generic.SeriesGroupBy object at 0x000001E10C225A58>\n",
      "weekday_br_encoding is in processing\n",
      "<pandas.core.groupby.generic.SeriesGroupBy object at 0x000001E10C225748>\n",
      "<pandas.core.groupby.generic.SeriesGroupBy object at 0x000001E10D07F358>\n",
      "<pandas.core.groupby.generic.SeriesGroupBy object at 0x000001E10D03F390>\n"
     ]
    }
   ],
   "source": [
    "#第四步，分箱，对连续型变量列表num_features进行卡方分箱。本文分箱后的最多的箱数为5箱。\n",
    "from  utils import Chi2,ChiMerge,BadRateMonotone,AssignBin,SplitData,AssignGroup\n",
    "\n",
    "# （iii）对连续型变量进行分箱，包括（ii）中的变量\n",
    "continous_merged_dict = {}\n",
    "for col in num_features:\n",
    "    print(\"{} is in processing\".format(col))\n",
    "    #if -1 not in set(data[col]):   #－1会当成特殊值处理。如果没有－1，则所有取值都参与分箱\n",
    "    if -999 not in set(data[col]):   #-999会当成特殊值处理。如果没有－999，则所有取值都参与分箱\n",
    "        max_interval = 5   #分箱后的最多的箱数\n",
    "        cutOff = ChiMerge(data, col, 'target', max_interval=max_interval,special_attribute=[],minBinPcnt=0)\n",
    "        data[col+'_Bin'] = data[col].map(lambda x: AssignBin(x, cutOff,special_attribute=[]))\n",
    "        \n",
    "        monotone = BadRateMonotone(data, col+'_Bin', 'target')   # 检验分箱后的单调性是否满足\n",
    "        while(not monotone):\n",
    "            # 检验分箱后的单调性是否满足。如果不满足，则缩减分箱的个数。\n",
    "            max_interval -= 1\n",
    "            cutOff = ChiMerge(data, col, 'target', max_interval=max_interval, special_attribute=[],\n",
    "                              minBinPcnt=0)\n",
    "            data[col + '_Bin'] = data[col].map(lambda x: AssignBin(x, cutOff, special_attribute=[]))\n",
    "           \n",
    "            if max_interval == 2:\n",
    "                # 当分箱数为2时，必然单调\n",
    "                break\n",
    "            monotone = BadRateMonotone(data, col + '_Bin', 'target')\n",
    "        newVar = col + '_Bin'\n",
    "        data[newVar] = data[col].map(lambda x: AssignBin(x, cutOff, special_attribute=[]))\n",
    "        var_bin_list.append(newVar)\n",
    "    else:\n",
    "        max_interval = 5\n",
    "        # 如果有－999，则除去－999后，其他取值参与分箱\n",
    "        cutOff = ChiMerge(data, col, 'target', max_interval=max_interval, special_attribute=[-1,-999],\n",
    "                          minBinPcnt=0)\n",
    "        data[col + '_Bin'] = data[col].map(lambda x: AssignBin(x, cutOff, special_attribute=[-1,-999]))\n",
    "        monotone = BadRateMonotone(data, col + '_Bin', 'target',['Bin -1'])\n",
    "        while (not monotone):\n",
    "            max_interval -= 1\n",
    "            # 如果有－1，－1的bad rate不参与单调性检验\n",
    "            cutOff = ChiMerge(data, col, 'target', max_interval=max_interval, special_attribute=[-1,-999],\n",
    "                              minBinPcnt=0)\n",
    "            data[col + '_Bin'] = data[col].map(lambda x: AssignBin(x, cutOff, special_attribute=[-1,-999]))\n",
    "            \n",
    "            if max_interval == 3:\n",
    "                # 当分箱数为3-1=2时，必然单调\n",
    "                break\n",
    "            monotone = BadRateMonotone(data, col + '_Bin', 'target',['Bin -1'])\n",
    "        newVar = col + '_Bin'\n",
    "        data[newVar] = data[col].map(lambda x: AssignBin(x, cutOff, special_attribute=[-1,-999]))\n",
    "        var_bin_list.append(newVar)\n",
    "        \n",
    "    continous_merged_dict[col] = cutOff\n",
    "    #data.drop([col], axis=1, inplace=True)\n",
    "    \n",
    "file3 = open(path+'continous_merged_dict.pkl','wb+')\n",
    "pickle.dump(continous_merged_dict,file3)\n",
    "file3.close()"
   ]
  },
  {
   "cell_type": "code",
   "execution_count": null,
   "metadata": {},
   "outputs": [],
   "source": [
    "print(\"less_value_features:\",len(less_value_features))\n",
    "print(\"var_bin_list:\",len(var_bin_list))\n",
    "print(\"merge_bin_dict:\",len(merge_bin_dict))\n",
    "print(\"more_value_features:\",len(more_value_features))\n",
    "print(\"br_encoding_dict:\",len(br_encoding_dict))\n",
    "print(\"continous_merged_dict:\",len(continous_merged_dict))"
   ]
  },
  {
   "cell_type": "code",
   "execution_count": null,
   "metadata": {},
   "outputs": [],
   "source": [
    "75+27"
   ]
  },
  {
   "cell_type": "code",
   "execution_count": null,
   "metadata": {},
   "outputs": [],
   "source": [
    "print(continous_merged_dict)"
   ]
  },
  {
   "cell_type": "code",
   "execution_count": 18,
   "metadata": {},
   "outputs": [
    {
     "name": "stdout",
     "output_type": "stream",
     "text": [
      "['x_31_Bin', 'x_32_Bin', 'x_39_Bin', 'x_42_Bin', 'age_Bin', 'lmt_Bin', 'certValidBegin_Bin', 'certValidStop_Bin', 'setupHour_Bin', 'ncloseCreditCard_Bin', 'unpayIndvLoan_Bin', 'unpayOtherLoan_Bin', 'unpayNormalLoan_Bin', '5yearBadloan_Bin', 'certId_br_encoding_Bin', 'dist_br_encoding_Bin', 'edu_br_encoding_Bin', 'job_br_encoding_Bin', 'basicLevel_br_encoding_Bin', 'bankCard_br_encoding_Bin', 'ethnic_br_encoding_Bin', 'residentAddr_br_encoding_Bin', 'highestEdu_br_encoding_Bin', 'linkRela_br_encoding_Bin', 'weekday_br_encoding_Bin', 'x_33_br_encoding_Bin', 'x_34_br_encoding_Bin']\n"
     ]
    }
   ],
   "source": [
    "print(var_bin_list)"
   ]
  },
  {
   "cell_type": "code",
   "execution_count": 19,
   "metadata": {},
   "outputs": [
    {
     "name": "stdout",
     "output_type": "stream",
     "text": [
      "23\n",
      "27\n",
      "128\n"
     ]
    }
   ],
   "source": [
    "print(len(continous_merged_dict))\n",
    "print(len (var_bin_list))\n",
    "print(len(data.columns.tolist()))"
   ]
  },
  {
   "cell_type": "markdown",
   "metadata": {},
   "source": [
    "### WOE编码和IV值"
   ]
  },
  {
   "cell_type": "markdown",
   "metadata": {},
   "source": [
    "- **WOE编码和IV值**\n",
    "\n",
    "> 经常上一步的分箱后，分箱后的变量有如下几种情况：\n",
    "> - 初始取值个数小于5，且不需要合并的类别型变量。\n",
    "> - 初始取值个数小于5，需要合并的类别型变量，并且合并后的新变量不再需要合并。\n",
    "> - 初始取值个数超过5，需要合并的类别型变量，并且合并后的新变量不再需要合并。\n",
    "> - 连续型变量进行卡方分箱。\n",
    "\n",
    "> How to interpret value of IV?\n",
    ">   - Information Value       Predictive Power\n",
    ">   - -------------------    -------------------\n",
    ">   - -小于 0.02              useless for prediction\n",
    ">   - 0.02 to 0.1             Weak predictor \n",
    ">   - 0.1 to 0.3              Medium predictor  \n",
    ">   - 0.3 to 0.5              Strong predictor\n",
    ">   - 大于 0.5                Suspicious or too good to be true\n"
   ]
  },
  {
   "cell_type": "code",
   "execution_count": 20,
   "metadata": {},
   "outputs": [
    {
     "name": "stdout",
     "output_type": "stream",
     "text": [
      "['x_31_Bin', 'x_32_Bin', 'x_39_Bin', 'x_42_Bin', 'age_Bin', 'lmt_Bin', 'certValidBegin_Bin', 'certValidStop_Bin', 'setupHour_Bin', 'ncloseCreditCard_Bin', 'unpayIndvLoan_Bin', 'unpayOtherLoan_Bin', 'unpayNormalLoan_Bin', '5yearBadloan_Bin', 'certId_br_encoding_Bin', 'dist_br_encoding_Bin', 'edu_br_encoding_Bin', 'job_br_encoding_Bin', 'basicLevel_br_encoding_Bin', 'bankCard_br_encoding_Bin', 'ethnic_br_encoding_Bin', 'residentAddr_br_encoding_Bin', 'highestEdu_br_encoding_Bin', 'linkRela_br_encoding_Bin', 'weekday_br_encoding_Bin', 'x_33_br_encoding_Bin', 'x_34_br_encoding_Bin']\n",
      "['loanProduct', 'gender', 'x_0', 'x_1', 'x_2', 'x_3', 'x_4', 'x_5', 'x_6', 'x_7', 'x_8', 'x_9', 'x_10', 'x_11', 'x_12', 'x_13', 'x_14', 'x_15', 'x_16', 'x_17', 'x_18', 'x_19', 'x_20', 'x_21', 'x_22', 'x_23', 'x_24', 'x_25', 'x_26', 'x_27', 'x_28', 'x_29', 'x_30', 'x_35', 'x_36', 'x_37', 'x_38', 'x_40', 'x_41', 'x_43', 'x_44', 'x_45', 'x_46', 'x_47', 'x_48', 'x_49', 'x_50', 'x_51', 'x_52', 'x_53', 'x_54', 'x_55', 'x_56', 'x_57', 'x_58', 'x_59', 'x_60', 'x_61', 'x_62', 'x_63', 'x_64', 'x_65', 'x_66', 'x_67', 'x_68', 'x_69', 'x_70', 'x_71', 'x_72', 'x_73', 'x_74', 'x_75', 'x_76', 'x_77', 'x_78']\n"
     ]
    }
   ],
   "source": [
    "print(var_bin_list)\n",
    "print(less_value_features)"
   ]
  },
  {
   "cell_type": "code",
   "execution_count": 21,
   "metadata": {},
   "outputs": [
    {
     "data": {
      "text/plain": [
       "<BarContainer object of 102 artists>"
      ]
     },
     "execution_count": 21,
     "metadata": {},
     "output_type": "execute_result"
    },
    {
     "data": {
      "image/png": "[encoded data removed]",
      "text/plain": [
       "<Figure size 432x288 with 1 Axes>"
      ]
     },
     "metadata": {
      "needs_background": "light"
     },
     "output_type": "display_data"
    }
   ],
   "source": [
    "#如下取到每个变量分箱后的WOE和该变量的IV值：\n",
    "#第四步：WOE编码、计算IV\n",
    "from utils import CalcWOE\n",
    "WOE_dict = {}\n",
    "IV_dict = {}\n",
    "# 分箱后的变量进行编码，包括：\n",
    "# 1，初始取值个数小于5，且不需要合并的类别型变量。存放在less_value_features中\n",
    "# 2，初始取值个数小于5，需要合并的类别型变量。合并后新的变量存放在var_bin_list中\n",
    "# 3，初始取值个数超过5，需要合并的类别型变量。合并后新的变量存放在var_bin_list中\n",
    "# 4，连续变量。分箱后新的变量存放在var_bin_list中\n",
    "all_var = var_bin_list  + less_value_features\n",
    "for var in all_var:\n",
    "    #print(\"do \",var)\n",
    "    woe_iv = CalcWOE(data, var, 'target')\n",
    "    WOE_dict[var] = woe_iv['WOE']\n",
    "    IV_dict[var] = woe_iv['IV']\n",
    "    #print(\"finish {}\".format(var))\n",
    "    \n",
    "file4 = open(path+'WOE_dict.pkl','wb+')\n",
    "pickle.dump(WOE_dict,file4)\n",
    "file4.close()\n",
    "\n",
    "#将变量IV值进行降序排列，方便后续挑选变量\n",
    "IV_dict_sorted = sorted(IV_dict.items(), key=lambda x: x[1], reverse=True)\n",
    "IV_values = [i[1] for i in IV_dict_sorted]\n",
    "IV_name = [i[0] for i in IV_dict_sorted]\n",
    "plt.title('feature IV')\n",
    "plt.bar(range(len(IV_values)),IV_values)"
   ]
  },
  {
   "cell_type": "markdown",
   "metadata": {},
   "source": [
    "### 单变量分析和多变量分析"
   ]
  },
  {
   "cell_type": "code",
   "execution_count": 22,
   "metadata": {},
   "outputs": [
    {
     "data": {
      "text/plain": [
       "<matplotlib.axes._subplots.AxesSubplot at 0x15d8f2b55c0>"
      ]
     },
     "execution_count": 22,
     "metadata": {},
     "output_type": "execute_result"
    },
    {
     "data": {
      "image/png": "[encoded data removed]",
      "text/plain": [
       "<Figure size 720x576 with 2 Axes>"
      ]
     },
     "metadata": {
      "needs_background": "light"
     },
     "output_type": "display_data"
    }
   ],
   "source": [
    "#第五步：单变量分析和多变量分析，均基于WOE编码后的值。\n",
    "#（1）选择IV高于0.01的变量\n",
    "#（2）比较两两线性相关性。如果相关系数的绝对值高于阈值，剔除IV较低的一个\n",
    "#选取IV>0.01的变量\n",
    "\n",
    "high_IV = {k:v for k, v in IV_dict.items() if v >= 0.02}\n",
    "high_IV_sorted = sorted(high_IV.items(),key=lambda x:x[1],reverse=True)\n",
    " \n",
    "short_list = high_IV.keys()\n",
    "short_list_2 = []\n",
    "for var in short_list:\n",
    "    newVar = var + '_WOE'\n",
    "    data[newVar] = data[var].map(WOE_dict[var])\n",
    "    data.drop(var,axis=1,inplace=True)\n",
    "    short_list_2.append(newVar)\n",
    "\n",
    "#对于上一步的结果，计算相关系数矩阵，并画出热力图进行数据可视化\n",
    "data = data[short_list_2]\n",
    "f, ax = plt.subplots(figsize=(10, 8))\n",
    "corr = data.corr()\n",
    "sns.heatmap(corr, mask=np.zeros_like(corr, dtype=np.bool), cmap=sns.diverging_palette(220, 10, as_cmap=True),square=True, ax=ax)"
   ]
  },
  {
   "cell_type": "code",
   "execution_count": 23,
   "metadata": {},
   "outputs": [
    {
     "name": "stdout",
     "output_type": "stream",
     "text": [
      "['x_31_Bin_WOE', 'x_32_Bin_WOE', 'x_39_Bin_WOE', 'x_42_Bin_WOE', 'lmt_Bin_WOE', 'ncloseCreditCard_Bin_WOE', 'unpayIndvLoan_Bin_WOE', 'unpayOtherLoan_Bin_WOE', 'unpayNormalLoan_Bin_WOE', '5yearBadloan_Bin_WOE', 'certId_br_encoding_Bin_WOE', 'dist_br_encoding_Bin_WOE', 'job_br_encoding_Bin_WOE', 'basicLevel_br_encoding_Bin_WOE', 'bankCard_br_encoding_Bin_WOE', 'ethnic_br_encoding_Bin_WOE', 'residentAddr_br_encoding_Bin_WOE', 'linkRela_br_encoding_Bin_WOE', 'x_33_br_encoding_Bin_WOE', 'x_34_br_encoding_Bin_WOE', 'loanProduct_WOE', 'x_0_WOE', 'x_1_WOE', 'x_2_WOE', 'x_3_WOE', 'x_4_WOE', 'x_5_WOE', 'x_6_WOE', 'x_7_WOE', 'x_8_WOE', 'x_9_WOE', 'x_10_WOE', 'x_11_WOE', 'x_12_WOE', 'x_13_WOE', 'x_14_WOE', 'x_15_WOE', 'x_16_WOE', 'x_17_WOE', 'x_18_WOE', 'x_19_WOE', 'x_20_WOE', 'x_21_WOE', 'x_22_WOE', 'x_23_WOE', 'x_24_WOE', 'x_25_WOE', 'x_26_WOE', 'x_27_WOE', 'x_28_WOE', 'x_30_WOE', 'x_35_WOE', 'x_36_WOE', 'x_37_WOE', 'x_38_WOE', 'x_40_WOE', 'x_41_WOE', 'x_43_WOE', 'x_44_WOE', 'x_45_WOE', 'x_46_WOE', 'x_47_WOE', 'x_48_WOE', 'x_50_WOE', 'x_51_WOE', 'x_52_WOE', 'x_53_WOE', 'x_54_WOE', 'x_55_WOE', 'x_56_WOE', 'x_57_WOE', 'x_58_WOE', 'x_59_WOE', 'x_60_WOE', 'x_61_WOE', 'x_62_WOE', 'x_63_WOE', 'x_64_WOE', 'x_65_WOE', 'x_66_WOE', 'x_67_WOE', 'x_68_WOE', 'x_69_WOE', 'x_70_WOE', 'x_71_WOE', 'x_72_WOE', 'x_73_WOE', 'x_74_WOE', 'x_75_WOE', 'x_76_WOE', 'x_77_WOE', 'x_78_WOE']\n"
     ]
    }
   ],
   "source": [
    "print(data.columns.tolist())"
   ]
  },
  {
   "cell_type": "code",
   "execution_count": 24,
   "metadata": {},
   "outputs": [
    {
     "data": {
      "text/html": [
       "<div>\n",
       "<style scoped>\n",
       "    .dataframe tbody tr th:only-of-type {\n",
       "        vertical-align: middle;\n",
       "    }\n",
       "\n",
       "    .dataframe tbody tr th {\n",
       "        vertical-align: top;\n",
       "    }\n",
       "\n",
       "    .dataframe thead th {\n",
       "        text-align: right;\n",
       "    }\n",
       "</style>\n",
       "<table border=\"1\" class=\"dataframe\">\n",
       "  <thead>\n",
       "    <tr style=\"text-align: right;\">\n",
       "      <th></th>\n",
       "      <th>x_31_Bin_WOE</th>\n",
       "      <th>x_32_Bin_WOE</th>\n",
       "      <th>x_39_Bin_WOE</th>\n",
       "      <th>x_42_Bin_WOE</th>\n",
       "      <th>lmt_Bin_WOE</th>\n",
       "      <th>ncloseCreditCard_Bin_WOE</th>\n",
       "      <th>unpayIndvLoan_Bin_WOE</th>\n",
       "      <th>unpayOtherLoan_Bin_WOE</th>\n",
       "      <th>unpayNormalLoan_Bin_WOE</th>\n",
       "      <th>5yearBadloan_Bin_WOE</th>\n",
       "      <th>...</th>\n",
       "      <th>x_69_WOE</th>\n",
       "      <th>x_70_WOE</th>\n",
       "      <th>x_71_WOE</th>\n",
       "      <th>x_72_WOE</th>\n",
       "      <th>x_73_WOE</th>\n",
       "      <th>x_74_WOE</th>\n",
       "      <th>x_75_WOE</th>\n",
       "      <th>x_76_WOE</th>\n",
       "      <th>x_77_WOE</th>\n",
       "      <th>x_78_WOE</th>\n",
       "    </tr>\n",
       "  </thead>\n",
       "  <tbody>\n",
       "    <tr>\n",
       "      <th>0</th>\n",
       "      <td>-0.086165</td>\n",
       "      <td>-0.086165</td>\n",
       "      <td>-0.086165</td>\n",
       "      <td>-0.086165</td>\n",
       "      <td>-0.203419</td>\n",
       "      <td>-0.046008</td>\n",
       "      <td>-0.12599</td>\n",
       "      <td>0.073948</td>\n",
       "      <td>-0.146222</td>\n",
       "      <td>-0.086173</td>\n",
       "      <td>...</td>\n",
       "      <td>-0.08267</td>\n",
       "      <td>-0.086165</td>\n",
       "      <td>-0.223806</td>\n",
       "      <td>-0.022037</td>\n",
       "      <td>-0.073735</td>\n",
       "      <td>-0.125970</td>\n",
       "      <td>-0.035673</td>\n",
       "      <td>-0.06582</td>\n",
       "      <td>-0.086165</td>\n",
       "      <td>-0.086165</td>\n",
       "    </tr>\n",
       "    <tr>\n",
       "      <th>1</th>\n",
       "      <td>-0.086165</td>\n",
       "      <td>-0.086165</td>\n",
       "      <td>-0.086165</td>\n",
       "      <td>-0.086165</td>\n",
       "      <td>0.140440</td>\n",
       "      <td>-0.046008</td>\n",
       "      <td>-0.12599</td>\n",
       "      <td>0.073948</td>\n",
       "      <td>-0.146222</td>\n",
       "      <td>-0.086173</td>\n",
       "      <td>...</td>\n",
       "      <td>-0.08267</td>\n",
       "      <td>-0.086165</td>\n",
       "      <td>-0.223806</td>\n",
       "      <td>-0.022037</td>\n",
       "      <td>-0.073735</td>\n",
       "      <td>-0.125970</td>\n",
       "      <td>-0.035673</td>\n",
       "      <td>-0.06582</td>\n",
       "      <td>-0.086165</td>\n",
       "      <td>-0.086165</td>\n",
       "    </tr>\n",
       "    <tr>\n",
       "      <th>2</th>\n",
       "      <td>-0.086165</td>\n",
       "      <td>-0.086165</td>\n",
       "      <td>-0.086165</td>\n",
       "      <td>-0.086165</td>\n",
       "      <td>-1.664694</td>\n",
       "      <td>-0.558264</td>\n",
       "      <td>-0.12599</td>\n",
       "      <td>-1.097170</td>\n",
       "      <td>-0.146222</td>\n",
       "      <td>-0.086173</td>\n",
       "      <td>...</td>\n",
       "      <td>-0.08267</td>\n",
       "      <td>-0.086165</td>\n",
       "      <td>-0.223806</td>\n",
       "      <td>-0.022037</td>\n",
       "      <td>-0.073735</td>\n",
       "      <td>-0.125970</td>\n",
       "      <td>-0.035673</td>\n",
       "      <td>-0.06582</td>\n",
       "      <td>-0.086165</td>\n",
       "      <td>-0.086165</td>\n",
       "    </tr>\n",
       "    <tr>\n",
       "      <th>3</th>\n",
       "      <td>-0.086165</td>\n",
       "      <td>-0.086165</td>\n",
       "      <td>-0.086165</td>\n",
       "      <td>-0.086165</td>\n",
       "      <td>-0.203419</td>\n",
       "      <td>-0.046008</td>\n",
       "      <td>-0.12599</td>\n",
       "      <td>0.073948</td>\n",
       "      <td>-0.146222</td>\n",
       "      <td>-0.086173</td>\n",
       "      <td>...</td>\n",
       "      <td>-0.08267</td>\n",
       "      <td>-0.086165</td>\n",
       "      <td>-0.223806</td>\n",
       "      <td>-0.022037</td>\n",
       "      <td>-0.073735</td>\n",
       "      <td>-0.393995</td>\n",
       "      <td>-0.035673</td>\n",
       "      <td>-0.06582</td>\n",
       "      <td>-0.086165</td>\n",
       "      <td>-0.086165</td>\n",
       "    </tr>\n",
       "    <tr>\n",
       "      <th>4</th>\n",
       "      <td>-0.086165</td>\n",
       "      <td>-0.086165</td>\n",
       "      <td>-0.086165</td>\n",
       "      <td>-0.086165</td>\n",
       "      <td>0.140440</td>\n",
       "      <td>-0.046008</td>\n",
       "      <td>-0.12599</td>\n",
       "      <td>0.073948</td>\n",
       "      <td>-0.146222</td>\n",
       "      <td>-0.086173</td>\n",
       "      <td>...</td>\n",
       "      <td>-0.08267</td>\n",
       "      <td>-0.086165</td>\n",
       "      <td>-0.156744</td>\n",
       "      <td>-0.022037</td>\n",
       "      <td>-0.073735</td>\n",
       "      <td>-0.125970</td>\n",
       "      <td>-0.035673</td>\n",
       "      <td>-0.06582</td>\n",
       "      <td>-0.086165</td>\n",
       "      <td>-0.086165</td>\n",
       "    </tr>\n",
       "  </tbody>\n",
       "</table>\n",
       "<p>5 rows × 92 columns</p>\n",
       "</div>"
      ],
      "text/plain": [
       "   x_31_Bin_WOE  x_32_Bin_WOE  x_39_Bin_WOE  x_42_Bin_WOE  lmt_Bin_WOE  \\\n",
       "0     -0.086165     -0.086165     -0.086165     -0.086165    -0.203419   \n",
       "1     -0.086165     -0.086165     -0.086165     -0.086165     0.140440   \n",
       "2     -0.086165     -0.086165     -0.086165     -0.086165    -1.664694   \n",
       "3     -0.086165     -0.086165     -0.086165     -0.086165    -0.203419   \n",
       "4     -0.086165     -0.086165     -0.086165     -0.086165     0.140440   \n",
       "\n",
       "   ncloseCreditCard_Bin_WOE  unpayIndvLoan_Bin_WOE  unpayOtherLoan_Bin_WOE  \\\n",
       "0                 -0.046008               -0.12599                0.073948   \n",
       "1                 -0.046008               -0.12599                0.073948   \n",
       "2                 -0.558264               -0.12599               -1.097170   \n",
       "3                 -0.046008               -0.12599                0.073948   \n",
       "4                 -0.046008               -0.12599                0.073948   \n",
       "\n",
       "   unpayNormalLoan_Bin_WOE  5yearBadloan_Bin_WOE  ...  x_69_WOE  x_70_WOE  \\\n",
       "0                -0.146222             -0.086173  ...  -0.08267 -0.086165   \n",
       "1                -0.146222             -0.086173  ...  -0.08267 -0.086165   \n",
       "2                -0.146222             -0.086173  ...  -0.08267 -0.086165   \n",
       "3                -0.146222             -0.086173  ...  -0.08267 -0.086165   \n",
       "4                -0.146222             -0.086173  ...  -0.08267 -0.086165   \n",
       "\n",
       "   x_71_WOE  x_72_WOE  x_73_WOE  x_74_WOE  x_75_WOE  x_76_WOE  x_77_WOE  \\\n",
       "0 -0.223806 -0.022037 -0.073735 -0.125970 -0.035673  -0.06582 -0.086165   \n",
       "1 -0.223806 -0.022037 -0.073735 -0.125970 -0.035673  -0.06582 -0.086165   \n",
       "2 -0.223806 -0.022037 -0.073735 -0.125970 -0.035673  -0.06582 -0.086165   \n",
       "3 -0.223806 -0.022037 -0.073735 -0.393995 -0.035673  -0.06582 -0.086165   \n",
       "4 -0.156744 -0.022037 -0.073735 -0.125970 -0.035673  -0.06582 -0.086165   \n",
       "\n",
       "   x_78_WOE  \n",
       "0 -0.086165  \n",
       "1 -0.086165  \n",
       "2 -0.086165  \n",
       "3 -0.086165  \n",
       "4 -0.086165  \n",
       "\n",
       "[5 rows x 92 columns]"
      ]
     },
     "execution_count": 24,
     "metadata": {},
     "output_type": "execute_result"
    }
   ],
   "source": [
    "data.head()"
   ]
  },
  {
   "cell_type": "code",
   "execution_count": null,
   "metadata": {},
   "outputs": [],
   "source": []
  },
  {
   "cell_type": "code",
   "execution_count": null,
   "metadata": {},
   "outputs": [],
   "source": []
  },
  {
   "cell_type": "code",
   "execution_count": 25,
   "metadata": {},
   "outputs": [],
   "source": [
    "##两两间的线性相关性检验\n",
    "##1，将候选变量按照IV进行降序排列\n",
    "##2，计算第i和第i+1的变量的线性相关系数\n",
    "##3，对于系数超过阈值的两个变量，剔除IV较低的一个\n",
    "#deleted_index = []\n",
    "#cnt_vars = len(high_IV_sorted)\n",
    "#for i in range(cnt_vars):\n",
    "#    if i in deleted_index:\n",
    "#        continue\n",
    "#    x1 = high_IV_sorted[i][0]+\"_WOE\"\n",
    "#    for j in range(cnt_vars):\n",
    "#        if i == j or j in deleted_index:\n",
    "#            continue\n",
    "#        y1 = high_IV_sorted[j][0]+\"_WOE\"\n",
    "#        roh = np.corrcoef(data[x1],data[y1])[0,1]\n",
    "#        if abs(roh)>0.7:\n",
    "#            x1_IV = high_IV_sorted[i][1]\n",
    "#            y1_IV = high_IV_sorted[j][1]\n",
    "#            if x1_IV > y1_IV:\n",
    "#                deleted_index.append(j)\n",
    "#            else:\n",
    "#                deleted_index.append(i)\n",
    "#\n",
    "#multi_analysis_vars_1 = [high_IV_sorted[i][0]+\"_WOE\" for i in range(cnt_vars) if i not in deleted_index]"
   ]
  },
  {
   "cell_type": "code",
   "execution_count": 26,
   "metadata": {
    "scrolled": true
   },
   "outputs": [],
   "source": [
    "#data.replace(np.inf,0, inplace=True)\n",
    "#data[multi_analysis_vars_1]"
   ]
  },
  {
   "cell_type": "code",
   "execution_count": 27,
   "metadata": {},
   "outputs": [],
   "source": [
    "##多变量分析：VIF\n",
    "#from utils import variance_inflation_factor\n",
    "#\n",
    "#X = np.matrix(data[multi_analysis_vars_1])\n",
    "#VIF_list = [variance_inflation_factor(X, i) for i in range(X.shape[1])]\n",
    "#max_VIF = max(VIF_list)\n",
    "#print(max_VIF)\n",
    "## 最大的VIF是1.32267733123(小于10)，因此这一步认为没有多重共线性\n",
    "#multi_analysis = multi_analysis_vars_1"
   ]
  },
  {
   "cell_type": "code",
   "execution_count": 141,
   "metadata": {},
   "outputs": [
    {
     "name": "stdout",
     "output_type": "stream",
     "text": [
      "['x_31_Bin_WOE', 'x_32_Bin_WOE', 'x_39_Bin_WOE', 'x_42_Bin_WOE', 'lmt_Bin_WOE', 'ncloseCreditCard_Bin_WOE', 'unpayIndvLoan_Bin_WOE', 'unpayOtherLoan_Bin_WOE', 'unpayNormalLoan_Bin_WOE', '5yearBadloan_Bin_WOE', 'certId_br_encoding_Bin_WOE', 'dist_br_encoding_Bin_WOE', 'job_br_encoding_Bin_WOE', 'basicLevel_br_encoding_Bin_WOE', 'bankCard_br_encoding_Bin_WOE', 'ethnic_br_encoding_Bin_WOE', 'residentAddr_br_encoding_Bin_WOE', 'linkRela_br_encoding_Bin_WOE', 'x_33_br_encoding_Bin_WOE', 'x_34_br_encoding_Bin_WOE', 'loanProduct_WOE', 'x_0_WOE', 'x_1_WOE', 'x_2_WOE', 'x_3_WOE', 'x_4_WOE', 'x_5_WOE', 'x_6_WOE', 'x_7_WOE', 'x_8_WOE', 'x_9_WOE', 'x_10_WOE', 'x_11_WOE', 'x_12_WOE', 'x_13_WOE', 'x_14_WOE', 'x_15_WOE', 'x_16_WOE', 'x_17_WOE', 'x_18_WOE', 'x_19_WOE', 'x_20_WOE', 'x_21_WOE', 'x_22_WOE', 'x_23_WOE', 'x_24_WOE', 'x_25_WOE', 'x_26_WOE', 'x_27_WOE', 'x_28_WOE', 'x_30_WOE', 'x_35_WOE', 'x_36_WOE', 'x_37_WOE', 'x_38_WOE', 'x_40_WOE', 'x_41_WOE', 'x_43_WOE', 'x_44_WOE', 'x_45_WOE', 'x_46_WOE', 'x_47_WOE', 'x_48_WOE', 'x_50_WOE', 'x_51_WOE', 'x_52_WOE', 'x_53_WOE', 'x_54_WOE', 'x_55_WOE', 'x_56_WOE', 'x_57_WOE', 'x_58_WOE', 'x_59_WOE', 'x_60_WOE', 'x_61_WOE', 'x_62_WOE', 'x_63_WOE', 'x_64_WOE', 'x_65_WOE', 'x_66_WOE', 'x_67_WOE', 'x_68_WOE', 'x_69_WOE', 'x_70_WOE', 'x_71_WOE', 'x_72_WOE', 'x_73_WOE', 'x_74_WOE', 'x_75_WOE', 'x_76_WOE', 'x_77_WOE', 'x_78_WOE']\n"
     ]
    }
   ],
   "source": [
    "print(data.columns.tolist())"
   ]
  },
  {
   "cell_type": "code",
   "execution_count": 144,
   "metadata": {},
   "outputs": [
    {
     "data": {
      "text/plain": [
       "-0.156744    98438\n",
       "-0.223806    33280\n",
       "-3.885592      311\n",
       "Name: x_71_WOE, dtype: int64"
      ]
     },
     "execution_count": 144,
     "metadata": {},
     "output_type": "execute_result"
    }
   ],
   "source": [
    "data.x_71_WOE.value_counts()"
   ]
  },
  {
   "cell_type": "markdown",
   "metadata": {},
   "source": [
    "### 特征分箱完成"
   ]
  },
  {
   "cell_type": "code",
   "execution_count": 25,
   "metadata": {},
   "outputs": [],
   "source": [
    "#features = data.columns.tolist()\n",
    "#features.remove('target')\n",
    "X = data\n",
    "y = train_y['target']"
   ]
  },
  {
   "cell_type": "code",
   "execution_count": 143,
   "metadata": {},
   "outputs": [
    {
     "name": "stdout",
     "output_type": "stream",
     "text": [
      "['x_31_Bin_WOE', 'x_32_Bin_WOE', 'x_39_Bin_WOE', 'x_42_Bin_WOE', 'lmt_Bin_WOE', 'ncloseCreditCard_Bin_WOE', 'unpayIndvLoan_Bin_WOE', 'unpayOtherLoan_Bin_WOE', 'unpayNormalLoan_Bin_WOE', '5yearBadloan_Bin_WOE', 'certId_br_encoding_Bin_WOE', 'dist_br_encoding_Bin_WOE', 'job_br_encoding_Bin_WOE', 'basicLevel_br_encoding_Bin_WOE', 'bankCard_br_encoding_Bin_WOE', 'ethnic_br_encoding_Bin_WOE', 'residentAddr_br_encoding_Bin_WOE', 'linkRela_br_encoding_Bin_WOE', 'x_33_br_encoding_Bin_WOE', 'x_34_br_encoding_Bin_WOE', 'loanProduct_WOE', 'x_0_WOE', 'x_1_WOE', 'x_2_WOE', 'x_3_WOE', 'x_4_WOE', 'x_5_WOE', 'x_6_WOE', 'x_7_WOE', 'x_8_WOE', 'x_9_WOE', 'x_10_WOE', 'x_11_WOE', 'x_12_WOE', 'x_13_WOE', 'x_14_WOE', 'x_15_WOE', 'x_16_WOE', 'x_17_WOE', 'x_18_WOE', 'x_19_WOE', 'x_20_WOE', 'x_21_WOE', 'x_22_WOE', 'x_23_WOE', 'x_24_WOE', 'x_25_WOE', 'x_26_WOE', 'x_27_WOE', 'x_28_WOE', 'x_30_WOE', 'x_35_WOE', 'x_36_WOE', 'x_37_WOE', 'x_38_WOE', 'x_40_WOE', 'x_41_WOE', 'x_43_WOE', 'x_44_WOE', 'x_45_WOE', 'x_46_WOE', 'x_47_WOE', 'x_48_WOE', 'x_50_WOE', 'x_51_WOE', 'x_52_WOE', 'x_53_WOE', 'x_54_WOE', 'x_55_WOE', 'x_56_WOE', 'x_57_WOE', 'x_58_WOE', 'x_59_WOE', 'x_60_WOE', 'x_61_WOE', 'x_62_WOE', 'x_63_WOE', 'x_64_WOE', 'x_65_WOE', 'x_66_WOE', 'x_67_WOE', 'x_68_WOE', 'x_69_WOE', 'x_70_WOE', 'x_71_WOE', 'x_72_WOE', 'x_73_WOE', 'x_74_WOE', 'x_75_WOE', 'x_76_WOE', 'x_77_WOE', 'x_78_WOE']\n"
     ]
    }
   ],
   "source": [
    "print(data.columns.tolist())"
   ]
  },
  {
   "cell_type": "code",
   "execution_count": 215,
   "metadata": {},
   "outputs": [
    {
     "name": "stdout",
     "output_type": "stream",
     "text": [
      "['x_31_Bin_WOE', 'x_32_Bin_WOE', 'x_39_Bin_WOE', 'x_42_Bin_WOE', 'lmt_Bin_WOE', 'ncloseCreditCard_Bin_WOE', 'unpayIndvLoan_Bin_WOE', 'unpayOtherLoan_Bin_WOE', 'unpayNormalLoan_Bin_WOE', '5yearBadloan_Bin_WOE', 'certId_br_encoding_Bin_WOE', 'dist_br_encoding_Bin_WOE', 'job_br_encoding_Bin_WOE', 'basicLevel_br_encoding_Bin_WOE', 'bankCard_br_encoding_Bin_WOE', 'ethnic_br_encoding_Bin_WOE', 'residentAddr_br_encoding_Bin_WOE', 'linkRela_br_encoding_Bin_WOE', 'x_33_br_encoding_Bin_WOE', 'x_34_br_encoding_Bin_WOE', 'loanProduct_WOE', 'x_0_WOE', 'x_1_WOE', 'x_2_WOE', 'x_3_WOE', 'x_4_WOE', 'x_5_WOE', 'x_6_WOE', 'x_7_WOE', 'x_8_WOE', 'x_9_WOE', 'x_10_WOE', 'x_11_WOE', 'x_12_WOE', 'x_13_WOE', 'x_14_WOE', 'x_15_WOE', 'x_16_WOE', 'x_17_WOE', 'x_18_WOE', 'x_19_WOE', 'x_20_WOE', 'x_21_WOE', 'x_22_WOE', 'x_23_WOE', 'x_24_WOE', 'x_25_WOE', 'x_26_WOE', 'x_27_WOE', 'x_28_WOE', 'x_30_WOE', 'x_35_WOE', 'x_36_WOE', 'x_37_WOE', 'x_38_WOE', 'x_40_WOE', 'x_41_WOE', 'x_43_WOE', 'x_44_WOE', 'x_45_WOE', 'x_46_WOE', 'x_47_WOE', 'x_48_WOE', 'x_50_WOE', 'x_51_WOE', 'x_52_WOE', 'x_53_WOE', 'x_54_WOE', 'x_55_WOE', 'x_56_WOE', 'x_57_WOE', 'x_58_WOE', 'x_59_WOE', 'x_60_WOE', 'x_61_WOE', 'x_62_WOE', 'x_63_WOE', 'x_64_WOE', 'x_65_WOE', 'x_66_WOE', 'x_67_WOE', 'x_68_WOE', 'x_69_WOE', 'x_70_WOE', 'x_71_WOE', 'x_72_WOE', 'x_73_WOE', 'x_74_WOE', 'x_75_WOE', 'x_76_WOE', 'x_77_WOE', 'x_78_WOE']\n"
     ]
    }
   ],
   "source": [
    "print(X.columns.tolist())"
   ]
  },
  {
   "cell_type": "code",
   "execution_count": 216,
   "metadata": {},
   "outputs": [
    {
     "name": "stdout",
     "output_type": "stream",
     "text": [
      "(132029, 92) (132029,)\n"
     ]
    }
   ],
   "source": [
    "print(X.shape,y.shape)"
   ]
  },
  {
   "cell_type": "markdown",
   "metadata": {},
   "source": [
    "## OneHotEncoder for categary feature\n",
    "\n",
    "**Is OneHotEncoder really needed for XGBoost?**\n",
    "\n",
    "**geher:**\n",
    "\n",
    "This is a difficult question to answer, and has been discussed here before. \n",
    "**XGBoost and other tree models** typically don't require one hot encoding like linear models do. This is because the ordering of labels when using label encoding matters less for trees. One hot encoding for tree based algorithms may also perform poorly due to reasons discussed in the book Elements of Machine Learning (Hastie/Tibshirani/Friedman):\n",
    "\n",
    "\"The partitioning algorithm favor categorical predictors with many levels q; the number of partitions grows exponentially in q, and the more choices we have, the more likely we can ﬁnd a good one for the data at hand. This can lead to severe overﬁtting if q is large, and such variables should be avoided.\"\n",
    "\n",
    "> some further reading: https://medium.com/data-design/visiting-categorical-features-and-encoding-in-decision-trees-53400fa65931\n",
    "\n",
    "**miguel perez:**\n",
    "\n",
    "the topic is quite documented, short answer to your question would be no, **it is not needed**. Maybe you will find interesting this recent thead that deepens more on the subject of encoding in tree based models\n",
    "> https://www.kaggle.com/c/zillow-prize-1/discussion/38793#218281"
   ]
  },
  {
   "cell_type": "code",
   "execution_count": 49,
   "metadata": {},
   "outputs": [],
   "source": [
    "#from sklearn.preprocessing import LabelEncoder, OneHotEncoder\n",
    "#\n",
    "##Fit OneHotEncoder\n",
    "#ohe = OneHotEncoder(categories='auto', sparse=True, dtype='uint64').fit(train_x)\n",
    "#train_x = ohe.transform(train_x)\n",
    "#test_x = ohe.transform(test_x)"
   ]
  },
  {
   "cell_type": "markdown",
   "metadata": {},
   "source": [
    "## Splitting the Data "
   ]
  },
  {
   "cell_type": "code",
   "execution_count": 26,
   "metadata": {},
   "outputs": [
    {
     "name": "stdout",
     "output_type": "stream",
     "text": [
      "Train: [121534  99278  89333 ...   9592  36708   4031] Test: [ 29814  43687  98414 ...  47351 130692  37024]\n",
      "Train: [ 93018  21431  90993 ...  33694 117960  48632] Test: [125772  90605  70166 ...  54115   7590  49330]\n",
      "Train: [125249  72080  99949 ... 101678 131741 106946] Test: [112061   7862  42002 ...  77236  45625  39317]\n",
      "Train: [ 74602 113552 130845 ...  27983  68641  63068] Test: [ 51106 116986  43575 ...  16590  63940    441]\n",
      "Train: [84486 53236 60905 ... 38962 89955 17596] Test: [93633  2033 69418 ... 23367 16147 74896]\n",
      "----------------------------------------------------------------------------------------------------\n",
      "Label Distributions: \n",
      "\n",
      "[0.99273728 0.00726272]\n",
      "[0.99272893 0.00727107]\n"
     ]
    }
   ],
   "source": [
    "from sklearn.model_selection import train_test_split\n",
    "from sklearn.model_selection import StratifiedShuffleSplit\n",
    "from sklearn.model_selection import StratifiedKFold\n",
    "\n",
    "#sss = StratifiedKFold(n_splits=5, random_state=None, shuffle=False)\n",
    "sss = StratifiedShuffleSplit(n_splits=5, random_state=None)\n",
    "\n",
    "#features=data.columns.tolist()\n",
    "#features.remove('target')\n",
    "\n",
    "#X = data[features]\n",
    "#y = data['target']\n",
    "\n",
    "\n",
    "#X = train_x\n",
    "#y = train_y['target']\n",
    "for train_index, test_index in sss.split(X, y):\n",
    "    print(\"Train:\", train_index, \"Test:\", test_index)\n",
    "    original_Xtrain, original_Xtest = X.iloc[train_index], X.iloc[test_index]\n",
    "    original_ytrain, original_ytest = y.iloc[train_index], y.iloc[test_index]\n",
    "    \n",
    "    \n",
    "# We already have X_train and y_train for undersample data thats why I am using original to distinguish and to not overwrite these variables.\n",
    "# original_Xtrain, original_Xtest, original_ytrain, original_ytest = train_test_split(X, y, test_size=0.2, random_state=42)\n",
    "\n",
    "# Check the Distribution of the labels\n",
    "# Turn into an array\n",
    "original_Xtrain = original_Xtrain.values\n",
    "original_Xtest = original_Xtest.values\n",
    "original_ytrain = original_ytrain.values\n",
    "original_ytest = original_ytest.values\n",
    "\n",
    "# See if both the train and test label distribution are similarly distributed\n",
    "train_unique_label, train_counts_label = np.unique(original_ytrain, return_counts=True)\n",
    "test_unique_label, test_counts_label = np.unique(original_ytest, return_counts=True)\n",
    "print('-' * 100)\n",
    "\n",
    "print('Label Distributions: \\n')\n",
    "print(train_counts_label/ len(original_ytrain))\n",
    "print(test_counts_label/ len(original_ytest))"
   ]
  },
  {
   "cell_type": "code",
   "execution_count": 7,
   "metadata": {},
   "outputs": [
    {
     "data": {
      "text/plain": [
       "(132029, 100)"
      ]
     },
     "execution_count": 7,
     "metadata": {},
     "output_type": "execute_result"
    }
   ],
   "source": [
    "train_x.shape"
   ]
  },
  {
   "cell_type": "code",
   "execution_count": 8,
   "metadata": {},
   "outputs": [
    {
     "data": {
      "text/plain": [
       "132029"
      ]
     },
     "execution_count": 8,
     "metadata": {},
     "output_type": "execute_result"
    }
   ],
   "source": [
    "original_Xtrain.shape[0] + original_Xtest.shape[0]"
   ]
  },
  {
   "cell_type": "code",
   "execution_count": 79,
   "metadata": {},
   "outputs": [
    {
     "data": {
      "text/html": [
       "<div>\n",
       "<style scoped>\n",
       "    .dataframe tbody tr th:only-of-type {\n",
       "        vertical-align: middle;\n",
       "    }\n",
       "\n",
       "    .dataframe tbody tr th {\n",
       "        vertical-align: top;\n",
       "    }\n",
       "\n",
       "    .dataframe thead th {\n",
       "        text-align: right;\n",
       "    }\n",
       "</style>\n",
       "<table border=\"1\" class=\"dataframe\">\n",
       "  <thead>\n",
       "    <tr style=\"text-align: right;\">\n",
       "      <th></th>\n",
       "      <th>x_31_WOE</th>\n",
       "      <th>x_32_WOE</th>\n",
       "      <th>x_39_WOE</th>\n",
       "      <th>x_42_WOE</th>\n",
       "      <th>residentAddr_br_encoding_Bin_WOE</th>\n",
       "      <th>certId_br_encoding_Bin_WOE</th>\n",
       "      <th>bankCard_br_encoding_Bin_WOE</th>\n",
       "      <th>dist_br_encoding_Bin_WOE</th>\n",
       "      <th>lmt_Bin_WOE</th>\n",
       "      <th>x_45_WOE</th>\n",
       "      <th>...</th>\n",
       "      <th>x_29_WOE</th>\n",
       "      <th>x_47_WOE</th>\n",
       "      <th>x_27_WOE</th>\n",
       "      <th>x_49_WOE</th>\n",
       "      <th>x_76_WOE</th>\n",
       "      <th>highestEdu_br_encoding_Bin_WOE</th>\n",
       "      <th>x_53_WOE</th>\n",
       "      <th>x_34_br_encoding_Bin_WOE</th>\n",
       "      <th>x_65_WOE</th>\n",
       "      <th>x_43_WOE</th>\n",
       "    </tr>\n",
       "  </thead>\n",
       "  <tbody>\n",
       "    <tr>\n",
       "      <th>0</th>\n",
       "      <td>0.007914</td>\n",
       "      <td>0.009199</td>\n",
       "      <td>0.009237</td>\n",
       "      <td>0.00884</td>\n",
       "      <td>0.484092</td>\n",
       "      <td>0.342584</td>\n",
       "      <td>0.318928</td>\n",
       "      <td>0.297508</td>\n",
       "      <td>-0.018245</td>\n",
       "      <td>0.204776</td>\n",
       "      <td>...</td>\n",
       "      <td>-0.006651</td>\n",
       "      <td>-0.03432</td>\n",
       "      <td>-0.024994</td>\n",
       "      <td>-0.014799</td>\n",
       "      <td>0.037915</td>\n",
       "      <td>-0.041690</td>\n",
       "      <td>-0.030708</td>\n",
       "      <td>0.167485</td>\n",
       "      <td>-0.060854</td>\n",
       "      <td>-0.018581</td>\n",
       "    </tr>\n",
       "    <tr>\n",
       "      <th>1</th>\n",
       "      <td>0.007914</td>\n",
       "      <td>0.009199</td>\n",
       "      <td>0.009237</td>\n",
       "      <td>0.00884</td>\n",
       "      <td>0.484092</td>\n",
       "      <td>0.342584</td>\n",
       "      <td>-0.941905</td>\n",
       "      <td>0.297508</td>\n",
       "      <td>0.523491</td>\n",
       "      <td>0.204776</td>\n",
       "      <td>...</td>\n",
       "      <td>-0.006651</td>\n",
       "      <td>-0.03432</td>\n",
       "      <td>-0.024994</td>\n",
       "      <td>0.491496</td>\n",
       "      <td>0.037915</td>\n",
       "      <td>0.379700</td>\n",
       "      <td>-0.030708</td>\n",
       "      <td>0.167485</td>\n",
       "      <td>0.095412</td>\n",
       "      <td>-0.018581</td>\n",
       "    </tr>\n",
       "    <tr>\n",
       "      <th>2</th>\n",
       "      <td>0.007914</td>\n",
       "      <td>0.009199</td>\n",
       "      <td>0.009237</td>\n",
       "      <td>0.00884</td>\n",
       "      <td>0.484092</td>\n",
       "      <td>0.342584</td>\n",
       "      <td>0.318928</td>\n",
       "      <td>0.297508</td>\n",
       "      <td>-0.856257</td>\n",
       "      <td>-0.791066</td>\n",
       "      <td>...</td>\n",
       "      <td>-0.006651</td>\n",
       "      <td>-0.03432</td>\n",
       "      <td>-0.024994</td>\n",
       "      <td>-0.014799</td>\n",
       "      <td>0.037915</td>\n",
       "      <td>-0.727941</td>\n",
       "      <td>-0.030708</td>\n",
       "      <td>-0.069533</td>\n",
       "      <td>-0.060854</td>\n",
       "      <td>-0.018581</td>\n",
       "    </tr>\n",
       "    <tr>\n",
       "      <th>3</th>\n",
       "      <td>0.000000</td>\n",
       "      <td>0.009199</td>\n",
       "      <td>0.009237</td>\n",
       "      <td>0.00884</td>\n",
       "      <td>0.484092</td>\n",
       "      <td>0.342584</td>\n",
       "      <td>0.318928</td>\n",
       "      <td>0.297508</td>\n",
       "      <td>-0.018245</td>\n",
       "      <td>0.204776</td>\n",
       "      <td>...</td>\n",
       "      <td>-0.006651</td>\n",
       "      <td>-0.03432</td>\n",
       "      <td>0.370820</td>\n",
       "      <td>-0.014799</td>\n",
       "      <td>0.037915</td>\n",
       "      <td>-0.041690</td>\n",
       "      <td>0.250498</td>\n",
       "      <td>-0.069533</td>\n",
       "      <td>-0.060854</td>\n",
       "      <td>-0.018581</td>\n",
       "    </tr>\n",
       "    <tr>\n",
       "      <th>4</th>\n",
       "      <td>0.007914</td>\n",
       "      <td>0.009199</td>\n",
       "      <td>0.009237</td>\n",
       "      <td>0.00884</td>\n",
       "      <td>0.484092</td>\n",
       "      <td>0.342584</td>\n",
       "      <td>0.318928</td>\n",
       "      <td>-1.854680</td>\n",
       "      <td>0.523491</td>\n",
       "      <td>0.204776</td>\n",
       "      <td>...</td>\n",
       "      <td>-0.006651</td>\n",
       "      <td>-0.03432</td>\n",
       "      <td>0.370820</td>\n",
       "      <td>-0.014799</td>\n",
       "      <td>0.037915</td>\n",
       "      <td>0.379700</td>\n",
       "      <td>-0.030708</td>\n",
       "      <td>-0.014216</td>\n",
       "      <td>-0.060854</td>\n",
       "      <td>-0.018581</td>\n",
       "    </tr>\n",
       "  </tbody>\n",
       "</table>\n",
       "<p>5 rows × 34 columns</p>\n",
       "</div>"
      ],
      "text/plain": [
       "   x_31_WOE  x_32_WOE  x_39_WOE  x_42_WOE  residentAddr_br_encoding_Bin_WOE  \\\n",
       "0  0.007914  0.009199  0.009237   0.00884                          0.484092   \n",
       "1  0.007914  0.009199  0.009237   0.00884                          0.484092   \n",
       "2  0.007914  0.009199  0.009237   0.00884                          0.484092   \n",
       "3  0.000000  0.009199  0.009237   0.00884                          0.484092   \n",
       "4  0.007914  0.009199  0.009237   0.00884                          0.484092   \n",
       "\n",
       "   certId_br_encoding_Bin_WOE  bankCard_br_encoding_Bin_WOE  \\\n",
       "0                    0.342584                      0.318928   \n",
       "1                    0.342584                     -0.941905   \n",
       "2                    0.342584                      0.318928   \n",
       "3                    0.342584                      0.318928   \n",
       "4                    0.342584                      0.318928   \n",
       "\n",
       "   dist_br_encoding_Bin_WOE  lmt_Bin_WOE  x_45_WOE  ...  x_29_WOE  x_47_WOE  \\\n",
       "0                  0.297508    -0.018245  0.204776  ... -0.006651  -0.03432   \n",
       "1                  0.297508     0.523491  0.204776  ... -0.006651  -0.03432   \n",
       "2                  0.297508    -0.856257 -0.791066  ... -0.006651  -0.03432   \n",
       "3                  0.297508    -0.018245  0.204776  ... -0.006651  -0.03432   \n",
       "4                 -1.854680     0.523491  0.204776  ... -0.006651  -0.03432   \n",
       "\n",
       "   x_27_WOE  x_49_WOE  x_76_WOE  highestEdu_br_encoding_Bin_WOE  x_53_WOE  \\\n",
       "0 -0.024994 -0.014799  0.037915                       -0.041690 -0.030708   \n",
       "1 -0.024994  0.491496  0.037915                        0.379700 -0.030708   \n",
       "2 -0.024994 -0.014799  0.037915                       -0.727941 -0.030708   \n",
       "3  0.370820 -0.014799  0.037915                       -0.041690  0.250498   \n",
       "4  0.370820 -0.014799  0.037915                        0.379700 -0.030708   \n",
       "\n",
       "   x_34_br_encoding_Bin_WOE  x_65_WOE  x_43_WOE  \n",
       "0                  0.167485 -0.060854 -0.018581  \n",
       "1                  0.167485  0.095412 -0.018581  \n",
       "2                 -0.069533 -0.060854 -0.018581  \n",
       "3                 -0.069533 -0.060854 -0.018581  \n",
       "4                 -0.014216 -0.060854 -0.018581  \n",
       "\n",
       "[5 rows x 34 columns]"
      ]
     },
     "execution_count": 79,
     "metadata": {},
     "output_type": "execute_result"
    }
   ],
   "source": [
    "X.head()"
   ]
  },
  {
   "cell_type": "code",
   "execution_count": 35,
   "metadata": {},
   "outputs": [
    {
     "data": {
      "text/plain": [
       "<matplotlib.axes._subplots.AxesSubplot at 0x229003574a8>"
      ]
     },
     "execution_count": 35,
     "metadata": {},
     "output_type": "execute_result"
    },
    {
     "data": {
      "image/png": "[encoded data removed]",
      "text/plain": [
       "<Figure size 576x432 with 1 Axes>"
      ]
     },
     "metadata": {},
     "output_type": "display_data"
    }
   ],
   "source": [
    "# Positive correlations (The higher the feature the probability increases that it will be a fraud transaction)\n",
    "\n",
    "plt.figure(figsize=(8, 6))\n",
    "plt.xlabel(\"target\",fontsize=18)\n",
    "plt.ylabel(\"scaled_setupHour\",fontsize=18)\n",
    "#plt.yscale('log')\n",
    "\n",
    "sns.boxplot(x='target',y='scaled_setupHour',data=new_df,palette='winter')"
   ]
  },
  {
   "cell_type": "code",
   "execution_count": 42,
   "metadata": {},
   "outputs": [
    {
     "data": {
      "text/plain": [
       "<matplotlib.axes._subplots.AxesSubplot at 0x22902706f28>"
      ]
     },
     "execution_count": 42,
     "metadata": {},
     "output_type": "execute_result"
    },
    {
     "data": {
      "image/png": "[encoded data removed]",
      "text/plain": [
       "<Figure size 576x432 with 1 Axes>"
      ]
     },
     "metadata": {},
     "output_type": "display_data"
    }
   ],
   "source": [
    "plt.figure(figsize=(8, 6))\n",
    "plt.xlabel(\"target\",fontsize=18)\n",
    "plt.ylabel(\"scaled_lmt\",fontsize=18)\n",
    "#plt.yscale('log') \n",
    "\n",
    "sns.boxplot(x='target',y='scaled_lmt',data=new_df,palette='winter')"
   ]
  },
  {
   "cell_type": "markdown",
   "metadata": {},
   "source": [
    "## Anomaly Detection"
   ]
  },
  {
   "cell_type": "markdown",
   "metadata": {},
   "source": [
    "## Train Model"
   ]
  },
  {
   "cell_type": "code",
   "execution_count": 15,
   "metadata": {},
   "outputs": [],
   "source": [
    "from sklearn.model_selection import cross_val_score, cross_val_predict\n",
    "from sklearn.metrics import accuracy_score, classification_report, confusion_matrix\n",
    "from sklearn.metrics import accuracy_score, f1_score, auc, roc_curve, roc_auc_score"
   ]
  },
  {
   "cell_type": "code",
   "execution_count": 38,
   "metadata": {},
   "outputs": [
    {
     "data": {
      "text/plain": [
       "20"
      ]
     },
     "execution_count": 38,
     "metadata": {},
     "output_type": "execute_result"
    }
   ],
   "source": [
    "import gc \n",
    "gc.collect()"
   ]
  },
  {
   "cell_type": "markdown",
   "metadata": {},
   "source": [
    "### train by randomforest with SMOTE during cross-validation"
   ]
  },
  {
   "cell_type": "code",
   "execution_count": null,
   "metadata": {},
   "outputs": [
    {
     "name": "stdout",
     "output_type": "stream",
     "text": [
      "Train-: [62746 93482 45104 ... 30032 11888 81185] Test:- [ 22291  69061  46695 ... 100873  30582  64193]\n",
      "make pipeline .....\n",
      "fit model ......\n",
      "Fitting 5 folds for each of 8 candidates, totalling 40 fits\n"
     ]
    },
    {
     "name": "stderr",
     "output_type": "stream",
     "text": [
      "[Parallel(n_jobs=-1)]: Using backend LokyBackend with 8 concurrent workers.\n",
      "[Parallel(n_jobs=-1)]: Done  16 tasks      | elapsed:  1.2min\n",
      "[Parallel(n_jobs=-1)]: Done  40 out of  40 | elapsed:  3.4min finished\n"
     ]
    },
    {
     "name": "stdout",
     "output_type": "stream",
     "text": [
      "fit model finish!\n",
      "predict.....\n",
      "cur AUC:0.511246454064987\n",
      "***************************************************************************************************************************************\n",
      "Train-: [ 15649  92095 102474 ...    178  16619 117397] Test:- [ 63206  11613 104053 ...  33319  12398  89415]\n",
      "make pipeline .....\n",
      "fit model ......\n",
      "Fitting 5 folds for each of 8 candidates, totalling 40 fits\n"
     ]
    },
    {
     "name": "stderr",
     "output_type": "stream",
     "text": [
      "[Parallel(n_jobs=-1)]: Using backend LokyBackend with 8 concurrent workers.\n",
      "[Parallel(n_jobs=-1)]: Done  16 tasks      | elapsed:  1.3min\n",
      "[Parallel(n_jobs=-1)]: Done  40 out of  40 | elapsed:  3.6min finished\n"
     ]
    },
    {
     "name": "stdout",
     "output_type": "stream",
     "text": [
      "fit model finish!\n",
      "predict.....\n",
      "cur AUC:0.5289850001281367\n",
      "***************************************************************************************************************************************\n",
      "Train-: [ 92295  78192   9903 ... 100659  50431  81995] Test:- [100503  70136 106557 ...  96239 113309  79302]\n",
      "make pipeline .....\n",
      "fit model ......\n",
      "Fitting 5 folds for each of 8 candidates, totalling 40 fits\n"
     ]
    },
    {
     "name": "stderr",
     "output_type": "stream",
     "text": [
      "[Parallel(n_jobs=-1)]: Using backend LokyBackend with 8 concurrent workers.\n",
      "[Parallel(n_jobs=-1)]: Done  16 tasks      | elapsed:  1.2min\n",
      "[Parallel(n_jobs=-1)]: Done  40 out of  40 | elapsed:  3.5min finished\n"
     ]
    },
    {
     "name": "stdout",
     "output_type": "stream",
     "text": [
      "fit model finish!\n",
      "predict.....\n",
      "cur AUC:0.5057291861746483\n",
      "***************************************************************************************************************************************\n",
      "Train-: [ 56844  74037  63559 ... 106769 111407  60883] Test:- [ 20786  94471   5660 ...  87004 107939   3419]\n",
      "make pipeline .....\n",
      "fit model ......\n",
      "Fitting 5 folds for each of 8 candidates, totalling 40 fits\n"
     ]
    },
    {
     "name": "stderr",
     "output_type": "stream",
     "text": [
      "[Parallel(n_jobs=-1)]: Using backend LokyBackend with 8 concurrent workers.\n"
     ]
    }
   ],
   "source": [
    "from imblearn.pipeline import make_pipeline\n",
    "\n",
    "from imblearn.over_sampling import SMOTE,SMOTENC\n",
    "from sklearn.model_selection import train_test_split, RandomizedSearchCV,GridSearchCV\n",
    "\n",
    "from sklearn.ensemble import RandomForestClassifier\n",
    "\n",
    "\n",
    "# List to append the score and then find the average\n",
    "accuracy_lst = []\n",
    "precision_lst = []\n",
    "recall_lst = []\n",
    "f1_lst = []\n",
    "auc_lst = []\n",
    "\n",
    "# Classifier with optimal parameters\n",
    "# 实例化随机森林分类函数类\n",
    "forest_clf=RandomForestClassifier(random_state=42)\n",
    "\n",
    "# 建立需要搜索的参数的范围\n",
    "param_grid =[{'n_estimators':[10,30,50,100],\n",
    "             'max_depth':[50,100]}]\n",
    "\n",
    "#rand_forest_clf = RandomizedSearchCV(forest_clf, param_grid, n_iter=4)\n",
    "grid_forest_clf = GridSearchCV(forest_clf, param_grid,cv=5,n_jobs=-1,verbose=3)\n",
    "\n",
    "# Implementing SMOTE Technique \n",
    "# Cross Validating the right way\n",
    "# Parameters\n",
    "\n",
    "##init best model\n",
    "best_est = forest_clf\n",
    "\n",
    "for train, test in sss.split(original_Xtrain, original_ytrain):\n",
    "    print(\"Train-:\", train, \"Test:-\", test)\n",
    "    ## SMOTE happens during Cross Validation not before..\n",
    "    print(\"make pipeline .....\")\n",
    "    pipeline = imbalanced_make_pipeline(SMOTE(sampling_strategy='minority'), grid_forest_clf) \n",
    "    print(\"fit model ......\")\n",
    "    model = pipeline.fit(original_Xtrain[train], original_ytrain[train])\n",
    "    print(\"fit model finish!\")\n",
    "    best_est = grid_forest_clf.best_estimator_\n",
    "    print(\"predict.....\")\n",
    "    prediction = best_est.predict(original_Xtrain[test])\n",
    "    \n",
    "    accuracy_lst.append(pipeline.score(original_Xtrain[test], original_ytrain[test]))\n",
    "    precision_lst.append(precision_score(original_ytrain[test], prediction))\n",
    "    recall_lst.append(recall_score(original_ytrain[test], prediction))\n",
    "    f1_lst.append(f1_score(original_ytrain[test], prediction))\n",
    "    auc_lst.append(roc_auc_score(original_ytrain[test], prediction))\n",
    "    print(\"cur AUC:{}\".format(roc_auc_score(original_ytrain[test], prediction)))\n",
    "    print(\"***\" * 45)\n",
    "    \n",
    "print('---' * 45)\n",
    "print('')\n",
    "print(\"accuracy: {}\".format(np.mean(accuracy_lst)))\n",
    "print(\"precision: {}\".format(np.mean(precision_lst)))\n",
    "print(\"recall: {}\".format(np.mean(recall_lst)))\n",
    "print(\"f1: {}\".format(np.mean(f1_lst)))\n",
    "print(\"AUC:{}\".format(np.mean(auc_lst)))\n",
    "print('---' * 45)"
   ]
  },
  {
   "cell_type": "markdown",
   "metadata": {},
   "source": [
    "### BalancedRandomForestClassifier  \n",
    "平衡的随机森林会随机对每个Boostrap样本进行欠采样以使其平衡。\n",
    "\n",
    "[R2d8f3e873ec3-1]\tChen，Chao，Andy Liaw和Leo Breiman。“使用随机森林来学习不平衡的数据。”加州大学伯克利分校110（2004）：1-12。\n",
    "\n",
    "https://imbalanced-learn.org/en/stable/generated/imblearn.ensemble.BalancedRandomForestClassifier.html"
   ]
  },
  {
   "cell_type": "markdown",
   "metadata": {},
   "source": [
    "#### 使用BalancedRandomForestClassifier训练模型"
   ]
  },
  {
   "cell_type": "code",
   "execution_count": 27,
   "metadata": {},
   "outputs": [
    {
     "name": "stdout",
     "output_type": "stream",
     "text": [
      "AUC:0.8072368295567255\n",
      "<bound method BaseEstimator.get_params of BalancedRandomForestClassifier(bootstrap=True, class_weight=None,\n",
      "                               criterion='gini', max_depth=100,\n",
      "                               max_features='auto', max_leaf_nodes=None,\n",
      "                               min_impurity_decrease=0.0, min_samples_leaf=2,\n",
      "                               min_samples_split=2,\n",
      "                               min_weight_fraction_leaf=0.0, n_estimators=100,\n",
      "                               n_jobs=-1, oob_score=True, random_state=42,\n",
      "                               replacement=False, sampling_strategy='majority',\n",
      "                               verbose=0, warm_start=False)>\n"
     ]
    }
   ],
   "source": [
    "from imblearn.ensemble import BalancedRandomForestClassifier\n",
    "bclf = BalancedRandomForestClassifier(max_depth=100, random_state=42,criterion='gini',sampling_strategy='majority',n_jobs=-1,oob_score=True)\n",
    "bclf.fit(original_Xtrain, original_ytrain)\n",
    "#print(clf.feature_importances_) \n",
    "prediction = bclf.predict(original_Xtest)\n",
    "\n",
    "print(\"AUC:{}\".format(roc_auc_score(original_ytest, prediction)))\n",
    "print(bclf.get_params)"
   ]
  },
  {
   "cell_type": "code",
   "execution_count": 28,
   "metadata": {},
   "outputs": [],
   "source": [
    "#将模型保存\n",
    "saveModel =open(path+'BFC_Model_Normal_AUC_0.80.pkl','wb+')\n",
    "pickle.dump(bclf,saveModel)\n",
    "saveModel.close()"
   ]
  },
  {
   "cell_type": "markdown",
   "metadata": {},
   "source": [
    "#### 将模型应用在测试数据集上"
   ]
  },
  {
   "cell_type": "code",
   "execution_count": 145,
   "metadata": {},
   "outputs": [
    {
     "data": {
      "text/plain": [
       "(132029, 92)"
      ]
     },
     "execution_count": 145,
     "metadata": {},
     "output_type": "execute_result"
    }
   ],
   "source": [
    "X.shape"
   ]
  },
  {
   "cell_type": "code",
   "execution_count": 146,
   "metadata": {},
   "outputs": [
    {
     "name": "stdout",
     "output_type": "stream",
     "text": [
      "Index(['x_31_Bin_WOE', 'x_32_Bin_WOE', 'x_39_Bin_WOE', 'x_42_Bin_WOE',\n",
      "       'lmt_Bin_WOE', 'ncloseCreditCard_Bin_WOE', 'unpayIndvLoan_Bin_WOE',\n",
      "       'unpayOtherLoan_Bin_WOE', 'unpayNormalLoan_Bin_WOE',\n",
      "       '5yearBadloan_Bin_WOE', 'certId_br_encoding_Bin_WOE',\n",
      "       'dist_br_encoding_Bin_WOE', 'job_br_encoding_Bin_WOE',\n",
      "       'basicLevel_br_encoding_Bin_WOE', 'bankCard_br_encoding_Bin_WOE',\n",
      "       'ethnic_br_encoding_Bin_WOE', 'residentAddr_br_encoding_Bin_WOE',\n",
      "       'linkRela_br_encoding_Bin_WOE', 'x_33_br_encoding_Bin_WOE',\n",
      "       'x_34_br_encoding_Bin_WOE', 'loanProduct_WOE', 'x_0_WOE', 'x_1_WOE',\n",
      "       'x_2_WOE', 'x_3_WOE', 'x_4_WOE', 'x_5_WOE', 'x_6_WOE', 'x_7_WOE',\n",
      "       'x_8_WOE', 'x_9_WOE', 'x_10_WOE', 'x_11_WOE', 'x_12_WOE', 'x_13_WOE',\n",
      "       'x_14_WOE', 'x_15_WOE', 'x_16_WOE', 'x_17_WOE', 'x_18_WOE', 'x_19_WOE',\n",
      "       'x_20_WOE', 'x_21_WOE', 'x_22_WOE', 'x_23_WOE', 'x_24_WOE', 'x_25_WOE',\n",
      "       'x_26_WOE', 'x_27_WOE', 'x_28_WOE', 'x_30_WOE', 'x_35_WOE', 'x_36_WOE',\n",
      "       'x_37_WOE', 'x_38_WOE', 'x_40_WOE', 'x_41_WOE', 'x_43_WOE', 'x_44_WOE',\n",
      "       'x_45_WOE', 'x_46_WOE', 'x_47_WOE', 'x_48_WOE', 'x_50_WOE', 'x_51_WOE',\n",
      "       'x_52_WOE', 'x_53_WOE', 'x_54_WOE', 'x_55_WOE', 'x_56_WOE', 'x_57_WOE',\n",
      "       'x_58_WOE', 'x_59_WOE', 'x_60_WOE', 'x_61_WOE', 'x_62_WOE', 'x_63_WOE',\n",
      "       'x_64_WOE', 'x_65_WOE', 'x_66_WOE', 'x_67_WOE', 'x_68_WOE', 'x_69_WOE',\n",
      "       'x_70_WOE', 'x_71_WOE', 'x_72_WOE', 'x_73_WOE', 'x_74_WOE', 'x_75_WOE',\n",
      "       'x_76_WOE', 'x_77_WOE', 'x_78_WOE'],\n",
      "      dtype='object')\n"
     ]
    }
   ],
   "source": [
    "print(X.columns)"
   ]
  },
  {
   "cell_type": "code",
   "execution_count": 147,
   "metadata": {},
   "outputs": [
    {
     "data": {
      "text/html": [
       "<div>\n",
       "<style scoped>\n",
       "    .dataframe tbody tr th:only-of-type {\n",
       "        vertical-align: middle;\n",
       "    }\n",
       "\n",
       "    .dataframe tbody tr th {\n",
       "        vertical-align: top;\n",
       "    }\n",
       "\n",
       "    .dataframe thead th {\n",
       "        text-align: right;\n",
       "    }\n",
       "</style>\n",
       "<table border=\"1\" class=\"dataframe\">\n",
       "  <thead>\n",
       "    <tr style=\"text-align: right;\">\n",
       "      <th></th>\n",
       "      <th>id</th>\n",
       "      <th>certId</th>\n",
       "      <th>loanProduct</th>\n",
       "      <th>gender</th>\n",
       "      <th>age</th>\n",
       "      <th>dist</th>\n",
       "      <th>edu</th>\n",
       "      <th>job</th>\n",
       "      <th>lmt</th>\n",
       "      <th>basicLevel</th>\n",
       "      <th>...</th>\n",
       "      <th>highestEdu</th>\n",
       "      <th>linkRela</th>\n",
       "      <th>setupHour</th>\n",
       "      <th>weekday</th>\n",
       "      <th>ncloseCreditCard</th>\n",
       "      <th>unpayIndvLoan</th>\n",
       "      <th>unpayOtherLoan</th>\n",
       "      <th>unpayNormalLoan</th>\n",
       "      <th>5yearBadloan</th>\n",
       "      <th>isNew</th>\n",
       "    </tr>\n",
       "  </thead>\n",
       "  <tbody>\n",
       "    <tr>\n",
       "      <th>0</th>\n",
       "      <td>132030</td>\n",
       "      <td>541202</td>\n",
       "      <td>1</td>\n",
       "      <td>2</td>\n",
       "      <td>28</td>\n",
       "      <td>540100</td>\n",
       "      <td>0</td>\n",
       "      <td>3</td>\n",
       "      <td>9.963</td>\n",
       "      <td>1</td>\n",
       "      <td>...</td>\n",
       "      <td>-999</td>\n",
       "      <td>0</td>\n",
       "      <td>9</td>\n",
       "      <td>6</td>\n",
       "      <td>1</td>\n",
       "      <td>0</td>\n",
       "      <td>1</td>\n",
       "      <td>0</td>\n",
       "      <td>0</td>\n",
       "      <td>1</td>\n",
       "    </tr>\n",
       "    <tr>\n",
       "      <th>1</th>\n",
       "      <td>132031</td>\n",
       "      <td>733521</td>\n",
       "      <td>1</td>\n",
       "      <td>1</td>\n",
       "      <td>42</td>\n",
       "      <td>730900</td>\n",
       "      <td>0</td>\n",
       "      <td>6</td>\n",
       "      <td>0.730</td>\n",
       "      <td>1</td>\n",
       "      <td>...</td>\n",
       "      <td>-999</td>\n",
       "      <td>0</td>\n",
       "      <td>4</td>\n",
       "      <td>6</td>\n",
       "      <td>1</td>\n",
       "      <td>0</td>\n",
       "      <td>1</td>\n",
       "      <td>0</td>\n",
       "      <td>0</td>\n",
       "      <td>1</td>\n",
       "    </tr>\n",
       "    <tr>\n",
       "      <th>2</th>\n",
       "      <td>132032</td>\n",
       "      <td>710231</td>\n",
       "      <td>1</td>\n",
       "      <td>2</td>\n",
       "      <td>43</td>\n",
       "      <td>710100</td>\n",
       "      <td>0</td>\n",
       "      <td>2</td>\n",
       "      <td>5.768</td>\n",
       "      <td>1</td>\n",
       "      <td>...</td>\n",
       "      <td>-999</td>\n",
       "      <td>0</td>\n",
       "      <td>18</td>\n",
       "      <td>5</td>\n",
       "      <td>1</td>\n",
       "      <td>1</td>\n",
       "      <td>1</td>\n",
       "      <td>0</td>\n",
       "      <td>0</td>\n",
       "      <td>1</td>\n",
       "    </tr>\n",
       "    <tr>\n",
       "      <th>3</th>\n",
       "      <td>132033</td>\n",
       "      <td>722122</td>\n",
       "      <td>3</td>\n",
       "      <td>2</td>\n",
       "      <td>32</td>\n",
       "      <td>722120</td>\n",
       "      <td>0</td>\n",
       "      <td>4</td>\n",
       "      <td>17.233</td>\n",
       "      <td>1</td>\n",
       "      <td>...</td>\n",
       "      <td>-999</td>\n",
       "      <td>-999</td>\n",
       "      <td>6</td>\n",
       "      <td>5</td>\n",
       "      <td>1</td>\n",
       "      <td>0</td>\n",
       "      <td>1</td>\n",
       "      <td>1</td>\n",
       "      <td>0</td>\n",
       "      <td>1</td>\n",
       "    </tr>\n",
       "    <tr>\n",
       "      <th>4</th>\n",
       "      <td>132034</td>\n",
       "      <td>641723</td>\n",
       "      <td>1</td>\n",
       "      <td>2</td>\n",
       "      <td>22</td>\n",
       "      <td>641700</td>\n",
       "      <td>0</td>\n",
       "      <td>4</td>\n",
       "      <td>0.463</td>\n",
       "      <td>3</td>\n",
       "      <td>...</td>\n",
       "      <td>-999</td>\n",
       "      <td>1</td>\n",
       "      <td>4</td>\n",
       "      <td>6</td>\n",
       "      <td>0</td>\n",
       "      <td>0</td>\n",
       "      <td>0</td>\n",
       "      <td>0</td>\n",
       "      <td>0</td>\n",
       "      <td>1</td>\n",
       "    </tr>\n",
       "  </tbody>\n",
       "</table>\n",
       "<p>5 rows × 104 columns</p>\n",
       "</div>"
      ],
      "text/plain": [
       "       id  certId  loanProduct  gender  age    dist  edu  job     lmt  \\\n",
       "0  132030  541202            1       2   28  540100    0    3   9.963   \n",
       "1  132031  733521            1       1   42  730900    0    6   0.730   \n",
       "2  132032  710231            1       2   43  710100    0    2   5.768   \n",
       "3  132033  722122            3       2   32  722120    0    4  17.233   \n",
       "4  132034  641723            1       2   22  641700    0    4   0.463   \n",
       "\n",
       "   basicLevel  ...  highestEdu  linkRela  setupHour  weekday  \\\n",
       "0           1  ...        -999         0          9        6   \n",
       "1           1  ...        -999         0          4        6   \n",
       "2           1  ...        -999         0         18        5   \n",
       "3           1  ...        -999      -999          6        5   \n",
       "4           3  ...        -999         1          4        6   \n",
       "\n",
       "   ncloseCreditCard  unpayIndvLoan  unpayOtherLoan  unpayNormalLoan  \\\n",
       "0                 1              0               1                0   \n",
       "1                 1              0               1                0   \n",
       "2                 1              1               1                0   \n",
       "3                 1              0               1                1   \n",
       "4                 0              0               0                0   \n",
       "\n",
       "   5yearBadloan  isNew  \n",
       "0             0      1  \n",
       "1             0      1  \n",
       "2             0      1  \n",
       "3             0      1  \n",
       "4             0      1  \n",
       "\n",
       "[5 rows x 104 columns]"
      ]
     },
     "execution_count": 147,
     "metadata": {},
     "output_type": "execute_result"
    }
   ],
   "source": [
    "test_x.head()"
   ]
  },
  {
   "cell_type": "markdown",
   "metadata": {},
   "source": [
    "##### 加载模型"
   ]
  },
  {
   "cell_type": "code",
   "execution_count": null,
   "metadata": {},
   "outputs": [],
   "source": [
    "##第一步：完成数据预处理\n",
    "####在实际工作中，可以只清洗模型实际使用的字段"
   ]
  },
  {
   "cell_type": "code",
   "execution_count": null,
   "metadata": {},
   "outputs": [],
   "source": [
    "##第二步：变量衍生"
   ]
  },
  {
   "cell_type": "code",
   "execution_count": 29,
   "metadata": {},
   "outputs": [],
   "source": [
    "##第三步：分箱并代入WOE值\n",
    "modelFile =open(path+'BFC_Model_Normal_AUC_0.80.pkl','rb+')\n",
    "BFC_Model = pickle.load(modelFile)\n",
    "modelFile.close()\n",
    "\n",
    "\n",
    "file1 = open(path+'merge_bin_dict.pkl','rb+')\n",
    "merge_bin_dict = pickle.load(file1)\n",
    "file1.close()\n",
    "\n",
    "file2 = open(path+'br_encoding_dict.pkl','rb+')\n",
    "br_encoding_dict = pickle.load(file2)\n",
    "file2.close()\n",
    " \n",
    "file3 = open(path+'continous_merged_dict.pkl','rb+')\n",
    "continous_merged_dict = pickle.load(file3)\n",
    "file3.close()\n",
    " \n",
    "file4 = open(path+'WOE_dict.pkl','rb+')\n",
    "WOE_dict = pickle.load(file4)\n",
    "file4.close()"
   ]
  },
  {
   "cell_type": "code",
   "execution_count": 154,
   "metadata": {},
   "outputs": [
    {
     "data": {
      "text/plain": [
       "23"
      ]
     },
     "execution_count": 154,
     "metadata": {},
     "output_type": "execute_result"
    }
   ],
   "source": [
    "len(continous_merged_dict)"
   ]
  },
  {
   "cell_type": "code",
   "execution_count": 30,
   "metadata": {},
   "outputs": [
    {
     "name": "stdout",
     "output_type": "stream",
     "text": [
      "[2.60935549e-06 0.00000000e+00 5.75162299e-05 4.83703409e-05\n",
      " 3.90099686e-02 5.96684474e-03 7.20349220e-03 1.83580756e-02\n",
      " 7.77913439e-03 4.98974528e-06 8.54412400e-02 6.93288134e-02\n",
      " 2.33258135e-02 1.61982047e-02 1.11375633e-01 2.61899101e-03\n",
      " 1.51567777e-01 3.64828300e-02 2.81859485e-02 3.14167304e-02\n",
      " 5.58762130e-02 5.07439667e-05 1.90333483e-05 0.00000000e+00\n",
      " 1.54114094e-05 2.88988938e-05 0.00000000e+00 1.53841631e-06\n",
      " 0.00000000e+00 2.04874324e-04 8.64345798e-05 1.98859324e-05\n",
      " 3.64320750e-06 3.83160006e-03 5.40931017e-05 1.11913407e-02\n",
      " 3.80246863e-05 6.52363656e-04 8.78465707e-06 2.39878115e-04\n",
      " 8.06134552e-06 6.81111281e-03 4.56702902e-06 5.82339510e-06\n",
      " 3.14203706e-05 5.73859590e-05 1.11001051e-02 6.70868007e-03\n",
      " 5.15046088e-03 4.45993580e-03 1.71275565e-04 9.67915986e-04\n",
      " 5.81446049e-05 1.97546960e-05 6.49686366e-06 1.22191298e-05\n",
      " 8.45734487e-03 7.12018429e-03 6.58920168e-04 1.98319548e-02\n",
      " 1.79863781e-02 7.42141121e-03 6.25390686e-03 9.04891152e-03\n",
      " 7.88987051e-03 1.11273550e-02 8.85512914e-03 7.89826471e-03\n",
      " 5.46567415e-03 2.08030566e-03 7.49923991e-05 0.00000000e+00\n",
      " 5.73003675e-06 1.08753851e-04 6.87113240e-03 1.00767019e-02\n",
      " 1.36245469e-02 4.40031315e-03 1.32384381e-02 1.11528573e-02\n",
      " 1.44720819e-02 1.05850157e-02 9.77165259e-04 5.50086897e-05\n",
      " 8.63896420e-03 1.19587689e-02 1.99798344e-03 8.24410842e-03\n",
      " 1.52912970e-02 5.80301051e-03 5.77648784e-05 6.49799333e-07]\n",
      "(132029, 92) (92,)\n"
     ]
    }
   ],
   "source": [
    "fimpt = BFC_Model.feature_importances_\n",
    "print(fimpt)\n",
    "print(X.shape,fimpt.shape)"
   ]
  },
  {
   "cell_type": "code",
   "execution_count": 80,
   "metadata": {},
   "outputs": [
    {
     "name": "stdout",
     "output_type": "stream",
     "text": [
      "['x_31_Bin_WOE', 'x_32_Bin_WOE', 'x_39_Bin_WOE', 'x_42_Bin_WOE', 'lmt_Bin_WOE', 'ncloseCreditCard_Bin_WOE', 'unpayIndvLoan_Bin_WOE', 'unpayOtherLoan_Bin_WOE', 'unpayNormalLoan_Bin_WOE', '5yearBadloan_Bin_WOE', 'certId_br_encoding_Bin_WOE', 'dist_br_encoding_Bin_WOE', 'job_br_encoding_Bin_WOE', 'basicLevel_br_encoding_Bin_WOE', 'bankCard_br_encoding_Bin_WOE', 'ethnic_br_encoding_Bin_WOE', 'residentAddr_br_encoding_Bin_WOE', 'linkRela_br_encoding_Bin_WOE', 'x_33_br_encoding_Bin_WOE', 'x_34_br_encoding_Bin_WOE', 'loanProduct_WOE', 'x_0_WOE', 'x_1_WOE', 'x_2_WOE', 'x_3_WOE', 'x_4_WOE', 'x_5_WOE', 'x_6_WOE', 'x_7_WOE', 'x_8_WOE', 'x_9_WOE', 'x_10_WOE', 'x_11_WOE', 'x_12_WOE', 'x_13_WOE', 'x_14_WOE', 'x_15_WOE', 'x_16_WOE', 'x_17_WOE', 'x_18_WOE', 'x_19_WOE', 'x_20_WOE', 'x_21_WOE', 'x_22_WOE', 'x_23_WOE', 'x_24_WOE', 'x_25_WOE', 'x_26_WOE', 'x_27_WOE', 'x_28_WOE', 'x_30_WOE', 'x_35_WOE', 'x_36_WOE', 'x_37_WOE', 'x_38_WOE', 'x_40_WOE', 'x_41_WOE', 'x_43_WOE', 'x_44_WOE', 'x_45_WOE', 'x_46_WOE', 'x_47_WOE', 'x_48_WOE', 'x_50_WOE', 'x_51_WOE', 'x_52_WOE', 'x_53_WOE', 'x_54_WOE', 'x_55_WOE', 'x_56_WOE', 'x_57_WOE', 'x_58_WOE', 'x_59_WOE', 'x_60_WOE', 'x_61_WOE', 'x_62_WOE', 'x_63_WOE', 'x_64_WOE', 'x_65_WOE', 'x_66_WOE', 'x_67_WOE', 'x_68_WOE', 'x_69_WOE', 'x_70_WOE', 'x_71_WOE', 'x_72_WOE', 'x_73_WOE', 'x_74_WOE', 'x_75_WOE', 'x_76_WOE', 'x_77_WOE', 'x_78_WOE']\n"
     ]
    }
   ],
   "source": [
    "print(X.columns.tolist())"
   ]
  },
  {
   "cell_type": "markdown",
   "metadata": {},
   "source": [
    "##### 处理测试数据集"
   ]
  },
  {
   "cell_type": "code",
   "execution_count": 32,
   "metadata": {},
   "outputs": [
    {
     "name": "stdout",
     "output_type": "stream",
     "text": [
      "begin solve: x_31_Bin_WOE\n",
      "after replace: x_31\n",
      "x_31 need to be regrouped\n",
      "begin solve: x_32_Bin_WOE\n",
      "after replace: x_32\n",
      "x_32 need to be regrouped\n",
      "begin solve: x_39_Bin_WOE\n",
      "after replace: x_39\n",
      "x_39 need to be regrouped\n",
      "begin solve: x_42_Bin_WOE\n",
      "after replace: x_42\n",
      "x_42 need to be regrouped\n",
      "begin solve: lmt_Bin_WOE\n",
      "after replace: lmt\n",
      "-999 not in testset lmt\n",
      "begin solve: ncloseCreditCard_Bin_WOE\n",
      "after replace: ncloseCreditCard\n",
      "-999 is in testset ncloseCreditCard\n",
      "begin solve: unpayIndvLoan_Bin_WOE\n",
      "after replace: unpayIndvLoan\n",
      "-999 is in testset unpayIndvLoan\n",
      "begin solve: unpayOtherLoan_Bin_WOE\n",
      "after replace: unpayOtherLoan\n",
      "-999 is in testset unpayOtherLoan\n",
      "begin solve: unpayNormalLoan_Bin_WOE\n",
      "after replace: unpayNormalLoan\n",
      "-999 is in testset unpayNormalLoan\n",
      "begin solve: 5yearBadloan_Bin_WOE\n",
      "after replace: 5yearBadloan\n",
      "-999 not in testset 5yearBadloan\n",
      "begin solve: certId_br_encoding_Bin_WOE\n",
      "after replace: certId_br_encoding\n",
      "certId need to be encoded by bad rate\n",
      "-999 not in testset certId_br_encoding\n",
      "begin solve: dist_br_encoding_Bin_WOE\n",
      "after replace: dist_br_encoding\n",
      "dist need to be encoded by bad rate\n",
      "-999 not in testset dist_br_encoding\n",
      "begin solve: job_br_encoding_Bin_WOE\n",
      "after replace: job_br_encoding\n",
      "job need to be encoded by bad rate\n",
      "-999 not in testset job_br_encoding\n",
      "begin solve: basicLevel_br_encoding_Bin_WOE\n",
      "after replace: basicLevel_br_encoding\n",
      "basicLevel need to be encoded by bad rate\n",
      "-999 not in testset basicLevel_br_encoding\n",
      "begin solve: bankCard_br_encoding_Bin_WOE\n",
      "after replace: bankCard_br_encoding\n",
      "bankCard need to be encoded by bad rate\n",
      "-999 not in testset bankCard_br_encoding\n",
      "begin solve: ethnic_br_encoding_Bin_WOE\n",
      "after replace: ethnic_br_encoding\n",
      "ethnic need to be encoded by bad rate\n",
      "-999 not in testset ethnic_br_encoding\n",
      "begin solve: residentAddr_br_encoding_Bin_WOE\n",
      "after replace: residentAddr_br_encoding\n",
      "residentAddr need to be encoded by bad rate\n",
      "-999 not in testset residentAddr_br_encoding\n",
      "begin solve: linkRela_br_encoding_Bin_WOE\n",
      "after replace: linkRela_br_encoding\n",
      "linkRela need to be encoded by bad rate\n",
      "-999 not in testset linkRela_br_encoding\n",
      "begin solve: x_33_br_encoding_Bin_WOE\n",
      "after replace: x_33_br_encoding\n",
      "x_33 need to be encoded by bad rate\n",
      "-999 not in testset x_33_br_encoding\n",
      "begin solve: x_34_br_encoding_Bin_WOE\n",
      "after replace: x_34_br_encoding\n",
      "x_34 need to be encoded by bad rate\n",
      "-999 not in testset x_34_br_encoding\n",
      "begin solve: loanProduct_WOE\n",
      "after replace: loanProduct\n",
      "begin solve: x_0_WOE\n",
      "after replace: x_0\n",
      "begin solve: x_1_WOE\n",
      "after replace: x_1\n",
      "begin solve: x_2_WOE\n",
      "after replace: x_2\n",
      "begin solve: x_3_WOE\n",
      "after replace: x_3\n",
      "begin solve: x_4_WOE\n",
      "after replace: x_4\n",
      "begin solve: x_5_WOE\n",
      "after replace: x_5\n",
      "begin solve: x_6_WOE\n",
      "after replace: x_6\n",
      "begin solve: x_7_WOE\n",
      "after replace: x_7\n",
      "begin solve: x_8_WOE\n",
      "after replace: x_8\n",
      "begin solve: x_9_WOE\n",
      "after replace: x_9\n",
      "begin solve: x_10_WOE\n",
      "after replace: x_10\n",
      "begin solve: x_11_WOE\n",
      "after replace: x_11\n",
      "begin solve: x_12_WOE\n",
      "after replace: x_12\n",
      "begin solve: x_13_WOE\n",
      "after replace: x_13\n",
      "begin solve: x_14_WOE\n",
      "after replace: x_14\n",
      "begin solve: x_15_WOE\n",
      "after replace: x_15\n",
      "begin solve: x_16_WOE\n",
      "after replace: x_16\n",
      "begin solve: x_17_WOE\n",
      "after replace: x_17\n",
      "begin solve: x_18_WOE\n",
      "after replace: x_18\n",
      "begin solve: x_19_WOE\n",
      "after replace: x_19\n",
      "begin solve: x_20_WOE\n",
      "after replace: x_20\n",
      "begin solve: x_21_WOE\n",
      "after replace: x_21\n",
      "begin solve: x_22_WOE\n",
      "after replace: x_22\n",
      "begin solve: x_23_WOE\n",
      "after replace: x_23\n",
      "begin solve: x_24_WOE\n",
      "after replace: x_24\n",
      "begin solve: x_25_WOE\n",
      "after replace: x_25\n",
      "begin solve: x_26_WOE\n",
      "after replace: x_26\n",
      "begin solve: x_27_WOE\n",
      "after replace: x_27\n",
      "begin solve: x_28_WOE\n",
      "after replace: x_28\n",
      "begin solve: x_30_WOE\n",
      "after replace: x_30\n",
      "begin solve: x_35_WOE\n",
      "after replace: x_35\n",
      "begin solve: x_36_WOE\n",
      "after replace: x_36\n",
      "begin solve: x_37_WOE\n",
      "after replace: x_37\n",
      "begin solve: x_38_WOE\n",
      "after replace: x_38\n",
      "begin solve: x_40_WOE\n",
      "after replace: x_40\n",
      "begin solve: x_41_WOE\n",
      "after replace: x_41\n",
      "begin solve: x_43_WOE\n",
      "after replace: x_43\n",
      "begin solve: x_44_WOE\n",
      "after replace: x_44\n",
      "begin solve: x_45_WOE\n",
      "after replace: x_45\n",
      "begin solve: x_46_WOE\n",
      "after replace: x_46\n",
      "begin solve: x_47_WOE\n",
      "after replace: x_47\n",
      "begin solve: x_48_WOE\n",
      "after replace: x_48\n",
      "begin solve: x_50_WOE\n",
      "after replace: x_50\n",
      "begin solve: x_51_WOE\n",
      "after replace: x_51\n",
      "begin solve: x_52_WOE\n",
      "after replace: x_52\n",
      "begin solve: x_53_WOE\n",
      "after replace: x_53\n",
      "begin solve: x_54_WOE\n",
      "after replace: x_54\n",
      "begin solve: x_55_WOE\n",
      "after replace: x_55\n",
      "begin solve: x_56_WOE\n",
      "after replace: x_56\n",
      "begin solve: x_57_WOE\n",
      "after replace: x_57\n",
      "begin solve: x_58_WOE\n",
      "after replace: x_58\n",
      "begin solve: x_59_WOE\n",
      "after replace: x_59\n",
      "begin solve: x_60_WOE\n",
      "after replace: x_60\n",
      "begin solve: x_61_WOE\n",
      "after replace: x_61\n",
      "begin solve: x_62_WOE\n",
      "after replace: x_62\n",
      "begin solve: x_63_WOE\n",
      "after replace: x_63\n",
      "begin solve: x_64_WOE\n",
      "after replace: x_64\n",
      "begin solve: x_65_WOE\n",
      "after replace: x_65\n",
      "begin solve: x_66_WOE\n",
      "after replace: x_66\n",
      "begin solve: x_67_WOE\n",
      "after replace: x_67\n",
      "begin solve: x_68_WOE\n",
      "after replace: x_68\n",
      "begin solve: x_69_WOE\n",
      "after replace: x_69\n",
      "begin solve: x_70_WOE\n",
      "after replace: x_70\n",
      "begin solve: x_71_WOE\n",
      "after replace: x_71\n",
      "begin solve: x_72_WOE\n",
      "after replace: x_72\n",
      "begin solve: x_73_WOE\n",
      "after replace: x_73\n",
      "begin solve: x_74_WOE\n",
      "after replace: x_74\n",
      "begin solve: x_75_WOE\n",
      "after replace: x_75\n",
      "begin solve: x_76_WOE\n",
      "after replace: x_76\n",
      "begin solve: x_77_WOE\n",
      "after replace: x_77\n",
      "begin solve: x_78_WOE\n",
      "after replace: x_78\n"
     ]
    }
   ],
   "source": [
    "##original_Xtest\n",
    "from utils import ModifyDf\n",
    "testData =  test_x.copy()\n",
    "\n",
    "for var in X.columns:    \n",
    "    print(\"begin solve:\",var)\n",
    "    #var1 = var.replace('_Bin_WOE','')\n",
    "    if var.find('_Bin_WOE')>-1:\n",
    "        #print(\"match _Bin_WOE\")\n",
    "        var1 = var.replace('_Bin_WOE','')\n",
    "    elif var.find('_WOE')>-1:\n",
    "        #print(\"match _WOE\")\n",
    "        var1 = var.replace('_WOE','')\n",
    "    else:\n",
    "        print(\"match nothing {}\".format(var))\n",
    "        \n",
    "    print(\"after replace:\",var1)\n",
    "\n",
    "    #(1) 分类变量（取值< 5）\n",
    "    # 有些取值个数少、但是需要合并的变量\n",
    "    if var1 in merge_bin_dict.keys():\n",
    "        print(\"{} need to be regrouped\".format(var1))\n",
    "        testData[var1 + '_Bin'] = testData[var1].map(merge_bin_dict[var1])\n",
    "\n",
    "    elif var1 in continous_merged_dict.keys():\n",
    "        #(2) 分类变量（取值> 5）\n",
    "        # 有些变量需要用bad rate进行编码\n",
    "        if var1.find('_br_encoding')>-1:\n",
    "            var2 =var1.replace('_br_encoding','')\n",
    "            print(\"{} need to be encoded by bad rate\".format(var2))\n",
    "            testData[var1] = testData[var2].map(br_encoding_dict[var2])\n",
    "            #需要注意的是，有可能在测试样中某些值没有出现在训练样本中，从而无法得出对应的bad rate是多少。\n",
    "            #故可以用最坏（即最大）的bad rate进行编码\n",
    "            max_br = max(testData[var1])\n",
    "            testData[var1] = testData[var1].map(lambda x: ModifyDf(x, max_br))\n",
    "    \n",
    "    \n",
    "        #(3) 连续变量\n",
    "        #上述处理后，需要加上连续型变量一起进行分箱\n",
    "        if -999 not in set(testData[var1]):\n",
    "            print(\"-999 not in testset\",var1)\n",
    "            testData[var1+'_Bin'] = testData[var1].map(lambda x: AssignBin(x, continous_merged_dict[var1]))\n",
    "        else:\n",
    "            print(\"-999 is in testset\",var1)\n",
    "            testData[var1 + '_Bin'] = testData[var1].map(lambda x: AssignBin(x, continous_merged_dict[var1],[-1,-999]))\n",
    "\n",
    "    #WOE编码\n",
    "    var3 = var.replace('_WOE','')\n",
    "    testData[var] = testData[var3].map(WOE_dict[var3])"
   ]
  },
  {
   "cell_type": "code",
   "execution_count": 33,
   "metadata": {},
   "outputs": [
    {
     "data": {
      "text/html": [
       "<div>\n",
       "<style scoped>\n",
       "    .dataframe tbody tr th:only-of-type {\n",
       "        vertical-align: middle;\n",
       "    }\n",
       "\n",
       "    .dataframe tbody tr th {\n",
       "        vertical-align: top;\n",
       "    }\n",
       "\n",
       "    .dataframe thead th {\n",
       "        text-align: right;\n",
       "    }\n",
       "</style>\n",
       "<table border=\"1\" class=\"dataframe\">\n",
       "  <thead>\n",
       "    <tr style=\"text-align: right;\">\n",
       "      <th></th>\n",
       "      <th>x_31_Bin_WOE</th>\n",
       "      <th>x_32_Bin_WOE</th>\n",
       "      <th>x_39_Bin_WOE</th>\n",
       "      <th>x_42_Bin_WOE</th>\n",
       "      <th>lmt_Bin_WOE</th>\n",
       "      <th>ncloseCreditCard_Bin_WOE</th>\n",
       "      <th>unpayIndvLoan_Bin_WOE</th>\n",
       "      <th>unpayOtherLoan_Bin_WOE</th>\n",
       "      <th>unpayNormalLoan_Bin_WOE</th>\n",
       "      <th>5yearBadloan_Bin_WOE</th>\n",
       "      <th>...</th>\n",
       "      <th>x_69_WOE</th>\n",
       "      <th>x_70_WOE</th>\n",
       "      <th>x_71_WOE</th>\n",
       "      <th>x_72_WOE</th>\n",
       "      <th>x_73_WOE</th>\n",
       "      <th>x_74_WOE</th>\n",
       "      <th>x_75_WOE</th>\n",
       "      <th>x_76_WOE</th>\n",
       "      <th>x_77_WOE</th>\n",
       "      <th>x_78_WOE</th>\n",
       "    </tr>\n",
       "  </thead>\n",
       "  <tbody>\n",
       "    <tr>\n",
       "      <th>0</th>\n",
       "      <td>-0.086165</td>\n",
       "      <td>-0.086165</td>\n",
       "      <td>-0.086165</td>\n",
       "      <td>-0.086165</td>\n",
       "      <td>0.140440</td>\n",
       "      <td>-0.046008</td>\n",
       "      <td>-0.125990</td>\n",
       "      <td>0.073948</td>\n",
       "      <td>-0.146222</td>\n",
       "      <td>-0.086173</td>\n",
       "      <td>...</td>\n",
       "      <td>-0.08267</td>\n",
       "      <td>-0.086165</td>\n",
       "      <td>-0.223806</td>\n",
       "      <td>-0.022037</td>\n",
       "      <td>-0.073735</td>\n",
       "      <td>-0.125970</td>\n",
       "      <td>-0.035673</td>\n",
       "      <td>-0.065820</td>\n",
       "      <td>-0.086165</td>\n",
       "      <td>-0.086165</td>\n",
       "    </tr>\n",
       "    <tr>\n",
       "      <th>1</th>\n",
       "      <td>-0.086165</td>\n",
       "      <td>-0.086165</td>\n",
       "      <td>-0.086165</td>\n",
       "      <td>-0.086165</td>\n",
       "      <td>-1.664694</td>\n",
       "      <td>-0.046008</td>\n",
       "      <td>-0.125990</td>\n",
       "      <td>0.073948</td>\n",
       "      <td>-0.146222</td>\n",
       "      <td>-0.086173</td>\n",
       "      <td>...</td>\n",
       "      <td>-0.08267</td>\n",
       "      <td>-0.086165</td>\n",
       "      <td>-0.156744</td>\n",
       "      <td>-0.778874</td>\n",
       "      <td>-0.073735</td>\n",
       "      <td>-0.125970</td>\n",
       "      <td>-0.499771</td>\n",
       "      <td>-1.170611</td>\n",
       "      <td>-0.086165</td>\n",
       "      <td>-0.086165</td>\n",
       "    </tr>\n",
       "    <tr>\n",
       "      <th>2</th>\n",
       "      <td>-0.086165</td>\n",
       "      <td>-0.086165</td>\n",
       "      <td>-0.086165</td>\n",
       "      <td>-0.086165</td>\n",
       "      <td>-0.203419</td>\n",
       "      <td>-0.046008</td>\n",
       "      <td>-0.427255</td>\n",
       "      <td>0.073948</td>\n",
       "      <td>-0.146222</td>\n",
       "      <td>-0.086173</td>\n",
       "      <td>...</td>\n",
       "      <td>-0.08267</td>\n",
       "      <td>-0.086165</td>\n",
       "      <td>-0.156744</td>\n",
       "      <td>-0.022037</td>\n",
       "      <td>-0.073735</td>\n",
       "      <td>-0.125970</td>\n",
       "      <td>-0.035673</td>\n",
       "      <td>-0.065820</td>\n",
       "      <td>-0.086165</td>\n",
       "      <td>-0.086165</td>\n",
       "    </tr>\n",
       "    <tr>\n",
       "      <th>3</th>\n",
       "      <td>-0.086165</td>\n",
       "      <td>-0.086165</td>\n",
       "      <td>-0.086165</td>\n",
       "      <td>-0.086165</td>\n",
       "      <td>0.140440</td>\n",
       "      <td>-0.046008</td>\n",
       "      <td>-0.125990</td>\n",
       "      <td>0.073948</td>\n",
       "      <td>-0.315963</td>\n",
       "      <td>-0.086173</td>\n",
       "      <td>...</td>\n",
       "      <td>-0.08267</td>\n",
       "      <td>-0.086165</td>\n",
       "      <td>-0.223806</td>\n",
       "      <td>-0.022037</td>\n",
       "      <td>-0.073735</td>\n",
       "      <td>-0.393995</td>\n",
       "      <td>-0.035673</td>\n",
       "      <td>-0.065820</td>\n",
       "      <td>-0.086165</td>\n",
       "      <td>-0.086165</td>\n",
       "    </tr>\n",
       "    <tr>\n",
       "      <th>4</th>\n",
       "      <td>-0.086165</td>\n",
       "      <td>-0.086165</td>\n",
       "      <td>-0.086165</td>\n",
       "      <td>-0.086165</td>\n",
       "      <td>-1.664694</td>\n",
       "      <td>-0.558264</td>\n",
       "      <td>-0.125990</td>\n",
       "      <td>-1.097170</td>\n",
       "      <td>-0.146222</td>\n",
       "      <td>-0.086173</td>\n",
       "      <td>...</td>\n",
       "      <td>-0.08267</td>\n",
       "      <td>-0.086165</td>\n",
       "      <td>-0.223806</td>\n",
       "      <td>-0.022037</td>\n",
       "      <td>-0.073735</td>\n",
       "      <td>-0.393995</td>\n",
       "      <td>-0.035673</td>\n",
       "      <td>-0.065820</td>\n",
       "      <td>-0.086165</td>\n",
       "      <td>-0.086165</td>\n",
       "    </tr>\n",
       "  </tbody>\n",
       "</table>\n",
       "<p>5 rows × 92 columns</p>\n",
       "</div>"
      ],
      "text/plain": [
       "   x_31_Bin_WOE  x_32_Bin_WOE  x_39_Bin_WOE  x_42_Bin_WOE  lmt_Bin_WOE  \\\n",
       "0     -0.086165     -0.086165     -0.086165     -0.086165     0.140440   \n",
       "1     -0.086165     -0.086165     -0.086165     -0.086165    -1.664694   \n",
       "2     -0.086165     -0.086165     -0.086165     -0.086165    -0.203419   \n",
       "3     -0.086165     -0.086165     -0.086165     -0.086165     0.140440   \n",
       "4     -0.086165     -0.086165     -0.086165     -0.086165    -1.664694   \n",
       "\n",
       "   ncloseCreditCard_Bin_WOE  unpayIndvLoan_Bin_WOE  unpayOtherLoan_Bin_WOE  \\\n",
       "0                 -0.046008              -0.125990                0.073948   \n",
       "1                 -0.046008              -0.125990                0.073948   \n",
       "2                 -0.046008              -0.427255                0.073948   \n",
       "3                 -0.046008              -0.125990                0.073948   \n",
       "4                 -0.558264              -0.125990               -1.097170   \n",
       "\n",
       "   unpayNormalLoan_Bin_WOE  5yearBadloan_Bin_WOE  ...  x_69_WOE  x_70_WOE  \\\n",
       "0                -0.146222             -0.086173  ...  -0.08267 -0.086165   \n",
       "1                -0.146222             -0.086173  ...  -0.08267 -0.086165   \n",
       "2                -0.146222             -0.086173  ...  -0.08267 -0.086165   \n",
       "3                -0.315963             -0.086173  ...  -0.08267 -0.086165   \n",
       "4                -0.146222             -0.086173  ...  -0.08267 -0.086165   \n",
       "\n",
       "   x_71_WOE  x_72_WOE  x_73_WOE  x_74_WOE  x_75_WOE  x_76_WOE  x_77_WOE  \\\n",
       "0 -0.223806 -0.022037 -0.073735 -0.125970 -0.035673 -0.065820 -0.086165   \n",
       "1 -0.156744 -0.778874 -0.073735 -0.125970 -0.499771 -1.170611 -0.086165   \n",
       "2 -0.156744 -0.022037 -0.073735 -0.125970 -0.035673 -0.065820 -0.086165   \n",
       "3 -0.223806 -0.022037 -0.073735 -0.393995 -0.035673 -0.065820 -0.086165   \n",
       "4 -0.223806 -0.022037 -0.073735 -0.393995 -0.035673 -0.065820 -0.086165   \n",
       "\n",
       "   x_78_WOE  \n",
       "0 -0.086165  \n",
       "1 -0.086165  \n",
       "2 -0.086165  \n",
       "3 -0.086165  \n",
       "4 -0.086165  \n",
       "\n",
       "[5 rows x 92 columns]"
      ]
     },
     "execution_count": 33,
     "metadata": {},
     "output_type": "execute_result"
    }
   ],
   "source": [
    "features = data.columns.to_list()\n",
    "test_data_x = testData[features]\n",
    "test_data_x.head()"
   ]
  },
  {
   "cell_type": "code",
   "execution_count": 34,
   "metadata": {},
   "outputs": [
    {
     "name": "stdout",
     "output_type": "stream",
     "text": [
      "['x_31_Bin_WOE', 'x_32_Bin_WOE', 'x_39_Bin_WOE', 'x_42_Bin_WOE', 'lmt_Bin_WOE', 'ncloseCreditCard_Bin_WOE', 'unpayIndvLoan_Bin_WOE', 'unpayOtherLoan_Bin_WOE', 'unpayNormalLoan_Bin_WOE', '5yearBadloan_Bin_WOE', 'certId_br_encoding_Bin_WOE', 'dist_br_encoding_Bin_WOE', 'job_br_encoding_Bin_WOE', 'basicLevel_br_encoding_Bin_WOE', 'bankCard_br_encoding_Bin_WOE', 'ethnic_br_encoding_Bin_WOE', 'residentAddr_br_encoding_Bin_WOE', 'linkRela_br_encoding_Bin_WOE', 'x_33_br_encoding_Bin_WOE', 'x_34_br_encoding_Bin_WOE', 'loanProduct_WOE', 'x_0_WOE', 'x_1_WOE', 'x_2_WOE', 'x_3_WOE', 'x_4_WOE', 'x_5_WOE', 'x_6_WOE', 'x_7_WOE', 'x_8_WOE', 'x_9_WOE', 'x_10_WOE', 'x_11_WOE', 'x_12_WOE', 'x_13_WOE', 'x_14_WOE', 'x_15_WOE', 'x_16_WOE', 'x_17_WOE', 'x_18_WOE', 'x_19_WOE', 'x_20_WOE', 'x_21_WOE', 'x_22_WOE', 'x_23_WOE', 'x_24_WOE', 'x_25_WOE', 'x_26_WOE', 'x_27_WOE', 'x_28_WOE', 'x_30_WOE', 'x_35_WOE', 'x_36_WOE', 'x_37_WOE', 'x_38_WOE', 'x_40_WOE', 'x_41_WOE', 'x_43_WOE', 'x_44_WOE', 'x_45_WOE', 'x_46_WOE', 'x_47_WOE', 'x_48_WOE', 'x_50_WOE', 'x_51_WOE', 'x_52_WOE', 'x_53_WOE', 'x_54_WOE', 'x_55_WOE', 'x_56_WOE', 'x_57_WOE', 'x_58_WOE', 'x_59_WOE', 'x_60_WOE', 'x_61_WOE', 'x_62_WOE', 'x_63_WOE', 'x_64_WOE', 'x_65_WOE', 'x_66_WOE', 'x_67_WOE', 'x_68_WOE', 'x_69_WOE', 'x_70_WOE', 'x_71_WOE', 'x_72_WOE', 'x_73_WOE', 'x_74_WOE', 'x_75_WOE', 'x_76_WOE', 'x_77_WOE', 'x_78_WOE']\n"
     ]
    }
   ],
   "source": [
    "print(data.columns.to_list())"
   ]
  },
  {
   "cell_type": "code",
   "execution_count": 35,
   "metadata": {},
   "outputs": [
    {
     "name": "stdout",
     "output_type": "stream",
     "text": [
      "(23561, 92)\n"
     ]
    }
   ],
   "source": [
    "print(test_data_x.shape)"
   ]
  },
  {
   "cell_type": "markdown",
   "metadata": {},
   "source": [
    "##### 用训练好的模型预测"
   ]
  },
  {
   "cell_type": "code",
   "execution_count": 36,
   "metadata": {},
   "outputs": [],
   "source": [
    "y_pred = BFC_Model.predict(test_data_x)"
   ]
  },
  {
   "cell_type": "code",
   "execution_count": 37,
   "metadata": {},
   "outputs": [
    {
     "data": {
      "text/plain": [
       "array([0, 1, 1, ..., 0, 0, 0], dtype=int64)"
      ]
     },
     "execution_count": 37,
     "metadata": {},
     "output_type": "execute_result"
    }
   ],
   "source": [
    "y_pred"
   ]
  },
  {
   "cell_type": "code",
   "execution_count": 38,
   "metadata": {},
   "outputs": [
    {
     "data": {
      "text/html": [
       "<div>\n",
       "<style scoped>\n",
       "    .dataframe tbody tr th:only-of-type {\n",
       "        vertical-align: middle;\n",
       "    }\n",
       "\n",
       "    .dataframe tbody tr th {\n",
       "        vertical-align: top;\n",
       "    }\n",
       "\n",
       "    .dataframe thead th {\n",
       "        text-align: right;\n",
       "    }\n",
       "</style>\n",
       "<table border=\"1\" class=\"dataframe\">\n",
       "  <thead>\n",
       "    <tr style=\"text-align: right;\">\n",
       "      <th></th>\n",
       "      <th>id</th>\n",
       "      <th>target</th>\n",
       "    </tr>\n",
       "  </thead>\n",
       "  <tbody>\n",
       "    <tr>\n",
       "      <th>0</th>\n",
       "      <td>132030</td>\n",
       "      <td>0</td>\n",
       "    </tr>\n",
       "    <tr>\n",
       "      <th>1</th>\n",
       "      <td>132031</td>\n",
       "      <td>1</td>\n",
       "    </tr>\n",
       "    <tr>\n",
       "      <th>2</th>\n",
       "      <td>132032</td>\n",
       "      <td>1</td>\n",
       "    </tr>\n",
       "    <tr>\n",
       "      <th>3</th>\n",
       "      <td>132033</td>\n",
       "      <td>0</td>\n",
       "    </tr>\n",
       "    <tr>\n",
       "      <th>4</th>\n",
       "      <td>132034</td>\n",
       "      <td>1</td>\n",
       "    </tr>\n",
       "  </tbody>\n",
       "</table>\n",
       "</div>"
      ],
      "text/plain": [
       "       id  target\n",
       "0  132030       0\n",
       "1  132031       1\n",
       "2  132032       1\n",
       "3  132033       0\n",
       "4  132034       1"
      ]
     },
     "execution_count": 38,
     "metadata": {},
     "output_type": "execute_result"
    }
   ],
   "source": [
    "y_pred = pd.DataFrame(y_pred, columns=['target'])\n",
    "y_pred = pd.concat([test_x.id, y_pred],axis=1)\n",
    "y_pred.to_csv('sub_bclf_lable_2019_11_05.csv', index=False)\n",
    "y_pred.head()"
   ]
  },
  {
   "cell_type": "markdown",
   "metadata": {},
   "source": [
    "### LGBMClassifier"
   ]
  },
  {
   "cell_type": "code",
   "execution_count": 42,
   "metadata": {},
   "outputs": [],
   "source": [
    "from imblearn.pipeline import make_pipeline\n",
    "\n",
    "from imblearn.over_sampling import SMOTE\n",
    "from sklearn.model_selection import train_test_split, RandomizedSearchCV,GridSearchCV\n",
    "\n",
    "def run_lgb(train_X, train_y, val_X, val_y):\n",
    "    params = {\n",
    "        \"objective\" : \"binary\",\n",
    "        \"boosting_type\": \"gbdt\",\n",
    "        \"metric\" : \"auc\",\n",
    "        \"num_leaves\" : 100,\n",
    "        \"learning_rate\" : 0.05,\n",
    "        \"bagging_fraction\" : 0.6,\n",
    "        \"feature_fraction\" : 0.6,\n",
    "        \"bagging_frequency\" : 6,\n",
    "        \"bagging_seed\" : 42,\n",
    "        \"max_bin\": 512,\n",
    "        \"verbosity\" : -1,\n",
    "        \"seed\": 42\n",
    "    }\n",
    "    \n",
    "    lgtrain = lgb.Dataset(train_X, label=train_y)\n",
    "    lgval = lgb.Dataset(val_X, label=val_y)\n",
    "    evals_result = {}\n",
    "    model = lgb.train(params, lgtrain, 5000, \n",
    "                      valid_sets=[lgtrain, lgval], \n",
    "                      early_stopping_rounds=100, \n",
    "                      verbose_eval=150, \n",
    "                      evals_result=evals_result)\n",
    "    \n",
    "    #pred_test_y = np.expm1(model.predict(test_X, num_iteration=model.best_iteration))\n",
    "    return model, evals_result"
   ]
  },
  {
   "cell_type": "code",
   "execution_count": 101,
   "metadata": {},
   "outputs": [
    {
     "name": "stdout",
     "output_type": "stream",
     "text": [
      "Resampled dataset shape Counter({0: 117963, 1: 117963})\n",
      "Training until validation scores don't improve for 100 rounds.\n",
      "[150]\ttraining's auc: 0.999776\tvalid_1's auc: 0.88327\n",
      "[300]\ttraining's auc: 0.999978\tvalid_1's auc: 0.876452\n",
      "Early stopping, best iteration is:\n",
      "[218]\ttraining's auc: 0.999938\tvalid_1's auc: 0.885258\n"
     ]
    }
   ],
   "source": [
    "from imblearn.pipeline import make_pipeline\n",
    "from imblearn.over_sampling import SMOTE\n",
    "from sklearn.model_selection import train_test_split, RandomizedSearchCV,GridSearchCV\n",
    "from sklearn.ensemble import RandomForestClassifier\n",
    "# machine learning: XGB\n",
    "import xgboost as xgb\n",
    "import lightgbm as lgb\n",
    "\n",
    "sm = SMOTE(sampling_strategy='minority',random_state=42)\n",
    "original_Xtrain_res, original_ytrain_res = sm.fit_resample(original_Xtrain, original_ytrain)\n",
    "\n",
    "print('Resampled dataset shape %s' % Counter(original_ytrain_res))\n",
    "model_lgb, evals_result = run_lgb(original_Xtrain_res, original_ytrain_res, original_Xtest, original_ytest)"
   ]
  },
  {
   "cell_type": "code",
   "execution_count": 102,
   "metadata": {},
   "outputs": [
    {
     "name": "stdout",
     "output_type": "stream",
     "text": [
      "roc_auc_score: \n",
      " 0.8852577185219095\n",
      "\n",
      "LightGBM Training Completed...\n"
     ]
    }
   ],
   "source": [
    "print(\"roc_auc_score: \\n {}\\n\".format(roc_auc_score(original_ytest, model_lgb.predict(original_Xtest))))\n",
    "print(\"LightGBM Training Completed...\")"
   ]
  },
  {
   "cell_type": "code",
   "execution_count": 45,
   "metadata": {},
   "outputs": [
    {
     "data": {
      "text/html": [
       "<div>\n",
       "<style scoped>\n",
       "    .dataframe tbody tr th:only-of-type {\n",
       "        vertical-align: middle;\n",
       "    }\n",
       "\n",
       "    .dataframe tbody tr th {\n",
       "        vertical-align: top;\n",
       "    }\n",
       "\n",
       "    .dataframe thead th {\n",
       "        text-align: right;\n",
       "    }\n",
       "</style>\n",
       "<table border=\"1\" class=\"dataframe\">\n",
       "  <thead>\n",
       "    <tr style=\"text-align: right;\">\n",
       "      <th></th>\n",
       "      <th>x_31_Bin_WOE</th>\n",
       "      <th>x_32_Bin_WOE</th>\n",
       "      <th>x_39_Bin_WOE</th>\n",
       "      <th>x_42_Bin_WOE</th>\n",
       "      <th>lmt_Bin_WOE</th>\n",
       "      <th>ncloseCreditCard_Bin_WOE</th>\n",
       "      <th>unpayIndvLoan_Bin_WOE</th>\n",
       "      <th>unpayOtherLoan_Bin_WOE</th>\n",
       "      <th>unpayNormalLoan_Bin_WOE</th>\n",
       "      <th>5yearBadloan_Bin_WOE</th>\n",
       "      <th>...</th>\n",
       "      <th>x_69_WOE</th>\n",
       "      <th>x_70_WOE</th>\n",
       "      <th>x_71_WOE</th>\n",
       "      <th>x_72_WOE</th>\n",
       "      <th>x_73_WOE</th>\n",
       "      <th>x_74_WOE</th>\n",
       "      <th>x_75_WOE</th>\n",
       "      <th>x_76_WOE</th>\n",
       "      <th>x_77_WOE</th>\n",
       "      <th>x_78_WOE</th>\n",
       "    </tr>\n",
       "  </thead>\n",
       "  <tbody>\n",
       "    <tr>\n",
       "      <th>0</th>\n",
       "      <td>-0.086165</td>\n",
       "      <td>-0.086165</td>\n",
       "      <td>-0.086165</td>\n",
       "      <td>-0.086165</td>\n",
       "      <td>0.140440</td>\n",
       "      <td>-0.046008</td>\n",
       "      <td>-0.125990</td>\n",
       "      <td>0.073948</td>\n",
       "      <td>-0.146222</td>\n",
       "      <td>-0.086173</td>\n",
       "      <td>...</td>\n",
       "      <td>-0.08267</td>\n",
       "      <td>-0.086165</td>\n",
       "      <td>-0.223806</td>\n",
       "      <td>-0.022037</td>\n",
       "      <td>-0.073735</td>\n",
       "      <td>-0.125970</td>\n",
       "      <td>-0.035673</td>\n",
       "      <td>-0.065820</td>\n",
       "      <td>-0.086165</td>\n",
       "      <td>-0.086165</td>\n",
       "    </tr>\n",
       "    <tr>\n",
       "      <th>1</th>\n",
       "      <td>-0.086165</td>\n",
       "      <td>-0.086165</td>\n",
       "      <td>-0.086165</td>\n",
       "      <td>-0.086165</td>\n",
       "      <td>-1.664694</td>\n",
       "      <td>-0.046008</td>\n",
       "      <td>-0.125990</td>\n",
       "      <td>0.073948</td>\n",
       "      <td>-0.146222</td>\n",
       "      <td>-0.086173</td>\n",
       "      <td>...</td>\n",
       "      <td>-0.08267</td>\n",
       "      <td>-0.086165</td>\n",
       "      <td>-0.156744</td>\n",
       "      <td>-0.778874</td>\n",
       "      <td>-0.073735</td>\n",
       "      <td>-0.125970</td>\n",
       "      <td>-0.499771</td>\n",
       "      <td>-1.170611</td>\n",
       "      <td>-0.086165</td>\n",
       "      <td>-0.086165</td>\n",
       "    </tr>\n",
       "    <tr>\n",
       "      <th>2</th>\n",
       "      <td>-0.086165</td>\n",
       "      <td>-0.086165</td>\n",
       "      <td>-0.086165</td>\n",
       "      <td>-0.086165</td>\n",
       "      <td>-0.203419</td>\n",
       "      <td>-0.046008</td>\n",
       "      <td>-0.427255</td>\n",
       "      <td>0.073948</td>\n",
       "      <td>-0.146222</td>\n",
       "      <td>-0.086173</td>\n",
       "      <td>...</td>\n",
       "      <td>-0.08267</td>\n",
       "      <td>-0.086165</td>\n",
       "      <td>-0.156744</td>\n",
       "      <td>-0.022037</td>\n",
       "      <td>-0.073735</td>\n",
       "      <td>-0.125970</td>\n",
       "      <td>-0.035673</td>\n",
       "      <td>-0.065820</td>\n",
       "      <td>-0.086165</td>\n",
       "      <td>-0.086165</td>\n",
       "    </tr>\n",
       "    <tr>\n",
       "      <th>3</th>\n",
       "      <td>-0.086165</td>\n",
       "      <td>-0.086165</td>\n",
       "      <td>-0.086165</td>\n",
       "      <td>-0.086165</td>\n",
       "      <td>0.140440</td>\n",
       "      <td>-0.046008</td>\n",
       "      <td>-0.125990</td>\n",
       "      <td>0.073948</td>\n",
       "      <td>-0.315963</td>\n",
       "      <td>-0.086173</td>\n",
       "      <td>...</td>\n",
       "      <td>-0.08267</td>\n",
       "      <td>-0.086165</td>\n",
       "      <td>-0.223806</td>\n",
       "      <td>-0.022037</td>\n",
       "      <td>-0.073735</td>\n",
       "      <td>-0.393995</td>\n",
       "      <td>-0.035673</td>\n",
       "      <td>-0.065820</td>\n",
       "      <td>-0.086165</td>\n",
       "      <td>-0.086165</td>\n",
       "    </tr>\n",
       "    <tr>\n",
       "      <th>4</th>\n",
       "      <td>-0.086165</td>\n",
       "      <td>-0.086165</td>\n",
       "      <td>-0.086165</td>\n",
       "      <td>-0.086165</td>\n",
       "      <td>-1.664694</td>\n",
       "      <td>-0.558264</td>\n",
       "      <td>-0.125990</td>\n",
       "      <td>-1.097170</td>\n",
       "      <td>-0.146222</td>\n",
       "      <td>-0.086173</td>\n",
       "      <td>...</td>\n",
       "      <td>-0.08267</td>\n",
       "      <td>-0.086165</td>\n",
       "      <td>-0.223806</td>\n",
       "      <td>-0.022037</td>\n",
       "      <td>-0.073735</td>\n",
       "      <td>-0.393995</td>\n",
       "      <td>-0.035673</td>\n",
       "      <td>-0.065820</td>\n",
       "      <td>-0.086165</td>\n",
       "      <td>-0.086165</td>\n",
       "    </tr>\n",
       "  </tbody>\n",
       "</table>\n",
       "<p>5 rows × 92 columns</p>\n",
       "</div>"
      ],
      "text/plain": [
       "   x_31_Bin_WOE  x_32_Bin_WOE  x_39_Bin_WOE  x_42_Bin_WOE  lmt_Bin_WOE  \\\n",
       "0     -0.086165     -0.086165     -0.086165     -0.086165     0.140440   \n",
       "1     -0.086165     -0.086165     -0.086165     -0.086165    -1.664694   \n",
       "2     -0.086165     -0.086165     -0.086165     -0.086165    -0.203419   \n",
       "3     -0.086165     -0.086165     -0.086165     -0.086165     0.140440   \n",
       "4     -0.086165     -0.086165     -0.086165     -0.086165    -1.664694   \n",
       "\n",
       "   ncloseCreditCard_Bin_WOE  unpayIndvLoan_Bin_WOE  unpayOtherLoan_Bin_WOE  \\\n",
       "0                 -0.046008              -0.125990                0.073948   \n",
       "1                 -0.046008              -0.125990                0.073948   \n",
       "2                 -0.046008              -0.427255                0.073948   \n",
       "3                 -0.046008              -0.125990                0.073948   \n",
       "4                 -0.558264              -0.125990               -1.097170   \n",
       "\n",
       "   unpayNormalLoan_Bin_WOE  5yearBadloan_Bin_WOE  ...  x_69_WOE  x_70_WOE  \\\n",
       "0                -0.146222             -0.086173  ...  -0.08267 -0.086165   \n",
       "1                -0.146222             -0.086173  ...  -0.08267 -0.086165   \n",
       "2                -0.146222             -0.086173  ...  -0.08267 -0.086165   \n",
       "3                -0.315963             -0.086173  ...  -0.08267 -0.086165   \n",
       "4                -0.146222             -0.086173  ...  -0.08267 -0.086165   \n",
       "\n",
       "   x_71_WOE  x_72_WOE  x_73_WOE  x_74_WOE  x_75_WOE  x_76_WOE  x_77_WOE  \\\n",
       "0 -0.223806 -0.022037 -0.073735 -0.125970 -0.035673 -0.065820 -0.086165   \n",
       "1 -0.156744 -0.778874 -0.073735 -0.125970 -0.499771 -1.170611 -0.086165   \n",
       "2 -0.156744 -0.022037 -0.073735 -0.125970 -0.035673 -0.065820 -0.086165   \n",
       "3 -0.223806 -0.022037 -0.073735 -0.393995 -0.035673 -0.065820 -0.086165   \n",
       "4 -0.223806 -0.022037 -0.073735 -0.393995 -0.035673 -0.065820 -0.086165   \n",
       "\n",
       "   x_78_WOE  \n",
       "0 -0.086165  \n",
       "1 -0.086165  \n",
       "2 -0.086165  \n",
       "3 -0.086165  \n",
       "4 -0.086165  \n",
       "\n",
       "[5 rows x 92 columns]"
      ]
     },
     "execution_count": 45,
     "metadata": {},
     "output_type": "execute_result"
    }
   ],
   "source": [
    "test_data_x.head()"
   ]
  },
  {
   "cell_type": "code",
   "execution_count": 92,
   "metadata": {},
   "outputs": [],
   "source": [
    "y_pred_lgb = model_lgb.predict(test_data_x)\n",
    "y_pred_lgb = pd.DataFrame(y_pred, columns=['target'])\n",
    "y_pred_lgb = pd.concat([test_x.id, y_pred_lgb],axis=1)\n",
    "y_pred_lgb['target'] = y_pred_lgb['target'].apply(lambda x:1 if x>=0.2 else 0)"
   ]
  },
  {
   "cell_type": "code",
   "execution_count": 99,
   "metadata": {},
   "outputs": [
    {
     "name": "stdout",
     "output_type": "stream",
     "text": [
      "0    23396\n",
      "1      165\n",
      "Name: target, dtype: int64\n"
     ]
    }
   ],
   "source": [
    "print(y_pred_lgb.target.value_counts())"
   ]
  },
  {
   "cell_type": "code",
   "execution_count": 97,
   "metadata": {},
   "outputs": [
    {
     "name": "stdout",
     "output_type": "stream",
     "text": [
      "train default ratio:0.0072635557339675375\n",
      "test default ratio:0.007003098340477908\n"
     ]
    }
   ],
   "source": [
    "t_0_ = train_y.target.value_counts()[0] \n",
    "t_1_ = train_y.target.value_counts()[1] \n",
    "\n",
    "print(\"train default ratio:{}\".format(t_1_ / (t_0_ + t_1_)) )\n",
    "\n",
    "p_0_ = y_pred_lgb.target.value_counts()[0] \n",
    "p_1_ = y_pred_lgb.target.value_counts()[1] \n",
    "\n",
    "print(\"test default ratio:{}\".format(p_1_ / (p_0_ + p_1_)) )"
   ]
  },
  {
   "cell_type": "code",
   "execution_count": 100,
   "metadata": {},
   "outputs": [
    {
     "data": {
      "text/html": [
       "<div>\n",
       "<style scoped>\n",
       "    .dataframe tbody tr th:only-of-type {\n",
       "        vertical-align: middle;\n",
       "    }\n",
       "\n",
       "    .dataframe tbody tr th {\n",
       "        vertical-align: top;\n",
       "    }\n",
       "\n",
       "    .dataframe thead th {\n",
       "        text-align: right;\n",
       "    }\n",
       "</style>\n",
       "<table border=\"1\" class=\"dataframe\">\n",
       "  <thead>\n",
       "    <tr style=\"text-align: right;\">\n",
       "      <th></th>\n",
       "      <th>id</th>\n",
       "      <th>target</th>\n",
       "    </tr>\n",
       "  </thead>\n",
       "  <tbody>\n",
       "    <tr>\n",
       "      <th>0</th>\n",
       "      <td>132030</td>\n",
       "      <td>0</td>\n",
       "    </tr>\n",
       "    <tr>\n",
       "      <th>1</th>\n",
       "      <td>132031</td>\n",
       "      <td>0</td>\n",
       "    </tr>\n",
       "    <tr>\n",
       "      <th>2</th>\n",
       "      <td>132032</td>\n",
       "      <td>0</td>\n",
       "    </tr>\n",
       "    <tr>\n",
       "      <th>3</th>\n",
       "      <td>132033</td>\n",
       "      <td>0</td>\n",
       "    </tr>\n",
       "    <tr>\n",
       "      <th>4</th>\n",
       "      <td>132034</td>\n",
       "      <td>0</td>\n",
       "    </tr>\n",
       "  </tbody>\n",
       "</table>\n",
       "</div>"
      ],
      "text/plain": [
       "       id  target\n",
       "0  132030       0\n",
       "1  132031       0\n",
       "2  132032       0\n",
       "3  132033       0\n",
       "4  132034       0"
      ]
     },
     "execution_count": 100,
     "metadata": {},
     "output_type": "execute_result"
    }
   ],
   "source": [
    "y_pred_lgb.to_csv('sub_lgbm_lable_2019_11_05.csv', index=False)\n",
    "y_pred_lgb.head()"
   ]
  },
  {
   "cell_type": "code",
   "execution_count": null,
   "metadata": {},
   "outputs": [],
   "source": []
  },
  {
   "cell_type": "code",
   "execution_count": null,
   "metadata": {},
   "outputs": [],
   "source": []
  }
 ],
 "metadata": {
  "kernelspec": {
   "display_name": "Python 3",
   "language": "python",
   "name": "python3"
  },
  "language_info": {
   "codemirror_mode": {
    "name": "ipython",
    "version": 3
   },
   "file_extension": ".py",
   "mimetype": "text/x-python",
   "name": "python",
   "nbconvert_exporter": "python",
   "pygments_lexer": "ipython3",
   "version": "3.7.3"
  },
  "toc": {
   "base_numbering": 1,
   "nav_menu": {},
   "number_sections": true,
   "sideBar": true,
   "skip_h1_title": false,
   "title_cell": "Table of Contents",
   "title_sidebar": "Contents",
   "toc_cell": false,
   "toc_position": {
    "height": "calc(100% - 180px)",
    "left": "10px",
    "top": "150px",
    "width": "319.547px"
   },
   "toc_section_display": true,
   "toc_window_display": true
  }
 },
 "nbformat": 4,
 "nbformat_minor": 2
}
