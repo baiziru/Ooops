{
 "cells": [
  {
   "cell_type": "markdown",
   "metadata": {},
   "source": [
    "# 征信-申请评分建模"
   ]
  },
  {
   "cell_type": "markdown",
   "metadata": {},
   "source": [
    "## Load library"
   ]
  },
  {
   "cell_type": "code",
   "execution_count": 1,
   "metadata": {},
   "outputs": [],
   "source": [
    "# featuretools for automated feature engineering\n",
    "#Featuretools是一个开源库，用来实现自动化特征工程。\n",
    "#它是一个很好的工具，旨在加快特征生成的过程，从而让大家有更多的时间专注于构建机器学习模型的其他方面。\n",
    "#换句话说，它使你的数据处于“等待机器学习”的状态。\n",
    "#import featuretools as ft"
   ]
  },
  {
   "cell_type": "code",
   "execution_count": 26,
   "metadata": {},
   "outputs": [],
   "source": [
    "# This Python 3 environment comes with many helpful analytics libraries installed\n",
    "# It is defined by the kaggle/python docker image: https://github.com/kaggle/docker-python\n",
    "# For example, here's several helpful packages to load in \n",
    "\n",
    "# Imported Libraries\n",
    "\n",
    "import numpy as np # linear algebra\n",
    "import pandas as pd # data processing, CSV file I/O (e.g. pd.read_csv)\n",
    "import tensorflow as tf\n",
    "import matplotlib.pyplot as plt\n",
    "import seaborn as sns\n",
    "from sklearn.manifold import TSNE\n",
    "from sklearn.decomposition import PCA, TruncatedSVD\n",
    "import matplotlib.patches as mpatches\n",
    "import time\n",
    "\n",
    "# Classifier Libraries\n",
    "from sklearn.linear_model import LogisticRegression\n",
    "from sklearn.svm import SVC\n",
    "from sklearn.neighbors import KNeighborsClassifier\n",
    "from sklearn.tree import DecisionTreeClassifier\n",
    "from sklearn.ensemble import RandomForestClassifier\n",
    "import collections\n",
    "\n",
    "\n",
    "# Other Libraries\n",
    "from sklearn.model_selection import train_test_split\n",
    "from sklearn.pipeline import make_pipeline\n",
    "from imblearn.pipeline import make_pipeline as imbalanced_make_pipeline\n",
    "from imblearn.over_sampling import SMOTE\n",
    "from imblearn.under_sampling import NearMiss\n",
    "from imblearn.metrics import classification_report_imbalanced\n",
    "from sklearn.metrics import precision_score, recall_score, f1_score, roc_auc_score, accuracy_score, classification_report\n",
    "from collections import Counter\n",
    "from sklearn.model_selection import KFold, StratifiedKFold\n",
    "import warnings\n",
    "warnings.filterwarnings(\"ignore\")\n",
    "\n",
    "\n",
    "\n",
    "import numpy as np\n",
    "import pandas as pd\n",
    "import matplotlib.pyplot as plt\n",
    "import seaborn as sns\n",
    "sns.set() #set style as seaborn\n",
    "from sklearn.manifold import TSNE\n",
    "from sklearn.model_selection import GridSearchCV\n",
    "from sklearn.metrics import classification_report,roc_auc_score,confusion_matrix\n",
    "from sklearn.model_selection import train_test_split\n",
    "import random\n",
    "from sklearn.preprocessing import StandardScaler,MinMaxScaler\n",
    "from sklearn.ensemble import RandomForestClassifier\n",
    "from sklearn.linear_model import LogisticRegression\n",
    "from sklearn.neighbors import KNeighborsClassifier\n",
    "from sklearn.ensemble import VotingClassifier\n",
    "from sklearn.cluster import KMeans,MiniBatchKMeans\n",
    "\n",
    "plt.rcParams['font.family'] = 'SimHei' \n",
    "\n",
    "import pickle"
   ]
  },
  {
   "cell_type": "markdown",
   "metadata": {},
   "source": [
    "## Load Data"
   ]
  },
  {
   "cell_type": "code",
   "execution_count": 39,
   "metadata": {},
   "outputs": [
    {
     "data": {
      "text/html": [
       "<div>\n",
       "<style scoped>\n",
       "    .dataframe tbody tr th:only-of-type {\n",
       "        vertical-align: middle;\n",
       "    }\n",
       "\n",
       "    .dataframe tbody tr th {\n",
       "        vertical-align: top;\n",
       "    }\n",
       "\n",
       "    .dataframe thead th {\n",
       "        text-align: right;\n",
       "    }\n",
       "</style>\n",
       "<table border=\"1\" class=\"dataframe\">\n",
       "  <thead>\n",
       "    <tr style=\"text-align: right;\">\n",
       "      <th></th>\n",
       "      <th>id</th>\n",
       "      <th>certId</th>\n",
       "      <th>loanProduct</th>\n",
       "      <th>gender</th>\n",
       "      <th>age</th>\n",
       "      <th>dist</th>\n",
       "      <th>edu</th>\n",
       "      <th>job</th>\n",
       "      <th>lmt</th>\n",
       "      <th>basicLevel</th>\n",
       "      <th>...</th>\n",
       "      <th>highestEdu</th>\n",
       "      <th>linkRela</th>\n",
       "      <th>setupHour</th>\n",
       "      <th>weekday</th>\n",
       "      <th>ncloseCreditCard</th>\n",
       "      <th>unpayIndvLoan</th>\n",
       "      <th>unpayOtherLoan</th>\n",
       "      <th>unpayNormalLoan</th>\n",
       "      <th>5yearBadloan</th>\n",
       "      <th>isNew</th>\n",
       "    </tr>\n",
       "  </thead>\n",
       "  <tbody>\n",
       "    <tr>\n",
       "      <th>0</th>\n",
       "      <td>1</td>\n",
       "      <td>640582</td>\n",
       "      <td>1</td>\n",
       "      <td>2</td>\n",
       "      <td>27</td>\n",
       "      <td>640500</td>\n",
       "      <td>0</td>\n",
       "      <td>8</td>\n",
       "      <td>5.963</td>\n",
       "      <td>3</td>\n",
       "      <td>...</td>\n",
       "      <td>0</td>\n",
       "      <td>0</td>\n",
       "      <td>9</td>\n",
       "      <td>6</td>\n",
       "      <td>1</td>\n",
       "      <td>0</td>\n",
       "      <td>1</td>\n",
       "      <td>0</td>\n",
       "      <td>0</td>\n",
       "      <td>1</td>\n",
       "    </tr>\n",
       "    <tr>\n",
       "      <th>1</th>\n",
       "      <td>2</td>\n",
       "      <td>621023</td>\n",
       "      <td>2</td>\n",
       "      <td>2</td>\n",
       "      <td>25</td>\n",
       "      <td>640600</td>\n",
       "      <td>0</td>\n",
       "      <td>3</td>\n",
       "      <td>6.467</td>\n",
       "      <td>3</td>\n",
       "      <td>...</td>\n",
       "      <td>99</td>\n",
       "      <td>11</td>\n",
       "      <td>6</td>\n",
       "      <td>5</td>\n",
       "      <td>1</td>\n",
       "      <td>0</td>\n",
       "      <td>1</td>\n",
       "      <td>0</td>\n",
       "      <td>0</td>\n",
       "      <td>1</td>\n",
       "    </tr>\n",
       "    <tr>\n",
       "      <th>2</th>\n",
       "      <td>3</td>\n",
       "      <td>641283</td>\n",
       "      <td>1</td>\n",
       "      <td>2</td>\n",
       "      <td>37</td>\n",
       "      <td>641200</td>\n",
       "      <td>70</td>\n",
       "      <td>5</td>\n",
       "      <td>0.596</td>\n",
       "      <td>1</td>\n",
       "      <td>...</td>\n",
       "      <td>70</td>\n",
       "      <td>0</td>\n",
       "      <td>1</td>\n",
       "      <td>6</td>\n",
       "      <td>0</td>\n",
       "      <td>0</td>\n",
       "      <td>0</td>\n",
       "      <td>0</td>\n",
       "      <td>0</td>\n",
       "      <td>1</td>\n",
       "    </tr>\n",
       "    <tr>\n",
       "      <th>3</th>\n",
       "      <td>4</td>\n",
       "      <td>340821</td>\n",
       "      <td>3</td>\n",
       "      <td>2</td>\n",
       "      <td>29</td>\n",
       "      <td>340821</td>\n",
       "      <td>0</td>\n",
       "      <td>4</td>\n",
       "      <td>6.300</td>\n",
       "      <td>3</td>\n",
       "      <td>...</td>\n",
       "      <td>0</td>\n",
       "      <td>0</td>\n",
       "      <td>13</td>\n",
       "      <td>6</td>\n",
       "      <td>1</td>\n",
       "      <td>0</td>\n",
       "      <td>1</td>\n",
       "      <td>0</td>\n",
       "      <td>0</td>\n",
       "      <td>1</td>\n",
       "    </tr>\n",
       "    <tr>\n",
       "      <th>4</th>\n",
       "      <td>5</td>\n",
       "      <td>732628</td>\n",
       "      <td>2</td>\n",
       "      <td>2</td>\n",
       "      <td>22</td>\n",
       "      <td>732628</td>\n",
       "      <td>0</td>\n",
       "      <td>2</td>\n",
       "      <td>6.700</td>\n",
       "      <td>2</td>\n",
       "      <td>...</td>\n",
       "      <td>99</td>\n",
       "      <td>11</td>\n",
       "      <td>8</td>\n",
       "      <td>3</td>\n",
       "      <td>1</td>\n",
       "      <td>0</td>\n",
       "      <td>1</td>\n",
       "      <td>0</td>\n",
       "      <td>0</td>\n",
       "      <td>1</td>\n",
       "    </tr>\n",
       "  </tbody>\n",
       "</table>\n",
       "<p>5 rows × 104 columns</p>\n",
       "</div>"
      ],
      "text/plain": [
       "   id  certId  loanProduct  gender  age    dist  edu  job    lmt  basicLevel  \\\n",
       "0   1  640582            1       2   27  640500    0    8  5.963           3   \n",
       "1   2  621023            2       2   25  640600    0    3  6.467           3   \n",
       "2   3  641283            1       2   37  641200   70    5  0.596           1   \n",
       "3   4  340821            3       2   29  340821    0    4  6.300           3   \n",
       "4   5  732628            2       2   22  732628    0    2  6.700           2   \n",
       "\n",
       "   ...  highestEdu  linkRela  setupHour  weekday  ncloseCreditCard  \\\n",
       "0  ...           0         0          9        6                 1   \n",
       "1  ...          99        11          6        5                 1   \n",
       "2  ...          70         0          1        6                 0   \n",
       "3  ...           0         0         13        6                 1   \n",
       "4  ...          99        11          8        3                 1   \n",
       "\n",
       "   unpayIndvLoan  unpayOtherLoan  unpayNormalLoan  5yearBadloan  isNew  \n",
       "0              0               1                0             0      1  \n",
       "1              0               1                0             0      1  \n",
       "2              0               0                0             0      1  \n",
       "3              0               1                0             0      1  \n",
       "4              0               1                0             0      1  \n",
       "\n",
       "[5 rows x 104 columns]"
      ]
     },
     "execution_count": 39,
     "metadata": {},
     "output_type": "execute_result"
    }
   ],
   "source": [
    "## D:\\study\\notebook\\2019厦门国际银行“数创金融杯”数据建模大赛\\data\n",
    "path = r'D:\\study\\notebook\\2019厦门国际银行“数创金融杯”数据建模大赛\\data\\\\'\n",
    "\n",
    "train_x_file = path + 'train.csv'\n",
    "train_target_file = path + 'train_target.csv'\n",
    "test_x_file = path + 'test.csv'\n",
    "\n",
    "def load_data():\n",
    "    train_x = pd.read_csv(train_x_file, low_memory = False)\n",
    "    train_y = pd.read_csv(train_target_file,low_memory = False)\n",
    "    test_x = pd.read_csv(test_x_file,  low_memory = False)\n",
    "    return train_x,train_y,test_x\n",
    "\n",
    "\n",
    "train_x,train_y,test_x = load_data()\n",
    "#data = train_x.merge(train_y, on='id', how='left')\n",
    "train_x.replace(np.NaN,0,inplace=True)\n",
    "train_x.replace(-999,0,inplace=True)\n",
    "test_x.replace(-999,0,inplace=True)\n",
    "\n",
    "train_x.head()"
   ]
  },
  {
   "cell_type": "code",
   "execution_count": 229,
   "metadata": {},
   "outputs": [
    {
     "name": "stdout",
     "output_type": "stream",
     "text": [
      "(132029, 104)\n",
      "(23561, 104)\n"
     ]
    }
   ],
   "source": [
    "print(train_x.shape)\n",
    "print(test_x.shape)"
   ]
  },
  {
   "cell_type": "code",
   "execution_count": 230,
   "metadata": {},
   "outputs": [
    {
     "name": "stdout",
     "output_type": "stream",
     "text": [
      "['id', 'certId', 'loanProduct', 'gender', 'age', 'dist', 'edu', 'job', 'lmt', 'basicLevel', 'x_0', 'x_1', 'x_2', 'x_3', 'x_4', 'x_5', 'x_6', 'x_7', 'x_8', 'x_9', 'x_10', 'x_11', 'x_12', 'x_13', 'x_14', 'x_15', 'x_16', 'x_17', 'x_18', 'x_19', 'x_20', 'x_21', 'x_22', 'x_23', 'x_24', 'x_25', 'x_26', 'x_27', 'x_28', 'x_29', 'x_30', 'x_31', 'x_32', 'x_33', 'x_34', 'x_35', 'x_36', 'x_37', 'x_38', 'x_39', 'x_40', 'x_41', 'x_42', 'x_43', 'x_44', 'x_45', 'x_46', 'x_47', 'x_48', 'x_49', 'x_50', 'x_51', 'x_52', 'x_53', 'x_54', 'x_55', 'x_56', 'x_57', 'x_58', 'x_59', 'x_60', 'x_61', 'x_62', 'x_63', 'x_64', 'x_65', 'x_66', 'x_67', 'x_68', 'x_69', 'x_70', 'x_71', 'x_72', 'x_73', 'x_74', 'x_75', 'x_76', 'x_77', 'x_78', 'certValidBegin', 'certValidStop', 'bankCard', 'ethnic', 'residentAddr', 'highestEdu', 'linkRela', 'setupHour', 'weekday', 'ncloseCreditCard', 'unpayIndvLoan', 'unpayOtherLoan', 'unpayNormalLoan', '5yearBadloan', 'isNew']\n"
     ]
    }
   ],
   "source": [
    "print(train_x.columns.to_list())"
   ]
  },
  {
   "cell_type": "code",
   "execution_count": 6,
   "metadata": {},
   "outputs": [
    {
     "data": {
      "text/plain": [
       "0    23484\n",
       "1       77\n",
       "Name: 5yearBadloan, dtype: int64"
      ]
     },
     "execution_count": 6,
     "metadata": {},
     "output_type": "execute_result"
    }
   ],
   "source": [
    "test_x['5yearBadloan'].value_counts()"
   ]
  },
  {
   "cell_type": "code",
   "execution_count": null,
   "metadata": {},
   "outputs": [],
   "source": [
    "#-999\t"
   ]
  },
  {
   "cell_type": "markdown",
   "metadata": {},
   "source": [
    "##  EDA"
   ]
  },
  {
   "cell_type": "markdown",
   "metadata": {},
   "source": [
    "### 检查target变量的分布"
   ]
  },
  {
   "cell_type": "code",
   "execution_count": 12,
   "metadata": {},
   "outputs": [
    {
     "name": "stdout",
     "output_type": "stream",
     "text": [
      "正常贷款： 99.27 % of the dataset\n",
      "逾期贷款： 0.73 % of the dataset\n"
     ]
    },
    {
     "data": {
      "text/plain": [
       "Text(0.5, 1.0, 'Class Distributions \\n (0: No Default || 1: Default)')"
      ]
     },
     "execution_count": 12,
     "metadata": {},
     "output_type": "execute_result"
    },
    {
     "data": {
      "image/png": "[encoded data removed]",
      "text/plain": [
       "<Figure size 432x288 with 1 Axes>"
      ]
     },
     "metadata": {},
     "output_type": "display_data"
    }
   ],
   "source": [
    "# The classes are heavily skewed we need to solve this issue later.\n",
    "print('正常贷款：', round(train_y['target'].value_counts()[0]/len(train_y) * 100,2), '% of the dataset')\n",
    "print('逾期贷款：', round(train_y['target'].value_counts()[1]/len(train_y) * 100,2), '% of the dataset')\n",
    "\n",
    "colors = [\"#0101DF\", \"#DF0101\"]\n",
    "\n",
    "sns.countplot('target', data=train_y, palette=colors)\n",
    "plt.title('Class Distributions \\n (0: No Default || 1: Default)', fontsize=14)"
   ]
  },
  {
   "cell_type": "markdown",
   "metadata": {},
   "source": [
    "### 检查训练集合测试集中的缺失值"
   ]
  },
  {
   "cell_type": "code",
   "execution_count": 13,
   "metadata": {},
   "outputs": [
    {
     "name": "stdout",
     "output_type": "stream",
     "text": [
      "train dataset NA missing values: 0\n",
      "test dataset NA missing values: 0\n"
     ]
    }
   ],
   "source": [
    "print(\"train dataset NA missing values:\",train_x.isna().sum().sum())\n",
    "print(\"test dataset NA missing values:\",test_x.isna().sum().sum())"
   ]
  },
  {
   "cell_type": "code",
   "execution_count": 14,
   "metadata": {},
   "outputs": [
    {
     "data": {
      "text/plain": [
       "0"
      ]
     },
     "execution_count": 14,
     "metadata": {},
     "output_type": "execute_result"
    }
   ],
   "source": [
    "train_x.bankCard.isnull().sum().sum()"
   ]
  },
  {
   "cell_type": "markdown",
   "metadata": {},
   "source": [
    "### 检查特征的取值情况"
   ]
  },
  {
   "cell_type": "code",
   "execution_count": 15,
   "metadata": {},
   "outputs": [
    {
     "data": {
      "text/plain": [
       " 0      131718\n",
       "-999       311\n",
       "Name: x_0, dtype: int64"
      ]
     },
     "execution_count": 15,
     "metadata": {},
     "output_type": "execute_result"
    }
   ],
   "source": [
    "#train_x.x_0.value_counts()\n",
    "train_x['x_0'].value_counts()#.shape[0]"
   ]
  },
  {
   "cell_type": "code",
   "execution_count": 16,
   "metadata": {
    "scrolled": true
   },
   "outputs": [
    {
     "name": "stdout",
     "output_type": "stream",
     "text": [
      "loanProduct : 3\n",
      "gender : 2\n",
      "age : 38\n",
      "dist : 3738\n",
      "edu : 9\n",
      "job : 13\n",
      "lmt : 1718\n",
      "basicLevel : 6\n",
      "x_0 : 2\n",
      "x_1 : 2\n",
      "x_2 : 2\n",
      "x_3 : 2\n",
      "x_4 : 2\n",
      "x_5 : 2\n",
      "x_6 : 2\n",
      "x_7 : 2\n",
      "x_8 : 2\n",
      "x_9 : 2\n",
      "x_10 : 2\n",
      "x_11 : 2\n",
      "x_12 : 3\n",
      "x_13 : 2\n",
      "x_14 : 3\n",
      "x_15 : 2\n",
      "x_16 : 3\n",
      "x_17 : 2\n",
      "x_18 : 2\n",
      "x_19 : 2\n",
      "x_20 : 3\n",
      "x_21 : 2\n",
      "x_22 : 2\n",
      "x_23 : 2\n",
      "x_24 : 2\n",
      "x_25 : 3\n",
      "x_26 : 3\n",
      "x_27 : 3\n",
      "x_28 : 3\n",
      "x_29 : 3\n",
      "x_30 : 3\n",
      "x_31 : 3\n",
      "x_32 : 3\n",
      "x_33 : 7\n",
      "x_34 : 7\n",
      "x_35 : 3\n",
      "x_36 : 2\n",
      "x_37 : 2\n",
      "x_38 : 2\n",
      "x_39 : 3\n",
      "x_40 : 2\n",
      "x_41 : 3\n",
      "x_42 : 3\n",
      "x_43 : 3\n",
      "x_44 : 3\n",
      "x_45 : 3\n",
      "x_46 : 3\n",
      "x_47 : 3\n",
      "x_48 : 3\n",
      "x_49 : 3\n",
      "x_50 : 3\n",
      "x_51 : 3\n",
      "x_52 : 3\n",
      "x_53 : 3\n",
      "x_54 : 3\n",
      "x_55 : 3\n",
      "x_56 : 3\n",
      "x_57 : 2\n",
      "x_58 : 2\n",
      "x_59 : 2\n",
      "x_60 : 2\n",
      "x_61 : 3\n",
      "x_62 : 3\n",
      "x_63 : 3\n",
      "x_64 : 3\n",
      "x_65 : 3\n",
      "x_66 : 3\n",
      "x_67 : 3\n",
      "x_68 : 3\n",
      "x_69 : 3\n",
      "x_70 : 2\n",
      "x_71 : 3\n",
      "x_72 : 3\n",
      "x_73 : 3\n",
      "x_74 : 3\n",
      "x_75 : 3\n",
      "x_76 : 3\n",
      "x_77 : 2\n",
      "x_78 : 2\n",
      "certValidBegin : 5149\n",
      "certValidStop : 6852\n",
      "bankCard : 5992\n",
      "ethnic : 49\n",
      "residentAddr : 5288\n",
      "highestEdu : 9\n",
      "linkRela : 9\n",
      "setupHour : 24\n",
      "weekday : 7\n",
      "ncloseCreditCard : 3\n",
      "unpayIndvLoan : 3\n",
      "unpayOtherLoan : 3\n",
      "unpayNormalLoan : 3\n",
      "5yearBadloan : 2\n",
      "isNew : 2\n"
     ]
    }
   ],
   "source": [
    "col =  train_x.columns.to_list()\n",
    "col.remove('id')\n",
    "col.remove('certId')\n",
    "for c in col:\n",
    "    cnt = train_x[c].value_counts().shape[0]\n",
    "    print(c, ':', cnt)   "
   ]
  },
  {
   "cell_type": "code",
   "execution_count": 63,
   "metadata": {},
   "outputs": [
    {
     "name": "stdout",
     "output_type": "stream",
     "text": [
      "loanProduct\n",
      "2    68822\n",
      "1    37448\n",
      "3    25759\n",
      "Name: loanProduct, dtype: int64\n",
      "------------------------\n",
      "gender\n",
      "2    99843\n",
      "1    32186\n",
      "Name: gender, dtype: int64\n",
      "------------------------\n",
      "age\n",
      "27     9079\n",
      "28     8133\n",
      "26     7734\n",
      "24     7719\n",
      "22     7620\n",
      "23     7569\n",
      "25     7550\n",
      "30     7535\n",
      "29     7414\n",
      "21     6714\n",
      "20     6228\n",
      "31     5847\n",
      "32     4937\n",
      "19     4705\n",
      "33     4199\n",
      "34     3908\n",
      "35     3905\n",
      "36     2803\n",
      "37     2457\n",
      "38     2274\n",
      "39     1888\n",
      "40     1634\n",
      "41     1561\n",
      "42     1336\n",
      "43     1318\n",
      "44     1224\n",
      "45     1169\n",
      "46      981\n",
      "47      856\n",
      "48      718\n",
      "18      427\n",
      "49      270\n",
      "52       85\n",
      "50       83\n",
      "51       81\n",
      "53       58\n",
      "54        7\n",
      "117       3\n",
      "Name: age, dtype: int64\n",
      "------------------------\n",
      "dist\n",
      "640300    2029\n",
      "640100    1873\n",
      "710100    1829\n",
      "310100    1687\n",
      "510100    1429\n",
      "700100     988\n",
      "641900     902\n",
      "530100     882\n",
      "630100     805\n",
      "810100     777\n",
      "620100     763\n",
      "640600     758\n",
      "640580     742\n",
      "520500     711\n",
      "610100     688\n",
      "730100     615\n",
      "650100     610\n",
      "640500     583\n",
      "640920     563\n",
      "642000     548\n",
      "645281     532\n",
      "652120     511\n",
      "530200     505\n",
      "720100     502\n",
      "850100     495\n",
      "641300     493\n",
      "320100     490\n",
      "540100     485\n",
      "530300     477\n",
      "612720     459\n",
      "          ... \n",
      "840522       1\n",
      "821225       1\n",
      "853127       1\n",
      "732522       1\n",
      "720303       1\n",
      "570726       1\n",
      "332235       1\n",
      "550620       1\n",
      "854025       1\n",
      "432131       1\n",
      "732227       1\n",
      "431011       1\n",
      "352101       1\n",
      "340823       1\n",
      "812701       1\n",
      "810821       1\n",
      "711202       1\n",
      "612826       1\n",
      "342622       1\n",
      "570920       1\n",
      "520115       1\n",
      "640705       1\n",
      "342326       1\n",
      "612324       1\n",
      "852825       1\n",
      "332525       1\n",
      "571622       1\n",
      "562228       1\n",
      "730923       1\n",
      "640711       1\n",
      "Name: dist, Length: 3738, dtype: int64\n",
      "------------------------\n",
      "edu\n",
      " 0      129722\n",
      " 40        873\n",
      " 30        743\n",
      " 20        312\n",
      " 70        273\n",
      " 60         51\n",
      " 10         34\n",
      "-999        18\n",
      " 47          3\n",
      "Name: edu, dtype: int64\n",
      "------------------------\n",
      "job\n",
      "16    63065\n",
      "4     23605\n",
      "3     20180\n",
      "2      8464\n",
      "1      6316\n",
      "5      3249\n",
      "7      3091\n",
      "6      2964\n",
      "8      1070\n",
      "10       21\n",
      "13        2\n",
      "12        1\n",
      "11        1\n",
      "Name: job, dtype: int64\n",
      "------------------------\n",
      "lmt\n",
      "7.667     2853\n",
      "3.333     2117\n",
      "1.433     1292\n",
      "8.000     1256\n",
      "1.600     1214\n",
      "1.267     1192\n",
      "8.667     1157\n",
      "6.963     1049\n",
      "6.667      998\n",
      "9.333      945\n",
      "1.667      934\n",
      "0.733      889\n",
      "1.133      864\n",
      "10.296     832\n",
      "4.333      822\n",
      "1.167      807\n",
      "7.000      804\n",
      "2.000      789\n",
      "1.300      783\n",
      "9.667      782\n",
      "8.067      762\n",
      "8.600      702\n",
      "0.667      689\n",
      "1.767      659\n",
      "5.000      645\n",
      "1.296      644\n",
      "3.963      632\n",
      "6.296      622\n",
      "2.100      620\n",
      "3.630      617\n",
      "          ... \n",
      "23.163       1\n",
      "35.800       1\n",
      "20.003       1\n",
      "16.635       1\n",
      "2.470        1\n",
      "6.535        1\n",
      "25.363       1\n",
      "54.403       1\n",
      "1.402        1\n",
      "39.267       1\n",
      "23.700       1\n",
      "32.433       1\n",
      "7.440        1\n",
      "1.202        1\n",
      "2.471        1\n",
      "56.300       1\n",
      "3.738        1\n",
      "6.671        1\n",
      "56.200       1\n",
      "9.602        1\n",
      "47.100       1\n",
      "13.735       1\n",
      "1.037        1\n",
      "6.968        1\n",
      "40.833       1\n",
      "26.700       1\n",
      "35.630       1\n",
      "10.738       1\n",
      "0.838        1\n",
      "2.237        1\n",
      "Name: lmt, Length: 1718, dtype: int64\n",
      "------------------------\n",
      "basicLevel\n",
      " 1      45995\n",
      " 3      44473\n",
      " 2      39251\n",
      "-999     2261\n",
      " 4         48\n",
      " 5          1\n",
      "Name: basicLevel, dtype: int64\n",
      "------------------------\n",
      "x_0\n",
      " 0      131718\n",
      "-999       311\n",
      "Name: x_0, dtype: int64\n",
      "------------------------\n",
      "x_1\n",
      " 0      131718\n",
      "-999       311\n",
      "Name: x_1, dtype: int64\n",
      "------------------------\n",
      "x_2\n",
      " 0      131718\n",
      "-999       311\n",
      "Name: x_2, dtype: int64\n",
      "------------------------\n",
      "x_3\n",
      " 0      131718\n",
      "-999       311\n",
      "Name: x_3, dtype: int64\n",
      "------------------------\n",
      "x_4\n",
      " 0      131718\n",
      "-999       311\n",
      "Name: x_4, dtype: int64\n",
      "------------------------\n",
      "x_5\n",
      " 0      131718\n",
      "-999       311\n",
      "Name: x_5, dtype: int64\n",
      "------------------------\n",
      "x_6\n",
      " 0      131718\n",
      "-999       311\n",
      "Name: x_6, dtype: int64\n",
      "------------------------\n",
      "x_7\n",
      " 0      131718\n",
      "-999       311\n",
      "Name: x_7, dtype: int64\n",
      "------------------------\n",
      "x_8\n",
      " 0      131718\n",
      "-999       311\n",
      "Name: x_8, dtype: int64\n",
      "------------------------\n",
      "x_9\n",
      " 0      131718\n",
      "-999       311\n",
      "Name: x_9, dtype: int64\n",
      "------------------------\n",
      "x_10\n",
      " 0      131718\n",
      "-999       311\n",
      "Name: x_10, dtype: int64\n",
      "------------------------\n",
      "x_11\n",
      " 0      131718\n",
      "-999       311\n",
      "Name: x_11, dtype: int64\n",
      "------------------------\n",
      "x_12\n",
      " 0      124719\n",
      " 1        6999\n",
      "-999       311\n",
      "Name: x_12, dtype: int64\n",
      "------------------------\n",
      "x_13\n",
      " 0      131718\n",
      "-999       311\n",
      "Name: x_13, dtype: int64\n",
      "------------------------\n",
      "x_14\n",
      " 0      107938\n",
      " 1       23780\n",
      "-999       311\n",
      "Name: x_14, dtype: int64\n",
      "------------------------\n",
      "x_15\n",
      " 0      131718\n",
      "-999       311\n",
      "Name: x_15, dtype: int64\n",
      "------------------------\n",
      "x_16\n",
      " 1      130919\n",
      " 0         799\n",
      "-999       311\n",
      "Name: x_16, dtype: int64\n",
      "------------------------\n",
      "x_17\n",
      " 0      131718\n",
      "-999       311\n",
      "Name: x_17, dtype: int64\n",
      "------------------------\n",
      "x_18\n",
      " 0      131718\n",
      "-999       311\n",
      "Name: x_18, dtype: int64\n",
      "------------------------\n",
      "x_19\n",
      " 0      131718\n",
      "-999       311\n",
      "Name: x_19, dtype: int64\n",
      "------------------------\n",
      "x_20\n",
      " 1      126504\n",
      " 0        5214\n",
      "-999       311\n",
      "Name: x_20, dtype: int64\n",
      "------------------------\n",
      "x_21\n",
      " 0      131718\n",
      "-999       311\n",
      "Name: x_21, dtype: int64\n",
      "------------------------\n",
      "x_22\n",
      " 1      131718\n",
      "-999       311\n",
      "Name: x_22, dtype: int64\n",
      "------------------------\n",
      "x_23\n",
      " 0      131718\n",
      "-999       311\n",
      "Name: x_23, dtype: int64\n",
      "------------------------\n",
      "x_24\n",
      " 0      131718\n",
      "-999       311\n",
      "Name: x_24, dtype: int64\n",
      "------------------------\n",
      "x_25\n",
      " 0      102749\n",
      " 1       28969\n",
      "-999       311\n",
      "Name: x_25, dtype: int64\n",
      "------------------------\n",
      "x_26\n",
      " 0      116969\n",
      " 1       14749\n",
      "-999       311\n",
      "Name: x_26, dtype: int64\n",
      "------------------------\n",
      "x_27\n",
      " 0      118184\n",
      " 1       13534\n",
      "-999       311\n",
      "Name: x_27, dtype: int64\n",
      "------------------------\n",
      "x_28\n",
      " 0      121715\n",
      " 1       10003\n",
      "-999       311\n",
      "Name: x_28, dtype: int64\n",
      "------------------------\n",
      "x_29\n",
      " 0      128288\n",
      " 1        3430\n",
      "-999       311\n",
      "Name: x_29, dtype: int64\n",
      "------------------------\n",
      "x_30\n",
      " 0      131190\n",
      " 1         528\n",
      "-999       311\n",
      "Name: x_30, dtype: int64\n",
      "------------------------\n",
      "x_31\n",
      " 0      131544\n",
      "-999       311\n",
      " 1         174\n",
      "Name: x_31, dtype: int64\n",
      "------------------------\n",
      "x_32\n",
      " 0      131712\n",
      "-999       311\n",
      " 1           6\n",
      "Name: x_32, dtype: int64\n",
      "------------------------\n",
      "x_33\n",
      " 3      43821\n",
      " 1      41166\n",
      " 2      22697\n",
      " 4      11492\n",
      " 5      11044\n",
      " 6       1498\n",
      "-999      311\n",
      "Name: x_33, dtype: int64\n",
      "------------------------\n",
      "x_34\n",
      " 4      37777\n",
      " 3      21406\n",
      " 1      20922\n",
      " 6      20651\n",
      " 5      18373\n",
      " 2      12589\n",
      "-999      311\n",
      "Name: x_34, dtype: int64\n",
      "------------------------\n",
      "x_35\n",
      " 0      130899\n",
      " 1         819\n",
      "-999       311\n",
      "Name: x_35, dtype: int64\n",
      "------------------------\n",
      "x_36\n",
      " 0      131718\n",
      "-999       311\n",
      "Name: x_36, dtype: int64\n",
      "------------------------\n",
      "x_37\n",
      " 0      131718\n",
      "-999       311\n",
      "Name: x_37, dtype: int64\n",
      "------------------------\n",
      "x_38\n",
      " 0      131718\n",
      "-999       311\n",
      "Name: x_38, dtype: int64\n",
      "------------------------\n",
      "x_39\n",
      " 0      131717\n",
      "-999       311\n",
      " 1           1\n",
      "Name: x_39, dtype: int64\n",
      "------------------------\n",
      "x_40\n",
      " 1      131718\n",
      "-999       311\n",
      "Name: x_40, dtype: int64\n",
      "------------------------\n",
      "x_41\n",
      " 0      111605\n",
      " 1       20113\n",
      "-999       311\n",
      "Name: x_41, dtype: int64\n",
      "------------------------\n",
      "x_42\n",
      " 0      131665\n",
      "-999       311\n",
      " 1          53\n",
      "Name: x_42, dtype: int64\n",
      "------------------------\n",
      "x_43\n",
      " 0      113262\n",
      " 1       18456\n",
      "-999       311\n",
      "Name: x_43, dtype: int64\n",
      "------------------------\n",
      "x_44\n",
      " 0      130436\n",
      " 1        1282\n",
      "-999       311\n",
      "Name: x_44, dtype: int64\n",
      "------------------------\n",
      "x_45\n",
      " 1      114907\n",
      " 0       16811\n",
      "-999       311\n",
      "Name: x_45, dtype: int64\n",
      "------------------------\n",
      "x_46\n",
      " 0      66466\n",
      " 1      65252\n",
      "-999      311\n",
      "Name: x_46, dtype: int64\n",
      "------------------------\n",
      "x_47\n",
      " 0      112837\n",
      " 1       18881\n",
      "-999       311\n",
      "Name: x_47, dtype: int64\n",
      "------------------------\n",
      "x_48\n",
      " 0      114000\n",
      " 1       17718\n",
      "-999       311\n",
      "Name: x_48, dtype: int64\n",
      "------------------------\n",
      "x_49\n",
      " 0      123863\n",
      " 1        7855\n",
      "-999       311\n",
      "Name: x_49, dtype: int64\n",
      "------------------------\n",
      "x_50\n",
      " 0      109706\n",
      " 1       22012\n",
      "-999       311\n",
      "Name: x_50, dtype: int64\n",
      "------------------------\n",
      "x_51\n",
      " 1      97014\n",
      " 0      34704\n",
      "-999      311\n",
      "Name: x_51, dtype: int64\n",
      "------------------------\n",
      "x_52\n",
      " 1      82960\n",
      " 0      48758\n",
      "-999      311\n",
      "Name: x_52, dtype: int64\n",
      "------------------------\n",
      "x_53\n",
      " 0      110705\n",
      " 1       21013\n",
      "-999       311\n",
      "Name: x_53, dtype: int64\n",
      "------------------------\n",
      "x_54\n",
      " 0      113192\n",
      " 1       18526\n",
      "-999       311\n",
      "Name: x_54, dtype: int64\n",
      "------------------------\n",
      "x_55\n",
      " 0      126042\n",
      " 1        5676\n",
      "-999       311\n",
      "Name: x_55, dtype: int64\n",
      "------------------------\n",
      "x_56\n",
      " 0      128175\n",
      " 1        3543\n",
      "-999       311\n",
      "Name: x_56, dtype: int64\n",
      "------------------------\n",
      "x_57\n",
      " 0      131718\n",
      "-999       311\n",
      "Name: x_57, dtype: int64\n",
      "------------------------\n",
      "x_58\n",
      " 0      131718\n",
      "-999       311\n",
      "Name: x_58, dtype: int64\n",
      "------------------------\n",
      "x_59\n",
      " 0      131718\n",
      "-999       311\n",
      "Name: x_59, dtype: int64\n",
      "------------------------\n",
      "x_60\n",
      " 0      131718\n",
      "-999       311\n",
      "Name: x_60, dtype: int64\n",
      "------------------------\n",
      "x_61\n",
      " 1      104754\n",
      " 0       26964\n",
      "-999       311\n"
     ]
    },
    {
     "name": "stdout",
     "output_type": "stream",
     "text": [
      "Name: x_61, dtype: int64\n",
      "------------------------\n",
      "x_62\n",
      " 1      83986\n",
      " 0      47732\n",
      "-999      311\n",
      "Name: x_62, dtype: int64\n",
      "------------------------\n",
      "x_63\n",
      " 0      87051\n",
      " 1      44667\n",
      "-999      311\n",
      "Name: x_63, dtype: int64\n",
      "------------------------\n",
      "x_64\n",
      " 0      122498\n",
      " 1        9220\n",
      "-999       311\n",
      "Name: x_64, dtype: int64\n",
      "------------------------\n",
      "x_65\n",
      " 0      70116\n",
      " 1      61602\n",
      "-999      311\n",
      "Name: x_65, dtype: int64\n",
      "------------------------\n",
      "x_66\n",
      " 0      103707\n",
      " 1       28011\n",
      "-999       311\n",
      "Name: x_66, dtype: int64\n",
      "------------------------\n",
      "x_67\n",
      " 1      76662\n",
      " 0      55056\n",
      "-999      311\n",
      "Name: x_67, dtype: int64\n",
      "------------------------\n",
      "x_68\n",
      " 0      124343\n",
      " 1        7375\n",
      "-999       311\n",
      "Name: x_68, dtype: int64\n",
      "------------------------\n",
      "x_69\n",
      " 0      131289\n",
      " 1         429\n",
      "-999       311\n",
      "Name: x_69, dtype: int64\n",
      "------------------------\n",
      "x_70\n",
      " 1      131718\n",
      "-999       311\n",
      "Name: x_70, dtype: int64\n",
      "------------------------\n",
      "x_71\n",
      " 1      98438\n",
      " 0      33280\n",
      "-999      311\n",
      "Name: x_71, dtype: int64\n",
      "------------------------\n",
      "x_72\n",
      " 0      112526\n",
      " 1       19192\n",
      "-999       311\n",
      "Name: x_72, dtype: int64\n",
      "------------------------\n",
      "x_73\n",
      " 0      128752\n",
      " 1        2966\n",
      "-999       311\n",
      "Name: x_73, dtype: int64\n",
      "------------------------\n",
      "x_74\n",
      " 1      110594\n",
      " 0       21124\n",
      "-999       311\n",
      "Name: x_74, dtype: int64\n",
      "------------------------\n",
      "x_75\n",
      " 0      98534\n",
      " 1      33184\n",
      "-999      311\n",
      "Name: x_75, dtype: int64\n",
      "------------------------\n",
      "x_76\n",
      " 0      124228\n",
      " 1        7490\n",
      "-999       311\n",
      "Name: x_76, dtype: int64\n",
      "------------------------\n",
      "x_77\n",
      " 0      131718\n",
      "-999       311\n",
      "Name: x_77, dtype: int64\n",
      "------------------------\n",
      "x_78\n",
      " 0      131718\n",
      "-999       311\n",
      "Name: x_78, dtype: int64\n",
      "------------------------\n",
      "certValidBegin\n",
      "3696883200    241\n",
      "3698092800    231\n",
      "3697056000    221\n",
      "3697833600    219\n",
      "3696969600    217\n",
      "3667248000    216\n",
      "3730147200    207\n",
      "3703104000    205\n",
      "3731011200    201\n",
      "3667334400    194\n",
      "3697920000    187\n",
      "3698179200    184\n",
      "3671568000    182\n",
      "3667420800    179\n",
      "3666297600    177\n",
      "3707942400    175\n",
      "3731356800    175\n",
      "3667161600    174\n",
      "3698697600    174\n",
      "3730233600    169\n",
      "3666384000    167\n",
      "3666211200    167\n",
      "3731097600    163\n",
      "3667507200    153\n",
      "3698265600    151\n",
      "3697142400    148\n",
      "3666124800    145\n",
      "3696624000    137\n",
      "3705436800    135\n",
      "3698352000    135\n",
      "             ... \n",
      "3742156800      1\n",
      "3562444800      1\n",
      "3318883200      1\n",
      "3327609600      1\n",
      "3388953600      1\n",
      "3326054400      1\n",
      "3381004800      1\n",
      "3730579200      1\n",
      "3496521600      1\n",
      "3717360000      1\n",
      "3649622400      1\n",
      "3670790400      1\n",
      "3311193600      1\n",
      "3659904000      1\n",
      "3407702400      1\n",
      "3535833600      1\n",
      "3457814400      1\n",
      "3422736000      1\n",
      "3322598400      1\n",
      "3400358400      1\n",
      "3778531200      1\n",
      "3653856000      1\n",
      "3313699200      1\n",
      "3378067200      1\n",
      "3306960000      1\n",
      "3378672000      1\n",
      "3448137600      1\n",
      "3599424000      1\n",
      "3300480000      1\n",
      "3390768000      1\n",
      "Name: certValidBegin, Length: 5149, dtype: int64\n",
      "------------------------\n",
      "certValidStop\n",
      "2.560000e+11    508\n",
      "4.328208e+09    157\n",
      "4.329245e+09    153\n",
      "4.328035e+09    151\n",
      "4.328122e+09    144\n",
      "4.328986e+09    140\n",
      "4.334256e+09    139\n",
      "4.361299e+09    131\n",
      "4.329072e+09    129\n",
      "4.329331e+09    125\n",
      "4.362163e+09    123\n",
      "4.329850e+09    121\n",
      "3.982867e+09    116\n",
      "4.362509e+09    115\n",
      "4.339094e+09    113\n",
      "4.302720e+09    113\n",
      "4.298486e+09    113\n",
      "4.298400e+09    113\n",
      "4.361386e+09    112\n",
      "4.297450e+09    111\n",
      "4.298573e+09    110\n",
      "4.362250e+09    101\n",
      "4.298314e+09    101\n",
      "4.012416e+09    101\n",
      "4.329590e+09     98\n",
      "4.013626e+09     98\n",
      "4.329418e+09     97\n",
      "4.328294e+09     97\n",
      "4.297536e+09     96\n",
      "4.360954e+09     95\n",
      "               ... \n",
      "3.930163e+09      1\n",
      "4.389034e+09      1\n",
      "4.389206e+09      1\n",
      "3.860525e+09      1\n",
      "4.093286e+09      1\n",
      "4.258397e+09      1\n",
      "4.333392e+09      1\n",
      "4.390157e+09      1\n",
      "4.106506e+09      1\n",
      "3.931978e+09      1\n",
      "4.257187e+09      1\n",
      "3.929040e+09      1\n",
      "3.927053e+09      1\n",
      "3.928954e+09      1\n",
      "4.216061e+09      1\n",
      "4.337021e+09      1\n",
      "4.179686e+09      1\n",
      "3.866573e+09      1\n",
      "3.866486e+09      1\n",
      "4.180291e+09      1\n",
      "3.864758e+09      1\n",
      "4.336416e+09      1\n",
      "4.105901e+09      1\n",
      "4.181501e+09      1\n",
      "3.928349e+09      1\n",
      "4.147200e+09      1\n",
      "4.105987e+09      1\n",
      "4.215370e+09      1\n",
      "3.928867e+09      1\n",
      "4.164566e+09      1\n",
      "Name: certValidStop, Length: 6852, dtype: int64\n",
      "------------------------\n",
      "bankCard\n",
      "-999.0          30753\n",
      " 0.0            20152\n",
      " 621226201.0      964\n",
      " 623058000.0      742\n",
      " 621226360.0      735\n",
      " 622848008.0      652\n",
      " 621226120.0      644\n",
      " 621226200.0      635\n",
      " 621700720.0      515\n",
      " 621226240.0      498\n",
      " 621226140.0      479\n",
      " 622848032.0      455\n",
      " 622848012.0      445\n",
      " 622848119.0      441\n",
      " 622848003.0      428\n",
      " 621226400.0      420\n",
      " 621799610.0      399\n",
      " 622848060.0      395\n",
      " 622848033.0      394\n",
      " 621226020.0      358\n",
      " 621700287.0      356\n",
      " 621226170.0      352\n",
      " 621700183.0      341\n",
      " 622848040.0      325\n",
      " 621785700.0      320\n",
      " 621700001.0      317\n",
      " 621700332.0      303\n",
      " 621799330.0      302\n",
      " 621799300.0      301\n",
      " 621226210.0      290\n",
      "                ...  \n",
      " 621786840.0        1\n",
      " 955888090.0        1\n",
      " 955881080.0        1\n",
      " 621798401.0        1\n",
      " 621798554.0        1\n",
      " 621798121.0        1\n",
      " 622827200.0        1\n",
      " 622280388.0        1\n",
      " 622188222.0        1\n",
      " 622841023.0        1\n",
      " 621485372.0        1\n",
      " 621081021.0        1\n",
      " 623020035.0        1\n",
      " 621336138.0        1\n",
      " 623052219.0        1\n",
      " 621283630.0        1\n",
      " 622588451.0        1\n",
      " 621599463.0        1\n",
      " 622700418.0        1\n",
      " 621225180.0        1\n",
      " 955100593.0        1\n",
      " 621486530.0        1\n",
      " 621756360.0        1\n",
      " 622538003.0        1\n",
      " 621466026.0        1\n",
      " 621462492.0        1\n",
      " 621691770.0        1\n",
      " 621081011.0        1\n",
      " 622841199.0        1\n",
      " 955882200.0        1\n",
      "Name: bankCard, Length: 5992, dtype: int64\n",
      "------------------------\n",
      "ethnic\n",
      "0     122112\n",
      "2       1964\n",
      "1        908\n",
      "3        876\n",
      "7        769\n",
      "9        665\n",
      "4        641\n",
      "10       613\n",
      "6        535\n",
      "8        477\n",
      "5        434\n",
      "11       309\n",
      "14       261\n",
      "15       244\n",
      "13       206\n",
      "12       181\n",
      "19       142\n",
      "20        70\n",
      "26        65\n",
      "30        65\n",
      "22        64\n",
      "24        62\n",
      "17        55\n",
      "18        43\n",
      "21        40\n",
      "23        36\n",
      "16        24\n",
      "28        16\n",
      "39        16\n",
      "27        14\n",
      "43        14\n",
      "38        13\n",
      "37        13\n",
      "25        12\n",
      "29        11\n",
      "34         8\n",
      "33         8\n",
      "32         8\n",
      "31         8\n",
      "42         5\n",
      "45         5\n",
      "35         3\n",
      "36         3\n",
      "40         3\n",
      "41         3\n",
      "47         2\n",
      "44         1\n",
      "46         1\n",
      "48         1\n",
      "Name: ethnic, dtype: int64\n",
      "------------------------\n",
      "residentAddr\n",
      "-999        54743\n",
      " 640306       344\n",
      " 641900       321\n",
      " 610105       303\n",
      " 640307       279\n",
      " 941900       252\n",
      " 640111       201\n",
      " 642000       193\n",
      " 310105       185\n",
      " 945281       182\n",
      " 645281       181\n",
      " 940306       180\n",
      " 810115       178\n",
      " 640513       172\n",
      " 940513       172\n",
      " 510115       172\n",
      " 940307       170\n",
      " 640605       169\n",
      " 640113       159\n",
      " 810112       159\n",
      " 640106       155\n",
      " 810113       150\n",
      " 710107       150\n",
      " 940113       149\n",
      " 1010107      147\n",
      " 640606       147\n",
      " 942000       146\n",
      " 941581       142\n",
      " 641302       139\n",
      " 640105       138\n",
      "            ...  \n",
      " 730182         1\n",
      " 410602         1\n",
      " 1110503        1\n",
      " 641030         1\n",
      " 430207         1\n",
      " 1033324        1\n",
      " 732721         1\n",
      " 1032922        1\n",
      " 854324         1\n",
      " 430407         1\n",
      " 430704         1\n",
      " 430811         1\n",
      " 910901         1\n",
      " 541023         1\n",
      " 610301         1\n",
      " 1132321        1\n",
      " 733401         1\n",
      " 1132224        1\n",
      " 571421         1\n",
      " 1132822        1\n",
      " 570882         1\n",
      " 1030304        1\n",
      " 1022201        1\n",
      " 850429         1\n",
      " 1042526        1\n",
      " 711121         1\n",
      " 732529         1\n",
      " 1153126        1\n",
      " 350727         1\n",
      " 810630         1\n",
      "Name: residentAddr, Length: 5288, dtype: int64\n",
      "------------------------\n",
      "highestEdu\n",
      "-999    111258\n",
      " 99      18635\n",
      " 40        865\n",
      " 30        676\n",
      " 20        288\n",
      " 70        268\n",
      " 10         29\n",
      " 60          8\n",
      " 50          2\n",
      "Name: highestEdu, dtype: int64\n",
      "------------------------\n",
      "linkRela\n",
      " 1      34134\n",
      " 0      33790\n",
      "-999    25669\n",
      " 11     15478\n",
      " 10     15152\n",
      " 12      4957\n",
      " 2       1502\n",
      " 306     1346\n",
      " 301        1\n",
      "Name: linkRela, dtype: int64\n",
      "------------------------\n",
      "setupHour\n",
      "20    16574\n",
      "17     8668\n",
      "16     8267\n",
      "11     8234\n",
      "15     7784\n",
      "10     7722\n",
      "14     7395\n",
      "12     7152\n",
      "13     7134\n",
      "18     7039\n",
      "9      6287\n",
      "19     5930\n",
      "21     5422\n",
      "22     4652\n",
      "8      4319\n",
      "23     3862\n",
      "0      3136\n",
      "7      2936\n",
      "1      2320\n",
      "6      1894\n",
      "2      1770\n",
      "3      1245\n",
      "5      1221\n",
      "4      1066\n",
      "Name: setupHour, dtype: int64\n",
      "------------------------\n",
      "weekday\n",
      "6    35009\n",
      "5    21095\n",
      "4    18498\n",
      "3    17495\n",
      "1    14614\n",
      "2    14146\n",
      "7    11172\n",
      "Name: weekday, dtype: int64\n",
      "------------------------\n",
      "ncloseCreditCard\n",
      " 1      104754\n",
      " 0       26964\n",
      "-999       311\n",
      "Name: ncloseCreditCard, dtype: int64\n",
      "------------------------\n",
      "unpayIndvLoan\n",
      " 0      113262\n",
      " 1       18456\n",
      "-999       311\n",
      "Name: unpayIndvLoan, dtype: int64\n",
      "------------------------\n",
      "unpayOtherLoan\n",
      " 1      114907\n",
      " 0       16811\n",
      "-999       311\n",
      "Name: unpayOtherLoan, dtype: int64\n",
      "------------------------\n",
      "unpayNormalLoan\n",
      " 0      111605\n",
      " 1       20113\n",
      "-999       311\n",
      "Name: unpayNormalLoan, dtype: int64\n",
      "------------------------\n",
      "5yearBadloan\n",
      "0    131717\n",
      "1       312\n",
      "Name: 5yearBadloan, dtype: int64\n",
      "------------------------\n",
      "isNew\n",
      "0    84196\n",
      "1    47833\n",
      "Name: isNew, dtype: int64\n",
      "------------------------\n"
     ]
    }
   ],
   "source": [
    "col =  train_x.columns.to_list()\n",
    "col.remove('id')\n",
    "col.remove('certId')\n",
    "for c in col:\n",
    "    print(c)\n",
    "    print(train_x[c].value_counts())\n",
    "    print(\"------------------------\")"
   ]
  },
  {
   "cell_type": "markdown",
   "metadata": {},
   "source": [
    "### 检查二分类变量的好坏样本分布"
   ]
  },
  {
   "cell_type": "code",
   "execution_count": 58,
   "metadata": {},
   "outputs": [
    {
     "data": {
      "image/png": "[encoded data removed]",
      "text/plain": [
       "<Figure size 1080x432 with 1 Axes>"
      ]
     },
     "metadata": {},
     "output_type": "display_data"
    },
    {
     "data": {
      "image/png": "[encoded data removed]",
      "text/plain": [
       "<Figure size 1080x432 with 1 Axes>"
      ]
     },
     "metadata": {},
     "output_type": "display_data"
    }
   ],
   "source": [
    "data = train_x.merge(train_y, on='id', how='left')\n",
    "for col in ['gender', '5yearBadloan']:\n",
    "    f, ax = plt.subplots(1, 1, figsize=(15,6))\n",
    "    sns.set(style=\"white\", context=\"talk\")\n",
    "    sns.countplot(x=col, hue=\"target\", data=data, ax=ax, palette=\"Set2\")\n",
    "    f.tight_layout()"
   ]
  },
  {
   "cell_type": "markdown",
   "metadata": {},
   "source": [
    "### 多分类变量取值情况"
   ]
  },
  {
   "cell_type": "code",
   "execution_count": 65,
   "metadata": {},
   "outputs": [
    {
     "name": "stdout",
     "output_type": "stream",
     "text": [
      "['id', 'certId', 'loanProduct', 'gender', 'age', 'dist', 'edu', 'job', 'lmt', 'basicLevel', 'x_0', 'x_1', 'x_2', 'x_3', 'x_4', 'x_5', 'x_6', 'x_7', 'x_8', 'x_9', 'x_10', 'x_11', 'x_12', 'x_13', 'x_14', 'x_15', 'x_16', 'x_17', 'x_18', 'x_19', 'x_20', 'x_21', 'x_22', 'x_23', 'x_24', 'x_25', 'x_26', 'x_27', 'x_28', 'x_29', 'x_30', 'x_31', 'x_32', 'x_33', 'x_34', 'x_35', 'x_36', 'x_37', 'x_38', 'x_39', 'x_40', 'x_41', 'x_42', 'x_43', 'x_44', 'x_45', 'x_46', 'x_47', 'x_48', 'x_49', 'x_50', 'x_51', 'x_52', 'x_53', 'x_54', 'x_55', 'x_56', 'x_57', 'x_58', 'x_59', 'x_60', 'x_61', 'x_62', 'x_63', 'x_64', 'x_65', 'x_66', 'x_67', 'x_68', 'x_69', 'x_70', 'x_71', 'x_72', 'x_73', 'x_74', 'x_75', 'x_76', 'x_77', 'x_78', 'certValidBegin', 'certValidStop', 'bankCard', 'ethnic', 'residentAddr', 'highestEdu', 'linkRela', 'setupHour', 'weekday', 'ncloseCreditCard', 'unpayIndvLoan', 'unpayOtherLoan', 'unpayNormalLoan', '5yearBadloan', 'isNew']\n"
     ]
    }
   ],
   "source": [
    "print(train_x.columns.to_list())"
   ]
  },
  {
   "cell_type": "code",
   "execution_count": 67,
   "metadata": {},
   "outputs": [
    {
     "data": {
      "image/png": "[encoded data removed]",
      "text/plain": [
       "<Figure size 1440x576 with 1 Axes>"
      ]
     },
     "metadata": {},
     "output_type": "display_data"
    },
    {
     "data": {
      "image/png": "[encoded data removed]",
      "text/plain": [
       "<Figure size 1440x576 with 1 Axes>"
      ]
     },
     "metadata": {},
     "output_type": "display_data"
    },
    {
     "data": {
      "image/png": "[encoded data removed]",
      "text/plain": [
       "<Figure size 1440x576 with 1 Axes>"
      ]
     },
     "metadata": {},
     "output_type": "display_data"
    },
    {
     "data": {
      "image/png": "[encoded data removed]",
      "text/plain": [
       "<Figure size 1440x576 with 1 Axes>"
      ]
     },
     "metadata": {},
     "output_type": "display_data"
    },
    {
     "data": {
      "image/png": "[encoded data removed]",
      "text/plain": [
       "<Figure size 1440x576 with 1 Axes>"
      ]
     },
     "metadata": {},
     "output_type": "display_data"
    },
    {
     "data": {
      "image/png": "[encoded data removed]",
      "text/plain": [
       "<Figure size 1440x576 with 1 Axes>"
      ]
     },
     "metadata": {},
     "output_type": "display_data"
    },
    {
     "data": {
      "image/png": "[encoded data removed]",
      "text/plain": [
       "<Figure size 1440x576 with 1 Axes>"
      ]
     },
     "metadata": {},
     "output_type": "display_data"
    }
   ],
   "source": [
    "for col in ['loanProduct', 'edu', 'job', 'basicLevel', 'ethnic', 'highestEdu', 'weekday']:\n",
    "    f, ax = plt.subplots(1, 1, figsize=(20,8))\n",
    "    sns.countplot(x=col, data=train_x, ax=ax, palette=\"Set1\")\n",
    "    f.tight_layout()"
   ]
  },
  {
   "cell_type": "code",
   "execution_count": null,
   "metadata": {},
   "outputs": [],
   "source": []
  },
  {
   "cell_type": "markdown",
   "metadata": {},
   "source": [
    "### 其他特征分析"
   ]
  },
  {
   "cell_type": "code",
   "execution_count": 68,
   "metadata": {},
   "outputs": [
    {
     "data": {
      "image/png": "[encoded data removed]",
      "text/plain": [
       "<Figure size 1080x432 with 1 Axes>"
      ]
     },
     "metadata": {},
     "output_type": "display_data"
    }
   ],
   "source": [
    "data = train_x.merge(train_y, on='id', how='left')\n",
    "for col in ['ethnic']:\n",
    "    f, ax = plt.subplots(1, 1, figsize=(15,6))\n",
    "    sns.set(style=\"white\", context=\"talk\")\n",
    "    sns.countplot(x=col, hue=\"target\", data=data, ax=ax, palette=\"Set2\")\n",
    "    f.tight_layout()"
   ]
  },
  {
   "cell_type": "code",
   "execution_count": 40,
   "metadata": {},
   "outputs": [
    {
     "data": {
      "image/png": "[encoded data removed]",
      "text/plain": [
       "<Figure size 1296x576 with 1 Axes>"
      ]
     },
     "metadata": {},
     "output_type": "display_data"
    }
   ],
   "source": [
    "sns.set_style('whitegrid')\n",
    "#subplot(numRows, numCols, plotNum)\n",
    "plt.figure()\n",
    "\n",
    "data[(data.target == 1)]['job'].value_counts().sort_values(ascending=True).plot(kind='barh',figsize=(18,8))\n",
    "\n",
    "plt.title('Number of loans distributed by job type',fontsize=20)\n",
    "plt.xlabel('Number of loans',fontsize=15)\n",
    "plt.ylabel('Job Type',fontsize=15);"
   ]
  },
  {
   "cell_type": "code",
   "execution_count": 42,
   "metadata": {},
   "outputs": [
    {
     "data": {
      "image/png": "[encoded data removed]",
      "text/plain": [
       "<Figure size 1296x288 with 2 Axes>"
      ]
     },
     "metadata": {},
     "output_type": "display_data"
    }
   ],
   "source": [
    "fig, ax = plt.subplots(1, 2, figsize=(18,4))\n",
    "\n",
    "amount_val = data['scaled_lmt'].values\n",
    "time_val = data['scaled_setupHour'].values\n",
    "\n",
    "sns.distplot(amount_val, ax=ax[0], color='r')\n",
    "ax[0].set_title('Distribution of Transaction Amount', fontsize=14)\n",
    "ax[0].set_xlim([min(amount_val), max(amount_val)])\n",
    "\n",
    "sns.distplot(time_val, ax=ax[1], color='b')\n",
    "ax[1].set_title('Distribution of Transaction Time', fontsize=14)\n",
    "ax[1].set_xlim([min(time_val), max(time_val)])\n",
    "\n",
    "plt.show()"
   ]
  },
  {
   "cell_type": "code",
   "execution_count": 50,
   "metadata": {},
   "outputs": [
    {
     "data": {
      "text/plain": [
       "<matplotlib.axes._subplots.AxesSubplot at 0x28e843a9e80>"
      ]
     },
     "execution_count": 50,
     "metadata": {},
     "output_type": "execute_result"
    },
    {
     "data": {
      "image/png": "[encoded data removed]",
      "text/plain": [
       "<Figure size 1296x576 with 1 Axes>"
      ]
     },
     "metadata": {},
     "output_type": "display_data"
    }
   ],
   "source": [
    "data[(data.target ==1)]['basicLevel'].value_counts().sort_values(ascending=True).plot(kind='barh',figsize=(18,8))"
   ]
  },
  {
   "cell_type": "code",
   "execution_count": 43,
   "metadata": {},
   "outputs": [
    {
     "name": "stdout",
     "output_type": "stream",
     "text": [
      "Index(['certId', 'loanProduct', 'gender', 'age', 'dist', 'edu', 'job',\n",
      "       'basicLevel', 'x_0', 'x_1', 'x_2', 'x_3', 'x_4', 'x_5', 'x_6', 'x_7',\n",
      "       'x_8', 'x_9', 'x_10', 'x_11'],\n",
      "      dtype='object')\n",
      "Index(['x_12', 'x_13', 'x_14', 'x_15', 'x_16', 'x_17', 'x_18', 'x_19', 'x_20',\n",
      "       'x_21', 'x_22', 'x_23', 'x_24', 'x_25', 'x_26', 'x_27', 'x_28', 'x_29',\n",
      "       'x_30', 'x_31'],\n",
      "      dtype='object')\n",
      "Index(['x_32', 'x_33', 'x_34', 'x_35', 'x_36', 'x_37', 'x_38', 'x_39', 'x_40',\n",
      "       'x_41', 'x_42', 'x_43', 'x_44', 'x_45', 'x_46', 'x_47', 'x_48', 'x_49',\n",
      "       'x_50', 'x_51'],\n",
      "      dtype='object')\n",
      "Index(['x_52', 'x_53', 'x_54', 'x_55', 'x_56', 'x_57', 'x_58', 'x_59', 'x_60',\n",
      "       'x_61', 'x_62', 'x_63', 'x_64', 'x_65', 'x_66', 'x_67', 'x_68', 'x_69',\n",
      "       'x_70', 'x_71'],\n",
      "      dtype='object')\n",
      "Index(['x_72', 'x_73', 'x_74', 'x_75', 'x_76', 'x_77', 'x_78', 'bankCard',\n",
      "       'ethnic', 'residentAddr', 'highestEdu', 'linkRela', 'weekday',\n",
      "       'ncloseCreditCard', 'unpayIndvLoan', 'unpayOtherLoan',\n",
      "       'unpayNormalLoan', '5yearBadloan', 'target', 'scaled_lmt',\n",
      "       'scaled_setupHour'],\n",
      "      dtype='object')\n"
     ]
    }
   ],
   "source": [
    "print(data.columns[:20])\n",
    "print(data.columns[20:40])\n",
    "print(data.columns[40:60])\n",
    "print(data.columns[60:80])\n",
    "print(data.columns[80:])"
   ]
  },
  {
   "cell_type": "code",
   "execution_count": 22,
   "metadata": {},
   "outputs": [
    {
     "data": {
      "text/plain": [
       "-999.0          349\n",
       " 0.0            181\n",
       " 621226360.0      7\n",
       " 621785700.0      6\n",
       " 621799610.0      5\n",
       "Name: bankCard, dtype: int64"
      ]
     },
     "execution_count": 22,
     "metadata": {},
     "output_type": "execute_result"
    }
   ],
   "source": [
    "data = train_x.merge(train_y, on='id', how='left')\n",
    "data[(data.target == 1 )]['bankCard'].value_counts().head()"
   ]
  },
  {
   "cell_type": "code",
   "execution_count": 21,
   "metadata": {},
   "outputs": [
    {
     "data": {
      "text/plain": [
       "-999.0          30404\n",
       " 0.0            19971\n",
       " 621226201.0      959\n",
       " 623058000.0      742\n",
       " 621226360.0      728\n",
       "Name: bankCard, dtype: int64"
      ]
     },
     "execution_count": 21,
     "metadata": {},
     "output_type": "execute_result"
    }
   ],
   "source": [
    "data[(data.target == 0 )]['bankCard'].value_counts().head()"
   ]
  },
  {
   "cell_type": "code",
   "execution_count": 26,
   "metadata": {},
   "outputs": [
    {
     "name": "stdout",
     "output_type": "stream",
     "text": [
      "No match!\n"
     ]
    }
   ],
   "source": [
    "import re\n",
    "content = '621226201'\n",
    "result = re.match(r'621226[0-9]*' , content)\n",
    "if result:\n",
    "    print (result.group())\n",
    "else:\n",
    "    print ('No match!')"
   ]
  },
  {
   "cell_type": "code",
   "execution_count": 25,
   "metadata": {},
   "outputs": [
    {
     "data": {
      "text/plain": [
       "0    84196\n",
       "1    47833\n",
       "Name: isNew, dtype: int64"
      ]
     },
     "execution_count": 25,
     "metadata": {},
     "output_type": "execute_result"
    }
   ],
   "source": [
    "data.isNew.value_counts()"
   ]
  },
  {
   "cell_type": "markdown",
   "metadata": {},
   "source": [
    "##  具有业务涵义的特征预处理"
   ]
  },
  {
   "cell_type": "code",
   "execution_count": 13,
   "metadata": {},
   "outputs": [
    {
     "data": {
      "text/plain": [
       "0"
      ]
     },
     "execution_count": 13,
     "metadata": {},
     "output_type": "execute_result"
    }
   ],
   "source": [
    "train_x['bankCard'].isnull().sum()"
   ]
  },
  {
   "cell_type": "code",
   "execution_count": 40,
   "metadata": {},
   "outputs": [],
   "source": [
    "#提取cardbin，转换成银行卡的产品名称，相当于完成一次简单的聚类\n",
    "from utils import getbankname,getcardname,getcardtype\n",
    "#train_x = encoding_bankcard(train_x)\n",
    "#test_x = encoding_bankcard(test_x)\n",
    "\n",
    "train_x['bankCard'] = train_x['bankCard'].astype(int) #去除标点符号\n",
    "train_x['bankCard'] = train_x['bankCard'].astype(str) #转为字符串\n",
    "train_x['bankCard'] = train_x['bankCard'].apply(lambda x: x[0:6])#获取卡BIN号\n",
    "#train_x['bankname'] = train_x.bankCard.apply(lambda x: getbankname(x))#获取银行名称\n",
    "train_x['cardname'] = train_x.bankCard.apply(lambda x: getcardname(x))#获取卡产品名称\n",
    "train_x['cardtype'] = train_x.bankCard.apply(lambda x: getcardtype(x))#获取卡类型\n",
    "train_x.drop(columns=['bankCard'], axis=1, inplace=True)\n",
    "\n",
    "test_x['bankCard'] = test_x['bankCard'].astype(int) #去除标点符号\n",
    "test_x['bankCard'] = test_x['bankCard'].astype(str) #转为字符串\n",
    "test_x['bankCard'] = test_x['bankCard'].apply(lambda x: x[0:6])#获取卡BIN号\n",
    "#test_x['bankname'] = test_x.bankCard.apply(lambda x: getbankname(x))#获取银行名称\n",
    "test_x['cardname'] = test_x.bankCard.apply(lambda x: getcardname(x))#获取卡产品名称\n",
    "test_x['cardtype'] = test_x.bankCard.apply(lambda x: getcardtype(x))#获取卡类型\n",
    "test_x.drop(columns=['bankCard'], axis=1, inplace=True)"
   ]
  },
  {
   "cell_type": "code",
   "execution_count": 33,
   "metadata": {},
   "outputs": [
    {
     "data": {
      "text/plain": [
       "其他卡类型    533\n",
       "借记卡      400\n",
       "          26\n",
       "Name: cardtype, dtype: int64"
      ]
     },
     "execution_count": 33,
     "metadata": {},
     "output_type": "execute_result"
    }
   ],
   "source": [
    "data = train_x.merge(train_y, on='id', how='left')\n",
    "data[(data.target == 1)].cardtype.value_counts().head()"
   ]
  },
  {
   "cell_type": "code",
   "execution_count": 34,
   "metadata": {},
   "outputs": [
    {
     "data": {
      "image/png": "[encoded data removed]",
      "text/plain": [
       "<Figure size 1080x432 with 1 Axes>"
      ]
     },
     "metadata": {},
     "output_type": "display_data"
    }
   ],
   "source": [
    "plt.rcParams['font.family'] = 'SimHei' \n",
    "\n",
    "data = train_x.merge(train_y, on='id', how='left')\n",
    "for col in ['cardtype']:\n",
    "    f, ax = plt.subplots(1, 1, figsize=(15,6))\n",
    "    sns.set(style=\"white\", context=\"talk\")\n",
    "    sns.countplot(x=col, hue=\"target\", data=data, ax=ax, palette=\"Set2\")\n",
    "    f.tight_layout()"
   ]
  },
  {
   "cell_type": "markdown",
   "metadata": {},
   "source": [
    "可以看出，所有数据中，放款卡号主要以借记卡为主，卡类型对于违约的区分度也不是很高。"
   ]
  },
  {
   "cell_type": "code",
   "execution_count": 19,
   "metadata": {},
   "outputs": [],
   "source": [
    "#检查测试集银行名称是否为训练集中银行名称的子集\n",
    "#没有输出表明是，否则为否\n",
    "#for bankname in list(set(test_x.bankname.value_counts().index)):\n",
    "#    if bankname not in list(set(train_x.bankname.value_counts().index)):\n",
    "#        print(bankname)"
   ]
  },
  {
   "cell_type": "code",
   "execution_count": 20,
   "metadata": {},
   "outputs": [],
   "source": [
    "#train_x.drop(columns=['cardtype'], axis=1, inplace=True)\n",
    "#test_x.drop(columns=['cardtype'], axis=1, inplace=True)"
   ]
  },
  {
   "cell_type": "code",
   "execution_count": 28,
   "metadata": {},
   "outputs": [
    {
     "name": "stdout",
     "output_type": "stream",
     "text": [
      "['id', 'certId', 'loanProduct', 'gender', 'age', 'dist', 'edu', 'job', 'lmt', 'basicLevel', 'x_0', 'x_1', 'x_2', 'x_3', 'x_4', 'x_5', 'x_6', 'x_7', 'x_8', 'x_9', 'x_10', 'x_11', 'x_12', 'x_13', 'x_14', 'x_15', 'x_16', 'x_17', 'x_18', 'x_19', 'x_20', 'x_21', 'x_22', 'x_23', 'x_24', 'x_25', 'x_26', 'x_27', 'x_28', 'x_29', 'x_30', 'x_31', 'x_32', 'x_33', 'x_34', 'x_35', 'x_36', 'x_37', 'x_38', 'x_39', 'x_40', 'x_41', 'x_42', 'x_43', 'x_44', 'x_45', 'x_46', 'x_47', 'x_48', 'x_49', 'x_50', 'x_51', 'x_52', 'x_53', 'x_54', 'x_55', 'x_56', 'x_57', 'x_58', 'x_59', 'x_60', 'x_61', 'x_62', 'x_63', 'x_64', 'x_65', 'x_66', 'x_67', 'x_68', 'x_69', 'x_70', 'x_71', 'x_72', 'x_73', 'x_74', 'x_75', 'x_76', 'x_77', 'x_78', 'certValidBegin', 'certValidStop', 'ethnic', 'residentAddr', 'highestEdu', 'linkRela', 'setupHour', 'weekday', 'ncloseCreditCard', 'unpayIndvLoan', 'unpayOtherLoan', 'unpayNormalLoan', '5yearBadloan', 'isNew', 'cardname', 'cardtype']\n"
     ]
    }
   ],
   "source": [
    "print(train_x.columns.to_list())"
   ]
  },
  {
   "cell_type": "markdown",
   "metadata": {},
   "source": [
    "## 变量分箱\n",
    "\n",
    "> 采用卡方（ChiMerge）分箱，要求分箱完成之后：\n",
    "\n",
    "> - 不超过5箱（本模型默认不超过5箱）\n",
    "> - 坏样本率（Bad Rate）单调\n",
    "> - 每箱同时包含好坏样本\n",
    "> - 如有特殊值如-1单独成一箱，此箱不参与Bad Rate单调性检验\n",
    "> - 连续型的变量可以直接进行分箱，对于类别型的变量分为以下几种情况：\n",
    "\n",
    "- 当类别型变量取值比较多时（本例中大于5），先用bad rate 进行编码，然后放入连续型变量列表中，使用连续型变量分箱的方法进行分箱。\n",
    "当取值较少时（本例中小于等于5），分两种情况：\n",
    " - （1）如果每种类别同时包含好坏样本，则无需分箱；\n",
    " - （2）如果有类别只包含好坏样本的一种，则需要合并；\n",
    "\n",
    "\n",
    "- 作者：乘物以游心\n",
    "- 链接：https://www.jianshu.com/p/eaf80fcaeed0\n",
    "- 来源：简书\n",
    "- 著作权归作者所有。商业转载请联系作者获得授权，非商业转载请注明出处。"
   ]
  },
  {
   "cell_type": "code",
   "execution_count": 43,
   "metadata": {},
   "outputs": [
    {
     "data": {
      "text/plain": [
       "3    43821\n",
       "1    41166\n",
       "2    22697\n",
       "4    11492\n",
       "5    11044\n",
       "6     1498\n",
       "0      311\n",
       "Name: x_33, dtype: int64"
      ]
     },
     "execution_count": 43,
     "metadata": {},
     "output_type": "execute_result"
    }
   ],
   "source": [
    "train_x.x_33.value_counts()"
   ]
  },
  {
   "cell_type": "code",
   "execution_count": 44,
   "metadata": {},
   "outputs": [
    {
     "name": "stdout",
     "output_type": "stream",
     "text": [
      "['id', 'certId', 'loanProduct', 'gender', 'age', 'dist', 'edu', 'job', 'lmt', 'basicLevel', 'x_0', 'x_1', 'x_2', 'x_3', 'x_4', 'x_5', 'x_6', 'x_7', 'x_8', 'x_9', 'x_10', 'x_11', 'x_12', 'x_13', 'x_14', 'x_15', 'x_16', 'x_17', 'x_18', 'x_19', 'x_20', 'x_21', 'x_22', 'x_23', 'x_24', 'x_25', 'x_26', 'x_27', 'x_28', 'x_29', 'x_30', 'x_31', 'x_32', 'x_33', 'x_34', 'x_35', 'x_36', 'x_37', 'x_38', 'x_39', 'x_40', 'x_41', 'x_42', 'x_43', 'x_44', 'x_45', 'x_46', 'x_47', 'x_48', 'x_49', 'x_50', 'x_51', 'x_52', 'x_53', 'x_54', 'x_55', 'x_56', 'x_57', 'x_58', 'x_59', 'x_60', 'x_61', 'x_62', 'x_63', 'x_64', 'x_65', 'x_66', 'x_67', 'x_68', 'x_69', 'x_70', 'x_71', 'x_72', 'x_73', 'x_74', 'x_75', 'x_76', 'x_77', 'x_78', 'certValidBegin', 'certValidStop', 'ethnic', 'residentAddr', 'highestEdu', 'linkRela', 'setupHour', 'weekday', 'ncloseCreditCard', 'unpayIndvLoan', 'unpayOtherLoan', 'unpayNormalLoan', '5yearBadloan', 'isNew', 'cardname', 'cardtype']\n"
     ]
    }
   ],
   "source": [
    "print(train_x.columns.to_list())"
   ]
  },
  {
   "cell_type": "markdown",
   "metadata": {},
   "source": [
    "### 特征分类（数值型/分类变量）"
   ]
  },
  {
   "cell_type": "code",
   "execution_count": 36,
   "metadata": {},
   "outputs": [],
   "source": [
    "from utils import check_feature_value_counts"
   ]
  },
  {
   "cell_type": "code",
   "execution_count": 37,
   "metadata": {},
   "outputs": [
    {
     "name": "stdout",
     "output_type": "stream",
     "text": [
      "单值变量：['x_0', 'x_1', 'x_2', 'x_3', 'x_4', 'x_5', 'x_6', 'x_7', 'x_8', 'x_9', 'x_10', 'x_11', 'x_13', 'x_15', 'x_17', 'x_18', 'x_19', 'x_21', 'x_23', 'x_24', 'x_32', 'x_36', 'x_37', 'x_38', 'x_39', 'x_57', 'x_58', 'x_59', 'x_60', 'x_77', 'x_78', 'isNew']\n",
      "\n",
      "二值变量：['loanProduct', 'gender', 'x_12', 'x_14', 'x_16', 'x_20', 'x_22', 'x_25', 'x_26', 'x_27', 'x_28', 'x_29', 'x_30', 'x_31', 'x_35', 'x_40', 'x_41', 'x_42', 'x_43', 'x_44', 'x_45', 'x_46', 'x_47', 'x_48', 'x_49', 'x_50', 'x_51', 'x_52', 'x_53', 'x_54', 'x_55', 'x_56', 'x_61', 'x_62', 'x_63', 'x_64', 'x_65', 'x_66', 'x_67', 'x_68', 'x_69', 'x_70', 'x_71', 'x_72', 'x_73', 'x_74', 'x_75', 'x_76', 'ncloseCreditCard', 'unpayIndvLoan', 'unpayOtherLoan', 'unpayNormalLoan', '5yearBadloan', 'cardtype']\n",
      "\n",
      "多值变量：['age', 'dist', 'edu', 'job', 'lmt', 'basicLevel', 'x_33', 'x_34', 'certValidBegin', 'certValidStop', 'ethnic', 'residentAddr', 'highestEdu', 'linkRela', 'setupHour', 'weekday', 'cardname']\n",
      "\n"
     ]
    }
   ],
   "source": [
    "check_feature_value_counts(test_x)"
   ]
  },
  {
   "cell_type": "code",
   "execution_count": 38,
   "metadata": {},
   "outputs": [
    {
     "name": "stdout",
     "output_type": "stream",
     "text": [
      "单值变量：['x_0', 'x_1', 'x_2', 'x_3', 'x_4', 'x_5', 'x_6', 'x_7', 'x_8', 'x_9', 'x_10', 'x_11', 'x_13', 'x_15', 'x_17', 'x_18', 'x_19', 'x_21', 'x_23', 'x_24', 'x_36', 'x_37', 'x_38', 'x_57', 'x_58', 'x_59', 'x_60', 'x_77', 'x_78']\n",
      "\n",
      "二值变量：['loanProduct', 'gender', 'x_12', 'x_14', 'x_16', 'x_20', 'x_22', 'x_25', 'x_26', 'x_27', 'x_28', 'x_29', 'x_30', 'x_31', 'x_32', 'x_35', 'x_39', 'x_40', 'x_41', 'x_42', 'x_43', 'x_44', 'x_45', 'x_46', 'x_47', 'x_48', 'x_49', 'x_50', 'x_51', 'x_52', 'x_53', 'x_54', 'x_55', 'x_56', 'x_61', 'x_62', 'x_63', 'x_64', 'x_65', 'x_66', 'x_67', 'x_68', 'x_69', 'x_70', 'x_71', 'x_72', 'x_73', 'x_74', 'x_75', 'x_76', 'ncloseCreditCard', 'unpayIndvLoan', 'unpayOtherLoan', 'unpayNormalLoan', '5yearBadloan', 'isNew', 'cardtype']\n",
      "\n",
      "多值变量：['age', 'dist', 'edu', 'job', 'lmt', 'basicLevel', 'x_33', 'x_34', 'certValidBegin', 'certValidStop', 'ethnic', 'residentAddr', 'highestEdu', 'linkRela', 'setupHour', 'weekday', 'cardname']\n",
      "\n"
     ]
    }
   ],
   "source": [
    "check_feature_value_counts(train_x)"
   ]
  },
  {
   "cell_type": "code",
   "execution_count": 151,
   "metadata": {},
   "outputs": [
    {
     "data": {
      "text/plain": [
       "其他卡产品         51579\n",
       "金穗通宝卡（银联卡）    17419\n",
       "龙卡通           13580\n",
       "牡丹卡普卡         10023\n",
       "IC绿卡通          5710\n",
       "Name: cardname, dtype: int64"
      ]
     },
     "execution_count": 151,
     "metadata": {},
     "output_type": "execute_result"
    }
   ],
   "source": [
    "train_x.cardname.value_counts().head()"
   ]
  },
  {
   "cell_type": "code",
   "execution_count": 152,
   "metadata": {},
   "outputs": [
    {
     "data": {
      "text/plain": [
       " 0      111605\n",
       " 1       20113\n",
       "-999       311\n",
       "Name: unpayNormalLoan, dtype: int64"
      ]
     },
     "execution_count": 152,
     "metadata": {},
     "output_type": "execute_result"
    }
   ],
   "source": [
    "train_x.unpayNormalLoan.value_counts()"
   ]
  },
  {
   "cell_type": "code",
   "execution_count": 153,
   "metadata": {},
   "outputs": [
    {
     "data": {
      "text/plain": [
       " 0      19158\n",
       " 1       4326\n",
       "-999       77\n",
       "Name: unpayNormalLoan, dtype: int64"
      ]
     },
     "execution_count": 153,
     "metadata": {},
     "output_type": "execute_result"
    }
   ],
   "source": [
    "test_x.unpayNormalLoan.value_counts()"
   ]
  },
  {
   "cell_type": "code",
   "execution_count": 29,
   "metadata": {},
   "outputs": [
    {
     "name": "stdout",
     "output_type": "stream",
     "text": [
      "Original shape:(132029, 105)\n",
      "\n",
      "split_features shape:1\n",
      "nonm_features shape:17\n",
      "num_features shape:3\n",
      "cat_features shape:5\n",
      "spec_features shape:79\n",
      "sum shape:105\n",
      "remove feature :[['id']]\n"
     ]
    }
   ],
   "source": [
    "#我们初步挑选变量如下，分为两类：数值型（连续型）的和类别型的变量\n",
    "data = train_x.merge(train_y, on='id', how='left')\n",
    "\n",
    "\n",
    "#训练数据集分割特征，不做处理，待特征加工完成后：\n",
    "#isnew == 0：作为训练集（SMOTE）\n",
    "#isnew == 1：作为验证集\n",
    "split_features = ['isNew']\n",
    "#二分类/自然（无大小）特征，按照One-hot编码进行处理\n",
    "#bin_features = [ 'gender', '5yearBadloan']\n",
    "nonm_features = [ 'gender', '5yearBadloan','loanProduct', 'basicLevel','edu',\n",
    "                 'job','cardname','highestEdu','linkRela', 'ncloseCreditCard', \n",
    "                 'unpayIndvLoan','unpayOtherLoan', 'unpayNormalLoan','weekday','ethnic', 'cardname', 'cardtype']\n",
    "\n",
    "#多值型类别特征，需要分箱\n",
    "cat_features = [ 'certId','dist', 'certValidBegin', 'certValidStop',\n",
    "                  'residentAddr']\n",
    "\n",
    "#数值型特征，需要分箱\n",
    "num_features = ['age', 'lmt', 'setupHour']\n",
    "\n",
    "\n",
    "\n",
    "#特殊特征，暂不做处理\n",
    "spec_features = ['x_0', 'x_1', 'x_2', 'x_3', 'x_4', 'x_5', 'x_6','x_7', 'x_8', 'x_9','x_10',\n",
    "                 'x_11', 'x_12', 'x_13', 'x_14', 'x_15', 'x_16', 'x_17', 'x_18','x_19', 'x_20',\n",
    "                 'x_21', 'x_22', 'x_23', 'x_24', 'x_25', 'x_26', 'x_27','x_28', 'x_29','x_30', \n",
    "                 'x_31', 'x_32', 'x_33', 'x_34', 'x_35', 'x_36', 'x_37', 'x_38','x_39', 'x_40', \n",
    "                 'x_41', 'x_42', 'x_43', 'x_44', 'x_45', 'x_46', 'x_47','x_48', 'x_49','x_50',\n",
    "                 'x_51', 'x_52', 'x_53', 'x_54', 'x_55', 'x_56', 'x_57', 'x_58','x_59', 'x_60', \n",
    "                 'x_61', 'x_62', 'x_63', 'x_64', 'x_65', 'x_66', 'x_67','x_68', 'x_69','x_70', \n",
    "                 'x_71', 'x_72', 'x_73', 'x_74', 'x_75', 'x_76', 'x_77', 'x_78']\n",
    "\n",
    "print(\"Original shape:{}\\n\".format(train_x.shape))\n",
    "\n",
    "#remove :['id','isnew']\n",
    "#print(\"remove :['id']\")\n",
    "print(\"split_features shape:{}\".format(len(split_features)))\n",
    "print(\"nonm_features shape:{}\".format(len(nonm_features)))\n",
    "print(\"num_features shape:{}\".format(len(num_features)))\n",
    "print(\"cat_features shape:{}\".format(len(cat_features)))\n",
    "print(\"spec_features shape:{}\".format(len(spec_features)))\n",
    "print(\"sum shape:{}\".format(len(split_features)+len(nonm_features) +len(num_features)+len(cat_features)+ len(spec_features)))\n",
    "\n",
    "\n",
    "all_f = split_features + nonm_features + num_features + cat_features +spec_features\n",
    "rmv_f = []\n",
    "for f in train_x.columns:\n",
    "    if f not in all_f:\n",
    "        rmv_f.append(f)        \n",
    "print(\"remove feature :[{}]\".format(rmv_f))"
   ]
  },
  {
   "cell_type": "code",
   "execution_count": 236,
   "metadata": {},
   "outputs": [
    {
     "name": "stdout",
     "output_type": "stream",
     "text": [
      "   isNew  gender  5yearBadloan  loanProduct  basicLevel  edu  job    cardname  \\\n",
      "0      1       2             0            1           3    0    8       其他卡产品   \n",
      "1      1       2             0            2           3    0    3  金穗通宝卡（银联卡）   \n",
      "2      1       2             0            1           1   70    5       其他卡产品   \n",
      "3      1       2             0            3           3    0    4       其他卡产品   \n",
      "4      1       2             0            2           2    0    2  龙卡储蓄卡（银联卡）   \n",
      "\n",
      "   highestEdu  linkRela  ...  x_69  x_70  x_71  x_72  x_73  x_74  x_75  x_76  \\\n",
      "0        -999         0  ...     0     1     0     0     0     1     0     0   \n",
      "1          99        11  ...     0     1     0     0     0     1     0     0   \n",
      "2          70         0  ...     0     1     0     0     0     1     0     0   \n",
      "3        -999      -999  ...     0     1     0     0     0     0     0     0   \n",
      "4          99        11  ...     0     1     1     0     0     1     0     0   \n",
      "\n",
      "   x_77  x_78  \n",
      "0     0     0  \n",
      "1     0     0  \n",
      "2     0     0  \n",
      "3     0     0  \n",
      "4     0     0  \n",
      "\n",
      "[5 rows x 103 columns]\n",
      "   isNew  gender  5yearBadloan  loanProduct  basicLevel  edu  job cardname  \\\n",
      "0      1       2             0            1           1    0    3    其他卡产品   \n",
      "1      1       1             0            1           1    0    6    其他卡产品   \n",
      "2      1       2             0            1           1    0    2    其他卡产品   \n",
      "3      1       2             0            3           1    0    4    其他卡产品   \n",
      "4      1       2             0            1           3    0    4    其他卡产品   \n",
      "\n",
      "   highestEdu  linkRela  ...  x_69  x_70  x_71  x_72  x_73  x_74  x_75  x_76  \\\n",
      "0        -999         0  ...     0     1     0     0     0     1     0     0   \n",
      "1        -999         0  ...     0     1     1     1     0     1     1     1   \n",
      "2        -999         0  ...     0     1     1     0     0     1     0     0   \n",
      "3        -999      -999  ...     0     1     0     0     0     0     0     0   \n",
      "4        -999         1  ...     0     1     0     0     0     0     0     0   \n",
      "\n",
      "   x_77  x_78  \n",
      "0     0     0  \n",
      "1     0     0  \n",
      "2     0     0  \n",
      "3     0     0  \n",
      "4     0     0  \n",
      "\n",
      "[5 rows x 103 columns]\n"
     ]
    }
   ],
   "source": [
    "print(train_x[all_f].head())\n",
    "print(test_x[all_f].head())"
   ]
  },
  {
   "cell_type": "markdown",
   "metadata": {},
   "source": [
    "### 类别型变量分类"
   ]
  },
  {
   "cell_type": "code",
   "execution_count": 237,
   "metadata": {},
   "outputs": [
    {
     "name": "stdout",
     "output_type": "stream",
     "text": [
      "more_value_features: ['certId', 'dist', 'certValidBegin', 'certValidStop', 'residentAddr'] , total_num: 5\n",
      "less_value_features: [], total_num: 0\n"
     ]
    }
   ],
   "source": [
    "more_value_features = []\n",
    "less_value_features = []\n",
    "# 第一步，检查类别型变量中，哪些变量取值超过5\n",
    "\n",
    "for var in cat_features:\n",
    "    valueCounts = len(set(data[var]))\n",
    "    #print(var,\" ->\",valueCounts)\n",
    "    if valueCounts > 5:\n",
    "        more_value_features.append(var)  #取值超过5的变量，需要bad rate编码，再用卡方分箱法进行分箱\n",
    "    else:\n",
    "        less_value_features.append(var)\n",
    "        \n",
    "print(\"more_value_features: {} , total_num: {}\".format(more_value_features, len(more_value_features)))\n",
    "print(\"less_value_features: {}, total_num: {}\".format(less_value_features,len(less_value_features)))"
   ]
  },
  {
   "cell_type": "code",
   "execution_count": 238,
   "metadata": {},
   "outputs": [
    {
     "name": "stdout",
     "output_type": "stream",
     "text": [
      "5\n",
      "0\n"
     ]
    }
   ],
   "source": [
    "print(len(more_value_features))\n",
    "print(len(less_value_features))"
   ]
  },
  {
   "cell_type": "markdown",
   "metadata": {},
   "source": [
    "#### 特征合并（取值<5时）"
   ]
  },
  {
   "cell_type": "code",
   "execution_count": 239,
   "metadata": {},
   "outputs": [],
   "source": [
    "#第二步，当取值<5时：如果每种类别同时包含好坏样本，无需分箱；如果有类别只包含好坏样本的一种，需要合并。\n",
    "from utils import  BinBadRate,MergeBad0\n",
    "\n",
    "merge_bin_dict = {}  #存放需要合并的变量，以及合并方法\n",
    "var_bin_list = []   #由于某个取值没有好或者坏样本而需要合并的变量\n",
    "for col in less_value_features:\n",
    "    print(\"do {} ....\".format(col))\n",
    "    binBadRate = BinBadRate(data, col, 'target')[0]\n",
    "    if min(binBadRate.values()) == 0 :  #由于某个取值没有坏样本而进行合并\n",
    "        print ('{} need to be combined due to 0 bad rate'.format(col))\n",
    "        combine_bin = MergeBad0(data, col, 'target')\n",
    "        merge_bin_dict[col] = combine_bin\n",
    "        newVar = col + '_Bin'\n",
    "        data[newVar] = data[col].map(combine_bin)\n",
    "        data.drop([col], axis=1, inplace=True)\n",
    "        var_bin_list.append(newVar)\n",
    "        #less_value_features.remove(col)\n",
    "\n",
    "    if max(binBadRate.values()) == 1:    #由于某个取值没有好样本而进行合并\n",
    "        print ('{} need to be combined due to 0 good rate'.format(col))\n",
    "        combine_bin = MergeBad0(data, col, 'target',direction = 'good')\n",
    "        merge_bin_dict[col] = combine_bin\n",
    "        newVar = col + '_Bin'\n",
    "        data[newVar] = data[col].map(combine_bin)\n",
    "        data.drop([col], axis=1, inplace=True)\n",
    "        var_bin_list.append(newVar)\n",
    "        #less_value_features.remove(col)\n",
    "\n",
    "\n",
    "#less_value_features里剩下不需要合并的变量\n",
    "less_value_features = [i for i in less_value_features if i + '_Bin' not in var_bin_list]\n",
    "\n",
    "\n",
    "#保存merge_bin_dict\n",
    "file1 = open(path+'merge_bin_dict.pkl','wb+')\n",
    "pickle.dump(merge_bin_dict,file1)\n",
    "file1.close()"
   ]
  },
  {
   "cell_type": "code",
   "execution_count": 240,
   "metadata": {},
   "outputs": [
    {
     "name": "stdout",
     "output_type": "stream",
     "text": [
      "0\n",
      "0\n",
      "0\n"
     ]
    }
   ],
   "source": [
    "print(len(less_value_features))\n",
    "print(len(var_bin_list))\n",
    "print(len(merge_bin_dict))"
   ]
  },
  {
   "cell_type": "code",
   "execution_count": 241,
   "metadata": {},
   "outputs": [
    {
     "name": "stdout",
     "output_type": "stream",
     "text": [
      "[]\n"
     ]
    }
   ],
   "source": [
    "print(var_bin_list)"
   ]
  },
  {
   "cell_type": "markdown",
   "metadata": {},
   "source": [
    "#### 特征类别调整（取值>5时）"
   ]
  },
  {
   "cell_type": "code",
   "execution_count": 242,
   "metadata": {
    "scrolled": false
   },
   "outputs": [
    {
     "name": "stdout",
     "output_type": "stream",
     "text": [
      "<pandas.core.groupby.generic.SeriesGroupBy object at 0x0000023502E68B70>\n",
      "<pandas.core.groupby.generic.SeriesGroupBy object at 0x0000023501C1F940>\n",
      "<pandas.core.groupby.generic.SeriesGroupBy object at 0x0000023501C1FEB8>\n",
      "<pandas.core.groupby.generic.SeriesGroupBy object at 0x0000023501C1FCF8>\n",
      "<pandas.core.groupby.generic.SeriesGroupBy object at 0x0000023501C1FE80>\n"
     ]
    }
   ],
   "source": [
    "#（ii） 第三步，当取值>5时：用bad rate进行编码，放入连续型变量里。\n",
    "br_encoding_dict = {}   #记录按照bad rate进行编码的变量，及编码方式\n",
    "from utils import BadRateEncoding\n",
    "for col in more_value_features:\n",
    "    #print(\"do {} ....\".format(col))\n",
    "    br_encoding = BadRateEncoding(data, col, 'target')\n",
    "    data[col+'_br_encoding'] = br_encoding['encoding']\n",
    "    data.drop([col], axis=1, inplace=True)\n",
    "    \n",
    "    br_encoding_dict[col] = br_encoding['bad_rate']\n",
    "    num_features.append(col+'_br_encoding')\n",
    "    \n",
    "file2 = open(path+'br_encoding_dict.pkl','wb+')\n",
    "pickle.dump(br_encoding_dict,file2)\n",
    "file2.close()"
   ]
  },
  {
   "cell_type": "code",
   "execution_count": 243,
   "metadata": {},
   "outputs": [
    {
     "name": "stdout",
     "output_type": "stream",
     "text": [
      "less_value_features: 0\n",
      "var_bin_list: 0\n",
      "merge_bin_dict: 0\n",
      "more_value_features: 5\n",
      "br_encoding_dict: 5\n"
     ]
    }
   ],
   "source": [
    "print(\"less_value_features:\",len(less_value_features))\n",
    "print(\"var_bin_list:\",len(var_bin_list))\n",
    "print(\"merge_bin_dict:\",len(merge_bin_dict))\n",
    "print(\"more_value_features:\",len(more_value_features))\n",
    "print(\"br_encoding_dict:\",len(br_encoding_dict))"
   ]
  },
  {
   "cell_type": "code",
   "execution_count": 244,
   "metadata": {},
   "outputs": [
    {
     "name": "stdout",
     "output_type": "stream",
     "text": [
      "['age', 'lmt', 'setupHour', 'certId_br_encoding', 'dist_br_encoding', 'certValidBegin_br_encoding', 'certValidStop_br_encoding', 'residentAddr_br_encoding']\n"
     ]
    }
   ],
   "source": [
    "print(num_features)"
   ]
  },
  {
   "cell_type": "code",
   "execution_count": 245,
   "metadata": {},
   "outputs": [
    {
     "name": "stdout",
     "output_type": "stream",
     "text": [
      "['id', 'loanProduct', 'gender', 'age', 'edu', 'job', 'lmt', 'basicLevel', 'x_0', 'x_1', 'x_2', 'x_3', 'x_4', 'x_5', 'x_6', 'x_7', 'x_8', 'x_9', 'x_10', 'x_11', 'x_12', 'x_13', 'x_14', 'x_15', 'x_16', 'x_17', 'x_18', 'x_19', 'x_20', 'x_21', 'x_22', 'x_23', 'x_24', 'x_25', 'x_26', 'x_27', 'x_28', 'x_29', 'x_30', 'x_31', 'x_32', 'x_33', 'x_34', 'x_35', 'x_36', 'x_37', 'x_38', 'x_39', 'x_40', 'x_41', 'x_42', 'x_43', 'x_44', 'x_45', 'x_46', 'x_47', 'x_48', 'x_49', 'x_50', 'x_51', 'x_52', 'x_53', 'x_54', 'x_55', 'x_56', 'x_57', 'x_58', 'x_59', 'x_60', 'x_61', 'x_62', 'x_63', 'x_64', 'x_65', 'x_66', 'x_67', 'x_68', 'x_69', 'x_70', 'x_71', 'x_72', 'x_73', 'x_74', 'x_75', 'x_76', 'x_77', 'x_78', 'ethnic', 'highestEdu', 'linkRela', 'setupHour', 'weekday', 'ncloseCreditCard', 'unpayIndvLoan', 'unpayOtherLoan', 'unpayNormalLoan', '5yearBadloan', 'isNew', 'cardname', 'cardtype', 'target', 'certId_br_encoding', 'dist_br_encoding', 'certValidBegin_br_encoding', 'certValidStop_br_encoding', 'residentAddr_br_encoding']\n"
     ]
    }
   ],
   "source": [
    "print(data.columns.tolist())"
   ]
  },
  {
   "cell_type": "markdown",
   "metadata": {},
   "source": [
    "###  连续变量特征分箱"
   ]
  },
  {
   "cell_type": "code",
   "execution_count": 246,
   "metadata": {
    "scrolled": true
   },
   "outputs": [
    {
     "name": "stdout",
     "output_type": "stream",
     "text": [
      "age is in processing\n",
      "<pandas.core.groupby.generic.SeriesGroupBy object at 0x0000023507B6B160>\n",
      "<pandas.core.groupby.generic.SeriesGroupBy object at 0x000002350461AC88>\n",
      "<pandas.core.groupby.generic.SeriesGroupBy object at 0x00000235045DAD68>\n",
      "<pandas.core.groupby.generic.SeriesGroupBy object at 0x00000235045DB080>\n",
      "<pandas.core.groupby.generic.SeriesGroupBy object at 0x0000023507B04E48>\n",
      "<pandas.core.groupby.generic.SeriesGroupBy object at 0x00000235045DA978>\n",
      "<pandas.core.groupby.generic.SeriesGroupBy object at 0x00000235045DAB38>\n",
      "<pandas.core.groupby.generic.SeriesGroupBy object at 0x00000235018447F0>\n",
      "<pandas.core.groupby.generic.SeriesGroupBy object at 0x0000023507684AC8>\n",
      "<pandas.core.groupby.generic.SeriesGroupBy object at 0x0000023507684C88>\n",
      "<pandas.core.groupby.generic.SeriesGroupBy object at 0x0000023507127748>\n",
      "lmt is in processing\n",
      "<pandas.core.groupby.generic.SeriesGroupBy object at 0x0000023507B39438>\n",
      "<pandas.core.groupby.generic.SeriesGroupBy object at 0x0000023507FB07F0>\n",
      "<pandas.core.groupby.generic.SeriesGroupBy object at 0x00000235071C0198>\n",
      "setupHour is in processing\n",
      "<pandas.core.groupby.generic.SeriesGroupBy object at 0x0000023507CADCF8>\n",
      "<pandas.core.groupby.generic.SeriesGroupBy object at 0x0000023506E3C198>\n",
      "<pandas.core.groupby.generic.SeriesGroupBy object at 0x0000023504A4C208>\n",
      "<pandas.core.groupby.generic.SeriesGroupBy object at 0x0000023504A4C240>\n",
      "<pandas.core.groupby.generic.SeriesGroupBy object at 0x0000023516EF64A8>\n",
      "<pandas.core.groupby.generic.SeriesGroupBy object at 0x0000023506E3EE80>\n",
      "<pandas.core.groupby.generic.SeriesGroupBy object at 0x0000023506E3EEF0>\n",
      "<pandas.core.groupby.generic.SeriesGroupBy object at 0x0000023504A2A9E8>\n",
      "<pandas.core.groupby.generic.SeriesGroupBy object at 0x0000023514C06160>\n",
      "certId_br_encoding is in processing\n",
      "<pandas.core.groupby.generic.SeriesGroupBy object at 0x00000235049EA518>\n",
      "<pandas.core.groupby.generic.SeriesGroupBy object at 0x00000235045EFEB8>\n",
      "<pandas.core.groupby.generic.SeriesGroupBy object at 0x00000235045EFE10>\n",
      "<pandas.core.groupby.generic.SeriesGroupBy object at 0x0000023507131940>\n",
      "dist_br_encoding is in processing\n",
      "<pandas.core.groupby.generic.SeriesGroupBy object at 0x0000023507131E10>\n",
      "<pandas.core.groupby.generic.SeriesGroupBy object at 0x0000023514AF8438>\n",
      "<pandas.core.groupby.generic.SeriesGroupBy object at 0x0000023514AF8358>\n",
      "<pandas.core.groupby.generic.SeriesGroupBy object at 0x0000023506E6D7F0>\n",
      "certValidBegin_br_encoding is in processing\n",
      "<pandas.core.groupby.generic.SeriesGroupBy object at 0x0000023506E6DCC0>\n",
      "<pandas.core.groupby.generic.SeriesGroupBy object at 0x0000023504606E80>\n",
      "<pandas.core.groupby.generic.SeriesGroupBy object at 0x0000023504606F60>\n",
      "<pandas.core.groupby.generic.SeriesGroupBy object at 0x0000023507126E10>\n",
      "certValidStop_br_encoding is in processing\n",
      "<pandas.core.groupby.generic.SeriesGroupBy object at 0x0000023506E63160>\n",
      "<pandas.core.groupby.generic.SeriesGroupBy object at 0x0000023506E0FDA0>\n",
      "<pandas.core.groupby.generic.SeriesGroupBy object at 0x0000023506E0FCF8>\n",
      "<pandas.core.groupby.generic.SeriesGroupBy object at 0x0000023506E005C0>\n",
      "residentAddr_br_encoding is in processing\n",
      "<pandas.core.groupby.generic.SeriesGroupBy object at 0x0000023506E00978>\n",
      "<pandas.core.groupby.generic.SeriesGroupBy object at 0x0000023514E3BE48>\n",
      "<pandas.core.groupby.generic.SeriesGroupBy object at 0x0000023514E3BDA0>\n",
      "<pandas.core.groupby.generic.SeriesGroupBy object at 0x0000023507132198>\n"
     ]
    }
   ],
   "source": [
    "#第四步，分箱，对连续型变量列表num_features进行卡方分箱。本文分箱后的最多的箱数为5箱。\n",
    "from  utils import Chi2,ChiMerge,BadRateMonotone,AssignBin,SplitData,AssignGroup\n",
    "\n",
    "# （iii）对连续型变量进行分箱，包括（ii）中的变量\n",
    "continous_merged_dict = {}\n",
    "for col in num_features:\n",
    "    print(\"{} is in processing\".format(col))\n",
    "    #if -1 not in set(data[col]):   #－1会当成特殊值处理。如果没有－1，则所有取值都参与分箱\n",
    "    if -999 not in set(data[col]):   #-999会当成特殊值处理。如果没有－999，则所有取值都参与分箱\n",
    "        max_interval = 5   #分箱后的最多的箱数\n",
    "        cutOff = ChiMerge(data, col, 'target', max_interval=max_interval,special_attribute=[],minBinPcnt=0)\n",
    "        data[col+'_Bin'] = data[col].map(lambda x: AssignBin(x, cutOff,special_attribute=[]))\n",
    "        \n",
    "        monotone = BadRateMonotone(data, col+'_Bin', 'target')   # 检验分箱后的单调性是否满足\n",
    "        while(not monotone):\n",
    "            # 检验分箱后的单调性是否满足。如果不满足，则缩减分箱的个数。\n",
    "            max_interval -= 1\n",
    "            cutOff = ChiMerge(data, col, 'target', max_interval=max_interval, special_attribute=[],\n",
    "                              minBinPcnt=0)\n",
    "            data[col + '_Bin'] = data[col].map(lambda x: AssignBin(x, cutOff, special_attribute=[]))\n",
    "           \n",
    "            if max_interval == 2:\n",
    "                # 当分箱数为2时，必然单调\n",
    "                break\n",
    "            monotone = BadRateMonotone(data, col + '_Bin', 'target')\n",
    "        newVar = col + '_Bin'\n",
    "        data[newVar] = data[col].map(lambda x: AssignBin(x, cutOff, special_attribute=[]))\n",
    "        var_bin_list.append(newVar)\n",
    "    else:\n",
    "        max_interval = 5\n",
    "        # 如果有－999，则除去－999后，其他取值参与分箱\n",
    "        cutOff = ChiMerge(data, col, 'target', max_interval=max_interval, special_attribute=[-1,-999],\n",
    "                          minBinPcnt=0)\n",
    "        data[col + '_Bin'] = data[col].map(lambda x: AssignBin(x, cutOff, special_attribute=[-1,-999]))\n",
    "        monotone = BadRateMonotone(data, col + '_Bin', 'target',['Bin -1'])\n",
    "        while (not monotone):\n",
    "            max_interval -= 1\n",
    "            # 如果有－1，－1的bad rate不参与单调性检验\n",
    "            cutOff = ChiMerge(data, col, 'target', max_interval=max_interval, special_attribute=[-1,-999],\n",
    "                              minBinPcnt=0)\n",
    "            data[col + '_Bin'] = data[col].map(lambda x: AssignBin(x, cutOff, special_attribute=[-1,-999]))\n",
    "            \n",
    "            if max_interval == 3:\n",
    "                # 当分箱数为3-1=2时，必然单调\n",
    "                break\n",
    "            monotone = BadRateMonotone(data, col + '_Bin', 'target',['Bin -1'])\n",
    "        newVar = col + '_Bin'\n",
    "        data[newVar] = data[col].map(lambda x: AssignBin(x, cutOff, special_attribute=[-1,-999]))\n",
    "        var_bin_list.append(newVar)\n",
    "        \n",
    "    continous_merged_dict[col] = cutOff\n",
    "    #data.drop([col], axis=1, inplace=True)\n",
    "    \n",
    "file3 = open(path+'continous_merged_dict.pkl','wb+')\n",
    "pickle.dump(continous_merged_dict,file3)\n",
    "file3.close()"
   ]
  },
  {
   "cell_type": "code",
   "execution_count": 248,
   "metadata": {},
   "outputs": [
    {
     "name": "stdout",
     "output_type": "stream",
     "text": [
      "less_value_features: 0\n",
      "var_bin_list: 8\n",
      "merge_bin_dict: 0\n",
      "more_value_features: 5\n",
      "br_encoding_dict: 5\n",
      "continous_merged_dict: 8\n"
     ]
    }
   ],
   "source": [
    "print(\"less_value_features:\",len(less_value_features))\n",
    "print(\"var_bin_list:\",len(var_bin_list))\n",
    "print(\"merge_bin_dict:\",len(merge_bin_dict))\n",
    "print(\"more_value_features:\",len(more_value_features))\n",
    "print(\"br_encoding_dict:\",len(br_encoding_dict))\n",
    "print(\"continous_merged_dict:\",len(continous_merged_dict))"
   ]
  },
  {
   "cell_type": "code",
   "execution_count": 249,
   "metadata": {},
   "outputs": [
    {
     "name": "stdout",
     "output_type": "stream",
     "text": [
      "{'age': [36], 'lmt': [0.733, 1.0, 1.496, 6.367000000000001], 'setupHour': [6, 19], 'certId_br_encoding': [0.034482758620689655, 0.046153846153846156, 0.0625], 'dist_br_encoding': [0.025, 0.038461538461538464, 0.05263157894736842], 'certValidBegin_br_encoding': [0.03076923076923077, 0.045454545454545456, 0.05714285714285714], 'certValidStop_br_encoding': [0.030303030303030304, 0.04878048780487805, 0.07317073170731707], 'residentAddr_br_encoding': [0.03571428571428571, 0.058823529411764705, 0.08333333333333333]}\n"
     ]
    }
   ],
   "source": [
    "print(continous_merged_dict)"
   ]
  },
  {
   "cell_type": "code",
   "execution_count": 251,
   "metadata": {},
   "outputs": [
    {
     "name": "stdout",
     "output_type": "stream",
     "text": [
      "['age_Bin', 'lmt_Bin', 'setupHour_Bin', 'certId_br_encoding_Bin', 'dist_br_encoding_Bin', 'certValidBegin_br_encoding_Bin', 'certValidStop_br_encoding_Bin', 'residentAddr_br_encoding_Bin']\n"
     ]
    }
   ],
   "source": [
    "print(var_bin_list)"
   ]
  },
  {
   "cell_type": "code",
   "execution_count": 252,
   "metadata": {},
   "outputs": [
    {
     "name": "stdout",
     "output_type": "stream",
     "text": [
      "8\n",
      "8\n",
      "114\n"
     ]
    }
   ],
   "source": [
    "print(len(continous_merged_dict))\n",
    "print(len (var_bin_list))\n",
    "print(len(data.columns.tolist()))"
   ]
  },
  {
   "cell_type": "markdown",
   "metadata": {},
   "source": [
    "### WOE编码和IV值"
   ]
  },
  {
   "cell_type": "markdown",
   "metadata": {},
   "source": [
    "- **WOE编码和IV值**\n",
    "\n",
    " - WOE(weight of Evidence)字面意思证据权重，对分箱后的每组进行。假设good为好客户（未违约），bad为坏客户（违约）。\n",
    " - WOEi=ln(pgoodpbad)=ln(good占比bad占比)=ln(#goodi#goodT#badi#badT)\n",
    " - 其中：#good(i)表示每组中标签为good的数量，#good(T)为good的总数量；bad相同。\n",
    " \n",
    " \n",
    " - **IV(information value)** 衡量的是某一个变量的信息量，公式如下：\n",
    " - IV=∑i=1N(good占比−bad占比)∗WOEi\n",
    " - 其中：N为分组的组数；IV可用来表示一个变量的预测能力。\n",
    "\n",
    "\n",
    "> 经常上一步的分箱后，分箱后的变量有如下几种情况：\n",
    "> - 初始取值个数小于5，且不需要合并的类别型变量。\n",
    "> - 初始取值个数小于5，需要合并的类别型变量，并且合并后的新变量不再需要合并。\n",
    "> - 初始取值个数超过5，需要合并的类别型变量，并且合并后的新变量不再需要合并。\n",
    "> - 连续型变量进行卡方分箱。\n",
    "\n",
    "> How to interpret value of IV?\n",
    ">   - IV -小于 0.02              useless for prediction\n",
    ">   - IV 0.02 to 0.1             Weak predictor \n",
    ">   - IV 0.1 to 0.3              Medium predictor  \n",
    ">   - IV 0.3 to 0.5              Strong predictor\n",
    ">   - IV 大于 0.5                Suspicious or too good to be true\n",
    "\n",
    "\n",
    "根据IV值来调整分箱结构并重新计算WOE和IV，直到IV达到最大值，此时的分箱效果最好。\n",
    "\n",
    "> 分组一般原则\n",
    "> - 组间差异大\n",
    "> - 组内差异小\n",
    "> - 每组占比不低于5%\n",
    "> - 必须有好、坏两种分类"
   ]
  },
  {
   "cell_type": "code",
   "execution_count": 253,
   "metadata": {},
   "outputs": [
    {
     "name": "stdout",
     "output_type": "stream",
     "text": [
      "['age_Bin', 'lmt_Bin', 'setupHour_Bin', 'certId_br_encoding_Bin', 'dist_br_encoding_Bin', 'certValidBegin_br_encoding_Bin', 'certValidStop_br_encoding_Bin', 'residentAddr_br_encoding_Bin']\n",
      "[]\n"
     ]
    }
   ],
   "source": [
    "print(var_bin_list)\n",
    "print(less_value_features)"
   ]
  },
  {
   "cell_type": "code",
   "execution_count": 254,
   "metadata": {},
   "outputs": [
    {
     "data": {
      "text/plain": [
       "<BarContainer object of 8 artists>"
      ]
     },
     "execution_count": 254,
     "metadata": {},
     "output_type": "execute_result"
    },
    {
     "data": {
      "image/png": "[encoded data removed]",
      "text/plain": [
       "<Figure size 432x288 with 1 Axes>"
      ]
     },
     "metadata": {},
     "output_type": "display_data"
    }
   ],
   "source": [
    "#如下取到每个变量分箱后的WOE和该变量的IV值：\n",
    "#第四步：WOE编码、计算IV\n",
    "from utils import CalcWOE\n",
    "WOE_dict = {}\n",
    "IV_dict = {}\n",
    "# 分箱后的变量进行编码，包括：\n",
    "# 1，初始取值个数小于5，且不需要合并的类别型变量。存放在less_value_features中\n",
    "# 2，初始取值个数小于5，需要合并的类别型变量。合并后新的变量存放在var_bin_list中\n",
    "# 3，初始取值个数超过5，需要合并的类别型变量。合并后新的变量存放在var_bin_list中\n",
    "# 4，连续变量。分箱后新的变量存放在var_bin_list中\n",
    "all_var = var_bin_list  + less_value_features\n",
    "for var in all_var:\n",
    "    #print(\"do \",var)\n",
    "    woe_iv = CalcWOE(data, var, 'target')\n",
    "    WOE_dict[var] = woe_iv['WOE']\n",
    "    IV_dict[var] = woe_iv['IV']\n",
    "    #print(\"finish {}\".format(var))\n",
    "    \n",
    "file4 = open(path+'WOE_dict.pkl','wb+')\n",
    "pickle.dump(WOE_dict,file4)\n",
    "file4.close()\n",
    "\n",
    "#将变量IV值进行降序排列，方便后续挑选变量\n",
    "IV_dict_sorted = sorted(IV_dict.items(), key=lambda x: x[1], reverse=True)\n",
    "IV_values = [i[1] for i in IV_dict_sorted]\n",
    "IV_name = [i[0] for i in IV_dict_sorted]\n",
    "plt.title('feature IV')\n",
    "plt.bar(range(len(IV_values)),IV_values)"
   ]
  },
  {
   "cell_type": "markdown",
   "metadata": {},
   "source": [
    "### 单变量分析和多变量分析"
   ]
  },
  {
   "cell_type": "code",
   "execution_count": 255,
   "metadata": {},
   "outputs": [
    {
     "data": {
      "text/plain": [
       "<matplotlib.axes._subplots.AxesSubplot at 0x23507bc2ac8>"
      ]
     },
     "execution_count": 255,
     "metadata": {},
     "output_type": "execute_result"
    },
    {
     "data": {
      "image/png": "[encoded data removed]",
      "text/plain": [
       "<Figure size 720x576 with 2 Axes>"
      ]
     },
     "metadata": {},
     "output_type": "display_data"
    }
   ],
   "source": [
    "#第五步：单变量分析和多变量分析，均基于WOE编码后的值。\n",
    "#（1）选择IV高于0.01的变量\n",
    "#（2）比较两两线性相关性。如果相关系数的绝对值高于阈值，剔除IV较低的一个\n",
    "#选取IV>0.01的变量\n",
    "\n",
    "high_IV = {k:v for k, v in IV_dict.items() if v >= 0.02}\n",
    "high_IV_sorted = sorted(high_IV.items(),key=lambda x:x[1],reverse=True)\n",
    " \n",
    "short_list = high_IV.keys()\n",
    "short_list_2 = []\n",
    "for var in short_list:\n",
    "    newVar = var + '_WOE'\n",
    "    data[newVar] = data[var].map(WOE_dict[var])\n",
    "    data.drop(var,axis=1,inplace=True)\n",
    "    short_list_2.append(newVar)\n",
    "\n",
    "#对于上一步的结果，计算相关系数矩阵，并画出热力图进行数据可视化\n",
    "data = data[short_list_2]\n",
    "f, ax = plt.subplots(figsize=(10, 8))\n",
    "corr = data.corr()\n",
    "sns.heatmap(corr, mask=np.zeros_like(corr, dtype=np.bool), cmap=sns.diverging_palette(220, 10, as_cmap=True),square=True, ax=ax)"
   ]
  },
  {
   "cell_type": "code",
   "execution_count": 256,
   "metadata": {},
   "outputs": [
    {
     "name": "stdout",
     "output_type": "stream",
     "text": [
      "['lmt_Bin_WOE', 'certId_br_encoding_Bin_WOE', 'dist_br_encoding_Bin_WOE', 'certValidBegin_br_encoding_Bin_WOE', 'certValidStop_br_encoding_Bin_WOE', 'residentAddr_br_encoding_Bin_WOE']\n"
     ]
    }
   ],
   "source": [
    "print(data.columns.tolist())"
   ]
  },
  {
   "cell_type": "code",
   "execution_count": 257,
   "metadata": {},
   "outputs": [
    {
     "data": {
      "text/html": [
       "<div>\n",
       "<style scoped>\n",
       "    .dataframe tbody tr th:only-of-type {\n",
       "        vertical-align: middle;\n",
       "    }\n",
       "\n",
       "    .dataframe tbody tr th {\n",
       "        vertical-align: top;\n",
       "    }\n",
       "\n",
       "    .dataframe thead th {\n",
       "        text-align: right;\n",
       "    }\n",
       "</style>\n",
       "<table border=\"1\" class=\"dataframe\">\n",
       "  <thead>\n",
       "    <tr style=\"text-align: right;\">\n",
       "      <th></th>\n",
       "      <th>lmt_Bin_WOE</th>\n",
       "      <th>certId_br_encoding_Bin_WOE</th>\n",
       "      <th>dist_br_encoding_Bin_WOE</th>\n",
       "      <th>certValidBegin_br_encoding_Bin_WOE</th>\n",
       "      <th>certValidStop_br_encoding_Bin_WOE</th>\n",
       "      <th>residentAddr_br_encoding_Bin_WOE</th>\n",
       "    </tr>\n",
       "  </thead>\n",
       "  <tbody>\n",
       "    <tr>\n",
       "      <th>0</th>\n",
       "      <td>-0.203419</td>\n",
       "      <td>0.206863</td>\n",
       "      <td>0.166134</td>\n",
       "      <td>0.312695</td>\n",
       "      <td>0.592999</td>\n",
       "      <td>0.329235</td>\n",
       "    </tr>\n",
       "    <tr>\n",
       "      <th>1</th>\n",
       "      <td>0.140440</td>\n",
       "      <td>0.206863</td>\n",
       "      <td>0.166134</td>\n",
       "      <td>-2.052494</td>\n",
       "      <td>0.592999</td>\n",
       "      <td>0.329235</td>\n",
       "    </tr>\n",
       "    <tr>\n",
       "      <th>2</th>\n",
       "      <td>-1.664694</td>\n",
       "      <td>0.206863</td>\n",
       "      <td>0.166134</td>\n",
       "      <td>0.312695</td>\n",
       "      <td>0.592999</td>\n",
       "      <td>0.329235</td>\n",
       "    </tr>\n",
       "    <tr>\n",
       "      <th>3</th>\n",
       "      <td>-0.203419</td>\n",
       "      <td>0.206863</td>\n",
       "      <td>0.166134</td>\n",
       "      <td>0.312695</td>\n",
       "      <td>0.592999</td>\n",
       "      <td>0.329235</td>\n",
       "    </tr>\n",
       "    <tr>\n",
       "      <th>4</th>\n",
       "      <td>0.140440</td>\n",
       "      <td>0.206863</td>\n",
       "      <td>-2.819518</td>\n",
       "      <td>-2.052494</td>\n",
       "      <td>-2.641612</td>\n",
       "      <td>0.329235</td>\n",
       "    </tr>\n",
       "  </tbody>\n",
       "</table>\n",
       "</div>"
      ],
      "text/plain": [
       "   lmt_Bin_WOE  certId_br_encoding_Bin_WOE  dist_br_encoding_Bin_WOE  \\\n",
       "0    -0.203419                    0.206863                  0.166134   \n",
       "1     0.140440                    0.206863                  0.166134   \n",
       "2    -1.664694                    0.206863                  0.166134   \n",
       "3    -0.203419                    0.206863                  0.166134   \n",
       "4     0.140440                    0.206863                 -2.819518   \n",
       "\n",
       "   certValidBegin_br_encoding_Bin_WOE  certValidStop_br_encoding_Bin_WOE  \\\n",
       "0                            0.312695                           0.592999   \n",
       "1                           -2.052494                           0.592999   \n",
       "2                            0.312695                           0.592999   \n",
       "3                            0.312695                           0.592999   \n",
       "4                           -2.052494                          -2.641612   \n",
       "\n",
       "   residentAddr_br_encoding_Bin_WOE  \n",
       "0                          0.329235  \n",
       "1                          0.329235  \n",
       "2                          0.329235  \n",
       "3                          0.329235  \n",
       "4                          0.329235  "
      ]
     },
     "execution_count": 257,
     "metadata": {},
     "output_type": "execute_result"
    }
   ],
   "source": [
    "data.head()"
   ]
  },
  {
   "cell_type": "code",
   "execution_count": 258,
   "metadata": {},
   "outputs": [],
   "source": [
    "##两两间的线性相关性检验\n",
    "##1，将候选变量按照IV进行降序排列\n",
    "##2，计算第i和第i+1的变量的线性相关系数\n",
    "##3，对于系数超过阈值的两个变量，剔除IV较低的一个\n",
    "deleted_index = []\n",
    "cnt_vars = len(high_IV_sorted)\n",
    "for i in range(cnt_vars):\n",
    "    if i in deleted_index:\n",
    "        continue\n",
    "    x1 = high_IV_sorted[i][0]+\"_WOE\"\n",
    "    for j in range(cnt_vars):\n",
    "        if i == j or j in deleted_index:\n",
    "            continue\n",
    "        y1 = high_IV_sorted[j][0]+\"_WOE\"\n",
    "        roh = np.corrcoef(data[x1],data[y1])[0,1]\n",
    "        if abs(roh)>0.7:\n",
    "            x1_IV = high_IV_sorted[i][1]\n",
    "            y1_IV = high_IV_sorted[j][1]\n",
    "            if x1_IV > y1_IV:\n",
    "                deleted_index.append(j)\n",
    "            else:\n",
    "                deleted_index.append(i)\n",
    "\n",
    "multi_analysis_vars_1 = [high_IV_sorted[i][0]+\"_WOE\" for i in range(cnt_vars) if i not in deleted_index]"
   ]
  },
  {
   "cell_type": "code",
   "execution_count": 176,
   "metadata": {},
   "outputs": [
    {
     "data": {
      "text/plain": [
       "['certValidStop_br_encoding_Bin_WOE',\n",
       " 'residentAddr_br_encoding_Bin_WOE',\n",
       " 'certValidBegin_br_encoding_Bin_WOE',\n",
       " 'certId_br_encoding_Bin_WOE',\n",
       " 'dist_br_encoding_Bin_WOE',\n",
       " 'lmt_Bin_WOE',\n",
       " 'ethnic_br_encoding_Bin_WOE']"
      ]
     },
     "execution_count": 176,
     "metadata": {},
     "output_type": "execute_result"
    }
   ],
   "source": [
    "multi_analysis_vars_1"
   ]
  },
  {
   "cell_type": "code",
   "execution_count": 177,
   "metadata": {
    "scrolled": true
   },
   "outputs": [
    {
     "data": {
      "text/html": [
       "<div>\n",
       "<style scoped>\n",
       "    .dataframe tbody tr th:only-of-type {\n",
       "        vertical-align: middle;\n",
       "    }\n",
       "\n",
       "    .dataframe tbody tr th {\n",
       "        vertical-align: top;\n",
       "    }\n",
       "\n",
       "    .dataframe thead th {\n",
       "        text-align: right;\n",
       "    }\n",
       "</style>\n",
       "<table border=\"1\" class=\"dataframe\">\n",
       "  <thead>\n",
       "    <tr style=\"text-align: right;\">\n",
       "      <th></th>\n",
       "      <th>certValidStop_br_encoding_Bin_WOE</th>\n",
       "      <th>residentAddr_br_encoding_Bin_WOE</th>\n",
       "      <th>certValidBegin_br_encoding_Bin_WOE</th>\n",
       "      <th>certId_br_encoding_Bin_WOE</th>\n",
       "      <th>dist_br_encoding_Bin_WOE</th>\n",
       "      <th>lmt_Bin_WOE</th>\n",
       "      <th>ethnic_br_encoding_Bin_WOE</th>\n",
       "    </tr>\n",
       "  </thead>\n",
       "  <tbody>\n",
       "    <tr>\n",
       "      <th>0</th>\n",
       "      <td>0.592999</td>\n",
       "      <td>0.329235</td>\n",
       "      <td>0.312695</td>\n",
       "      <td>0.206863</td>\n",
       "      <td>0.166134</td>\n",
       "      <td>-0.203419</td>\n",
       "      <td>-0.076809</td>\n",
       "    </tr>\n",
       "    <tr>\n",
       "      <th>1</th>\n",
       "      <td>0.592999</td>\n",
       "      <td>0.329235</td>\n",
       "      <td>-2.052494</td>\n",
       "      <td>0.206863</td>\n",
       "      <td>0.166134</td>\n",
       "      <td>0.140440</td>\n",
       "      <td>-0.076809</td>\n",
       "    </tr>\n",
       "    <tr>\n",
       "      <th>2</th>\n",
       "      <td>0.592999</td>\n",
       "      <td>0.329235</td>\n",
       "      <td>0.312695</td>\n",
       "      <td>0.206863</td>\n",
       "      <td>0.166134</td>\n",
       "      <td>-1.664694</td>\n",
       "      <td>-0.076809</td>\n",
       "    </tr>\n",
       "    <tr>\n",
       "      <th>3</th>\n",
       "      <td>0.592999</td>\n",
       "      <td>0.329235</td>\n",
       "      <td>0.312695</td>\n",
       "      <td>0.206863</td>\n",
       "      <td>0.166134</td>\n",
       "      <td>-0.203419</td>\n",
       "      <td>-0.076809</td>\n",
       "    </tr>\n",
       "    <tr>\n",
       "      <th>4</th>\n",
       "      <td>-2.641612</td>\n",
       "      <td>0.329235</td>\n",
       "      <td>-2.052494</td>\n",
       "      <td>0.206863</td>\n",
       "      <td>-2.819518</td>\n",
       "      <td>0.140440</td>\n",
       "      <td>-0.076809</td>\n",
       "    </tr>\n",
       "    <tr>\n",
       "      <th>5</th>\n",
       "      <td>0.592999</td>\n",
       "      <td>0.329235</td>\n",
       "      <td>0.312695</td>\n",
       "      <td>0.206863</td>\n",
       "      <td>0.166134</td>\n",
       "      <td>-0.203419</td>\n",
       "      <td>-0.076809</td>\n",
       "    </tr>\n",
       "    <tr>\n",
       "      <th>6</th>\n",
       "      <td>0.592999</td>\n",
       "      <td>0.329235</td>\n",
       "      <td>0.312695</td>\n",
       "      <td>0.206863</td>\n",
       "      <td>0.166134</td>\n",
       "      <td>0.140440</td>\n",
       "      <td>-0.076809</td>\n",
       "    </tr>\n",
       "    <tr>\n",
       "      <th>7</th>\n",
       "      <td>0.592999</td>\n",
       "      <td>0.329235</td>\n",
       "      <td>0.312695</td>\n",
       "      <td>0.206863</td>\n",
       "      <td>0.166134</td>\n",
       "      <td>-0.991478</td>\n",
       "      <td>-0.076809</td>\n",
       "    </tr>\n",
       "    <tr>\n",
       "      <th>8</th>\n",
       "      <td>0.592999</td>\n",
       "      <td>0.329235</td>\n",
       "      <td>-2.052494</td>\n",
       "      <td>0.206863</td>\n",
       "      <td>0.166134</td>\n",
       "      <td>-1.593628</td>\n",
       "      <td>-0.076809</td>\n",
       "    </tr>\n",
       "    <tr>\n",
       "      <th>9</th>\n",
       "      <td>-2.002822</td>\n",
       "      <td>0.329235</td>\n",
       "      <td>0.312695</td>\n",
       "      <td>0.206863</td>\n",
       "      <td>0.166134</td>\n",
       "      <td>0.140440</td>\n",
       "      <td>-0.076809</td>\n",
       "    </tr>\n",
       "    <tr>\n",
       "      <th>10</th>\n",
       "      <td>0.592999</td>\n",
       "      <td>0.329235</td>\n",
       "      <td>0.312695</td>\n",
       "      <td>0.206863</td>\n",
       "      <td>0.166134</td>\n",
       "      <td>-0.991478</td>\n",
       "      <td>-0.076809</td>\n",
       "    </tr>\n",
       "    <tr>\n",
       "      <th>11</th>\n",
       "      <td>-2.002822</td>\n",
       "      <td>0.329235</td>\n",
       "      <td>0.312695</td>\n",
       "      <td>0.206863</td>\n",
       "      <td>0.166134</td>\n",
       "      <td>-0.203419</td>\n",
       "      <td>-0.076809</td>\n",
       "    </tr>\n",
       "    <tr>\n",
       "      <th>12</th>\n",
       "      <td>0.592999</td>\n",
       "      <td>0.329235</td>\n",
       "      <td>0.312695</td>\n",
       "      <td>0.206863</td>\n",
       "      <td>0.166134</td>\n",
       "      <td>-1.664694</td>\n",
       "      <td>-0.076809</td>\n",
       "    </tr>\n",
       "    <tr>\n",
       "      <th>13</th>\n",
       "      <td>0.592999</td>\n",
       "      <td>0.329235</td>\n",
       "      <td>0.312695</td>\n",
       "      <td>-2.394531</td>\n",
       "      <td>0.166134</td>\n",
       "      <td>-0.991478</td>\n",
       "      <td>-0.076809</td>\n",
       "    </tr>\n",
       "    <tr>\n",
       "      <th>14</th>\n",
       "      <td>0.592999</td>\n",
       "      <td>0.329235</td>\n",
       "      <td>0.312695</td>\n",
       "      <td>-3.288025</td>\n",
       "      <td>0.166134</td>\n",
       "      <td>-1.593628</td>\n",
       "      <td>-0.076809</td>\n",
       "    </tr>\n",
       "    <tr>\n",
       "      <th>15</th>\n",
       "      <td>0.592999</td>\n",
       "      <td>0.329235</td>\n",
       "      <td>0.312695</td>\n",
       "      <td>0.206863</td>\n",
       "      <td>0.166134</td>\n",
       "      <td>-0.203419</td>\n",
       "      <td>-0.076809</td>\n",
       "    </tr>\n",
       "    <tr>\n",
       "      <th>16</th>\n",
       "      <td>0.592999</td>\n",
       "      <td>0.329235</td>\n",
       "      <td>0.312695</td>\n",
       "      <td>0.206863</td>\n",
       "      <td>0.166134</td>\n",
       "      <td>0.140440</td>\n",
       "      <td>-0.076809</td>\n",
       "    </tr>\n",
       "    <tr>\n",
       "      <th>17</th>\n",
       "      <td>0.592999</td>\n",
       "      <td>0.329235</td>\n",
       "      <td>0.312695</td>\n",
       "      <td>0.206863</td>\n",
       "      <td>0.166134</td>\n",
       "      <td>-0.203419</td>\n",
       "      <td>-0.076809</td>\n",
       "    </tr>\n",
       "    <tr>\n",
       "      <th>18</th>\n",
       "      <td>0.592999</td>\n",
       "      <td>0.329235</td>\n",
       "      <td>0.312695</td>\n",
       "      <td>0.206863</td>\n",
       "      <td>0.166134</td>\n",
       "      <td>-0.991478</td>\n",
       "      <td>-0.076809</td>\n",
       "    </tr>\n",
       "    <tr>\n",
       "      <th>19</th>\n",
       "      <td>0.592999</td>\n",
       "      <td>0.329235</td>\n",
       "      <td>0.312695</td>\n",
       "      <td>0.206863</td>\n",
       "      <td>0.166134</td>\n",
       "      <td>0.140440</td>\n",
       "      <td>-0.076809</td>\n",
       "    </tr>\n",
       "    <tr>\n",
       "      <th>20</th>\n",
       "      <td>0.592999</td>\n",
       "      <td>0.329235</td>\n",
       "      <td>0.312695</td>\n",
       "      <td>0.206863</td>\n",
       "      <td>0.166134</td>\n",
       "      <td>-0.203419</td>\n",
       "      <td>-0.076809</td>\n",
       "    </tr>\n",
       "    <tr>\n",
       "      <th>21</th>\n",
       "      <td>0.592999</td>\n",
       "      <td>0.329235</td>\n",
       "      <td>0.312695</td>\n",
       "      <td>0.206863</td>\n",
       "      <td>0.166134</td>\n",
       "      <td>-0.203419</td>\n",
       "      <td>-0.076809</td>\n",
       "    </tr>\n",
       "    <tr>\n",
       "      <th>22</th>\n",
       "      <td>0.592999</td>\n",
       "      <td>0.329235</td>\n",
       "      <td>0.312695</td>\n",
       "      <td>0.206863</td>\n",
       "      <td>0.166134</td>\n",
       "      <td>-0.203419</td>\n",
       "      <td>-0.076809</td>\n",
       "    </tr>\n",
       "    <tr>\n",
       "      <th>23</th>\n",
       "      <td>0.592999</td>\n",
       "      <td>0.329235</td>\n",
       "      <td>0.312695</td>\n",
       "      <td>0.206863</td>\n",
       "      <td>0.166134</td>\n",
       "      <td>-0.203419</td>\n",
       "      <td>-0.076809</td>\n",
       "    </tr>\n",
       "    <tr>\n",
       "      <th>24</th>\n",
       "      <td>0.592999</td>\n",
       "      <td>0.329235</td>\n",
       "      <td>0.312695</td>\n",
       "      <td>-3.288025</td>\n",
       "      <td>0.166134</td>\n",
       "      <td>-0.203419</td>\n",
       "      <td>-0.076809</td>\n",
       "    </tr>\n",
       "    <tr>\n",
       "      <th>25</th>\n",
       "      <td>0.592999</td>\n",
       "      <td>0.329235</td>\n",
       "      <td>0.312695</td>\n",
       "      <td>0.206863</td>\n",
       "      <td>-2.015843</td>\n",
       "      <td>-0.203419</td>\n",
       "      <td>-0.076809</td>\n",
       "    </tr>\n",
       "    <tr>\n",
       "      <th>26</th>\n",
       "      <td>0.592999</td>\n",
       "      <td>0.329235</td>\n",
       "      <td>0.312695</td>\n",
       "      <td>0.206863</td>\n",
       "      <td>0.166134</td>\n",
       "      <td>-0.203419</td>\n",
       "      <td>-0.076809</td>\n",
       "    </tr>\n",
       "    <tr>\n",
       "      <th>27</th>\n",
       "      <td>0.592999</td>\n",
       "      <td>0.329235</td>\n",
       "      <td>0.312695</td>\n",
       "      <td>0.206863</td>\n",
       "      <td>0.166134</td>\n",
       "      <td>-0.203419</td>\n",
       "      <td>-0.076809</td>\n",
       "    </tr>\n",
       "    <tr>\n",
       "      <th>28</th>\n",
       "      <td>0.592999</td>\n",
       "      <td>0.329235</td>\n",
       "      <td>0.312695</td>\n",
       "      <td>0.206863</td>\n",
       "      <td>0.166134</td>\n",
       "      <td>0.140440</td>\n",
       "      <td>-0.076809</td>\n",
       "    </tr>\n",
       "    <tr>\n",
       "      <th>29</th>\n",
       "      <td>-2.002822</td>\n",
       "      <td>0.329235</td>\n",
       "      <td>0.312695</td>\n",
       "      <td>0.206863</td>\n",
       "      <td>0.166134</td>\n",
       "      <td>-0.991478</td>\n",
       "      <td>-0.076809</td>\n",
       "    </tr>\n",
       "    <tr>\n",
       "      <th>...</th>\n",
       "      <td>...</td>\n",
       "      <td>...</td>\n",
       "      <td>...</td>\n",
       "      <td>...</td>\n",
       "      <td>...</td>\n",
       "      <td>...</td>\n",
       "      <td>...</td>\n",
       "    </tr>\n",
       "    <tr>\n",
       "      <th>131999</th>\n",
       "      <td>0.592999</td>\n",
       "      <td>0.329235</td>\n",
       "      <td>-2.052494</td>\n",
       "      <td>0.206863</td>\n",
       "      <td>-2.015843</td>\n",
       "      <td>0.140440</td>\n",
       "      <td>-0.076809</td>\n",
       "    </tr>\n",
       "    <tr>\n",
       "      <th>132000</th>\n",
       "      <td>0.592999</td>\n",
       "      <td>0.329235</td>\n",
       "      <td>0.312695</td>\n",
       "      <td>-2.394531</td>\n",
       "      <td>-2.819518</td>\n",
       "      <td>-0.991478</td>\n",
       "      <td>-0.076809</td>\n",
       "    </tr>\n",
       "    <tr>\n",
       "      <th>132001</th>\n",
       "      <td>0.592999</td>\n",
       "      <td>0.329235</td>\n",
       "      <td>0.312695</td>\n",
       "      <td>0.206863</td>\n",
       "      <td>0.166134</td>\n",
       "      <td>0.140440</td>\n",
       "      <td>-0.076809</td>\n",
       "    </tr>\n",
       "    <tr>\n",
       "      <th>132002</th>\n",
       "      <td>0.592999</td>\n",
       "      <td>0.329235</td>\n",
       "      <td>0.312695</td>\n",
       "      <td>0.206863</td>\n",
       "      <td>0.166134</td>\n",
       "      <td>-0.203419</td>\n",
       "      <td>-0.076809</td>\n",
       "    </tr>\n",
       "    <tr>\n",
       "      <th>132003</th>\n",
       "      <td>0.592999</td>\n",
       "      <td>0.329235</td>\n",
       "      <td>0.312695</td>\n",
       "      <td>0.206863</td>\n",
       "      <td>0.166134</td>\n",
       "      <td>0.140440</td>\n",
       "      <td>-0.076809</td>\n",
       "    </tr>\n",
       "    <tr>\n",
       "      <th>132004</th>\n",
       "      <td>0.592999</td>\n",
       "      <td>0.329235</td>\n",
       "      <td>0.312695</td>\n",
       "      <td>0.206863</td>\n",
       "      <td>0.166134</td>\n",
       "      <td>-0.203419</td>\n",
       "      <td>-0.076809</td>\n",
       "    </tr>\n",
       "    <tr>\n",
       "      <th>132005</th>\n",
       "      <td>-2.002822</td>\n",
       "      <td>0.329235</td>\n",
       "      <td>0.312695</td>\n",
       "      <td>0.206863</td>\n",
       "      <td>0.166134</td>\n",
       "      <td>0.140440</td>\n",
       "      <td>-0.076809</td>\n",
       "    </tr>\n",
       "    <tr>\n",
       "      <th>132006</th>\n",
       "      <td>0.592999</td>\n",
       "      <td>0.329235</td>\n",
       "      <td>0.312695</td>\n",
       "      <td>0.206863</td>\n",
       "      <td>0.166134</td>\n",
       "      <td>-0.203419</td>\n",
       "      <td>-0.076809</td>\n",
       "    </tr>\n",
       "    <tr>\n",
       "      <th>132007</th>\n",
       "      <td>0.592999</td>\n",
       "      <td>0.329235</td>\n",
       "      <td>-2.052494</td>\n",
       "      <td>0.206863</td>\n",
       "      <td>0.166134</td>\n",
       "      <td>-0.203419</td>\n",
       "      <td>-0.076809</td>\n",
       "    </tr>\n",
       "    <tr>\n",
       "      <th>132008</th>\n",
       "      <td>0.592999</td>\n",
       "      <td>0.329235</td>\n",
       "      <td>0.312695</td>\n",
       "      <td>0.206863</td>\n",
       "      <td>-3.173452</td>\n",
       "      <td>-1.664694</td>\n",
       "      <td>-0.076809</td>\n",
       "    </tr>\n",
       "    <tr>\n",
       "      <th>132009</th>\n",
       "      <td>0.592999</td>\n",
       "      <td>0.329235</td>\n",
       "      <td>0.312695</td>\n",
       "      <td>0.206863</td>\n",
       "      <td>0.166134</td>\n",
       "      <td>-0.991478</td>\n",
       "      <td>-0.076809</td>\n",
       "    </tr>\n",
       "    <tr>\n",
       "      <th>132010</th>\n",
       "      <td>0.592999</td>\n",
       "      <td>0.329235</td>\n",
       "      <td>0.312695</td>\n",
       "      <td>0.206863</td>\n",
       "      <td>0.166134</td>\n",
       "      <td>0.140440</td>\n",
       "      <td>-0.076809</td>\n",
       "    </tr>\n",
       "    <tr>\n",
       "      <th>132011</th>\n",
       "      <td>0.592999</td>\n",
       "      <td>0.329235</td>\n",
       "      <td>0.312695</td>\n",
       "      <td>0.206863</td>\n",
       "      <td>-2.015843</td>\n",
       "      <td>-0.203419</td>\n",
       "      <td>-0.076809</td>\n",
       "    </tr>\n",
       "    <tr>\n",
       "      <th>132012</th>\n",
       "      <td>0.592999</td>\n",
       "      <td>0.329235</td>\n",
       "      <td>0.312695</td>\n",
       "      <td>0.206863</td>\n",
       "      <td>0.166134</td>\n",
       "      <td>-0.203419</td>\n",
       "      <td>-0.076809</td>\n",
       "    </tr>\n",
       "    <tr>\n",
       "      <th>132013</th>\n",
       "      <td>0.592999</td>\n",
       "      <td>0.329235</td>\n",
       "      <td>0.312695</td>\n",
       "      <td>0.206863</td>\n",
       "      <td>0.166134</td>\n",
       "      <td>-0.203419</td>\n",
       "      <td>-0.076809</td>\n",
       "    </tr>\n",
       "    <tr>\n",
       "      <th>132014</th>\n",
       "      <td>0.592999</td>\n",
       "      <td>0.329235</td>\n",
       "      <td>0.312695</td>\n",
       "      <td>0.206863</td>\n",
       "      <td>0.166134</td>\n",
       "      <td>-0.203419</td>\n",
       "      <td>-0.076809</td>\n",
       "    </tr>\n",
       "    <tr>\n",
       "      <th>132015</th>\n",
       "      <td>0.592999</td>\n",
       "      <td>0.329235</td>\n",
       "      <td>0.312695</td>\n",
       "      <td>0.206863</td>\n",
       "      <td>-2.015843</td>\n",
       "      <td>-0.203419</td>\n",
       "      <td>-0.076809</td>\n",
       "    </tr>\n",
       "    <tr>\n",
       "      <th>132016</th>\n",
       "      <td>0.592999</td>\n",
       "      <td>0.329235</td>\n",
       "      <td>0.312695</td>\n",
       "      <td>0.206863</td>\n",
       "      <td>0.166134</td>\n",
       "      <td>-0.203419</td>\n",
       "      <td>-0.076809</td>\n",
       "    </tr>\n",
       "    <tr>\n",
       "      <th>132017</th>\n",
       "      <td>-3.400198</td>\n",
       "      <td>0.329235</td>\n",
       "      <td>-2.052494</td>\n",
       "      <td>0.206863</td>\n",
       "      <td>0.166134</td>\n",
       "      <td>-0.203419</td>\n",
       "      <td>-0.076809</td>\n",
       "    </tr>\n",
       "    <tr>\n",
       "      <th>132018</th>\n",
       "      <td>0.592999</td>\n",
       "      <td>0.329235</td>\n",
       "      <td>0.312695</td>\n",
       "      <td>0.206863</td>\n",
       "      <td>0.166134</td>\n",
       "      <td>0.140440</td>\n",
       "      <td>-0.076809</td>\n",
       "    </tr>\n",
       "    <tr>\n",
       "      <th>132019</th>\n",
       "      <td>0.592999</td>\n",
       "      <td>0.329235</td>\n",
       "      <td>0.312695</td>\n",
       "      <td>0.206863</td>\n",
       "      <td>0.166134</td>\n",
       "      <td>0.140440</td>\n",
       "      <td>-0.076809</td>\n",
       "    </tr>\n",
       "    <tr>\n",
       "      <th>132020</th>\n",
       "      <td>0.592999</td>\n",
       "      <td>0.329235</td>\n",
       "      <td>0.312695</td>\n",
       "      <td>0.206863</td>\n",
       "      <td>0.166134</td>\n",
       "      <td>0.140440</td>\n",
       "      <td>-0.076809</td>\n",
       "    </tr>\n",
       "    <tr>\n",
       "      <th>132021</th>\n",
       "      <td>0.592999</td>\n",
       "      <td>0.329235</td>\n",
       "      <td>0.312695</td>\n",
       "      <td>0.206863</td>\n",
       "      <td>0.166134</td>\n",
       "      <td>0.140440</td>\n",
       "      <td>-0.076809</td>\n",
       "    </tr>\n",
       "    <tr>\n",
       "      <th>132022</th>\n",
       "      <td>0.592999</td>\n",
       "      <td>0.329235</td>\n",
       "      <td>0.312695</td>\n",
       "      <td>0.206863</td>\n",
       "      <td>0.166134</td>\n",
       "      <td>-1.664694</td>\n",
       "      <td>-0.076809</td>\n",
       "    </tr>\n",
       "    <tr>\n",
       "      <th>132023</th>\n",
       "      <td>0.592999</td>\n",
       "      <td>0.329235</td>\n",
       "      <td>0.312695</td>\n",
       "      <td>0.206863</td>\n",
       "      <td>0.166134</td>\n",
       "      <td>0.140440</td>\n",
       "      <td>-0.076809</td>\n",
       "    </tr>\n",
       "    <tr>\n",
       "      <th>132024</th>\n",
       "      <td>0.592999</td>\n",
       "      <td>0.329235</td>\n",
       "      <td>0.312695</td>\n",
       "      <td>0.206863</td>\n",
       "      <td>0.166134</td>\n",
       "      <td>0.140440</td>\n",
       "      <td>-0.076809</td>\n",
       "    </tr>\n",
       "    <tr>\n",
       "      <th>132025</th>\n",
       "      <td>0.592999</td>\n",
       "      <td>0.329235</td>\n",
       "      <td>-2.052494</td>\n",
       "      <td>0.206863</td>\n",
       "      <td>0.166134</td>\n",
       "      <td>-0.203419</td>\n",
       "      <td>-0.076809</td>\n",
       "    </tr>\n",
       "    <tr>\n",
       "      <th>132026</th>\n",
       "      <td>0.592999</td>\n",
       "      <td>0.329235</td>\n",
       "      <td>0.312695</td>\n",
       "      <td>0.206863</td>\n",
       "      <td>0.166134</td>\n",
       "      <td>-0.203419</td>\n",
       "      <td>-0.076809</td>\n",
       "    </tr>\n",
       "    <tr>\n",
       "      <th>132027</th>\n",
       "      <td>0.592999</td>\n",
       "      <td>0.329235</td>\n",
       "      <td>0.312695</td>\n",
       "      <td>0.206863</td>\n",
       "      <td>0.166134</td>\n",
       "      <td>-0.203419</td>\n",
       "      <td>-0.076809</td>\n",
       "    </tr>\n",
       "    <tr>\n",
       "      <th>132028</th>\n",
       "      <td>0.592999</td>\n",
       "      <td>0.329235</td>\n",
       "      <td>0.312695</td>\n",
       "      <td>0.206863</td>\n",
       "      <td>0.166134</td>\n",
       "      <td>0.140440</td>\n",
       "      <td>-0.076809</td>\n",
       "    </tr>\n",
       "  </tbody>\n",
       "</table>\n",
       "<p>132029 rows × 7 columns</p>\n",
       "</div>"
      ],
      "text/plain": [
       "        certValidStop_br_encoding_Bin_WOE  residentAddr_br_encoding_Bin_WOE  \\\n",
       "0                                0.592999                          0.329235   \n",
       "1                                0.592999                          0.329235   \n",
       "2                                0.592999                          0.329235   \n",
       "3                                0.592999                          0.329235   \n",
       "4                               -2.641612                          0.329235   \n",
       "5                                0.592999                          0.329235   \n",
       "6                                0.592999                          0.329235   \n",
       "7                                0.592999                          0.329235   \n",
       "8                                0.592999                          0.329235   \n",
       "9                               -2.002822                          0.329235   \n",
       "10                               0.592999                          0.329235   \n",
       "11                              -2.002822                          0.329235   \n",
       "12                               0.592999                          0.329235   \n",
       "13                               0.592999                          0.329235   \n",
       "14                               0.592999                          0.329235   \n",
       "15                               0.592999                          0.329235   \n",
       "16                               0.592999                          0.329235   \n",
       "17                               0.592999                          0.329235   \n",
       "18                               0.592999                          0.329235   \n",
       "19                               0.592999                          0.329235   \n",
       "20                               0.592999                          0.329235   \n",
       "21                               0.592999                          0.329235   \n",
       "22                               0.592999                          0.329235   \n",
       "23                               0.592999                          0.329235   \n",
       "24                               0.592999                          0.329235   \n",
       "25                               0.592999                          0.329235   \n",
       "26                               0.592999                          0.329235   \n",
       "27                               0.592999                          0.329235   \n",
       "28                               0.592999                          0.329235   \n",
       "29                              -2.002822                          0.329235   \n",
       "...                                   ...                               ...   \n",
       "131999                           0.592999                          0.329235   \n",
       "132000                           0.592999                          0.329235   \n",
       "132001                           0.592999                          0.329235   \n",
       "132002                           0.592999                          0.329235   \n",
       "132003                           0.592999                          0.329235   \n",
       "132004                           0.592999                          0.329235   \n",
       "132005                          -2.002822                          0.329235   \n",
       "132006                           0.592999                          0.329235   \n",
       "132007                           0.592999                          0.329235   \n",
       "132008                           0.592999                          0.329235   \n",
       "132009                           0.592999                          0.329235   \n",
       "132010                           0.592999                          0.329235   \n",
       "132011                           0.592999                          0.329235   \n",
       "132012                           0.592999                          0.329235   \n",
       "132013                           0.592999                          0.329235   \n",
       "132014                           0.592999                          0.329235   \n",
       "132015                           0.592999                          0.329235   \n",
       "132016                           0.592999                          0.329235   \n",
       "132017                          -3.400198                          0.329235   \n",
       "132018                           0.592999                          0.329235   \n",
       "132019                           0.592999                          0.329235   \n",
       "132020                           0.592999                          0.329235   \n",
       "132021                           0.592999                          0.329235   \n",
       "132022                           0.592999                          0.329235   \n",
       "132023                           0.592999                          0.329235   \n",
       "132024                           0.592999                          0.329235   \n",
       "132025                           0.592999                          0.329235   \n",
       "132026                           0.592999                          0.329235   \n",
       "132027                           0.592999                          0.329235   \n",
       "132028                           0.592999                          0.329235   \n",
       "\n",
       "        certValidBegin_br_encoding_Bin_WOE  certId_br_encoding_Bin_WOE  \\\n",
       "0                                 0.312695                    0.206863   \n",
       "1                                -2.052494                    0.206863   \n",
       "2                                 0.312695                    0.206863   \n",
       "3                                 0.312695                    0.206863   \n",
       "4                                -2.052494                    0.206863   \n",
       "5                                 0.312695                    0.206863   \n",
       "6                                 0.312695                    0.206863   \n",
       "7                                 0.312695                    0.206863   \n",
       "8                                -2.052494                    0.206863   \n",
       "9                                 0.312695                    0.206863   \n",
       "10                                0.312695                    0.206863   \n",
       "11                                0.312695                    0.206863   \n",
       "12                                0.312695                    0.206863   \n",
       "13                                0.312695                   -2.394531   \n",
       "14                                0.312695                   -3.288025   \n",
       "15                                0.312695                    0.206863   \n",
       "16                                0.312695                    0.206863   \n",
       "17                                0.312695                    0.206863   \n",
       "18                                0.312695                    0.206863   \n",
       "19                                0.312695                    0.206863   \n",
       "20                                0.312695                    0.206863   \n",
       "21                                0.312695                    0.206863   \n",
       "22                                0.312695                    0.206863   \n",
       "23                                0.312695                    0.206863   \n",
       "24                                0.312695                   -3.288025   \n",
       "25                                0.312695                    0.206863   \n",
       "26                                0.312695                    0.206863   \n",
       "27                                0.312695                    0.206863   \n",
       "28                                0.312695                    0.206863   \n",
       "29                                0.312695                    0.206863   \n",
       "...                                    ...                         ...   \n",
       "131999                           -2.052494                    0.206863   \n",
       "132000                            0.312695                   -2.394531   \n",
       "132001                            0.312695                    0.206863   \n",
       "132002                            0.312695                    0.206863   \n",
       "132003                            0.312695                    0.206863   \n",
       "132004                            0.312695                    0.206863   \n",
       "132005                            0.312695                    0.206863   \n",
       "132006                            0.312695                    0.206863   \n",
       "132007                           -2.052494                    0.206863   \n",
       "132008                            0.312695                    0.206863   \n",
       "132009                            0.312695                    0.206863   \n",
       "132010                            0.312695                    0.206863   \n",
       "132011                            0.312695                    0.206863   \n",
       "132012                            0.312695                    0.206863   \n",
       "132013                            0.312695                    0.206863   \n",
       "132014                            0.312695                    0.206863   \n",
       "132015                            0.312695                    0.206863   \n",
       "132016                            0.312695                    0.206863   \n",
       "132017                           -2.052494                    0.206863   \n",
       "132018                            0.312695                    0.206863   \n",
       "132019                            0.312695                    0.206863   \n",
       "132020                            0.312695                    0.206863   \n",
       "132021                            0.312695                    0.206863   \n",
       "132022                            0.312695                    0.206863   \n",
       "132023                            0.312695                    0.206863   \n",
       "132024                            0.312695                    0.206863   \n",
       "132025                           -2.052494                    0.206863   \n",
       "132026                            0.312695                    0.206863   \n",
       "132027                            0.312695                    0.206863   \n",
       "132028                            0.312695                    0.206863   \n",
       "\n",
       "        dist_br_encoding_Bin_WOE  lmt_Bin_WOE  ethnic_br_encoding_Bin_WOE  \n",
       "0                       0.166134    -0.203419                   -0.076809  \n",
       "1                       0.166134     0.140440                   -0.076809  \n",
       "2                       0.166134    -1.664694                   -0.076809  \n",
       "3                       0.166134    -0.203419                   -0.076809  \n",
       "4                      -2.819518     0.140440                   -0.076809  \n",
       "5                       0.166134    -0.203419                   -0.076809  \n",
       "6                       0.166134     0.140440                   -0.076809  \n",
       "7                       0.166134    -0.991478                   -0.076809  \n",
       "8                       0.166134    -1.593628                   -0.076809  \n",
       "9                       0.166134     0.140440                   -0.076809  \n",
       "10                      0.166134    -0.991478                   -0.076809  \n",
       "11                      0.166134    -0.203419                   -0.076809  \n",
       "12                      0.166134    -1.664694                   -0.076809  \n",
       "13                      0.166134    -0.991478                   -0.076809  \n",
       "14                      0.166134    -1.593628                   -0.076809  \n",
       "15                      0.166134    -0.203419                   -0.076809  \n",
       "16                      0.166134     0.140440                   -0.076809  \n",
       "17                      0.166134    -0.203419                   -0.076809  \n",
       "18                      0.166134    -0.991478                   -0.076809  \n",
       "19                      0.166134     0.140440                   -0.076809  \n",
       "20                      0.166134    -0.203419                   -0.076809  \n",
       "21                      0.166134    -0.203419                   -0.076809  \n",
       "22                      0.166134    -0.203419                   -0.076809  \n",
       "23                      0.166134    -0.203419                   -0.076809  \n",
       "24                      0.166134    -0.203419                   -0.076809  \n",
       "25                     -2.015843    -0.203419                   -0.076809  \n",
       "26                      0.166134    -0.203419                   -0.076809  \n",
       "27                      0.166134    -0.203419                   -0.076809  \n",
       "28                      0.166134     0.140440                   -0.076809  \n",
       "29                      0.166134    -0.991478                   -0.076809  \n",
       "...                          ...          ...                         ...  \n",
       "131999                 -2.015843     0.140440                   -0.076809  \n",
       "132000                 -2.819518    -0.991478                   -0.076809  \n",
       "132001                  0.166134     0.140440                   -0.076809  \n",
       "132002                  0.166134    -0.203419                   -0.076809  \n",
       "132003                  0.166134     0.140440                   -0.076809  \n",
       "132004                  0.166134    -0.203419                   -0.076809  \n",
       "132005                  0.166134     0.140440                   -0.076809  \n",
       "132006                  0.166134    -0.203419                   -0.076809  \n",
       "132007                  0.166134    -0.203419                   -0.076809  \n",
       "132008                 -3.173452    -1.664694                   -0.076809  \n",
       "132009                  0.166134    -0.991478                   -0.076809  \n",
       "132010                  0.166134     0.140440                   -0.076809  \n",
       "132011                 -2.015843    -0.203419                   -0.076809  \n",
       "132012                  0.166134    -0.203419                   -0.076809  \n",
       "132013                  0.166134    -0.203419                   -0.076809  \n",
       "132014                  0.166134    -0.203419                   -0.076809  \n",
       "132015                 -2.015843    -0.203419                   -0.076809  \n",
       "132016                  0.166134    -0.203419                   -0.076809  \n",
       "132017                  0.166134    -0.203419                   -0.076809  \n",
       "132018                  0.166134     0.140440                   -0.076809  \n",
       "132019                  0.166134     0.140440                   -0.076809  \n",
       "132020                  0.166134     0.140440                   -0.076809  \n",
       "132021                  0.166134     0.140440                   -0.076809  \n",
       "132022                  0.166134    -1.664694                   -0.076809  \n",
       "132023                  0.166134     0.140440                   -0.076809  \n",
       "132024                  0.166134     0.140440                   -0.076809  \n",
       "132025                  0.166134    -0.203419                   -0.076809  \n",
       "132026                  0.166134    -0.203419                   -0.076809  \n",
       "132027                  0.166134    -0.203419                   -0.076809  \n",
       "132028                  0.166134     0.140440                   -0.076809  \n",
       "\n",
       "[132029 rows x 7 columns]"
      ]
     },
     "execution_count": 177,
     "metadata": {},
     "output_type": "execute_result"
    }
   ],
   "source": [
    "#data.replace(np.inf,0, inplace=True)\n",
    "data[multi_analysis_vars_1]"
   ]
  },
  {
   "cell_type": "code",
   "execution_count": 259,
   "metadata": {},
   "outputs": [
    {
     "name": "stdout",
     "output_type": "stream",
     "text": [
      "1.5378155212605673\n"
     ]
    }
   ],
   "source": [
    "##多变量分析：VIF\n",
    "from utils import variance_inflation_factor\n",
    "\n",
    "X = np.matrix(data[multi_analysis_vars_1])\n",
    "VIF_list = [variance_inflation_factor(X, i) for i in range(X.shape[1])]\n",
    "max_VIF = max(VIF_list)\n",
    "print(max_VIF)\n",
    "# 最大的VIF是1.32267733123(小于10)，因此这一步认为没有多重共线性\n",
    "multi_analysis = multi_analysis_vars_1"
   ]
  },
  {
   "cell_type": "code",
   "execution_count": 260,
   "metadata": {},
   "outputs": [
    {
     "name": "stdout",
     "output_type": "stream",
     "text": [
      "['lmt_Bin_WOE', 'certId_br_encoding_Bin_WOE', 'dist_br_encoding_Bin_WOE', 'certValidBegin_br_encoding_Bin_WOE', 'certValidStop_br_encoding_Bin_WOE', 'residentAddr_br_encoding_Bin_WOE']\n"
     ]
    }
   ],
   "source": [
    "print(data.columns.tolist())"
   ]
  },
  {
   "cell_type": "code",
   "execution_count": 261,
   "metadata": {},
   "outputs": [
    {
     "data": {
      "text/plain": [
       "-0.203419    63410\n",
       " 0.140440    47497\n",
       "-0.991478    11785\n",
       "-1.593628     4790\n",
       "-1.664694     4547\n",
       "Name: lmt_Bin_WOE, dtype: int64"
      ]
     },
     "execution_count": 261,
     "metadata": {},
     "output_type": "execute_result"
    }
   ],
   "source": [
    "data.lmt_Bin_WOE.value_counts()"
   ]
  },
  {
   "cell_type": "code",
   "execution_count": 262,
   "metadata": {},
   "outputs": [
    {
     "data": {
      "text/html": [
       "<div>\n",
       "<style scoped>\n",
       "    .dataframe tbody tr th:only-of-type {\n",
       "        vertical-align: middle;\n",
       "    }\n",
       "\n",
       "    .dataframe tbody tr th {\n",
       "        vertical-align: top;\n",
       "    }\n",
       "\n",
       "    .dataframe thead th {\n",
       "        text-align: right;\n",
       "    }\n",
       "</style>\n",
       "<table border=\"1\" class=\"dataframe\">\n",
       "  <thead>\n",
       "    <tr style=\"text-align: right;\">\n",
       "      <th></th>\n",
       "      <th>lmt_Bin_WOE</th>\n",
       "      <th>certId_br_encoding_Bin_WOE</th>\n",
       "      <th>dist_br_encoding_Bin_WOE</th>\n",
       "      <th>certValidBegin_br_encoding_Bin_WOE</th>\n",
       "      <th>certValidStop_br_encoding_Bin_WOE</th>\n",
       "      <th>residentAddr_br_encoding_Bin_WOE</th>\n",
       "    </tr>\n",
       "  </thead>\n",
       "  <tbody>\n",
       "    <tr>\n",
       "      <th>0</th>\n",
       "      <td>-0.203419</td>\n",
       "      <td>0.206863</td>\n",
       "      <td>0.166134</td>\n",
       "      <td>0.312695</td>\n",
       "      <td>0.592999</td>\n",
       "      <td>0.329235</td>\n",
       "    </tr>\n",
       "    <tr>\n",
       "      <th>1</th>\n",
       "      <td>0.140440</td>\n",
       "      <td>0.206863</td>\n",
       "      <td>0.166134</td>\n",
       "      <td>-2.052494</td>\n",
       "      <td>0.592999</td>\n",
       "      <td>0.329235</td>\n",
       "    </tr>\n",
       "    <tr>\n",
       "      <th>2</th>\n",
       "      <td>-1.664694</td>\n",
       "      <td>0.206863</td>\n",
       "      <td>0.166134</td>\n",
       "      <td>0.312695</td>\n",
       "      <td>0.592999</td>\n",
       "      <td>0.329235</td>\n",
       "    </tr>\n",
       "    <tr>\n",
       "      <th>3</th>\n",
       "      <td>-0.203419</td>\n",
       "      <td>0.206863</td>\n",
       "      <td>0.166134</td>\n",
       "      <td>0.312695</td>\n",
       "      <td>0.592999</td>\n",
       "      <td>0.329235</td>\n",
       "    </tr>\n",
       "    <tr>\n",
       "      <th>4</th>\n",
       "      <td>0.140440</td>\n",
       "      <td>0.206863</td>\n",
       "      <td>-2.819518</td>\n",
       "      <td>-2.052494</td>\n",
       "      <td>-2.641612</td>\n",
       "      <td>0.329235</td>\n",
       "    </tr>\n",
       "  </tbody>\n",
       "</table>\n",
       "</div>"
      ],
      "text/plain": [
       "   lmt_Bin_WOE  certId_br_encoding_Bin_WOE  dist_br_encoding_Bin_WOE  \\\n",
       "0    -0.203419                    0.206863                  0.166134   \n",
       "1     0.140440                    0.206863                  0.166134   \n",
       "2    -1.664694                    0.206863                  0.166134   \n",
       "3    -0.203419                    0.206863                  0.166134   \n",
       "4     0.140440                    0.206863                 -2.819518   \n",
       "\n",
       "   certValidBegin_br_encoding_Bin_WOE  certValidStop_br_encoding_Bin_WOE  \\\n",
       "0                            0.312695                           0.592999   \n",
       "1                           -2.052494                           0.592999   \n",
       "2                            0.312695                           0.592999   \n",
       "3                            0.312695                           0.592999   \n",
       "4                           -2.052494                          -2.641612   \n",
       "\n",
       "   residentAddr_br_encoding_Bin_WOE  \n",
       "0                          0.329235  \n",
       "1                          0.329235  \n",
       "2                          0.329235  \n",
       "3                          0.329235  \n",
       "4                          0.329235  "
      ]
     },
     "execution_count": 262,
     "metadata": {},
     "output_type": "execute_result"
    }
   ],
   "source": [
    "data.head()"
   ]
  },
  {
   "cell_type": "markdown",
   "metadata": {},
   "source": [
    "### 特征分箱完成"
   ]
  },
  {
   "cell_type": "code",
   "execution_count": 263,
   "metadata": {},
   "outputs": [
    {
     "data": {
      "text/html": [
       "<div>\n",
       "<style scoped>\n",
       "    .dataframe tbody tr th:only-of-type {\n",
       "        vertical-align: middle;\n",
       "    }\n",
       "\n",
       "    .dataframe tbody tr th {\n",
       "        vertical-align: top;\n",
       "    }\n",
       "\n",
       "    .dataframe thead th {\n",
       "        text-align: right;\n",
       "    }\n",
       "</style>\n",
       "<table border=\"1\" class=\"dataframe\">\n",
       "  <thead>\n",
       "    <tr style=\"text-align: right;\">\n",
       "      <th></th>\n",
       "      <th>gender</th>\n",
       "      <th>5yearBadloan</th>\n",
       "      <th>loanProduct</th>\n",
       "      <th>basicLevel</th>\n",
       "      <th>edu</th>\n",
       "      <th>job</th>\n",
       "      <th>cardname</th>\n",
       "      <th>highestEdu</th>\n",
       "      <th>linkRela</th>\n",
       "      <th>ncloseCreditCard</th>\n",
       "      <th>...</th>\n",
       "      <th>x_76</th>\n",
       "      <th>x_77</th>\n",
       "      <th>x_78</th>\n",
       "      <th>isNew</th>\n",
       "      <th>lmt_Bin_WOE</th>\n",
       "      <th>certId_br_encoding_Bin_WOE</th>\n",
       "      <th>dist_br_encoding_Bin_WOE</th>\n",
       "      <th>certValidBegin_br_encoding_Bin_WOE</th>\n",
       "      <th>certValidStop_br_encoding_Bin_WOE</th>\n",
       "      <th>residentAddr_br_encoding_Bin_WOE</th>\n",
       "    </tr>\n",
       "  </thead>\n",
       "  <tbody>\n",
       "    <tr>\n",
       "      <th>0</th>\n",
       "      <td>2</td>\n",
       "      <td>0</td>\n",
       "      <td>1</td>\n",
       "      <td>3</td>\n",
       "      <td>0</td>\n",
       "      <td>8</td>\n",
       "      <td>其他卡产品</td>\n",
       "      <td>-999</td>\n",
       "      <td>0</td>\n",
       "      <td>1</td>\n",
       "      <td>...</td>\n",
       "      <td>0</td>\n",
       "      <td>0</td>\n",
       "      <td>0</td>\n",
       "      <td>1</td>\n",
       "      <td>-0.203419</td>\n",
       "      <td>0.206863</td>\n",
       "      <td>0.166134</td>\n",
       "      <td>0.312695</td>\n",
       "      <td>0.592999</td>\n",
       "      <td>0.329235</td>\n",
       "    </tr>\n",
       "    <tr>\n",
       "      <th>1</th>\n",
       "      <td>2</td>\n",
       "      <td>0</td>\n",
       "      <td>2</td>\n",
       "      <td>3</td>\n",
       "      <td>0</td>\n",
       "      <td>3</td>\n",
       "      <td>金穗通宝卡（银联卡）</td>\n",
       "      <td>99</td>\n",
       "      <td>11</td>\n",
       "      <td>1</td>\n",
       "      <td>...</td>\n",
       "      <td>0</td>\n",
       "      <td>0</td>\n",
       "      <td>0</td>\n",
       "      <td>1</td>\n",
       "      <td>0.140440</td>\n",
       "      <td>0.206863</td>\n",
       "      <td>0.166134</td>\n",
       "      <td>-2.052494</td>\n",
       "      <td>0.592999</td>\n",
       "      <td>0.329235</td>\n",
       "    </tr>\n",
       "    <tr>\n",
       "      <th>2</th>\n",
       "      <td>2</td>\n",
       "      <td>0</td>\n",
       "      <td>1</td>\n",
       "      <td>1</td>\n",
       "      <td>70</td>\n",
       "      <td>5</td>\n",
       "      <td>其他卡产品</td>\n",
       "      <td>70</td>\n",
       "      <td>0</td>\n",
       "      <td>0</td>\n",
       "      <td>...</td>\n",
       "      <td>0</td>\n",
       "      <td>0</td>\n",
       "      <td>0</td>\n",
       "      <td>1</td>\n",
       "      <td>-1.664694</td>\n",
       "      <td>0.206863</td>\n",
       "      <td>0.166134</td>\n",
       "      <td>0.312695</td>\n",
       "      <td>0.592999</td>\n",
       "      <td>0.329235</td>\n",
       "    </tr>\n",
       "    <tr>\n",
       "      <th>3</th>\n",
       "      <td>2</td>\n",
       "      <td>0</td>\n",
       "      <td>3</td>\n",
       "      <td>3</td>\n",
       "      <td>0</td>\n",
       "      <td>4</td>\n",
       "      <td>其他卡产品</td>\n",
       "      <td>-999</td>\n",
       "      <td>-999</td>\n",
       "      <td>1</td>\n",
       "      <td>...</td>\n",
       "      <td>0</td>\n",
       "      <td>0</td>\n",
       "      <td>0</td>\n",
       "      <td>1</td>\n",
       "      <td>-0.203419</td>\n",
       "      <td>0.206863</td>\n",
       "      <td>0.166134</td>\n",
       "      <td>0.312695</td>\n",
       "      <td>0.592999</td>\n",
       "      <td>0.329235</td>\n",
       "    </tr>\n",
       "    <tr>\n",
       "      <th>4</th>\n",
       "      <td>2</td>\n",
       "      <td>0</td>\n",
       "      <td>2</td>\n",
       "      <td>2</td>\n",
       "      <td>0</td>\n",
       "      <td>2</td>\n",
       "      <td>龙卡储蓄卡（银联卡）</td>\n",
       "      <td>99</td>\n",
       "      <td>11</td>\n",
       "      <td>1</td>\n",
       "      <td>...</td>\n",
       "      <td>0</td>\n",
       "      <td>0</td>\n",
       "      <td>0</td>\n",
       "      <td>1</td>\n",
       "      <td>0.140440</td>\n",
       "      <td>0.206863</td>\n",
       "      <td>-2.819518</td>\n",
       "      <td>-2.052494</td>\n",
       "      <td>-2.641612</td>\n",
       "      <td>0.329235</td>\n",
       "    </tr>\n",
       "  </tbody>\n",
       "</table>\n",
       "<p>5 rows × 101 columns</p>\n",
       "</div>"
      ],
      "text/plain": [
       "   gender  5yearBadloan  loanProduct  basicLevel  edu  job    cardname  \\\n",
       "0       2             0            1           3    0    8       其他卡产品   \n",
       "1       2             0            2           3    0    3  金穗通宝卡（银联卡）   \n",
       "2       2             0            1           1   70    5       其他卡产品   \n",
       "3       2             0            3           3    0    4       其他卡产品   \n",
       "4       2             0            2           2    0    2  龙卡储蓄卡（银联卡）   \n",
       "\n",
       "   highestEdu  linkRela  ncloseCreditCard  ...  x_76  x_77  x_78  isNew  \\\n",
       "0        -999         0                 1  ...     0     0     0      1   \n",
       "1          99        11                 1  ...     0     0     0      1   \n",
       "2          70         0                 0  ...     0     0     0      1   \n",
       "3        -999      -999                 1  ...     0     0     0      1   \n",
       "4          99        11                 1  ...     0     0     0      1   \n",
       "\n",
       "   lmt_Bin_WOE  certId_br_encoding_Bin_WOE  dist_br_encoding_Bin_WOE  \\\n",
       "0    -0.203419                    0.206863                  0.166134   \n",
       "1     0.140440                    0.206863                  0.166134   \n",
       "2    -1.664694                    0.206863                  0.166134   \n",
       "3    -0.203419                    0.206863                  0.166134   \n",
       "4     0.140440                    0.206863                 -2.819518   \n",
       "\n",
       "   certValidBegin_br_encoding_Bin_WOE  certValidStop_br_encoding_Bin_WOE  \\\n",
       "0                            0.312695                           0.592999   \n",
       "1                           -2.052494                           0.592999   \n",
       "2                            0.312695                           0.592999   \n",
       "3                            0.312695                           0.592999   \n",
       "4                           -2.052494                          -2.641612   \n",
       "\n",
       "   residentAddr_br_encoding_Bin_WOE  \n",
       "0                          0.329235  \n",
       "1                          0.329235  \n",
       "2                          0.329235  \n",
       "3                          0.329235  \n",
       "4                          0.329235  \n",
       "\n",
       "[5 rows x 101 columns]"
      ]
     },
     "execution_count": 263,
     "metadata": {},
     "output_type": "execute_result"
    }
   ],
   "source": [
    "#bin_features + spec_features\n",
    "#train_x[bin_features + spec_features]\n",
    "all_columns = nonm_features + spec_features + split_features + data.columns.tolist() \n",
    "X = pd.concat([train_x[nonm_features + spec_features + split_features], data], axis=1)\n",
    "y = train_y['target']\n",
    "X.head()"
   ]
  },
  {
   "cell_type": "code",
   "execution_count": 264,
   "metadata": {},
   "outputs": [
    {
     "name": "stdout",
     "output_type": "stream",
     "text": [
      "(132029, 101) (132029,)\n"
     ]
    }
   ],
   "source": [
    "print(X.shape,y.shape)"
   ]
  },
  {
   "cell_type": "code",
   "execution_count": 265,
   "metadata": {},
   "outputs": [
    {
     "name": "stdout",
     "output_type": "stream",
     "text": [
      "['gender', '5yearBadloan', 'loanProduct', 'basicLevel', 'edu', 'job', 'cardname', 'highestEdu', 'linkRela', 'ncloseCreditCard', 'unpayIndvLoan', 'unpayOtherLoan', 'unpayNormalLoan', 'weekday', 'ethnic', 'x_0', 'x_1', 'x_2', 'x_3', 'x_4', 'x_5', 'x_6', 'x_7', 'x_8', 'x_9', 'x_10', 'x_11', 'x_12', 'x_13', 'x_14', 'x_15', 'x_16', 'x_17', 'x_18', 'x_19', 'x_20', 'x_21', 'x_22', 'x_23', 'x_24', 'x_25', 'x_26', 'x_27', 'x_28', 'x_29', 'x_30', 'x_31', 'x_32', 'x_33', 'x_34', 'x_35', 'x_36', 'x_37', 'x_38', 'x_39', 'x_40', 'x_41', 'x_42', 'x_43', 'x_44', 'x_45', 'x_46', 'x_47', 'x_48', 'x_49', 'x_50', 'x_51', 'x_52', 'x_53', 'x_54', 'x_55', 'x_56', 'x_57', 'x_58', 'x_59', 'x_60', 'x_61', 'x_62', 'x_63', 'x_64', 'x_65', 'x_66', 'x_67', 'x_68', 'x_69', 'x_70', 'x_71', 'x_72', 'x_73', 'x_74', 'x_75', 'x_76', 'x_77', 'x_78', 'isNew', 'lmt_Bin_WOE', 'certId_br_encoding_Bin_WOE', 'dist_br_encoding_Bin_WOE', 'certValidBegin_br_encoding_Bin_WOE', 'certValidStop_br_encoding_Bin_WOE', 'residentAddr_br_encoding_Bin_WOE']\n"
     ]
    }
   ],
   "source": [
    "print(X.columns.tolist())"
   ]
  },
  {
   "cell_type": "markdown",
   "metadata": {},
   "source": [
    "## OneHotEncoder for categary feature\n",
    "\n",
    "- 分类器往往默认数据数据是连续的，并且是有序的。\n",
    "- 一种可能的解决方法是采用独热编码（One-Hot Encoding）。热编码即 One-Hot 编码，又称一位有效编码，其方法是使用N位状态寄存器来对N个状态进行编码，每个状态都由他独立的寄存器位，并且在任意时候，其中只有一位有效。\n",
    "- 据经验，one-hot用在GBDT、XGBoost这些模型里面都挺好的，但是用在逻辑回归里不行。因为逻辑回归要求变量间相互独立，如果你只有一个属性需要做one-hot编码还好，如果你有多个属性需要做one-ont编码，那么当某个样本的多个one-hot属性同时为1时，这两个属性就完全相关了，必然会导致singular error，也就是非奇异矩阵不能求解唯一解，得不出唯一的模型，但是你又不可能把同一个属性的某一个one-hot延伸变量删除。\n",
    "- 如果在逻辑回归中入模标称属性，可以直接替换成数值，然后做woe变换，用每个类别的woe值来代替原来的数值，这样既能够避免生成相关性强的变量，又能避开类别间大小无法比较的问题。\n",
    "\n",
    "> 原文链接：https://blog.csdn.net/weixin_39750084/article/details/81432619\n",
    "\n",
    "\n",
    "**Is OneHotEncoder really needed for XGBoost?**\n",
    "\n",
    "**geher:**\n",
    "\n",
    "This is a difficult question to answer, and has been discussed here before. \n",
    "**XGBoost and other tree models** typically don't require one hot encoding like linear models do. This is because the ordering of labels when using label encoding matters less for trees. One hot encoding for tree based algorithms may also perform poorly due to reasons discussed in the book Elements of Machine Learning (Hastie/Tibshirani/Friedman):\n",
    "\n",
    "\"The partitioning algorithm favor categorical predictors with many levels q; the number of partitions grows exponentially in q, and the more choices we have, the more likely we can ﬁnd a good one for the data at hand. This can lead to severe overﬁtting if q is large, and such variables should be avoided.\"\n",
    "\n",
    "> some further reading: https://medium.com/data-design/visiting-categorical-features-and-encoding-in-decision-trees-53400fa65931\n",
    "\n",
    "**miguel perez:**\n",
    "\n",
    "the topic is quite documented, short answer to your question would be no, **it is not needed**. Maybe you will find interesting this recent thead that deepens more on the subject of encoding in tree based models\n",
    "> https://www.kaggle.com/c/zillow-prize-1/discussion/38793#218281"
   ]
  },
  {
   "cell_type": "code",
   "execution_count": 41,
   "metadata": {},
   "outputs": [],
   "source": [
    "from sklearn.preprocessing import LabelEncoder, OneHotEncoder\n",
    "#def Onehot_enconding(df,col):\n",
    "#    new_col_pref = col\n",
    "#    newcol = pd.get_dummies(df[col],prefix=new_col_pref)\n",
    "#    df = pd.concat([df,newcol], axis=1)\n",
    "#    df.drop(columns=[col], axis=1, inplace=True)\n",
    "#    return df\n",
    "\n",
    "def Onehot_enconding(df,col):\n",
    "    new_col_pref = col\n",
    "    old_cols = df.columns.to_list()\n",
    "    newcol = pd.get_dummies(df[col],prefix=new_col_pref)\n",
    "    df = pd.concat([df,newcol], axis=1)\n",
    "    new_cols = df.columns.to_list()\n",
    "    df.drop(columns=[col], axis=1, inplace=True)\n",
    "    \n",
    "    one_hot_col = list ( set(new_cols) - set(old_cols) )\n",
    "    return df,one_hot_col"
   ]
  },
  {
   "cell_type": "code",
   "execution_count": 42,
   "metadata": {},
   "outputs": [
    {
     "ename": "NameError",
     "evalue": "name 'X' is not defined",
     "output_type": "error",
     "traceback": [
      "\u001b[1;31m---------------------------------------------------------------------------\u001b[0m",
      "\u001b[1;31mNameError\u001b[0m                                 Traceback (most recent call last)",
      "\u001b[1;32m<ipython-input-42-6987d7ef218a>\u001b[0m in \u001b[0;36m<module>\u001b[1;34m\u001b[0m\n\u001b[0;32m      1\u001b[0m \u001b[1;32mfor\u001b[0m \u001b[0mcol\u001b[0m \u001b[1;32min\u001b[0m \u001b[0mnonm_features\u001b[0m\u001b[1;33m:\u001b[0m\u001b[1;33m\u001b[0m\u001b[1;33m\u001b[0m\u001b[0m\n\u001b[1;32m----> 2\u001b[1;33m     \u001b[0mX\u001b[0m\u001b[1;33m,\u001b[0m\u001b[0mone_hot_col\u001b[0m \u001b[1;33m=\u001b[0m \u001b[0mOnehot_enconding\u001b[0m\u001b[1;33m(\u001b[0m\u001b[0mX\u001b[0m\u001b[1;33m,\u001b[0m \u001b[0mcol\u001b[0m\u001b[1;33m)\u001b[0m\u001b[1;33m\u001b[0m\u001b[1;33m\u001b[0m\u001b[0m\n\u001b[0m",
      "\u001b[1;31mNameError\u001b[0m: name 'X' is not defined"
     ]
    }
   ],
   "source": [
    "for col in nonm_features:\n",
    "    X,one_hot_col = Onehot_enconding(X, col)"
   ]
  },
  {
   "cell_type": "code",
   "execution_count": 268,
   "metadata": {},
   "outputs": [
    {
     "data": {
      "text/plain": [
       "(132029, 313)"
      ]
     },
     "execution_count": 268,
     "metadata": {},
     "output_type": "execute_result"
    }
   ],
   "source": [
    "X.shape"
   ]
  },
  {
   "cell_type": "code",
   "execution_count": 188,
   "metadata": {},
   "outputs": [
    {
     "data": {
      "text/html": [
       "<div>\n",
       "<style scoped>\n",
       "    .dataframe tbody tr th:only-of-type {\n",
       "        vertical-align: middle;\n",
       "    }\n",
       "\n",
       "    .dataframe tbody tr th {\n",
       "        vertical-align: top;\n",
       "    }\n",
       "\n",
       "    .dataframe thead th {\n",
       "        text-align: right;\n",
       "    }\n",
       "</style>\n",
       "<table border=\"1\" class=\"dataframe\">\n",
       "  <thead>\n",
       "    <tr style=\"text-align: right;\">\n",
       "      <th></th>\n",
       "      <th>x_0</th>\n",
       "      <th>x_1</th>\n",
       "      <th>x_2</th>\n",
       "      <th>x_3</th>\n",
       "      <th>x_4</th>\n",
       "      <th>x_5</th>\n",
       "      <th>x_6</th>\n",
       "      <th>x_7</th>\n",
       "      <th>x_8</th>\n",
       "      <th>x_9</th>\n",
       "      <th>...</th>\n",
       "      <th>ncloseCreditCard_1</th>\n",
       "      <th>unpayIndvLoan_-999</th>\n",
       "      <th>unpayIndvLoan_0</th>\n",
       "      <th>unpayIndvLoan_1</th>\n",
       "      <th>unpayOtherLoan_-999</th>\n",
       "      <th>unpayOtherLoan_0</th>\n",
       "      <th>unpayOtherLoan_1</th>\n",
       "      <th>unpayNormalLoan_-999</th>\n",
       "      <th>unpayNormalLoan_0</th>\n",
       "      <th>unpayNormalLoan_1</th>\n",
       "    </tr>\n",
       "  </thead>\n",
       "  <tbody>\n",
       "    <tr>\n",
       "      <th>0</th>\n",
       "      <td>0</td>\n",
       "      <td>0</td>\n",
       "      <td>0</td>\n",
       "      <td>0</td>\n",
       "      <td>0</td>\n",
       "      <td>0</td>\n",
       "      <td>0</td>\n",
       "      <td>0</td>\n",
       "      <td>0</td>\n",
       "      <td>0</td>\n",
       "      <td>...</td>\n",
       "      <td>1</td>\n",
       "      <td>0</td>\n",
       "      <td>1</td>\n",
       "      <td>0</td>\n",
       "      <td>0</td>\n",
       "      <td>0</td>\n",
       "      <td>1</td>\n",
       "      <td>0</td>\n",
       "      <td>1</td>\n",
       "      <td>0</td>\n",
       "    </tr>\n",
       "    <tr>\n",
       "      <th>1</th>\n",
       "      <td>0</td>\n",
       "      <td>0</td>\n",
       "      <td>0</td>\n",
       "      <td>0</td>\n",
       "      <td>0</td>\n",
       "      <td>0</td>\n",
       "      <td>0</td>\n",
       "      <td>0</td>\n",
       "      <td>0</td>\n",
       "      <td>0</td>\n",
       "      <td>...</td>\n",
       "      <td>1</td>\n",
       "      <td>0</td>\n",
       "      <td>1</td>\n",
       "      <td>0</td>\n",
       "      <td>0</td>\n",
       "      <td>0</td>\n",
       "      <td>1</td>\n",
       "      <td>0</td>\n",
       "      <td>1</td>\n",
       "      <td>0</td>\n",
       "    </tr>\n",
       "    <tr>\n",
       "      <th>2</th>\n",
       "      <td>0</td>\n",
       "      <td>0</td>\n",
       "      <td>0</td>\n",
       "      <td>0</td>\n",
       "      <td>0</td>\n",
       "      <td>0</td>\n",
       "      <td>0</td>\n",
       "      <td>0</td>\n",
       "      <td>0</td>\n",
       "      <td>0</td>\n",
       "      <td>...</td>\n",
       "      <td>0</td>\n",
       "      <td>0</td>\n",
       "      <td>1</td>\n",
       "      <td>0</td>\n",
       "      <td>0</td>\n",
       "      <td>1</td>\n",
       "      <td>0</td>\n",
       "      <td>0</td>\n",
       "      <td>1</td>\n",
       "      <td>0</td>\n",
       "    </tr>\n",
       "    <tr>\n",
       "      <th>3</th>\n",
       "      <td>0</td>\n",
       "      <td>0</td>\n",
       "      <td>0</td>\n",
       "      <td>0</td>\n",
       "      <td>0</td>\n",
       "      <td>0</td>\n",
       "      <td>0</td>\n",
       "      <td>0</td>\n",
       "      <td>0</td>\n",
       "      <td>0</td>\n",
       "      <td>...</td>\n",
       "      <td>1</td>\n",
       "      <td>0</td>\n",
       "      <td>1</td>\n",
       "      <td>0</td>\n",
       "      <td>0</td>\n",
       "      <td>0</td>\n",
       "      <td>1</td>\n",
       "      <td>0</td>\n",
       "      <td>1</td>\n",
       "      <td>0</td>\n",
       "    </tr>\n",
       "    <tr>\n",
       "      <th>4</th>\n",
       "      <td>0</td>\n",
       "      <td>0</td>\n",
       "      <td>0</td>\n",
       "      <td>0</td>\n",
       "      <td>0</td>\n",
       "      <td>0</td>\n",
       "      <td>0</td>\n",
       "      <td>0</td>\n",
       "      <td>0</td>\n",
       "      <td>0</td>\n",
       "      <td>...</td>\n",
       "      <td>1</td>\n",
       "      <td>0</td>\n",
       "      <td>1</td>\n",
       "      <td>0</td>\n",
       "      <td>0</td>\n",
       "      <td>0</td>\n",
       "      <td>1</td>\n",
       "      <td>0</td>\n",
       "      <td>1</td>\n",
       "      <td>0</td>\n",
       "    </tr>\n",
       "  </tbody>\n",
       "</table>\n",
       "<p>5 rows × 258 columns</p>\n",
       "</div>"
      ],
      "text/plain": [
       "   x_0  x_1  x_2  x_3  x_4  x_5  x_6  x_7  x_8  x_9  ...  ncloseCreditCard_1  \\\n",
       "0    0    0    0    0    0    0    0    0    0    0  ...                   1   \n",
       "1    0    0    0    0    0    0    0    0    0    0  ...                   1   \n",
       "2    0    0    0    0    0    0    0    0    0    0  ...                   0   \n",
       "3    0    0    0    0    0    0    0    0    0    0  ...                   1   \n",
       "4    0    0    0    0    0    0    0    0    0    0  ...                   1   \n",
       "\n",
       "   unpayIndvLoan_-999  unpayIndvLoan_0  unpayIndvLoan_1  unpayOtherLoan_-999  \\\n",
       "0                   0                1                0                    0   \n",
       "1                   0                1                0                    0   \n",
       "2                   0                1                0                    0   \n",
       "3                   0                1                0                    0   \n",
       "4                   0                1                0                    0   \n",
       "\n",
       "   unpayOtherLoan_0  unpayOtherLoan_1  unpayNormalLoan_-999  \\\n",
       "0                 0                 1                     0   \n",
       "1                 0                 1                     0   \n",
       "2                 1                 0                     0   \n",
       "3                 0                 1                     0   \n",
       "4                 0                 1                     0   \n",
       "\n",
       "   unpayNormalLoan_0  unpayNormalLoan_1  \n",
       "0                  1                  0  \n",
       "1                  1                  0  \n",
       "2                  1                  0  \n",
       "3                  1                  0  \n",
       "4                  1                  0  \n",
       "\n",
       "[5 rows x 258 columns]"
      ]
     },
     "execution_count": 188,
     "metadata": {},
     "output_type": "execute_result"
    }
   ],
   "source": [
    "X.head()"
   ]
  },
  {
   "cell_type": "code",
   "execution_count": 82,
   "metadata": {},
   "outputs": [
    {
     "name": "stdout",
     "output_type": "stream",
     "text": [
      "['x_0', 'x_1', 'x_2', 'x_3', 'x_4', 'x_5', 'x_6', 'x_7', 'x_8', 'x_9', 'x_10', 'x_11', 'x_12', 'x_13', 'x_14', 'x_15', 'x_16', 'x_17', 'x_18', 'x_19', 'x_20', 'x_21', 'x_22', 'x_23', 'x_24', 'x_25', 'x_26', 'x_27', 'x_28', 'x_29', 'x_30', 'x_31', 'x_32', 'x_33', 'x_34', 'x_35', 'x_36', 'x_37', 'x_38', 'x_39', 'x_40', 'x_41', 'x_42', 'x_43', 'x_44', 'x_45', 'x_46', 'x_47', 'x_48', 'x_49', 'x_50', 'x_51', 'x_52', 'x_53', 'x_54', 'x_55', 'x_56', 'x_57', 'x_58', 'x_59', 'x_60', 'x_61', 'x_62', 'x_63', 'x_64', 'x_65', 'x_66', 'x_67', 'x_68', 'x_69', 'x_70', 'x_71', 'x_72', 'x_73', 'x_74', 'x_75', 'x_76', 'x_77', 'x_78', 'isNew', 'lmt_Bin_WOE', 'certId_br_encoding_Bin_WOE', 'dist_br_encoding_Bin_WOE', 'certValidBegin_br_encoding_Bin_WOE', 'certValidStop_br_encoding_Bin_WOE', 'ethnic_br_encoding_Bin_WOE', 'residentAddr_br_encoding_Bin_WOE', 'gender_1', 'gender_2', '5yearBadloan_0', '5yearBadloan_1', 'loanProduct_1', 'loanProduct_2', 'loanProduct_3', 'basicLevel_-999', 'basicLevel_1', 'basicLevel_2', 'basicLevel_3', 'basicLevel_4', 'basicLevel_5', 'edu_-999', 'edu_0', 'edu_10', 'edu_20', 'edu_30', 'edu_40', 'edu_47', 'edu_60', 'edu_70', 'job_1', 'job_2', 'job_3', 'job_4', 'job_5', 'job_6', 'job_7', 'job_8', 'job_10', 'job_11', 'job_12', 'job_13', 'job_16', 'cardname_', 'cardname_E时代卡', 'cardname_IC借记卡普卡', 'cardname_IC绿卡通', 'cardname_IC绿卡通VIP卡', 'cardname_IC联名卡', 'cardname_一卡通（银联卡）', 'cardname_一账通借贷合一卡金卡', 'cardname_万事顺借记卡', 'cardname_专用惠农卡', 'cardname_东方卡（银联卡）', 'cardname_个人普卡', 'cardname_中信借记卡（银联卡）', 'cardname_中信理财宝白金卡', 'cardname_中信理财宝金卡', 'cardname_中国旅游卡', 'cardname_中国旅游卡（普卡）', 'cardname_中职学生资助卡', 'cardname_乐当家', 'cardname_乐当家白金卡', 'cardname_乐当家金卡VISA', 'cardname_乐当家银卡VISA', 'cardname_交银IC卡', 'cardname_借记IC个人普卡', 'cardname_借记IC个人金卡', 'cardname_借记IC卡金卡', 'cardname_借记IC白金卡', 'cardname_借记IC联名卡', 'cardname_借记卡', 'cardname_借记卡普卡', 'cardname_兴业卡（银联卡）', 'cardname_兴业卡（银联标准卡）', 'cardname_兴业自然人生理财卡', 'cardname_其他卡产品', 'cardname_医保联名借记IC卡', 'cardname_华夏丽人卡（银联卡）', 'cardname_华夏卡（银联卡）', 'cardname_华夏普卡', 'cardname_华夏至尊金卡（银联卡）', 'cardname_华夏金卡', 'cardname_发展借记卡（银联卡）', 'cardname_发展卡（银联卡）', 'cardname_员工普卡', 'cardname_太平洋万事顺卡', 'cardname_太平洋互连卡', 'cardname_太平洋借记卡', 'cardname_工银财富卡', 'cardname_平安银行（深圳发展银行）IC借记卡', 'cardname_平安银行（深圳发展银行）借记卡', 'cardname_广发理财通卡', 'cardname_招行国际卡（银联卡）', 'cardname_新磁条借记卡', 'cardname_普通高中学生资助卡', 'cardname_民生借记卡', 'cardname_民生借记卡（银联卡）', 'cardname_灵通卡', 'cardname_牡丹卡普卡', 'cardname_牡丹灵通卡（银联卡）', 'cardname_理财宝IC卡', 'cardname_理财白金卡', 'cardname_理财通卡', 'cardname_理财金卡', 'cardname_理财金账户金卡', 'cardname_理财银卡', 'cardname_社会保障IC卡', 'cardname_社保IC卡', 'cardname_社保联名借记IC卡', 'cardname_社保联名卡', 'cardname_福农卡', 'cardname_福农灵通卡', 'cardname_绿卡VIP卡', 'cardname_绿卡通', 'cardname_绿卡银联标准卡', 'cardname_绿卡（银联卡）', 'cardname_联名IC卡普卡', 'cardname_联名卡', 'cardname_薪资理财卡', 'cardname_财富卡私人银行卡', 'cardname_轻松理财普卡（复合卡）', 'cardname_轻松理财消贷易卡', 'cardname_轻松理财白金卡（复合卡）', 'cardname_轻松理财金卡（复合卡）', 'cardname_退役金卡', 'cardname_金卡', 'cardname_金穗惠农卡', 'cardname_金穗校园卡（银联卡）', 'cardname_金穗海通卡', 'cardname_金穗社保卡（银联卡）', 'cardname_金穗通宝卡', 'cardname_金穗通宝卡（银联卡）', 'cardname_金穗通宝钻石卡', 'cardname_金穗通宝银卡', 'cardname_金穗青年卡（银联卡）', 'cardname_金融IC卡', 'cardname_银联IC普卡', 'cardname_银联IC金卡', 'cardname_银联储蓄卡', 'cardname_银联标准卡', 'cardname_银联金葵花IC卡', 'cardname_长城电子借记卡', 'cardname_长城福农借记卡普卡', 'cardname_长城福农借记卡金卡', 'cardname_阳光卡（银联卡）', 'cardname_龙卡储蓄卡', 'cardname_龙卡储蓄卡（银联卡）', 'cardname_龙卡通', 'highestEdu_-999', 'highestEdu_10', 'highestEdu_20', 'highestEdu_30', 'highestEdu_40', 'highestEdu_50', 'highestEdu_60', 'highestEdu_70', 'highestEdu_99', 'linkRela_-999', 'linkRela_0', 'linkRela_1', 'linkRela_2', 'linkRela_10', 'linkRela_11', 'linkRela_12', 'linkRela_301', 'linkRela_306', 'ncloseCreditCard_-999', 'ncloseCreditCard_0', 'ncloseCreditCard_1', 'unpayIndvLoan_-999', 'unpayIndvLoan_0', 'unpayIndvLoan_1', 'unpayOtherLoan_-999', 'unpayOtherLoan_0', 'unpayOtherLoan_1', 'unpayNormalLoan_-999', 'unpayNormalLoan_0', 'unpayNormalLoan_1']\n"
     ]
    }
   ],
   "source": [
    "print(X.columns.to_list())"
   ]
  },
  {
   "cell_type": "markdown",
   "metadata": {},
   "source": [
    "## Splitting the Data "
   ]
  },
  {
   "cell_type": "code",
   "execution_count": 269,
   "metadata": {},
   "outputs": [],
   "source": [
    "from sklearn.model_selection import train_test_split\n",
    "from sklearn.model_selection import StratifiedShuffleSplit\n",
    "from sklearn.model_selection import StratifiedKFold\n",
    "\n",
    "#sss = StratifiedKFold(n_splits=5, random_state=None, shuffle=False)\n",
    "sss = StratifiedShuffleSplit(n_splits=5, random_state=None)"
   ]
  },
  {
   "cell_type": "markdown",
   "metadata": {},
   "source": [
    "### 数据切分方式一：按照 isNew 字段进行切分"
   ]
  },
  {
   "cell_type": "code",
   "execution_count": 270,
   "metadata": {},
   "outputs": [
    {
     "name": "stdout",
     "output_type": "stream",
     "text": [
      "----------------------------------------------------------------------------------------------------\n",
      "Label Distributions: \n",
      "\n",
      "[0.99377643 0.00622357]\n",
      "[0.99090586 0.00909414]\n"
     ]
    }
   ],
   "source": [
    "##数据切分方式一：按照 isNew 字段进行切分\n",
    "train_index = X[(X.isNew == 0)].index\n",
    "test_index  = X[(X.isNew == 1)].index\n",
    "\n",
    "original_Xtrain, original_Xtest = X.iloc[train_index], X.iloc[test_index]\n",
    "original_ytrain, original_ytest = y.iloc[train_index], y.iloc[test_index]\n",
    "\n",
    "X.drop(columns=['isNew'], axis=1, inplace=True)\n",
    "original_Xtrain.drop(columns=['isNew'], axis=1, inplace=True)\n",
    "original_Xtest.drop(columns=['isNew'], axis=1, inplace=True)\n",
    "\n",
    "# Check the Distribution of the labels\n",
    "# Turn into an array\n",
    "original_Xtrain = original_Xtrain.values\n",
    "original_Xtest = original_Xtest.values\n",
    "original_ytrain = original_ytrain.values\n",
    "original_ytest = original_ytest.values\n",
    "\n",
    "# See if both the train and test label distribution are similarly distributed\n",
    "train_unique_label, train_counts_label = np.unique(original_ytrain, return_counts=True)\n",
    "test_unique_label, test_counts_label = np.unique(original_ytest, return_counts=True)\n",
    "print('-' * 100)\n",
    "\n",
    "print('Label Distributions: \\n')\n",
    "print(train_counts_label/ len(original_ytrain))\n",
    "print(test_counts_label/ len(original_ytest))"
   ]
  },
  {
   "cell_type": "markdown",
   "metadata": {},
   "source": [
    "### 数据切分方式二：随机切分"
   ]
  },
  {
   "cell_type": "code",
   "execution_count": 81,
   "metadata": {},
   "outputs": [
    {
     "name": "stdout",
     "output_type": "stream",
     "text": [
      "Train: [ 10483  69921  22937 ...  48886   2153 123145] Test: [ 12177   7584  46917 ...   4707 127416  69549]\n",
      "Train: [47826 29241 92992 ... 27498 45008 28086] Test: [86312 76580 99366 ... 64597 78363 36549]\n",
      "Train: [61926 53477 27528 ... 49018 44394 35332] Test: [ 46126  70747 120337 ...  71503  32263 131895]\n",
      "Train: [ 89738 100741    815 ...  56595  78658 121002] Test: [124642 110507  48058 ...  47489 102050  67108]\n",
      "Train: [ 74504  97324  71513 ...  50556 108222  94091] Test: [ 32669  45434 119455 ...  28664  29168  37823]\n",
      "----------------------------------------------------------------------------------------------------\n",
      "Label Distributions: \n",
      "\n",
      "[0.99273728 0.00726272]\n",
      "[0.99272893 0.00727107]\n"
     ]
    }
   ],
   "source": [
    "##数据切分方式二：随机切分\n",
    "#features=data.columns.tolist()\n",
    "#features.remove('target')\n",
    "\n",
    "#X = data[features]\n",
    "#y = data['target']\n",
    "\n",
    "\n",
    "#X = train_x\n",
    "#y = train_y['target']\n",
    "for train_index, test_index in sss.split(X, y):\n",
    "    print(\"Train:\", train_index, \"Test:\", test_index)\n",
    "    original_Xtrain, original_Xtest = X.iloc[train_index], X.iloc[test_index]\n",
    "    original_ytrain, original_ytest = y.iloc[train_index], y.iloc[test_index]\n",
    "    \n",
    "    \n",
    "# We already have X_train and y_train for undersample data thats why I am using original to distinguish and to not overwrite these variables.\n",
    "# original_Xtrain, original_Xtest, original_ytrain, original_ytest = train_test_split(X, y, test_size=0.2, random_state=42)\n",
    "\n",
    "# Check the Distribution of the labels\n",
    "# Turn into an array\n",
    "original_Xtrain = original_Xtrain.values\n",
    "original_Xtest = original_Xtest.values\n",
    "original_ytrain = original_ytrain.values\n",
    "original_ytest = original_ytest.values\n",
    "\n",
    "# See if both the train and test label distribution are similarly distributed\n",
    "train_unique_label, train_counts_label = np.unique(original_ytrain, return_counts=True)\n",
    "test_unique_label, test_counts_label = np.unique(original_ytest, return_counts=True)\n",
    "print('-' * 100)\n",
    "\n",
    "print('Label Distributions: \\n')\n",
    "print(train_counts_label/ len(original_ytrain))\n",
    "print(test_counts_label/ len(original_ytest))"
   ]
  },
  {
   "cell_type": "code",
   "execution_count": 7,
   "metadata": {},
   "outputs": [
    {
     "data": {
      "text/plain": [
       "(132029, 100)"
      ]
     },
     "execution_count": 7,
     "metadata": {},
     "output_type": "execute_result"
    }
   ],
   "source": [
    "train_x.shape"
   ]
  },
  {
   "cell_type": "code",
   "execution_count": 8,
   "metadata": {},
   "outputs": [
    {
     "data": {
      "text/plain": [
       "132029"
      ]
     },
     "execution_count": 8,
     "metadata": {},
     "output_type": "execute_result"
    }
   ],
   "source": [
    "original_Xtrain.shape[0] + original_Xtest.shape[0]"
   ]
  },
  {
   "cell_type": "code",
   "execution_count": 79,
   "metadata": {},
   "outputs": [
    {
     "data": {
      "text/html": [
       "<div>\n",
       "<style scoped>\n",
       "    .dataframe tbody tr th:only-of-type {\n",
       "        vertical-align: middle;\n",
       "    }\n",
       "\n",
       "    .dataframe tbody tr th {\n",
       "        vertical-align: top;\n",
       "    }\n",
       "\n",
       "    .dataframe thead th {\n",
       "        text-align: right;\n",
       "    }\n",
       "</style>\n",
       "<table border=\"1\" class=\"dataframe\">\n",
       "  <thead>\n",
       "    <tr style=\"text-align: right;\">\n",
       "      <th></th>\n",
       "      <th>x_31_WOE</th>\n",
       "      <th>x_32_WOE</th>\n",
       "      <th>x_39_WOE</th>\n",
       "      <th>x_42_WOE</th>\n",
       "      <th>residentAddr_br_encoding_Bin_WOE</th>\n",
       "      <th>certId_br_encoding_Bin_WOE</th>\n",
       "      <th>bankCard_br_encoding_Bin_WOE</th>\n",
       "      <th>dist_br_encoding_Bin_WOE</th>\n",
       "      <th>lmt_Bin_WOE</th>\n",
       "      <th>x_45_WOE</th>\n",
       "      <th>...</th>\n",
       "      <th>x_29_WOE</th>\n",
       "      <th>x_47_WOE</th>\n",
       "      <th>x_27_WOE</th>\n",
       "      <th>x_49_WOE</th>\n",
       "      <th>x_76_WOE</th>\n",
       "      <th>highestEdu_br_encoding_Bin_WOE</th>\n",
       "      <th>x_53_WOE</th>\n",
       "      <th>x_34_br_encoding_Bin_WOE</th>\n",
       "      <th>x_65_WOE</th>\n",
       "      <th>x_43_WOE</th>\n",
       "    </tr>\n",
       "  </thead>\n",
       "  <tbody>\n",
       "    <tr>\n",
       "      <th>0</th>\n",
       "      <td>0.007914</td>\n",
       "      <td>0.009199</td>\n",
       "      <td>0.009237</td>\n",
       "      <td>0.00884</td>\n",
       "      <td>0.484092</td>\n",
       "      <td>0.342584</td>\n",
       "      <td>0.318928</td>\n",
       "      <td>0.297508</td>\n",
       "      <td>-0.018245</td>\n",
       "      <td>0.204776</td>\n",
       "      <td>...</td>\n",
       "      <td>-0.006651</td>\n",
       "      <td>-0.03432</td>\n",
       "      <td>-0.024994</td>\n",
       "      <td>-0.014799</td>\n",
       "      <td>0.037915</td>\n",
       "      <td>-0.041690</td>\n",
       "      <td>-0.030708</td>\n",
       "      <td>0.167485</td>\n",
       "      <td>-0.060854</td>\n",
       "      <td>-0.018581</td>\n",
       "    </tr>\n",
       "    <tr>\n",
       "      <th>1</th>\n",
       "      <td>0.007914</td>\n",
       "      <td>0.009199</td>\n",
       "      <td>0.009237</td>\n",
       "      <td>0.00884</td>\n",
       "      <td>0.484092</td>\n",
       "      <td>0.342584</td>\n",
       "      <td>-0.941905</td>\n",
       "      <td>0.297508</td>\n",
       "      <td>0.523491</td>\n",
       "      <td>0.204776</td>\n",
       "      <td>...</td>\n",
       "      <td>-0.006651</td>\n",
       "      <td>-0.03432</td>\n",
       "      <td>-0.024994</td>\n",
       "      <td>0.491496</td>\n",
       "      <td>0.037915</td>\n",
       "      <td>0.379700</td>\n",
       "      <td>-0.030708</td>\n",
       "      <td>0.167485</td>\n",
       "      <td>0.095412</td>\n",
       "      <td>-0.018581</td>\n",
       "    </tr>\n",
       "    <tr>\n",
       "      <th>2</th>\n",
       "      <td>0.007914</td>\n",
       "      <td>0.009199</td>\n",
       "      <td>0.009237</td>\n",
       "      <td>0.00884</td>\n",
       "      <td>0.484092</td>\n",
       "      <td>0.342584</td>\n",
       "      <td>0.318928</td>\n",
       "      <td>0.297508</td>\n",
       "      <td>-0.856257</td>\n",
       "      <td>-0.791066</td>\n",
       "      <td>...</td>\n",
       "      <td>-0.006651</td>\n",
       "      <td>-0.03432</td>\n",
       "      <td>-0.024994</td>\n",
       "      <td>-0.014799</td>\n",
       "      <td>0.037915</td>\n",
       "      <td>-0.727941</td>\n",
       "      <td>-0.030708</td>\n",
       "      <td>-0.069533</td>\n",
       "      <td>-0.060854</td>\n",
       "      <td>-0.018581</td>\n",
       "    </tr>\n",
       "    <tr>\n",
       "      <th>3</th>\n",
       "      <td>0.000000</td>\n",
       "      <td>0.009199</td>\n",
       "      <td>0.009237</td>\n",
       "      <td>0.00884</td>\n",
       "      <td>0.484092</td>\n",
       "      <td>0.342584</td>\n",
       "      <td>0.318928</td>\n",
       "      <td>0.297508</td>\n",
       "      <td>-0.018245</td>\n",
       "      <td>0.204776</td>\n",
       "      <td>...</td>\n",
       "      <td>-0.006651</td>\n",
       "      <td>-0.03432</td>\n",
       "      <td>0.370820</td>\n",
       "      <td>-0.014799</td>\n",
       "      <td>0.037915</td>\n",
       "      <td>-0.041690</td>\n",
       "      <td>0.250498</td>\n",
       "      <td>-0.069533</td>\n",
       "      <td>-0.060854</td>\n",
       "      <td>-0.018581</td>\n",
       "    </tr>\n",
       "    <tr>\n",
       "      <th>4</th>\n",
       "      <td>0.007914</td>\n",
       "      <td>0.009199</td>\n",
       "      <td>0.009237</td>\n",
       "      <td>0.00884</td>\n",
       "      <td>0.484092</td>\n",
       "      <td>0.342584</td>\n",
       "      <td>0.318928</td>\n",
       "      <td>-1.854680</td>\n",
       "      <td>0.523491</td>\n",
       "      <td>0.204776</td>\n",
       "      <td>...</td>\n",
       "      <td>-0.006651</td>\n",
       "      <td>-0.03432</td>\n",
       "      <td>0.370820</td>\n",
       "      <td>-0.014799</td>\n",
       "      <td>0.037915</td>\n",
       "      <td>0.379700</td>\n",
       "      <td>-0.030708</td>\n",
       "      <td>-0.014216</td>\n",
       "      <td>-0.060854</td>\n",
       "      <td>-0.018581</td>\n",
       "    </tr>\n",
       "  </tbody>\n",
       "</table>\n",
       "<p>5 rows × 34 columns</p>\n",
       "</div>"
      ],
      "text/plain": [
       "   x_31_WOE  x_32_WOE  x_39_WOE  x_42_WOE  residentAddr_br_encoding_Bin_WOE  \\\n",
       "0  0.007914  0.009199  0.009237   0.00884                          0.484092   \n",
       "1  0.007914  0.009199  0.009237   0.00884                          0.484092   \n",
       "2  0.007914  0.009199  0.009237   0.00884                          0.484092   \n",
       "3  0.000000  0.009199  0.009237   0.00884                          0.484092   \n",
       "4  0.007914  0.009199  0.009237   0.00884                          0.484092   \n",
       "\n",
       "   certId_br_encoding_Bin_WOE  bankCard_br_encoding_Bin_WOE  \\\n",
       "0                    0.342584                      0.318928   \n",
       "1                    0.342584                     -0.941905   \n",
       "2                    0.342584                      0.318928   \n",
       "3                    0.342584                      0.318928   \n",
       "4                    0.342584                      0.318928   \n",
       "\n",
       "   dist_br_encoding_Bin_WOE  lmt_Bin_WOE  x_45_WOE  ...  x_29_WOE  x_47_WOE  \\\n",
       "0                  0.297508    -0.018245  0.204776  ... -0.006651  -0.03432   \n",
       "1                  0.297508     0.523491  0.204776  ... -0.006651  -0.03432   \n",
       "2                  0.297508    -0.856257 -0.791066  ... -0.006651  -0.03432   \n",
       "3                  0.297508    -0.018245  0.204776  ... -0.006651  -0.03432   \n",
       "4                 -1.854680     0.523491  0.204776  ... -0.006651  -0.03432   \n",
       "\n",
       "   x_27_WOE  x_49_WOE  x_76_WOE  highestEdu_br_encoding_Bin_WOE  x_53_WOE  \\\n",
       "0 -0.024994 -0.014799  0.037915                       -0.041690 -0.030708   \n",
       "1 -0.024994  0.491496  0.037915                        0.379700 -0.030708   \n",
       "2 -0.024994 -0.014799  0.037915                       -0.727941 -0.030708   \n",
       "3  0.370820 -0.014799  0.037915                       -0.041690  0.250498   \n",
       "4  0.370820 -0.014799  0.037915                        0.379700 -0.030708   \n",
       "\n",
       "   x_34_br_encoding_Bin_WOE  x_65_WOE  x_43_WOE  \n",
       "0                  0.167485 -0.060854 -0.018581  \n",
       "1                  0.167485  0.095412 -0.018581  \n",
       "2                 -0.069533 -0.060854 -0.018581  \n",
       "3                 -0.069533 -0.060854 -0.018581  \n",
       "4                 -0.014216 -0.060854 -0.018581  \n",
       "\n",
       "[5 rows x 34 columns]"
      ]
     },
     "execution_count": 79,
     "metadata": {},
     "output_type": "execute_result"
    }
   ],
   "source": [
    "X.head()"
   ]
  },
  {
   "cell_type": "code",
   "execution_count": 35,
   "metadata": {},
   "outputs": [
    {
     "data": {
      "text/plain": [
       "<matplotlib.axes._subplots.AxesSubplot at 0x229003574a8>"
      ]
     },
     "execution_count": 35,
     "metadata": {},
     "output_type": "execute_result"
    },
    {
     "data": {
      "image/png": "[encoded data removed]",
      "text/plain": [
       "<Figure size 576x432 with 1 Axes>"
      ]
     },
     "metadata": {},
     "output_type": "display_data"
    }
   ],
   "source": [
    "# Positive correlations (The higher the feature the probability increases that it will be a fraud transaction)\n",
    "\n",
    "plt.figure(figsize=(8, 6))\n",
    "plt.xlabel(\"target\",fontsize=18)\n",
    "plt.ylabel(\"scaled_setupHour\",fontsize=18)\n",
    "#plt.yscale('log')\n",
    "\n",
    "sns.boxplot(x='target',y='scaled_setupHour',data=new_df,palette='winter')"
   ]
  },
  {
   "cell_type": "code",
   "execution_count": 42,
   "metadata": {},
   "outputs": [
    {
     "data": {
      "text/plain": [
       "<matplotlib.axes._subplots.AxesSubplot at 0x22902706f28>"
      ]
     },
     "execution_count": 42,
     "metadata": {},
     "output_type": "execute_result"
    },
    {
     "data": {
      "image/png": "[encoded data removed]",
      "text/plain": [
       "<Figure size 576x432 with 1 Axes>"
      ]
     },
     "metadata": {},
     "output_type": "display_data"
    }
   ],
   "source": [
    "plt.figure(figsize=(8, 6))\n",
    "plt.xlabel(\"target\",fontsize=18)\n",
    "plt.ylabel(\"scaled_lmt\",fontsize=18)\n",
    "#plt.yscale('log') \n",
    "\n",
    "sns.boxplot(x='target',y='scaled_lmt',data=new_df,palette='winter')"
   ]
  },
  {
   "cell_type": "markdown",
   "metadata": {},
   "source": [
    "## Anomaly Detection"
   ]
  },
  {
   "cell_type": "code",
   "execution_count": null,
   "metadata": {},
   "outputs": [],
   "source": [
    "##TODO："
   ]
  },
  {
   "cell_type": "code",
   "execution_count": null,
   "metadata": {},
   "outputs": [],
   "source": []
  },
  {
   "cell_type": "markdown",
   "metadata": {},
   "source": [
    "## Dimesionality  reduction"
   ]
  },
  {
   "cell_type": "code",
   "execution_count": null,
   "metadata": {},
   "outputs": [],
   "source": [
    "##TODO："
   ]
  },
  {
   "cell_type": "markdown",
   "metadata": {},
   "source": [
    "## Train Model"
   ]
  },
  {
   "cell_type": "code",
   "execution_count": 15,
   "metadata": {},
   "outputs": [],
   "source": [
    "from sklearn.model_selection import cross_val_score, cross_val_predict\n",
    "from sklearn.metrics import accuracy_score, classification_report, confusion_matrix\n",
    "from sklearn.metrics import accuracy_score, f1_score, auc, roc_curve, roc_auc_score"
   ]
  },
  {
   "cell_type": "code",
   "execution_count": 38,
   "metadata": {},
   "outputs": [
    {
     "data": {
      "text/plain": [
       "20"
      ]
     },
     "execution_count": 38,
     "metadata": {},
     "output_type": "execute_result"
    }
   ],
   "source": [
    "import gc \n",
    "gc.collect()"
   ]
  },
  {
   "cell_type": "markdown",
   "metadata": {},
   "source": [
    "### train by randomforest with SMOTE during cross-validation"
   ]
  },
  {
   "cell_type": "code",
   "execution_count": 82,
   "metadata": {},
   "outputs": [
    {
     "name": "stdout",
     "output_type": "stream",
     "text": [
      "Train-: [ 57828  64017  22236 ... 102671  37542  36849] Test:- [ 53117 105429 117245 ... 105322  49105  48614]\n",
      "make pipeline .....\n",
      "fit model ......\n",
      "Fitting 5 folds for each of 8 candidates, totalling 40 fits\n"
     ]
    },
    {
     "name": "stderr",
     "output_type": "stream",
     "text": [
      "[Parallel(n_jobs=-1)]: Using backend LokyBackend with 8 concurrent workers.\n",
      "[Parallel(n_jobs=-1)]: Done  16 tasks      | elapsed:  3.1min\n",
      "[Parallel(n_jobs=-1)]: Done  40 out of  40 | elapsed:  6.9min finished\n"
     ]
    },
    {
     "name": "stdout",
     "output_type": "stream",
     "text": [
      "fit model finish!\n",
      "predict.....\n",
      "cur AUC:0.5406129071048807\n",
      "***************************************************************************************************************************************\n",
      "Train-: [30454 77653 61914 ... 58973 19630 47750] Test:- [ 33775  22308  61346 ...    467  67649 109188]\n",
      "make pipeline .....\n",
      "fit model ......\n",
      "Fitting 5 folds for each of 8 candidates, totalling 40 fits\n"
     ]
    },
    {
     "name": "stderr",
     "output_type": "stream",
     "text": [
      "[Parallel(n_jobs=-1)]: Using backend LokyBackend with 8 concurrent workers.\n",
      "[Parallel(n_jobs=-1)]: Done  16 tasks      | elapsed:  3.1min\n",
      "[Parallel(n_jobs=-1)]: Done  40 out of  40 | elapsed:  6.7min finished\n"
     ]
    },
    {
     "name": "stdout",
     "output_type": "stream",
     "text": [
      "fit model finish!\n",
      "predict.....\n",
      "cur AUC:0.5290273837849986\n",
      "***************************************************************************************************************************************\n",
      "Train-: [ 39002  21945  69114 ...  71136 106413   2611] Test:- [ 58787  20012 104791 ...  86481  67817 107429]\n",
      "make pipeline .....\n",
      "fit model ......\n",
      "Fitting 5 folds for each of 8 candidates, totalling 40 fits\n"
     ]
    },
    {
     "name": "stderr",
     "output_type": "stream",
     "text": [
      "[Parallel(n_jobs=-1)]: Using backend LokyBackend with 8 concurrent workers.\n",
      "[Parallel(n_jobs=-1)]: Done  16 tasks      | elapsed:  3.1min\n"
     ]
    },
    {
     "ename": "KeyboardInterrupt",
     "evalue": "",
     "output_type": "error",
     "traceback": [
      "\u001b[1;31m---------------------------------------------------------------------------\u001b[0m",
      "\u001b[1;31mKeyboardInterrupt\u001b[0m                         Traceback (most recent call last)",
      "\u001b[1;32m<ipython-input-82-9b7bf74ed2cc>\u001b[0m in \u001b[0;36m<module>\u001b[1;34m\u001b[0m\n\u001b[0;32m     38\u001b[0m     \u001b[0mpipeline\u001b[0m \u001b[1;33m=\u001b[0m \u001b[0mimbalanced_make_pipeline\u001b[0m\u001b[1;33m(\u001b[0m\u001b[0mSMOTE\u001b[0m\u001b[1;33m(\u001b[0m\u001b[0msampling_strategy\u001b[0m\u001b[1;33m=\u001b[0m\u001b[1;34m'minority'\u001b[0m\u001b[1;33m)\u001b[0m\u001b[1;33m,\u001b[0m \u001b[0mgrid_forest_clf\u001b[0m\u001b[1;33m)\u001b[0m\u001b[1;33m\u001b[0m\u001b[1;33m\u001b[0m\u001b[0m\n\u001b[0;32m     39\u001b[0m     \u001b[0mprint\u001b[0m\u001b[1;33m(\u001b[0m\u001b[1;34m\"fit model ......\"\u001b[0m\u001b[1;33m)\u001b[0m\u001b[1;33m\u001b[0m\u001b[1;33m\u001b[0m\u001b[0m\n\u001b[1;32m---> 40\u001b[1;33m     \u001b[0mmodel\u001b[0m \u001b[1;33m=\u001b[0m \u001b[0mpipeline\u001b[0m\u001b[1;33m.\u001b[0m\u001b[0mfit\u001b[0m\u001b[1;33m(\u001b[0m\u001b[0moriginal_Xtrain\u001b[0m\u001b[1;33m[\u001b[0m\u001b[0mtrain\u001b[0m\u001b[1;33m]\u001b[0m\u001b[1;33m,\u001b[0m \u001b[0moriginal_ytrain\u001b[0m\u001b[1;33m[\u001b[0m\u001b[0mtrain\u001b[0m\u001b[1;33m]\u001b[0m\u001b[1;33m)\u001b[0m\u001b[1;33m\u001b[0m\u001b[1;33m\u001b[0m\u001b[0m\n\u001b[0m\u001b[0;32m     41\u001b[0m     \u001b[0mprint\u001b[0m\u001b[1;33m(\u001b[0m\u001b[1;34m\"fit model finish!\"\u001b[0m\u001b[1;33m)\u001b[0m\u001b[1;33m\u001b[0m\u001b[1;33m\u001b[0m\u001b[0m\n\u001b[0;32m     42\u001b[0m     \u001b[0mbest_est\u001b[0m \u001b[1;33m=\u001b[0m \u001b[0mgrid_forest_clf\u001b[0m\u001b[1;33m.\u001b[0m\u001b[0mbest_estimator_\u001b[0m\u001b[1;33m\u001b[0m\u001b[1;33m\u001b[0m\u001b[0m\n",
      "\u001b[1;32m~\\Anaconda3\\lib\\site-packages\\imblearn\\pipeline.py\u001b[0m in \u001b[0;36mfit\u001b[1;34m(self, X, y, **fit_params)\u001b[0m\n\u001b[0;32m    238\u001b[0m         \u001b[0mXt\u001b[0m\u001b[1;33m,\u001b[0m \u001b[0myt\u001b[0m\u001b[1;33m,\u001b[0m \u001b[0mfit_params\u001b[0m \u001b[1;33m=\u001b[0m \u001b[0mself\u001b[0m\u001b[1;33m.\u001b[0m\u001b[0m_fit\u001b[0m\u001b[1;33m(\u001b[0m\u001b[0mX\u001b[0m\u001b[1;33m,\u001b[0m \u001b[0my\u001b[0m\u001b[1;33m,\u001b[0m \u001b[1;33m**\u001b[0m\u001b[0mfit_params\u001b[0m\u001b[1;33m)\u001b[0m\u001b[1;33m\u001b[0m\u001b[1;33m\u001b[0m\u001b[0m\n\u001b[0;32m    239\u001b[0m         \u001b[1;32mif\u001b[0m \u001b[0mself\u001b[0m\u001b[1;33m.\u001b[0m\u001b[0m_final_estimator\u001b[0m \u001b[1;33m!=\u001b[0m \u001b[1;34m'passthrough'\u001b[0m\u001b[1;33m:\u001b[0m\u001b[1;33m\u001b[0m\u001b[1;33m\u001b[0m\u001b[0m\n\u001b[1;32m--> 240\u001b[1;33m             \u001b[0mself\u001b[0m\u001b[1;33m.\u001b[0m\u001b[0m_final_estimator\u001b[0m\u001b[1;33m.\u001b[0m\u001b[0mfit\u001b[0m\u001b[1;33m(\u001b[0m\u001b[0mXt\u001b[0m\u001b[1;33m,\u001b[0m \u001b[0myt\u001b[0m\u001b[1;33m,\u001b[0m \u001b[1;33m**\u001b[0m\u001b[0mfit_params\u001b[0m\u001b[1;33m)\u001b[0m\u001b[1;33m\u001b[0m\u001b[1;33m\u001b[0m\u001b[0m\n\u001b[0m\u001b[0;32m    241\u001b[0m         \u001b[1;32mreturn\u001b[0m \u001b[0mself\u001b[0m\u001b[1;33m\u001b[0m\u001b[1;33m\u001b[0m\u001b[0m\n\u001b[0;32m    242\u001b[0m \u001b[1;33m\u001b[0m\u001b[0m\n",
      "\u001b[1;32m~\\Anaconda3\\lib\\site-packages\\sklearn\\model_selection\\_search.py\u001b[0m in \u001b[0;36mfit\u001b[1;34m(self, X, y, groups, **fit_params)\u001b[0m\n\u001b[0;32m    685\u001b[0m                 \u001b[1;32mreturn\u001b[0m \u001b[0mresults\u001b[0m\u001b[1;33m\u001b[0m\u001b[1;33m\u001b[0m\u001b[0m\n\u001b[0;32m    686\u001b[0m \u001b[1;33m\u001b[0m\u001b[0m\n\u001b[1;32m--> 687\u001b[1;33m             \u001b[0mself\u001b[0m\u001b[1;33m.\u001b[0m\u001b[0m_run_search\u001b[0m\u001b[1;33m(\u001b[0m\u001b[0mevaluate_candidates\u001b[0m\u001b[1;33m)\u001b[0m\u001b[1;33m\u001b[0m\u001b[1;33m\u001b[0m\u001b[0m\n\u001b[0m\u001b[0;32m    688\u001b[0m \u001b[1;33m\u001b[0m\u001b[0m\n\u001b[0;32m    689\u001b[0m         \u001b[1;31m# For multi-metric evaluation, store the best_index_, best_params_ and\u001b[0m\u001b[1;33m\u001b[0m\u001b[1;33m\u001b[0m\u001b[1;33m\u001b[0m\u001b[0m\n",
      "\u001b[1;32m~\\Anaconda3\\lib\\site-packages\\sklearn\\model_selection\\_search.py\u001b[0m in \u001b[0;36m_run_search\u001b[1;34m(self, evaluate_candidates)\u001b[0m\n\u001b[0;32m   1146\u001b[0m     \u001b[1;32mdef\u001b[0m \u001b[0m_run_search\u001b[0m\u001b[1;33m(\u001b[0m\u001b[0mself\u001b[0m\u001b[1;33m,\u001b[0m \u001b[0mevaluate_candidates\u001b[0m\u001b[1;33m)\u001b[0m\u001b[1;33m:\u001b[0m\u001b[1;33m\u001b[0m\u001b[1;33m\u001b[0m\u001b[0m\n\u001b[0;32m   1147\u001b[0m         \u001b[1;34m\"\"\"Search all candidates in param_grid\"\"\"\u001b[0m\u001b[1;33m\u001b[0m\u001b[1;33m\u001b[0m\u001b[0m\n\u001b[1;32m-> 1148\u001b[1;33m         \u001b[0mevaluate_candidates\u001b[0m\u001b[1;33m(\u001b[0m\u001b[0mParameterGrid\u001b[0m\u001b[1;33m(\u001b[0m\u001b[0mself\u001b[0m\u001b[1;33m.\u001b[0m\u001b[0mparam_grid\u001b[0m\u001b[1;33m)\u001b[0m\u001b[1;33m)\u001b[0m\u001b[1;33m\u001b[0m\u001b[1;33m\u001b[0m\u001b[0m\n\u001b[0m\u001b[0;32m   1149\u001b[0m \u001b[1;33m\u001b[0m\u001b[0m\n\u001b[0;32m   1150\u001b[0m \u001b[1;33m\u001b[0m\u001b[0m\n",
      "\u001b[1;32m~\\Anaconda3\\lib\\site-packages\\sklearn\\model_selection\\_search.py\u001b[0m in \u001b[0;36mevaluate_candidates\u001b[1;34m(candidate_params)\u001b[0m\n\u001b[0;32m    664\u001b[0m                                \u001b[1;32mfor\u001b[0m \u001b[0mparameters\u001b[0m\u001b[1;33m,\u001b[0m \u001b[1;33m(\u001b[0m\u001b[0mtrain\u001b[0m\u001b[1;33m,\u001b[0m \u001b[0mtest\u001b[0m\u001b[1;33m)\u001b[0m\u001b[1;33m\u001b[0m\u001b[1;33m\u001b[0m\u001b[0m\n\u001b[0;32m    665\u001b[0m                                in product(candidate_params,\n\u001b[1;32m--> 666\u001b[1;33m                                           cv.split(X, y, groups)))\n\u001b[0m\u001b[0;32m    667\u001b[0m \u001b[1;33m\u001b[0m\u001b[0m\n\u001b[0;32m    668\u001b[0m                 \u001b[1;32mif\u001b[0m \u001b[0mlen\u001b[0m\u001b[1;33m(\u001b[0m\u001b[0mout\u001b[0m\u001b[1;33m)\u001b[0m \u001b[1;33m<\u001b[0m \u001b[1;36m1\u001b[0m\u001b[1;33m:\u001b[0m\u001b[1;33m\u001b[0m\u001b[1;33m\u001b[0m\u001b[0m\n",
      "\u001b[1;32m~\\Anaconda3\\lib\\site-packages\\joblib\\parallel.py\u001b[0m in \u001b[0;36m__call__\u001b[1;34m(self, iterable)\u001b[0m\n\u001b[0;32m    994\u001b[0m \u001b[1;33m\u001b[0m\u001b[0m\n\u001b[0;32m    995\u001b[0m             \u001b[1;32mwith\u001b[0m \u001b[0mself\u001b[0m\u001b[1;33m.\u001b[0m\u001b[0m_backend\u001b[0m\u001b[1;33m.\u001b[0m\u001b[0mretrieval_context\u001b[0m\u001b[1;33m(\u001b[0m\u001b[1;33m)\u001b[0m\u001b[1;33m:\u001b[0m\u001b[1;33m\u001b[0m\u001b[1;33m\u001b[0m\u001b[0m\n\u001b[1;32m--> 996\u001b[1;33m                 \u001b[0mself\u001b[0m\u001b[1;33m.\u001b[0m\u001b[0mretrieve\u001b[0m\u001b[1;33m(\u001b[0m\u001b[1;33m)\u001b[0m\u001b[1;33m\u001b[0m\u001b[1;33m\u001b[0m\u001b[0m\n\u001b[0m\u001b[0;32m    997\u001b[0m             \u001b[1;31m# Make sure that we get a last message telling us we are done\u001b[0m\u001b[1;33m\u001b[0m\u001b[1;33m\u001b[0m\u001b[1;33m\u001b[0m\u001b[0m\n\u001b[0;32m    998\u001b[0m             \u001b[0melapsed_time\u001b[0m \u001b[1;33m=\u001b[0m \u001b[0mtime\u001b[0m\u001b[1;33m.\u001b[0m\u001b[0mtime\u001b[0m\u001b[1;33m(\u001b[0m\u001b[1;33m)\u001b[0m \u001b[1;33m-\u001b[0m \u001b[0mself\u001b[0m\u001b[1;33m.\u001b[0m\u001b[0m_start_time\u001b[0m\u001b[1;33m\u001b[0m\u001b[1;33m\u001b[0m\u001b[0m\n",
      "\u001b[1;32m~\\Anaconda3\\lib\\site-packages\\joblib\\parallel.py\u001b[0m in \u001b[0;36mretrieve\u001b[1;34m(self)\u001b[0m\n\u001b[0;32m    897\u001b[0m             \u001b[1;32mtry\u001b[0m\u001b[1;33m:\u001b[0m\u001b[1;33m\u001b[0m\u001b[1;33m\u001b[0m\u001b[0m\n\u001b[0;32m    898\u001b[0m                 \u001b[1;32mif\u001b[0m \u001b[0mgetattr\u001b[0m\u001b[1;33m(\u001b[0m\u001b[0mself\u001b[0m\u001b[1;33m.\u001b[0m\u001b[0m_backend\u001b[0m\u001b[1;33m,\u001b[0m \u001b[1;34m'supports_timeout'\u001b[0m\u001b[1;33m,\u001b[0m \u001b[1;32mFalse\u001b[0m\u001b[1;33m)\u001b[0m\u001b[1;33m:\u001b[0m\u001b[1;33m\u001b[0m\u001b[1;33m\u001b[0m\u001b[0m\n\u001b[1;32m--> 899\u001b[1;33m                     \u001b[0mself\u001b[0m\u001b[1;33m.\u001b[0m\u001b[0m_output\u001b[0m\u001b[1;33m.\u001b[0m\u001b[0mextend\u001b[0m\u001b[1;33m(\u001b[0m\u001b[0mjob\u001b[0m\u001b[1;33m.\u001b[0m\u001b[0mget\u001b[0m\u001b[1;33m(\u001b[0m\u001b[0mtimeout\u001b[0m\u001b[1;33m=\u001b[0m\u001b[0mself\u001b[0m\u001b[1;33m.\u001b[0m\u001b[0mtimeout\u001b[0m\u001b[1;33m)\u001b[0m\u001b[1;33m)\u001b[0m\u001b[1;33m\u001b[0m\u001b[1;33m\u001b[0m\u001b[0m\n\u001b[0m\u001b[0;32m    900\u001b[0m                 \u001b[1;32melse\u001b[0m\u001b[1;33m:\u001b[0m\u001b[1;33m\u001b[0m\u001b[1;33m\u001b[0m\u001b[0m\n\u001b[0;32m    901\u001b[0m                     \u001b[0mself\u001b[0m\u001b[1;33m.\u001b[0m\u001b[0m_output\u001b[0m\u001b[1;33m.\u001b[0m\u001b[0mextend\u001b[0m\u001b[1;33m(\u001b[0m\u001b[0mjob\u001b[0m\u001b[1;33m.\u001b[0m\u001b[0mget\u001b[0m\u001b[1;33m(\u001b[0m\u001b[1;33m)\u001b[0m\u001b[1;33m)\u001b[0m\u001b[1;33m\u001b[0m\u001b[1;33m\u001b[0m\u001b[0m\n",
      "\u001b[1;32m~\\Anaconda3\\lib\\site-packages\\joblib\\_parallel_backends.py\u001b[0m in \u001b[0;36mwrap_future_result\u001b[1;34m(future, timeout)\u001b[0m\n\u001b[0;32m    515\u001b[0m         AsyncResults.get from multiprocessing.\"\"\"\n\u001b[0;32m    516\u001b[0m         \u001b[1;32mtry\u001b[0m\u001b[1;33m:\u001b[0m\u001b[1;33m\u001b[0m\u001b[1;33m\u001b[0m\u001b[0m\n\u001b[1;32m--> 517\u001b[1;33m             \u001b[1;32mreturn\u001b[0m \u001b[0mfuture\u001b[0m\u001b[1;33m.\u001b[0m\u001b[0mresult\u001b[0m\u001b[1;33m(\u001b[0m\u001b[0mtimeout\u001b[0m\u001b[1;33m=\u001b[0m\u001b[0mtimeout\u001b[0m\u001b[1;33m)\u001b[0m\u001b[1;33m\u001b[0m\u001b[1;33m\u001b[0m\u001b[0m\n\u001b[0m\u001b[0;32m    518\u001b[0m         \u001b[1;32mexcept\u001b[0m \u001b[0mLokyTimeoutError\u001b[0m\u001b[1;33m:\u001b[0m\u001b[1;33m\u001b[0m\u001b[1;33m\u001b[0m\u001b[0m\n\u001b[0;32m    519\u001b[0m             \u001b[1;32mraise\u001b[0m \u001b[0mTimeoutError\u001b[0m\u001b[1;33m(\u001b[0m\u001b[1;33m)\u001b[0m\u001b[1;33m\u001b[0m\u001b[1;33m\u001b[0m\u001b[0m\n",
      "\u001b[1;32m~\\Anaconda3\\lib\\concurrent\\futures\\_base.py\u001b[0m in \u001b[0;36mresult\u001b[1;34m(self, timeout)\u001b[0m\n\u001b[0;32m    425\u001b[0m                 \u001b[1;32mreturn\u001b[0m \u001b[0mself\u001b[0m\u001b[1;33m.\u001b[0m\u001b[0m__get_result\u001b[0m\u001b[1;33m(\u001b[0m\u001b[1;33m)\u001b[0m\u001b[1;33m\u001b[0m\u001b[1;33m\u001b[0m\u001b[0m\n\u001b[0;32m    426\u001b[0m \u001b[1;33m\u001b[0m\u001b[0m\n\u001b[1;32m--> 427\u001b[1;33m             \u001b[0mself\u001b[0m\u001b[1;33m.\u001b[0m\u001b[0m_condition\u001b[0m\u001b[1;33m.\u001b[0m\u001b[0mwait\u001b[0m\u001b[1;33m(\u001b[0m\u001b[0mtimeout\u001b[0m\u001b[1;33m)\u001b[0m\u001b[1;33m\u001b[0m\u001b[1;33m\u001b[0m\u001b[0m\n\u001b[0m\u001b[0;32m    428\u001b[0m \u001b[1;33m\u001b[0m\u001b[0m\n\u001b[0;32m    429\u001b[0m             \u001b[1;32mif\u001b[0m \u001b[0mself\u001b[0m\u001b[1;33m.\u001b[0m\u001b[0m_state\u001b[0m \u001b[1;32min\u001b[0m \u001b[1;33m[\u001b[0m\u001b[0mCANCELLED\u001b[0m\u001b[1;33m,\u001b[0m \u001b[0mCANCELLED_AND_NOTIFIED\u001b[0m\u001b[1;33m]\u001b[0m\u001b[1;33m:\u001b[0m\u001b[1;33m\u001b[0m\u001b[1;33m\u001b[0m\u001b[0m\n",
      "\u001b[1;32m~\\Anaconda3\\lib\\threading.py\u001b[0m in \u001b[0;36mwait\u001b[1;34m(self, timeout)\u001b[0m\n\u001b[0;32m    294\u001b[0m         \u001b[1;32mtry\u001b[0m\u001b[1;33m:\u001b[0m    \u001b[1;31m# restore state no matter what (e.g., KeyboardInterrupt)\u001b[0m\u001b[1;33m\u001b[0m\u001b[1;33m\u001b[0m\u001b[0m\n\u001b[0;32m    295\u001b[0m             \u001b[1;32mif\u001b[0m \u001b[0mtimeout\u001b[0m \u001b[1;32mis\u001b[0m \u001b[1;32mNone\u001b[0m\u001b[1;33m:\u001b[0m\u001b[1;33m\u001b[0m\u001b[1;33m\u001b[0m\u001b[0m\n\u001b[1;32m--> 296\u001b[1;33m                 \u001b[0mwaiter\u001b[0m\u001b[1;33m.\u001b[0m\u001b[0macquire\u001b[0m\u001b[1;33m(\u001b[0m\u001b[1;33m)\u001b[0m\u001b[1;33m\u001b[0m\u001b[1;33m\u001b[0m\u001b[0m\n\u001b[0m\u001b[0;32m    297\u001b[0m                 \u001b[0mgotit\u001b[0m \u001b[1;33m=\u001b[0m \u001b[1;32mTrue\u001b[0m\u001b[1;33m\u001b[0m\u001b[1;33m\u001b[0m\u001b[0m\n\u001b[0;32m    298\u001b[0m             \u001b[1;32melse\u001b[0m\u001b[1;33m:\u001b[0m\u001b[1;33m\u001b[0m\u001b[1;33m\u001b[0m\u001b[0m\n",
      "\u001b[1;31mKeyboardInterrupt\u001b[0m: "
     ]
    }
   ],
   "source": [
    "from imblearn.pipeline import make_pipeline\n",
    "\n",
    "from imblearn.over_sampling import SMOTE,SMOTENC\n",
    "from sklearn.model_selection import train_test_split, RandomizedSearchCV,GridSearchCV\n",
    "\n",
    "from sklearn.ensemble import RandomForestClassifier\n",
    "\n",
    "\n",
    "# List to append the score and then find the average\n",
    "accuracy_lst = []\n",
    "precision_lst = []\n",
    "recall_lst = []\n",
    "f1_lst = []\n",
    "auc_lst = []\n",
    "\n",
    "# Classifier with optimal parameters\n",
    "# 实例化随机森林分类函数类\n",
    "forest_clf=RandomForestClassifier(random_state=42)\n",
    "\n",
    "# 建立需要搜索的参数的范围\n",
    "param_grid =[{'n_estimators':[10,30,50,100],\n",
    "             'max_depth':[50,100]}]\n",
    "\n",
    "#rand_forest_clf = RandomizedSearchCV(forest_clf, param_grid, n_iter=4)\n",
    "grid_forest_clf = GridSearchCV(forest_clf, param_grid,cv=5,n_jobs=-1,verbose=3)\n",
    "\n",
    "# Implementing SMOTE Technique \n",
    "# Cross Validating the right way\n",
    "# Parameters\n",
    "\n",
    "##init best model\n",
    "best_est = forest_clf\n",
    "\n",
    "for train, test in sss.split(original_Xtrain, original_ytrain):\n",
    "    print(\"Train-:\", train, \"Test:-\", test)\n",
    "    ## SMOTE happens during Cross Validation not before..\n",
    "    print(\"make pipeline .....\")\n",
    "    pipeline = imbalanced_make_pipeline(SMOTE(sampling_strategy='minority'), grid_forest_clf) \n",
    "    print(\"fit model ......\")\n",
    "    model = pipeline.fit(original_Xtrain[train], original_ytrain[train])\n",
    "    print(\"fit model finish!\")\n",
    "    best_est = grid_forest_clf.best_estimator_\n",
    "    print(\"predict.....\")\n",
    "    prediction = best_est.predict(original_Xtrain[test])\n",
    "    \n",
    "    accuracy_lst.append(pipeline.score(original_Xtrain[test], original_ytrain[test]))\n",
    "    precision_lst.append(precision_score(original_ytrain[test], prediction))\n",
    "    recall_lst.append(recall_score(original_ytrain[test], prediction))\n",
    "    f1_lst.append(f1_score(original_ytrain[test], prediction))\n",
    "    auc_lst.append(roc_auc_score(original_ytrain[test], prediction))\n",
    "    print(\"cur AUC:{}\".format(roc_auc_score(original_ytrain[test], prediction)))\n",
    "    print(\"***\" * 45)\n",
    "    \n",
    "print('---' * 45)\n",
    "print('')\n",
    "print(\"accuracy: {}\".format(np.mean(accuracy_lst)))\n",
    "print(\"precision: {}\".format(np.mean(precision_lst)))\n",
    "print(\"recall: {}\".format(np.mean(recall_lst)))\n",
    "print(\"f1: {}\".format(np.mean(f1_lst)))\n",
    "print(\"AUC:{}\".format(np.mean(auc_lst)))\n",
    "print('---' * 30)"
   ]
  },
  {
   "cell_type": "code",
   "execution_count": 84,
   "metadata": {},
   "outputs": [
    {
     "data": {
      "text/plain": [
       "2855"
      ]
     },
     "execution_count": 84,
     "metadata": {},
     "output_type": "execute_result"
    }
   ],
   "source": [
    "import gc\n",
    "gc.collect()"
   ]
  },
  {
   "cell_type": "markdown",
   "metadata": {},
   "source": [
    "### BalancedRandomForestClassifier  \n",
    "平衡的随机森林会随机对每个Boostrap样本进行欠采样以使其平衡。\n",
    "\n",
    "[R2d8f3e873ec3-1]\tChen，Chao，Andy Liaw和Leo Breiman。“使用随机森林来学习不平衡的数据。”加州大学伯克利分校110（2004）：1-12。\n",
    "\n",
    "https://imbalanced-learn.org/en/stable/generated/imblearn.ensemble.BalancedRandomForestClassifier.html"
   ]
  },
  {
   "cell_type": "markdown",
   "metadata": {},
   "source": [
    "#### 使用BalancedRandomForestClassifier训练模型"
   ]
  },
  {
   "cell_type": "code",
   "execution_count": 271,
   "metadata": {},
   "outputs": [
    {
     "name": "stdout",
     "output_type": "stream",
     "text": [
      "AUC:0.8204494054504459\n",
      "<bound method BaseEstimator.get_params of BalancedRandomForestClassifier(bootstrap=True, class_weight=None,\n",
      "                               criterion='gini', max_depth=100,\n",
      "                               max_features='auto', max_leaf_nodes=None,\n",
      "                               min_impurity_decrease=0.0, min_samples_leaf=2,\n",
      "                               min_samples_split=2,\n",
      "                               min_weight_fraction_leaf=0.0, n_estimators=100,\n",
      "                               n_jobs=-1, oob_score=True, random_state=42,\n",
      "                               replacement=False, sampling_strategy='majority',\n",
      "                               verbose=0, warm_start=False)>\n"
     ]
    }
   ],
   "source": [
    "from imblearn.ensemble import BalancedRandomForestClassifier\n",
    "bclf = BalancedRandomForestClassifier(max_depth=100, random_state=42,criterion='gini',sampling_strategy='majority',n_jobs=-1,oob_score=True)\n",
    "bclf.fit(original_Xtrain, original_ytrain)\n",
    "#print(clf.feature_importances_) \n",
    "prediction = bclf.predict(original_Xtest)\n",
    "\n",
    "print(\"AUC:{}\".format(roc_auc_score(original_ytest, prediction)))\n",
    "print(bclf.get_params)"
   ]
  },
  {
   "cell_type": "code",
   "execution_count": null,
   "metadata": {},
   "outputs": [],
   "source": []
  },
  {
   "cell_type": "code",
   "execution_count": 272,
   "metadata": {},
   "outputs": [
    {
     "name": "stdout",
     "output_type": "stream",
     "text": [
      "Train-: [28752 48666 21193 ... 73291   194 69093] Test:- [62905 51651 30391 ... 42542 27313 60695]\n",
      "fit model ......\n",
      "Fitting 5 folds for each of 9 candidates, totalling 45 fits\n"
     ]
    },
    {
     "name": "stderr",
     "output_type": "stream",
     "text": [
      "[Parallel(n_jobs=-1)]: Using backend LokyBackend with 8 concurrent workers.\n",
      "[Parallel(n_jobs=-1)]: Done  16 tasks      | elapsed:   34.2s\n",
      "[Parallel(n_jobs=-1)]: Done  45 out of  45 | elapsed:  1.3min finished\n"
     ]
    },
    {
     "name": "stdout",
     "output_type": "stream",
     "text": [
      "fit model finish!\n",
      "predict.....\n",
      "[IN LOOP]----> AUC:0.8416403147521694\n",
      "******************************************************************************************\n",
      "Train-: [75229 62373 22623 ... 70087 50063 10670] Test:- [80386 44633 61210 ... 34279 61767  5943]\n",
      "fit model ......\n",
      "Fitting 5 folds for each of 9 candidates, totalling 45 fits\n"
     ]
    },
    {
     "name": "stderr",
     "output_type": "stream",
     "text": [
      "[Parallel(n_jobs=-1)]: Using backend LokyBackend with 8 concurrent workers.\n",
      "[Parallel(n_jobs=-1)]: Done  16 tasks      | elapsed:   25.5s\n",
      "[Parallel(n_jobs=-1)]: Done  45 out of  45 | elapsed:  1.2min finished\n"
     ]
    },
    {
     "name": "stdout",
     "output_type": "stream",
     "text": [
      "fit model finish!\n",
      "predict.....\n",
      "[IN LOOP]----> AUC:0.8208008530666274\n",
      "******************************************************************************************\n",
      "Train-: [31538 61483 70338 ... 48115 32391 23456] Test:- [ 8785 32720 71174 ... 70670 22746  8074]\n",
      "fit model ......\n",
      "Fitting 5 folds for each of 9 candidates, totalling 45 fits\n"
     ]
    },
    {
     "name": "stderr",
     "output_type": "stream",
     "text": [
      "[Parallel(n_jobs=-1)]: Using backend LokyBackend with 8 concurrent workers.\n",
      "[Parallel(n_jobs=-1)]: Done  16 tasks      | elapsed:   26.4s\n",
      "[Parallel(n_jobs=-1)]: Done  45 out of  45 | elapsed:  1.2min finished\n"
     ]
    },
    {
     "name": "stdout",
     "output_type": "stream",
     "text": [
      "fit model finish!\n",
      "predict.....\n",
      "[IN LOOP]----> AUC:0.8313079129283717\n",
      "******************************************************************************************\n",
      "Train-: [23341  2352 51291 ...  9358 30142 12595] Test:- [76021 42335 15523 ... 31093 54898 56279]\n",
      "fit model ......\n",
      "Fitting 5 folds for each of 9 candidates, totalling 45 fits\n"
     ]
    },
    {
     "name": "stderr",
     "output_type": "stream",
     "text": [
      "[Parallel(n_jobs=-1)]: Using backend LokyBackend with 8 concurrent workers.\n",
      "[Parallel(n_jobs=-1)]: Done  16 tasks      | elapsed:   26.5s\n",
      "[Parallel(n_jobs=-1)]: Done  45 out of  45 | elapsed:  1.2min finished\n"
     ]
    },
    {
     "name": "stdout",
     "output_type": "stream",
     "text": [
      "fit model finish!\n",
      "predict.....\n",
      "[IN LOOP]----> AUC:0.8356697676128843\n",
      "******************************************************************************************\n",
      "Train-: [78882 12831 56168 ... 34044 31575  9105] Test:- [30452 78101 67574 ... 66635 78588 63221]\n",
      "fit model ......\n",
      "Fitting 5 folds for each of 9 candidates, totalling 45 fits\n"
     ]
    },
    {
     "name": "stderr",
     "output_type": "stream",
     "text": [
      "[Parallel(n_jobs=-1)]: Using backend LokyBackend with 8 concurrent workers.\n",
      "[Parallel(n_jobs=-1)]: Done  16 tasks      | elapsed:   25.6s\n",
      "[Parallel(n_jobs=-1)]: Done  45 out of  45 | elapsed:  1.2min finished\n"
     ]
    },
    {
     "name": "stdout",
     "output_type": "stream",
     "text": [
      "fit model finish!\n",
      "predict.....\n",
      "[IN LOOP]----> AUC:0.844866892190028\n",
      "******************************************************************************************\n",
      "------------------------------------------------------------------------------------------\n",
      "TRAIN AVG_AUC:0.8348571481100162\n",
      "TEST AUC:0.8213156576275346\n",
      "------------------------------------------------------------------------------------------\n"
     ]
    }
   ],
   "source": [
    "## cross validation\n",
    "\n",
    "# Classifier with optimal parameters\n",
    "# 实例化随机森林分类函数类\n",
    "forest_clf=BalancedRandomForestClassifier(random_state=42,criterion='gini',sampling_strategy='majority',n_jobs=-1,oob_score=True)\n",
    "\n",
    "# 建立需要搜索的参数的范围\n",
    "param_grid =[{'n_estimators':[30,50,100],\n",
    "             'max_depth':[10,50,100]}]\n",
    "\n",
    "grid_forest_clf = GridSearchCV(forest_clf, param_grid,cv=5,n_jobs=-1,verbose=3)\n",
    "\n",
    "# Implementing SMOTE Technique \n",
    "# Cross Validating the right way\n",
    "# Parameters\n",
    "best_est_list = []\n",
    "auc_lst = []\n",
    "for train, test in sss.split(original_Xtrain, original_ytrain):\n",
    "    print(\"Train-:\", train, \"Test:-\", test)\n",
    "    ## SMOTE happens during Cross Validation not before..\n",
    "    print(\"fit model ......\")\n",
    "    grid_forest_clf.fit(original_Xtrain[train], original_ytrain[train])\n",
    "    print(\"fit model finish!\")\n",
    "    best_est = grid_forest_clf.best_estimator_\n",
    "    best_est_list.append(best_est)\n",
    "    print(\"predict.....\")\n",
    "    prediction = best_est.predict(original_Xtrain[test])\n",
    "    \n",
    "    auc = roc_auc_score(original_ytrain[test], prediction)\n",
    "    auc_lst.append(auc)\n",
    "    print(\"[IN LOOP]----> AUC:{}\".format(auc))\n",
    "    print(\"***\" * 30)\n",
    "    \n",
    "print('---' * 30)\n",
    "print(\"TRAIN AVG_AUC:{}\".format(np.mean(auc_lst)))\n",
    "y_pred = best_est.predict(original_Xtest)\n",
    "print(\"TEST AUC:{}\".format(roc_auc_score(original_ytest, y_pred)))\n",
    "print('---' * 30)"
   ]
  },
  {
   "cell_type": "code",
   "execution_count": 323,
   "metadata": {},
   "outputs": [
    {
     "data": {
      "text/plain": [
       "array([0.66873665, 0.33126335])"
      ]
     },
     "execution_count": 323,
     "metadata": {},
     "output_type": "execute_result"
    }
   ],
   "source": [
    "y_pred_t = best_est.predict_proba(original_Xtest)\n",
    "y_pred_t[1]"
   ]
  },
  {
   "cell_type": "markdown",
   "metadata": {},
   "source": [
    "####  模型评价\n",
    " - 准确率 - accuracy\n",
    "   - accuracy是最常见也是最基本的evaluation metric。但在binary classification 且正反例不平衡的情况下，尤其是我们对minority class 更感兴趣的时候，accuracy评价基本没有参考价值。什么fraud detection（欺诈检测），癌症检测，都符合这种情况。例如：在测试集里，有100个sample，99个反例，只有1个正例。如果我的模型不分青红皂白对任意一个sample都预测是反例，那么我的模型的accuracy是 正确的个数／总个数 = 99/100 = 99%你拿着这个accuracy高达99%的模型屁颠儿屁颠儿的去预测新sample了，而它一个正例都分不出来，有意思么。。。\n",
    "\n",
    "   - **accuracy paradox**\n",
    "\n",
    "\n",
    " - 精确率 - precision\n",
    "   - precision是相对你自己的模型预测而言：true positive ／retrieved set。假设你的模型一共预测了100个正例，而其中80个是对的正例，那么你的precision就是80%。我们可以把precision也理解为，当你的模型作出一个新的预测时，它的confidence score 是多少，或者它做的这个预测是对的的可能性是多少。\n",
    "\n",
    " - 召回率 - recall\n",
    "   - recall是相对真实的答案而言： true positive ／ golden set 。假设测试集里面有100个正例，你的模型能预测覆盖到多少，如果你的模型预测到了40个正例，那你的recall就是40%。\n",
    "  \n",
    "  \n",
    " - F1值 - F1-score\n",
    "   - 一般来说呢，鱼与熊掌不可兼得。如果你的模型很贪婪，想要覆盖更多的sample，那么它就更有可能犯错。在这种情况下，你会有很高的recall，但是较低的precision。如果你的模型很保守，只对它很sure的sample作出预测，那么你的precision会很高，但是recall会相对低。\n",
    "\n",
    "   - **这样一来呢，我们可以选择只看我们感兴趣的class，就是minority class的precision，recall来评价模型的好坏。**\n",
    "   - F1-score 就是一个综合考虑precision和recall的metric： 2\\*precision\\*recall / (precision + recall)\n",
    " - ROC曲线下面积 - ROC-AUC （area under curve）\n",
    " - PR曲线下面积 - PR-AUC\n",
    "\n",
    "\n",
    "作者：邓小乔\n",
    "链接：https://www.zhihu.com/question/30643044/answer/224360465\n",
    "来源：知乎\n",
    "著作权归作者所有。商业转载请联系作者获得授权，非商业转载请注明出处。"
   ]
  },
  {
   "cell_type": "code",
   "execution_count": 321,
   "metadata": {},
   "outputs": [
    {
     "name": "stdout",
     "output_type": "stream",
     "text": [
      "\n",
      "\n",
      "目标变量分布:\n",
      "------------------------------\n",
      "训练集：逾期笔数:435 正常笔数:47398\n",
      "正常贷款： 99.09 % of the dataset\n",
      "逾期贷款： 0.91 % of the dataset\n",
      "预测结果：逾期笔数:7697 正常笔数:40136\n",
      "预测正常贷款： 83.91 % of the dataset\n",
      "预测逾期贷款： 16.09 % of the dataset\n",
      "\n",
      "\n",
      "训练结果精度:\n",
      "------------------------------\n",
      "TEST accuracy_score:0.8445006585411745\n",
      "TEST precision_score:0.04508249967519813\n",
      "TEST recall_score:0.7977011494252874\n",
      "TEST AUC:0.8213156576275346\n",
      "每个类别的精确率和召回率：\n",
      "               precision    recall  f1-score   support\n",
      "\n",
      "           0       1.00      0.84      0.92     47398\n",
      "           1       0.05      0.80      0.09       435\n",
      "\n",
      "    accuracy                           0.84     47833\n",
      "   macro avg       0.52      0.82      0.50     47833\n",
      "weighted avg       0.99      0.84      0.91     47833\n",
      "\n",
      "混淆矩阵：\n",
      " [[40048  7350]\n",
      " [   88   347]]\n"
     ]
    },
    {
     "data": {
      "text/plain": [
       "Text(23.5, 0.5, '真实值')"
      ]
     },
     "execution_count": 321,
     "metadata": {},
     "output_type": "execute_result"
    },
    {
     "data": {
      "image/png": "[encoded data removed]",
      "text/plain": [
       "<Figure size 432x288 with 2 Axes>"
      ]
     },
     "metadata": {},
     "output_type": "display_data"
    }
   ],
   "source": [
    "from sklearn.metrics import precision_score, recall_score, f1_score, roc_auc_score, accuracy_score, classification_report,confusion_matrix\n",
    "plt.rcParams['font.family'] = 'SimHei' \n",
    "\n",
    "y_pred_t = best_est.predict(original_Xtest)\n",
    "\n",
    "\n",
    "\n",
    "\n",
    "print(\"\\n\\n目标变量分布:\")\n",
    "print(\"------------------------------\")\n",
    "\n",
    "zc = original_ytest[original_ytest == 0].shape[0]\n",
    "yq = original_ytest[original_ytest == 1].shape[0]\n",
    "print(\"训练集：逾期笔数:{} 正常笔数:{}\".format(yq,zc))\n",
    "print('正常贷款：', round(zc/len(original_ytest) * 100,2), '% of the dataset')\n",
    "print('逾期贷款：', round(yq/len(original_ytest) * 100,2), '% of the dataset')\n",
    "\n",
    "pred_zc = y_pred_t[y_pred_t == 0].shape[0]\n",
    "pred_yq = y_pred_t[y_pred_t == 1].shape[0]\n",
    "print(\"预测结果：逾期笔数:{} 正常笔数:{}\".format(pred_yq,pred_zc))\n",
    "print('预测正常贷款：', round(pred_zc/len(y_pred_t) * 100,2), '% of the dataset')\n",
    "print('预测逾期贷款：', round(pred_yq/len(y_pred_t) * 100,2), '% of the dataset')\n",
    "\n",
    "\n",
    "\n",
    "print(\"\\n\\n训练结果精度:\")\n",
    "print(\"------------------------------\")\n",
    "print(\"TEST accuracy_score:{}\".format(accuracy_score(original_ytest, y_pred_t)))\n",
    "print(\"TEST precision_score:{}\".format(precision_score(original_ytest, y_pred_t)))\n",
    "print(\"TEST recall_score:{}\".format(recall_score(original_ytest, y_pred_t)))\n",
    "print(\"TEST AUC:{}\".format(roc_auc_score(original_ytest, y_pred_t)))\n",
    "print(\"每个类别的精确率和召回率：\\n\", classification_report(original_ytest, y_pred_t))\n",
    "print(\"混淆矩阵：\\n\", confusion_matrix(original_ytest, y_pred_t))\n",
    "C2 = confusion_matrix(original_ytest, y_pred_t)\n",
    "sns.heatmap(C2,annot=True)\n",
    "\n",
    "plt.xlabel(\"预测结果\",fontsize=18)\n",
    "plt.ylabel(\"真实值\",fontsize=18)\n"
   ]
  },
  {
   "cell_type": "code",
   "execution_count": 45,
   "metadata": {},
   "outputs": [
    {
     "data": {
      "text/plain": [
       "0.7977011494252874"
      ]
     },
     "execution_count": 45,
     "metadata": {},
     "output_type": "execute_result"
    }
   ],
   "source": [
    "347/(88+347)"
   ]
  },
  {
   "cell_type": "code",
   "execution_count": 193,
   "metadata": {},
   "outputs": [],
   "source": [
    "#将模型保存\n",
    "saveModel =open(path+'BFC_Model_Normal_AUC_0.82.pkl','wb+')\n",
    "pickle.dump(best_est,saveModel)\n",
    "saveModel.close()"
   ]
  },
  {
   "cell_type": "code",
   "execution_count": 194,
   "metadata": {},
   "outputs": [
    {
     "name": "stdout",
     "output_type": "stream",
     "text": [
      "TEST AUC:0.8274189754356966\n"
     ]
    }
   ],
   "source": [
    "#验证一下保存的模型是否一致\n",
    "\n",
    "modelFile =open(path+'BFC_Model_Normal_AUC_0.82.pkl','rb+')\n",
    "BFC_Model = pickle.load(modelFile)\n",
    "modelFile.close()\n",
    "\n",
    "y_pred_1 = best_est.predict(original_Xtest)\n",
    "print(\"TEST AUC:{}\".format(roc_auc_score(original_ytest, y_pred_1)))"
   ]
  },
  {
   "cell_type": "code",
   "execution_count": null,
   "metadata": {},
   "outputs": [],
   "source": []
  },
  {
   "cell_type": "markdown",
   "metadata": {},
   "source": [
    "#### 将模型应用在测试数据集上"
   ]
  },
  {
   "cell_type": "code",
   "execution_count": 105,
   "metadata": {},
   "outputs": [
    {
     "data": {
      "text/plain": [
       "(132029, 258)"
      ]
     },
     "execution_count": 105,
     "metadata": {},
     "output_type": "execute_result"
    }
   ],
   "source": [
    "X.shape"
   ]
  },
  {
   "cell_type": "code",
   "execution_count": 106,
   "metadata": {},
   "outputs": [
    {
     "name": "stdout",
     "output_type": "stream",
     "text": [
      "['x_0', 'x_1', 'x_2', 'x_3', 'x_4', 'x_5', 'x_6', 'x_7', 'x_8', 'x_9', 'x_10', 'x_11', 'x_12', 'x_13', 'x_14', 'x_15', 'x_16', 'x_17', 'x_18', 'x_19', 'x_20', 'x_21', 'x_22', 'x_23', 'x_24', 'x_25', 'x_26', 'x_27', 'x_28', 'x_29', 'x_30', 'x_31', 'x_32', 'x_33', 'x_34', 'x_35', 'x_36', 'x_37', 'x_38', 'x_39', 'x_40', 'x_41', 'x_42', 'x_43', 'x_44', 'x_45', 'x_46', 'x_47', 'x_48', 'x_49', 'x_50', 'x_51', 'x_52', 'x_53', 'x_54', 'x_55', 'x_56', 'x_57', 'x_58', 'x_59', 'x_60', 'x_61', 'x_62', 'x_63', 'x_64', 'x_65', 'x_66', 'x_67', 'x_68', 'x_69', 'x_70', 'x_71', 'x_72', 'x_73', 'x_74', 'x_75', 'x_76', 'x_77', 'x_78', 'isNew', 'lmt_Bin_WOE', 'certId_br_encoding_Bin_WOE', 'dist_br_encoding_Bin_WOE', 'certValidBegin_br_encoding_Bin_WOE', 'certValidStop_br_encoding_Bin_WOE', 'ethnic_br_encoding_Bin_WOE', 'residentAddr_br_encoding_Bin_WOE', 'gender_1', 'gender_2', '5yearBadloan_0', '5yearBadloan_1', 'loanProduct_1', 'loanProduct_2', 'loanProduct_3', 'basicLevel_-999', 'basicLevel_1', 'basicLevel_2', 'basicLevel_3', 'basicLevel_4', 'basicLevel_5', 'edu_-999', 'edu_0', 'edu_10', 'edu_20', 'edu_30', 'edu_40', 'edu_47', 'edu_60', 'edu_70', 'job_1', 'job_2', 'job_3', 'job_4', 'job_5', 'job_6', 'job_7', 'job_8', 'job_10', 'job_11', 'job_12', 'job_13', 'job_16', 'cardname_', 'cardname_E时代卡', 'cardname_IC借记卡普卡', 'cardname_IC绿卡通', 'cardname_IC绿卡通VIP卡', 'cardname_IC联名卡', 'cardname_一卡通（银联卡）', 'cardname_一账通借贷合一卡金卡', 'cardname_万事顺借记卡', 'cardname_专用惠农卡', 'cardname_东方卡（银联卡）', 'cardname_个人普卡', 'cardname_中信借记卡（银联卡）', 'cardname_中信理财宝白金卡', 'cardname_中信理财宝金卡', 'cardname_中国旅游卡', 'cardname_中国旅游卡（普卡）', 'cardname_中职学生资助卡', 'cardname_乐当家', 'cardname_乐当家白金卡', 'cardname_乐当家金卡VISA', 'cardname_乐当家银卡VISA', 'cardname_交银IC卡', 'cardname_借记IC个人普卡', 'cardname_借记IC个人金卡', 'cardname_借记IC卡金卡', 'cardname_借记IC白金卡', 'cardname_借记IC联名卡', 'cardname_借记卡', 'cardname_借记卡普卡', 'cardname_兴业卡（银联卡）', 'cardname_兴业卡（银联标准卡）', 'cardname_兴业自然人生理财卡', 'cardname_其他卡产品', 'cardname_医保联名借记IC卡', 'cardname_华夏丽人卡（银联卡）', 'cardname_华夏卡（银联卡）', 'cardname_华夏普卡', 'cardname_华夏至尊金卡（银联卡）', 'cardname_华夏金卡', 'cardname_发展借记卡（银联卡）', 'cardname_发展卡（银联卡）', 'cardname_员工普卡', 'cardname_太平洋万事顺卡', 'cardname_太平洋互连卡', 'cardname_太平洋借记卡', 'cardname_工银财富卡', 'cardname_平安银行（深圳发展银行）IC借记卡', 'cardname_平安银行（深圳发展银行）借记卡', 'cardname_广发理财通卡', 'cardname_招行国际卡（银联卡）', 'cardname_新磁条借记卡', 'cardname_普通高中学生资助卡', 'cardname_民生借记卡', 'cardname_民生借记卡（银联卡）', 'cardname_灵通卡', 'cardname_牡丹卡普卡', 'cardname_牡丹灵通卡（银联卡）', 'cardname_理财宝IC卡', 'cardname_理财白金卡', 'cardname_理财通卡', 'cardname_理财金卡', 'cardname_理财金账户金卡', 'cardname_理财银卡', 'cardname_社会保障IC卡', 'cardname_社保IC卡', 'cardname_社保联名借记IC卡', 'cardname_社保联名卡', 'cardname_福农卡', 'cardname_福农灵通卡', 'cardname_绿卡VIP卡', 'cardname_绿卡通', 'cardname_绿卡银联标准卡', 'cardname_绿卡（银联卡）', 'cardname_联名IC卡普卡', 'cardname_联名卡', 'cardname_薪资理财卡', 'cardname_财富卡私人银行卡', 'cardname_轻松理财普卡（复合卡）', 'cardname_轻松理财消贷易卡', 'cardname_轻松理财白金卡（复合卡）', 'cardname_轻松理财金卡（复合卡）', 'cardname_退役金卡', 'cardname_金卡', 'cardname_金穗惠农卡', 'cardname_金穗校园卡（银联卡）', 'cardname_金穗海通卡', 'cardname_金穗社保卡（银联卡）', 'cardname_金穗通宝卡', 'cardname_金穗通宝卡（银联卡）', 'cardname_金穗通宝钻石卡', 'cardname_金穗通宝银卡', 'cardname_金穗青年卡（银联卡）', 'cardname_金融IC卡', 'cardname_银联IC普卡', 'cardname_银联IC金卡', 'cardname_银联储蓄卡', 'cardname_银联标准卡', 'cardname_银联金葵花IC卡', 'cardname_长城电子借记卡', 'cardname_长城福农借记卡普卡', 'cardname_长城福农借记卡金卡', 'cardname_阳光卡（银联卡）', 'cardname_龙卡储蓄卡', 'cardname_龙卡储蓄卡（银联卡）', 'cardname_龙卡通', 'highestEdu_-999', 'highestEdu_10', 'highestEdu_20', 'highestEdu_30', 'highestEdu_40', 'highestEdu_50', 'highestEdu_60', 'highestEdu_70', 'highestEdu_99', 'linkRela_-999', 'linkRela_0', 'linkRela_1', 'linkRela_2', 'linkRela_10', 'linkRela_11', 'linkRela_12', 'linkRela_301', 'linkRela_306', 'ncloseCreditCard_-999', 'ncloseCreditCard_0', 'ncloseCreditCard_1', 'unpayIndvLoan_-999', 'unpayIndvLoan_0', 'unpayIndvLoan_1', 'unpayOtherLoan_-999', 'unpayOtherLoan_0', 'unpayOtherLoan_1', 'unpayNormalLoan_-999', 'unpayNormalLoan_0', 'unpayNormalLoan_1']\n"
     ]
    }
   ],
   "source": [
    "print(X.columns.to_list())"
   ]
  },
  {
   "cell_type": "code",
   "execution_count": 147,
   "metadata": {},
   "outputs": [
    {
     "data": {
      "text/html": [
       "<div>\n",
       "<style scoped>\n",
       "    .dataframe tbody tr th:only-of-type {\n",
       "        vertical-align: middle;\n",
       "    }\n",
       "\n",
       "    .dataframe tbody tr th {\n",
       "        vertical-align: top;\n",
       "    }\n",
       "\n",
       "    .dataframe thead th {\n",
       "        text-align: right;\n",
       "    }\n",
       "</style>\n",
       "<table border=\"1\" class=\"dataframe\">\n",
       "  <thead>\n",
       "    <tr style=\"text-align: right;\">\n",
       "      <th></th>\n",
       "      <th>id</th>\n",
       "      <th>certId</th>\n",
       "      <th>loanProduct</th>\n",
       "      <th>gender</th>\n",
       "      <th>age</th>\n",
       "      <th>dist</th>\n",
       "      <th>edu</th>\n",
       "      <th>job</th>\n",
       "      <th>lmt</th>\n",
       "      <th>basicLevel</th>\n",
       "      <th>...</th>\n",
       "      <th>highestEdu</th>\n",
       "      <th>linkRela</th>\n",
       "      <th>setupHour</th>\n",
       "      <th>weekday</th>\n",
       "      <th>ncloseCreditCard</th>\n",
       "      <th>unpayIndvLoan</th>\n",
       "      <th>unpayOtherLoan</th>\n",
       "      <th>unpayNormalLoan</th>\n",
       "      <th>5yearBadloan</th>\n",
       "      <th>isNew</th>\n",
       "    </tr>\n",
       "  </thead>\n",
       "  <tbody>\n",
       "    <tr>\n",
       "      <th>0</th>\n",
       "      <td>132030</td>\n",
       "      <td>541202</td>\n",
       "      <td>1</td>\n",
       "      <td>2</td>\n",
       "      <td>28</td>\n",
       "      <td>540100</td>\n",
       "      <td>0</td>\n",
       "      <td>3</td>\n",
       "      <td>9.963</td>\n",
       "      <td>1</td>\n",
       "      <td>...</td>\n",
       "      <td>-999</td>\n",
       "      <td>0</td>\n",
       "      <td>9</td>\n",
       "      <td>6</td>\n",
       "      <td>1</td>\n",
       "      <td>0</td>\n",
       "      <td>1</td>\n",
       "      <td>0</td>\n",
       "      <td>0</td>\n",
       "      <td>1</td>\n",
       "    </tr>\n",
       "    <tr>\n",
       "      <th>1</th>\n",
       "      <td>132031</td>\n",
       "      <td>733521</td>\n",
       "      <td>1</td>\n",
       "      <td>1</td>\n",
       "      <td>42</td>\n",
       "      <td>730900</td>\n",
       "      <td>0</td>\n",
       "      <td>6</td>\n",
       "      <td>0.730</td>\n",
       "      <td>1</td>\n",
       "      <td>...</td>\n",
       "      <td>-999</td>\n",
       "      <td>0</td>\n",
       "      <td>4</td>\n",
       "      <td>6</td>\n",
       "      <td>1</td>\n",
       "      <td>0</td>\n",
       "      <td>1</td>\n",
       "      <td>0</td>\n",
       "      <td>0</td>\n",
       "      <td>1</td>\n",
       "    </tr>\n",
       "    <tr>\n",
       "      <th>2</th>\n",
       "      <td>132032</td>\n",
       "      <td>710231</td>\n",
       "      <td>1</td>\n",
       "      <td>2</td>\n",
       "      <td>43</td>\n",
       "      <td>710100</td>\n",
       "      <td>0</td>\n",
       "      <td>2</td>\n",
       "      <td>5.768</td>\n",
       "      <td>1</td>\n",
       "      <td>...</td>\n",
       "      <td>-999</td>\n",
       "      <td>0</td>\n",
       "      <td>18</td>\n",
       "      <td>5</td>\n",
       "      <td>1</td>\n",
       "      <td>1</td>\n",
       "      <td>1</td>\n",
       "      <td>0</td>\n",
       "      <td>0</td>\n",
       "      <td>1</td>\n",
       "    </tr>\n",
       "    <tr>\n",
       "      <th>3</th>\n",
       "      <td>132033</td>\n",
       "      <td>722122</td>\n",
       "      <td>3</td>\n",
       "      <td>2</td>\n",
       "      <td>32</td>\n",
       "      <td>722120</td>\n",
       "      <td>0</td>\n",
       "      <td>4</td>\n",
       "      <td>17.233</td>\n",
       "      <td>1</td>\n",
       "      <td>...</td>\n",
       "      <td>-999</td>\n",
       "      <td>-999</td>\n",
       "      <td>6</td>\n",
       "      <td>5</td>\n",
       "      <td>1</td>\n",
       "      <td>0</td>\n",
       "      <td>1</td>\n",
       "      <td>1</td>\n",
       "      <td>0</td>\n",
       "      <td>1</td>\n",
       "    </tr>\n",
       "    <tr>\n",
       "      <th>4</th>\n",
       "      <td>132034</td>\n",
       "      <td>641723</td>\n",
       "      <td>1</td>\n",
       "      <td>2</td>\n",
       "      <td>22</td>\n",
       "      <td>641700</td>\n",
       "      <td>0</td>\n",
       "      <td>4</td>\n",
       "      <td>0.463</td>\n",
       "      <td>3</td>\n",
       "      <td>...</td>\n",
       "      <td>-999</td>\n",
       "      <td>1</td>\n",
       "      <td>4</td>\n",
       "      <td>6</td>\n",
       "      <td>0</td>\n",
       "      <td>0</td>\n",
       "      <td>0</td>\n",
       "      <td>0</td>\n",
       "      <td>0</td>\n",
       "      <td>1</td>\n",
       "    </tr>\n",
       "  </tbody>\n",
       "</table>\n",
       "<p>5 rows × 104 columns</p>\n",
       "</div>"
      ],
      "text/plain": [
       "       id  certId  loanProduct  gender  age    dist  edu  job     lmt  \\\n",
       "0  132030  541202            1       2   28  540100    0    3   9.963   \n",
       "1  132031  733521            1       1   42  730900    0    6   0.730   \n",
       "2  132032  710231            1       2   43  710100    0    2   5.768   \n",
       "3  132033  722122            3       2   32  722120    0    4  17.233   \n",
       "4  132034  641723            1       2   22  641700    0    4   0.463   \n",
       "\n",
       "   basicLevel  ...  highestEdu  linkRela  setupHour  weekday  \\\n",
       "0           1  ...        -999         0          9        6   \n",
       "1           1  ...        -999         0          4        6   \n",
       "2           1  ...        -999         0         18        5   \n",
       "3           1  ...        -999      -999          6        5   \n",
       "4           3  ...        -999         1          4        6   \n",
       "\n",
       "   ncloseCreditCard  unpayIndvLoan  unpayOtherLoan  unpayNormalLoan  \\\n",
       "0                 1              0               1                0   \n",
       "1                 1              0               1                0   \n",
       "2                 1              1               1                0   \n",
       "3                 1              0               1                1   \n",
       "4                 0              0               0                0   \n",
       "\n",
       "   5yearBadloan  isNew  \n",
       "0             0      1  \n",
       "1             0      1  \n",
       "2             0      1  \n",
       "3             0      1  \n",
       "4             0      1  \n",
       "\n",
       "[5 rows x 104 columns]"
      ]
     },
     "execution_count": 147,
     "metadata": {},
     "output_type": "execute_result"
    }
   ],
   "source": [
    "test_x.head()"
   ]
  },
  {
   "cell_type": "markdown",
   "metadata": {},
   "source": [
    "##### 加载模型"
   ]
  },
  {
   "cell_type": "code",
   "execution_count": null,
   "metadata": {},
   "outputs": [],
   "source": [
    "##第一步：完成数据预处理\n",
    "####在实际工作中，可以只清洗模型实际使用的字段"
   ]
  },
  {
   "cell_type": "code",
   "execution_count": null,
   "metadata": {},
   "outputs": [],
   "source": [
    "##第二步：变量衍生"
   ]
  },
  {
   "cell_type": "code",
   "execution_count": 273,
   "metadata": {},
   "outputs": [],
   "source": [
    "##第三步：分箱并代入WOE值\n",
    "modelFile =open(path+'BFC_Model_Normal_AUC_0.82.pkl','rb+')\n",
    "BFC_Model = pickle.load(modelFile)\n",
    "modelFile.close()\n",
    "\n",
    "\n",
    "file1 = open(path+'merge_bin_dict.pkl','rb+')\n",
    "merge_bin_dict = pickle.load(file1)\n",
    "file1.close()\n",
    "\n",
    "file2 = open(path+'br_encoding_dict.pkl','rb+')\n",
    "br_encoding_dict = pickle.load(file2)\n",
    "file2.close()\n",
    " \n",
    "file3 = open(path+'continous_merged_dict.pkl','rb+')\n",
    "continous_merged_dict = pickle.load(file3)\n",
    "file3.close()\n",
    " \n",
    "file4 = open(path+'WOE_dict.pkl','rb+')\n",
    "WOE_dict = pickle.load(file4)\n",
    "file4.close()"
   ]
  },
  {
   "cell_type": "code",
   "execution_count": 274,
   "metadata": {},
   "outputs": [
    {
     "data": {
      "text/plain": [
       "8"
      ]
     },
     "execution_count": 274,
     "metadata": {},
     "output_type": "execute_result"
    }
   ],
   "source": [
    "len(continous_merged_dict)"
   ]
  },
  {
   "cell_type": "code",
   "execution_count": 197,
   "metadata": {},
   "outputs": [],
   "source": [
    "#fimpt = BFC_Model.feature_importances_\n",
    "#print(fimpt)\n",
    "#print(X.shape,fimpt.shape)"
   ]
  },
  {
   "cell_type": "code",
   "execution_count": 139,
   "metadata": {},
   "outputs": [
    {
     "name": "stdout",
     "output_type": "stream",
     "text": [
      "['x_0', 'x_1', 'x_2', 'x_3', 'x_4', 'x_5', 'x_6', 'x_7', 'x_8', 'x_9', 'x_10', 'x_11', 'x_12', 'x_13', 'x_14', 'x_15', 'x_16', 'x_17', 'x_18', 'x_19', 'x_20', 'x_21', 'x_22', 'x_23', 'x_24', 'x_25', 'x_26', 'x_27', 'x_28', 'x_29', 'x_30', 'x_31', 'x_32', 'x_33', 'x_34', 'x_35', 'x_36', 'x_37', 'x_38', 'x_39', 'x_40', 'x_41', 'x_42', 'x_43', 'x_44', 'x_45', 'x_46', 'x_47', 'x_48', 'x_49', 'x_50', 'x_51', 'x_52', 'x_53', 'x_54', 'x_55', 'x_56', 'x_57', 'x_58', 'x_59', 'x_60', 'x_61', 'x_62', 'x_63', 'x_64', 'x_65', 'x_66', 'x_67', 'x_68', 'x_69', 'x_70', 'x_71', 'x_72', 'x_73', 'x_74', 'x_75', 'x_76', 'x_77', 'x_78', 'isNew', 'lmt_Bin_WOE', 'certId_br_encoding_Bin_WOE', 'dist_br_encoding_Bin_WOE', 'certValidBegin_br_encoding_Bin_WOE', 'certValidStop_br_encoding_Bin_WOE', 'ethnic_br_encoding_Bin_WOE', 'residentAddr_br_encoding_Bin_WOE', 'gender_1', 'gender_2', '5yearBadloan_0', '5yearBadloan_1', 'loanProduct_1', 'loanProduct_2', 'loanProduct_3', 'basicLevel_-999', 'basicLevel_1', 'basicLevel_2', 'basicLevel_3', 'basicLevel_4', 'basicLevel_5', 'edu_-999', 'edu_0', 'edu_10', 'edu_20', 'edu_30', 'edu_40', 'edu_47', 'edu_60', 'edu_70', 'job_1', 'job_2', 'job_3', 'job_4', 'job_5', 'job_6', 'job_7', 'job_8', 'job_10', 'job_11', 'job_12', 'job_13', 'job_16', 'cardname_', 'cardname_E时代卡', 'cardname_IC借记卡普卡', 'cardname_IC绿卡通', 'cardname_IC绿卡通VIP卡', 'cardname_IC联名卡', 'cardname_一卡通（银联卡）', 'cardname_一账通借贷合一卡金卡', 'cardname_万事顺借记卡', 'cardname_专用惠农卡', 'cardname_东方卡（银联卡）', 'cardname_个人普卡', 'cardname_中信借记卡（银联卡）', 'cardname_中信理财宝白金卡', 'cardname_中信理财宝金卡', 'cardname_中国旅游卡', 'cardname_中国旅游卡（普卡）', 'cardname_中职学生资助卡', 'cardname_乐当家', 'cardname_乐当家白金卡', 'cardname_乐当家金卡VISA', 'cardname_乐当家银卡VISA', 'cardname_交银IC卡', 'cardname_借记IC个人普卡', 'cardname_借记IC个人金卡', 'cardname_借记IC卡金卡', 'cardname_借记IC白金卡', 'cardname_借记IC联名卡', 'cardname_借记卡', 'cardname_借记卡普卡', 'cardname_兴业卡（银联卡）', 'cardname_兴业卡（银联标准卡）', 'cardname_兴业自然人生理财卡', 'cardname_其他卡产品', 'cardname_医保联名借记IC卡', 'cardname_华夏丽人卡（银联卡）', 'cardname_华夏卡（银联卡）', 'cardname_华夏普卡', 'cardname_华夏至尊金卡（银联卡）', 'cardname_华夏金卡', 'cardname_发展借记卡（银联卡）', 'cardname_发展卡（银联卡）', 'cardname_员工普卡', 'cardname_太平洋万事顺卡', 'cardname_太平洋互连卡', 'cardname_太平洋借记卡', 'cardname_工银财富卡', 'cardname_平安银行（深圳发展银行）IC借记卡', 'cardname_平安银行（深圳发展银行）借记卡', 'cardname_广发理财通卡', 'cardname_招行国际卡（银联卡）', 'cardname_新磁条借记卡', 'cardname_普通高中学生资助卡', 'cardname_民生借记卡', 'cardname_民生借记卡（银联卡）', 'cardname_灵通卡', 'cardname_牡丹卡普卡', 'cardname_牡丹灵通卡（银联卡）', 'cardname_理财宝IC卡', 'cardname_理财白金卡', 'cardname_理财通卡', 'cardname_理财金卡', 'cardname_理财金账户金卡', 'cardname_理财银卡', 'cardname_社会保障IC卡', 'cardname_社保IC卡', 'cardname_社保联名借记IC卡', 'cardname_社保联名卡', 'cardname_福农卡', 'cardname_福农灵通卡', 'cardname_绿卡VIP卡', 'cardname_绿卡通', 'cardname_绿卡银联标准卡', 'cardname_绿卡（银联卡）', 'cardname_联名IC卡普卡', 'cardname_联名卡', 'cardname_薪资理财卡', 'cardname_财富卡私人银行卡', 'cardname_轻松理财普卡（复合卡）', 'cardname_轻松理财消贷易卡', 'cardname_轻松理财白金卡（复合卡）', 'cardname_轻松理财金卡（复合卡）', 'cardname_退役金卡', 'cardname_金卡', 'cardname_金穗惠农卡', 'cardname_金穗校园卡（银联卡）', 'cardname_金穗海通卡', 'cardname_金穗社保卡（银联卡）', 'cardname_金穗通宝卡', 'cardname_金穗通宝卡（银联卡）', 'cardname_金穗通宝钻石卡', 'cardname_金穗通宝银卡', 'cardname_金穗青年卡（银联卡）', 'cardname_金融IC卡', 'cardname_银联IC普卡', 'cardname_银联IC金卡', 'cardname_银联储蓄卡', 'cardname_银联标准卡', 'cardname_银联金葵花IC卡', 'cardname_长城电子借记卡', 'cardname_长城福农借记卡普卡', 'cardname_长城福农借记卡金卡', 'cardname_阳光卡（银联卡）', 'cardname_龙卡储蓄卡', 'cardname_龙卡储蓄卡（银联卡）', 'cardname_龙卡通', 'highestEdu_-999', 'highestEdu_10', 'highestEdu_20', 'highestEdu_30', 'highestEdu_40', 'highestEdu_50', 'highestEdu_60', 'highestEdu_70', 'highestEdu_99', 'linkRela_-999', 'linkRela_0', 'linkRela_1', 'linkRela_2', 'linkRela_10', 'linkRela_11', 'linkRela_12', 'linkRela_301', 'linkRela_306', 'ncloseCreditCard_-999', 'ncloseCreditCard_0', 'ncloseCreditCard_1', 'unpayIndvLoan_-999', 'unpayIndvLoan_0', 'unpayIndvLoan_1', 'unpayOtherLoan_-999', 'unpayOtherLoan_0', 'unpayOtherLoan_1', 'unpayNormalLoan_-999', 'unpayNormalLoan_0', 'unpayNormalLoan_1']\n"
     ]
    }
   ],
   "source": [
    "print(X.columns.tolist())"
   ]
  },
  {
   "cell_type": "code",
   "execution_count": 198,
   "metadata": {},
   "outputs": [
    {
     "name": "stdout",
     "output_type": "stream",
     "text": [
      "lmt_Bin_WOE\n",
      "certId_br_encoding_Bin_WOE\n",
      "dist_br_encoding_Bin_WOE\n",
      "certValidBegin_br_encoding_Bin_WOE\n",
      "certValidStop_br_encoding_Bin_WOE\n",
      "ethnic_br_encoding_Bin_WOE\n",
      "residentAddr_br_encoding_Bin_WOE\n"
     ]
    }
   ],
   "source": [
    "for col in X.columns.tolist():\n",
    "    if col.find('_WOE') > -1:\n",
    "        print(col)"
   ]
  },
  {
   "cell_type": "code",
   "execution_count": 199,
   "metadata": {},
   "outputs": [
    {
     "data": {
      "text/plain": [
       "['gender',\n",
       " '5yearBadloan',\n",
       " 'loanProduct',\n",
       " 'basicLevel',\n",
       " 'edu',\n",
       " 'job',\n",
       " 'cardname',\n",
       " 'highestEdu',\n",
       " 'linkRela',\n",
       " 'ncloseCreditCard',\n",
       " 'unpayIndvLoan',\n",
       " 'unpayOtherLoan',\n",
       " 'unpayNormalLoan']"
      ]
     },
     "execution_count": 199,
     "metadata": {},
     "output_type": "execute_result"
    }
   ],
   "source": [
    "nonm_features"
   ]
  },
  {
   "cell_type": "code",
   "execution_count": 200,
   "metadata": {},
   "outputs": [
    {
     "name": "stdout",
     "output_type": "stream",
     "text": [
      "['id', 'certId', 'loanProduct', 'gender', 'age', 'dist', 'edu', 'job', 'lmt', 'basicLevel', 'x_0', 'x_1', 'x_2', 'x_3', 'x_4', 'x_5', 'x_6', 'x_7', 'x_8', 'x_9', 'x_10', 'x_11', 'x_12', 'x_13', 'x_14', 'x_15', 'x_16', 'x_17', 'x_18', 'x_19', 'x_20', 'x_21', 'x_22', 'x_23', 'x_24', 'x_25', 'x_26', 'x_27', 'x_28', 'x_29', 'x_30', 'x_31', 'x_32', 'x_33', 'x_34', 'x_35', 'x_36', 'x_37', 'x_38', 'x_39', 'x_40', 'x_41', 'x_42', 'x_43', 'x_44', 'x_45', 'x_46', 'x_47', 'x_48', 'x_49', 'x_50', 'x_51', 'x_52', 'x_53', 'x_54', 'x_55', 'x_56', 'x_57', 'x_58', 'x_59', 'x_60', 'x_61', 'x_62', 'x_63', 'x_64', 'x_65', 'x_66', 'x_67', 'x_68', 'x_69', 'x_70', 'x_71', 'x_72', 'x_73', 'x_74', 'x_75', 'x_76', 'x_77', 'x_78', 'certValidBegin', 'certValidStop', 'ethnic', 'residentAddr', 'highestEdu', 'linkRela', 'setupHour', 'weekday', 'ncloseCreditCard', 'unpayIndvLoan', 'unpayOtherLoan', 'unpayNormalLoan', '5yearBadloan', 'isNew', 'cardname', 'cardtype']\n"
     ]
    }
   ],
   "source": [
    "print(test_x.columns.to_list())"
   ]
  },
  {
   "cell_type": "markdown",
   "metadata": {},
   "source": [
    "##### 处理测试数据集"
   ]
  },
  {
   "cell_type": "code",
   "execution_count": 275,
   "metadata": {},
   "outputs": [
    {
     "name": "stdout",
     "output_type": "stream",
     "text": [
      "['gender_1', 'gender_2', '5yearBadloan_1', '5yearBadloan_0', 'loanProduct_1', 'loanProduct_2', 'loanProduct_3', 'basicLevel_4', 'basicLevel_2', 'basicLevel_3', 'basicLevel_1', 'edu_-999', 'edu_47', 'edu_0', 'edu_20', 'edu_70', 'edu_10', 'edu_60', 'edu_30', 'edu_40', 'job_5', 'job_8', 'job_6', 'job_14', 'job_4', 'job_2', 'job_1', 'job_12', 'job_3', 'job_9', 'job_10', 'job_7', 'cardname_长城电子借记卡', 'cardname_银联IC普卡', 'cardname_阳光卡（银联卡）', 'cardname_专用惠农卡', 'cardname_联名IC卡普卡', 'cardname_金穗通宝银卡', 'cardname_龙卡通', 'cardname_龙卡储蓄卡（银联卡）', 'cardname_华夏普卡', 'cardname_薪资理财卡', 'cardname_', 'cardname_交银IC卡', 'cardname_借记IC个人金卡', 'cardname_IC绿卡通', 'cardname_IC联名卡', 'cardname_借记卡', 'cardname_普通高中学生资助卡', 'cardname_龙卡储蓄卡', 'cardname_金穗海通卡', 'cardname_金穗通宝钻石卡', 'cardname_乐当家白金卡', 'cardname_中信借记卡（银联卡）', 'cardname_发展卡（银联卡）', 'cardname_理财白金卡', 'cardname_借记IC白金卡', 'cardname_轻松理财普卡（复合卡）', 'cardname_理财宝IC卡', 'cardname_理财银卡', 'cardname_广发理财通卡', 'cardname_牡丹卡普卡', 'cardname_新磁条借记卡', 'cardname_灵通卡', 'cardname_一卡通（银联卡）', 'cardname_绿卡通', 'cardname_兴业自然人生理财卡', 'cardname_理财金卡', 'cardname_乐当家银卡VISA', 'cardname_借记IC卡金卡', 'cardname_工银财富卡', 'cardname_理财通卡', 'cardname_福农卡', 'cardname_银联IC金卡', 'cardname_中职学生资助卡', 'cardname_社保IC卡', 'cardname_金穗社保卡（银联卡）', 'cardname_长城福农借记卡金卡', 'cardname_医保联名借记IC卡', 'cardname_金穗惠农卡', 'cardname_金卡', 'cardname_中国旅游卡', 'cardname_银联标准卡', 'cardname_轻松理财金卡（复合卡）', 'cardname_员工普卡', 'cardname_福农灵通卡', 'cardname_太平洋借记卡', 'cardname_中国旅游卡（普卡）', 'cardname_绿卡银联标准卡', 'cardname_IC借记卡普卡', 'cardname_银联金葵花IC卡', 'cardname_银联储蓄卡', 'cardname_移动联名卡', 'cardname_金穗星座卡（银联卡）', 'cardname_IC绿卡通VIP卡', 'cardname_东方卡（银联卡）', 'cardname_牡丹灵通卡（银联卡）', 'cardname_借记卡普卡', 'cardname_社保联名借记IC卡', 'cardname_平安银行（深圳发展银行）IC借记卡', 'cardname_中信理财宝金卡', 'cardname_其他卡产品', 'cardname_E时代卡', 'cardname_万事顺借记卡', 'cardname_金融IC卡', 'cardname_兴业卡（银联标准卡）', 'cardname_金穗通宝卡（银联卡）', 'cardname_金穗通宝卡', 'cardname_借记IC联名卡', 'cardname_借记IC个人普卡', 'cardname_金穗校园卡（银联卡）', 'cardname_华夏白金卡', 'cardname_联名卡', 'cardname_民生借记卡（银联卡）', 'cardname_金穗青年卡（银联卡）', 'cardname_绿卡VIP卡', 'cardname_长城福农借记卡普卡', 'cardname_个人普卡', 'highestEdu_10', 'highestEdu_40', 'highestEdu_70', 'highestEdu_-999', 'highestEdu_60', 'highestEdu_20', 'highestEdu_30', 'highestEdu_99', 'linkRela_306', 'linkRela_0', 'linkRela_12', 'linkRela_11', 'linkRela_-999', 'linkRela_1', 'linkRela_10', 'linkRela_2', 'ncloseCreditCard_1', 'ncloseCreditCard_0', 'ncloseCreditCard_-999', 'unpayIndvLoan_1', 'unpayIndvLoan_0', 'unpayIndvLoan_-999', 'unpayOtherLoan_0', 'unpayOtherLoan_1', 'unpayOtherLoan_-999', 'unpayNormalLoan_0', 'unpayNormalLoan_-999', 'unpayNormalLoan_1', 'weekday_3', 'weekday_4', 'weekday_6', 'weekday_2', 'weekday_5', 'weekday_1', 'weekday_7', 'ethnic_27', 'ethnic_21', 'ethnic_40', 'ethnic_32', 'ethnic_33', 'ethnic_19', 'ethnic_7', 'ethnic_8', 'ethnic_23', 'ethnic_6', 'ethnic_13', 'ethnic_9', 'ethnic_15', 'ethnic_22', 'ethnic_10', 'ethnic_16', 'ethnic_26', 'ethnic_31', 'ethnic_11', 'ethnic_5', 'ethnic_20', 'ethnic_14', 'ethnic_36', 'ethnic_18', 'ethnic_2', 'ethnic_24', 'ethnic_28', 'ethnic_39', 'ethnic_34', 'ethnic_12', 'ethnic_4', 'ethnic_17', 'ethnic_0', 'ethnic_29', 'ethnic_3', 'ethnic_1', 'ethnic_38']\n"
     ]
    },
    {
     "data": {
      "text/html": [
       "<div>\n",
       "<style scoped>\n",
       "    .dataframe tbody tr th:only-of-type {\n",
       "        vertical-align: middle;\n",
       "    }\n",
       "\n",
       "    .dataframe tbody tr th {\n",
       "        vertical-align: top;\n",
       "    }\n",
       "\n",
       "    .dataframe thead th {\n",
       "        text-align: right;\n",
       "    }\n",
       "</style>\n",
       "<table border=\"1\" class=\"dataframe\">\n",
       "  <thead>\n",
       "    <tr style=\"text-align: right;\">\n",
       "      <th></th>\n",
       "      <th>id</th>\n",
       "      <th>certId</th>\n",
       "      <th>age</th>\n",
       "      <th>dist</th>\n",
       "      <th>lmt</th>\n",
       "      <th>x_0</th>\n",
       "      <th>x_1</th>\n",
       "      <th>x_2</th>\n",
       "      <th>x_3</th>\n",
       "      <th>x_4</th>\n",
       "      <th>...</th>\n",
       "      <th>ethnic_28</th>\n",
       "      <th>ethnic_29</th>\n",
       "      <th>ethnic_31</th>\n",
       "      <th>ethnic_32</th>\n",
       "      <th>ethnic_33</th>\n",
       "      <th>ethnic_34</th>\n",
       "      <th>ethnic_36</th>\n",
       "      <th>ethnic_38</th>\n",
       "      <th>ethnic_39</th>\n",
       "      <th>ethnic_40</th>\n",
       "    </tr>\n",
       "  </thead>\n",
       "  <tbody>\n",
       "    <tr>\n",
       "      <th>0</th>\n",
       "      <td>132030</td>\n",
       "      <td>541202</td>\n",
       "      <td>28</td>\n",
       "      <td>540100</td>\n",
       "      <td>9.963</td>\n",
       "      <td>0</td>\n",
       "      <td>0</td>\n",
       "      <td>0</td>\n",
       "      <td>0</td>\n",
       "      <td>0</td>\n",
       "      <td>...</td>\n",
       "      <td>0</td>\n",
       "      <td>0</td>\n",
       "      <td>0</td>\n",
       "      <td>0</td>\n",
       "      <td>0</td>\n",
       "      <td>0</td>\n",
       "      <td>0</td>\n",
       "      <td>0</td>\n",
       "      <td>0</td>\n",
       "      <td>0</td>\n",
       "    </tr>\n",
       "    <tr>\n",
       "      <th>1</th>\n",
       "      <td>132031</td>\n",
       "      <td>733521</td>\n",
       "      <td>42</td>\n",
       "      <td>730900</td>\n",
       "      <td>0.730</td>\n",
       "      <td>0</td>\n",
       "      <td>0</td>\n",
       "      <td>0</td>\n",
       "      <td>0</td>\n",
       "      <td>0</td>\n",
       "      <td>...</td>\n",
       "      <td>0</td>\n",
       "      <td>0</td>\n",
       "      <td>0</td>\n",
       "      <td>0</td>\n",
       "      <td>0</td>\n",
       "      <td>0</td>\n",
       "      <td>0</td>\n",
       "      <td>0</td>\n",
       "      <td>0</td>\n",
       "      <td>0</td>\n",
       "    </tr>\n",
       "    <tr>\n",
       "      <th>2</th>\n",
       "      <td>132032</td>\n",
       "      <td>710231</td>\n",
       "      <td>43</td>\n",
       "      <td>710100</td>\n",
       "      <td>5.768</td>\n",
       "      <td>0</td>\n",
       "      <td>0</td>\n",
       "      <td>0</td>\n",
       "      <td>0</td>\n",
       "      <td>0</td>\n",
       "      <td>...</td>\n",
       "      <td>0</td>\n",
       "      <td>0</td>\n",
       "      <td>0</td>\n",
       "      <td>0</td>\n",
       "      <td>0</td>\n",
       "      <td>0</td>\n",
       "      <td>0</td>\n",
       "      <td>0</td>\n",
       "      <td>0</td>\n",
       "      <td>0</td>\n",
       "    </tr>\n",
       "    <tr>\n",
       "      <th>3</th>\n",
       "      <td>132033</td>\n",
       "      <td>722122</td>\n",
       "      <td>32</td>\n",
       "      <td>722120</td>\n",
       "      <td>17.233</td>\n",
       "      <td>0</td>\n",
       "      <td>0</td>\n",
       "      <td>0</td>\n",
       "      <td>0</td>\n",
       "      <td>0</td>\n",
       "      <td>...</td>\n",
       "      <td>0</td>\n",
       "      <td>0</td>\n",
       "      <td>0</td>\n",
       "      <td>0</td>\n",
       "      <td>0</td>\n",
       "      <td>0</td>\n",
       "      <td>0</td>\n",
       "      <td>0</td>\n",
       "      <td>0</td>\n",
       "      <td>0</td>\n",
       "    </tr>\n",
       "    <tr>\n",
       "      <th>4</th>\n",
       "      <td>132034</td>\n",
       "      <td>641723</td>\n",
       "      <td>22</td>\n",
       "      <td>641700</td>\n",
       "      <td>0.463</td>\n",
       "      <td>0</td>\n",
       "      <td>0</td>\n",
       "      <td>0</td>\n",
       "      <td>0</td>\n",
       "      <td>0</td>\n",
       "      <td>...</td>\n",
       "      <td>0</td>\n",
       "      <td>0</td>\n",
       "      <td>0</td>\n",
       "      <td>0</td>\n",
       "      <td>0</td>\n",
       "      <td>0</td>\n",
       "      <td>0</td>\n",
       "      <td>0</td>\n",
       "      <td>0</td>\n",
       "      <td>0</td>\n",
       "    </tr>\n",
       "  </tbody>\n",
       "</table>\n",
       "<p>5 rows × 280 columns</p>\n",
       "</div>"
      ],
      "text/plain": [
       "       id  certId  age    dist     lmt  x_0  x_1  x_2  x_3  x_4  ...  \\\n",
       "0  132030  541202   28  540100   9.963    0    0    0    0    0  ...   \n",
       "1  132031  733521   42  730900   0.730    0    0    0    0    0  ...   \n",
       "2  132032  710231   43  710100   5.768    0    0    0    0    0  ...   \n",
       "3  132033  722122   32  722120  17.233    0    0    0    0    0  ...   \n",
       "4  132034  641723   22  641700   0.463    0    0    0    0    0  ...   \n",
       "\n",
       "   ethnic_28  ethnic_29  ethnic_31  ethnic_32  ethnic_33  ethnic_34  \\\n",
       "0          0          0          0          0          0          0   \n",
       "1          0          0          0          0          0          0   \n",
       "2          0          0          0          0          0          0   \n",
       "3          0          0          0          0          0          0   \n",
       "4          0          0          0          0          0          0   \n",
       "\n",
       "   ethnic_36  ethnic_38  ethnic_39  ethnic_40  \n",
       "0          0          0          0          0  \n",
       "1          0          0          0          0  \n",
       "2          0          0          0          0  \n",
       "3          0          0          0          0  \n",
       "4          0          0          0          0  \n",
       "\n",
       "[5 rows x 280 columns]"
      ]
     },
     "execution_count": 275,
     "metadata": {},
     "output_type": "execute_result"
    }
   ],
   "source": [
    "#def Onehot_enconding(df,col):\n",
    "#    new_col_pref = col\n",
    "#    old_cols = df.columns.to_list()\n",
    "#    newcol = pd.get_dummies(df[col],prefix=new_col_pref)\n",
    "#    df = pd.concat([df,newcol], axis=1)\n",
    "#    new_cols = df.columns.to_list()\n",
    "#    df.drop(columns=[col], axis=1, inplace=True)\n",
    "#    \n",
    "#    one_hot_col = list ( set(new_cols) - set(old_cols) )\n",
    "#    return df,one_hot_col\n",
    "\n",
    "\n",
    "#test_x = test_x.copy()\n",
    "one_hot_cols = []\n",
    "for col in nonm_features:\n",
    "    test_x,cols = Onehot_enconding(test_x, col)\n",
    "    #one_hot_cols.append(cols)\n",
    "    one_hot_cols = one_hot_cols + cols\n",
    "\n",
    "print(one_hot_cols)\n",
    "test_x.head()"
   ]
  },
  {
   "cell_type": "code",
   "execution_count": 202,
   "metadata": {},
   "outputs": [
    {
     "name": "stdout",
     "output_type": "stream",
     "text": [
      "lmt_Bin_WOE\n",
      "certId_br_encoding_Bin_WOE\n",
      "dist_br_encoding_Bin_WOE\n",
      "certValidBegin_br_encoding_Bin_WOE\n",
      "certValidStop_br_encoding_Bin_WOE\n",
      "ethnic_br_encoding_Bin_WOE\n",
      "residentAddr_br_encoding_Bin_WOE\n"
     ]
    }
   ],
   "source": [
    "for col in X.columns.tolist():\n",
    "    if col.find('_WOE') > -1:\n",
    "        print(col)"
   ]
  },
  {
   "cell_type": "code",
   "execution_count": 150,
   "metadata": {},
   "outputs": [
    {
     "data": {
      "text/plain": [
       "'certId'"
      ]
     },
     "execution_count": 150,
     "metadata": {},
     "output_type": "execute_result"
    }
   ],
   "source": [
    "\"certId_br_encoding_Bin_WOE\".split('_')[0]"
   ]
  },
  {
   "cell_type": "code",
   "execution_count": 276,
   "metadata": {},
   "outputs": [
    {
     "name": "stdout",
     "output_type": "stream",
     "text": [
      "['lmt_Bin_WOE', 'certId_br_encoding_Bin_WOE', 'dist_br_encoding_Bin_WOE', 'certValidBegin_br_encoding_Bin_WOE', 'certValidStop_br_encoding_Bin_WOE', 'residentAddr_br_encoding_Bin_WOE']\n"
     ]
    }
   ],
   "source": [
    "WOE_cols = []\n",
    "for col in X.columns.tolist():\n",
    "    if col.find('_WOE') > -1:\n",
    "        #WOE_cols.append(col.split('_')[0])\n",
    "        WOE_cols.append(col)\n",
    "print(WOE_cols)"
   ]
  },
  {
   "cell_type": "code",
   "execution_count": 277,
   "metadata": {},
   "outputs": [
    {
     "name": "stdout",
     "output_type": "stream",
     "text": [
      "begin solve: lmt_Bin_WOE\n",
      "after replace: lmt\n",
      "-999 not in testset lmt\n",
      "begin solve: certId_br_encoding_Bin_WOE\n",
      "after replace: certId_br_encoding\n",
      "certId need to be encoded by bad rate\n",
      "-999 not in testset certId_br_encoding\n",
      "begin solve: dist_br_encoding_Bin_WOE\n",
      "after replace: dist_br_encoding\n",
      "dist need to be encoded by bad rate\n",
      "-999 not in testset dist_br_encoding\n",
      "begin solve: certValidBegin_br_encoding_Bin_WOE\n",
      "after replace: certValidBegin_br_encoding\n",
      "certValidBegin need to be encoded by bad rate\n",
      "-999 not in testset certValidBegin_br_encoding\n",
      "begin solve: certValidStop_br_encoding_Bin_WOE\n",
      "after replace: certValidStop_br_encoding\n",
      "certValidStop need to be encoded by bad rate\n",
      "-999 not in testset certValidStop_br_encoding\n",
      "begin solve: residentAddr_br_encoding_Bin_WOE\n",
      "after replace: residentAddr_br_encoding\n",
      "residentAddr need to be encoded by bad rate\n",
      "-999 not in testset residentAddr_br_encoding\n"
     ]
    }
   ],
   "source": [
    "##original_Xtest\n",
    "from utils import ModifyDf\n",
    "testData =  test_x.copy()\n",
    "\n",
    "for var in WOE_cols:    \n",
    "    print(\"begin solve:\",var)\n",
    "    #var1 = var.replace('_Bin_WOE','')\n",
    "    if var.find('_Bin_WOE')>-1:\n",
    "        #print(\"match _Bin_WOE\")\n",
    "        var1 = var.replace('_Bin_WOE','')\n",
    "    elif var.find('_WOE')>-1:\n",
    "        #print(\"match _WOE\")\n",
    "        var1 = var.replace('_WOE','')\n",
    "    else:\n",
    "        print(\"match nothing {}\".format(var))\n",
    "        \n",
    "    print(\"after replace:\",var1)\n",
    "\n",
    "    #(1) 分类变量（取值< 5）\n",
    "    # 有些取值个数少、但是需要合并的变量\n",
    "    if var1 in merge_bin_dict.keys():\n",
    "        print(\"{} need to be regrouped\".format(var1))\n",
    "        testData[var1 + '_Bin'] = testData[var1].map(merge_bin_dict[var1])\n",
    "        testData.drop(columns=[var1],axis=1,inplace=True)\n",
    "\n",
    "    elif var1 in continous_merged_dict.keys():\n",
    "        #(2) 分类变量（取值> 5）\n",
    "        # 有些变量需要用bad rate进行编码\n",
    "        if var1.find('_br_encoding')>-1:\n",
    "            var2 =var1.replace('_br_encoding','')\n",
    "            print(\"{} need to be encoded by bad rate\".format(var2))\n",
    "            testData[var1] = testData[var2].map(br_encoding_dict[var2])\n",
    "            #需要注意的是，有可能在测试样中某些值没有出现在训练样本中，从而无法得出对应的bad rate是多少。\n",
    "            #故可以用最坏（即最大）的bad rate进行编码\n",
    "            max_br = max(testData[var1])\n",
    "            testData[var1] = testData[var1].map(lambda x: ModifyDf(x, max_br))\n",
    "            testData.drop(columns=[var2],axis=1,inplace=True)\n",
    "\n",
    "        #(3) 连续变量\n",
    "        #上述处理后，需要加上连续型变量一起进行分箱\n",
    "        if -999 not in set(testData[var1]):\n",
    "            print(\"-999 not in testset\",var1)\n",
    "            testData[var1+'_Bin'] = testData[var1].map(lambda x: AssignBin(x, continous_merged_dict[var1]))\n",
    "            testData.drop(columns=[var1],axis=1,inplace=True)\n",
    "        else:\n",
    "            print(\"-999 is in testset\",var1)\n",
    "            testData[var1 + '_Bin'] = testData[var1].map(lambda x: AssignBin(x, continous_merged_dict[var1],[-1,-999]))\n",
    "            testData.drop(columns=[var1],axis=1,inplace=True)\n",
    "\n",
    "    #WOE编码\n",
    "    var3 = var.replace('_WOE','')\n",
    "    testData[var] = testData[var3].map(WOE_dict[var3])\n",
    "    testData.drop(columns=[var3],axis=1,inplace=True)"
   ]
  },
  {
   "cell_type": "code",
   "execution_count": 278,
   "metadata": {},
   "outputs": [
    {
     "name": "stdout",
     "output_type": "stream",
     "text": [
      "['id', 'age', 'x_0', 'x_1', 'x_2', 'x_3', 'x_4', 'x_5', 'x_6', 'x_7', 'x_8', 'x_9', 'x_10', 'x_11', 'x_12', 'x_13', 'x_14', 'x_15', 'x_16', 'x_17', 'x_18', 'x_19', 'x_20', 'x_21', 'x_22', 'x_23', 'x_24', 'x_25', 'x_26', 'x_27', 'x_28', 'x_29', 'x_30', 'x_31', 'x_32', 'x_33', 'x_34', 'x_35', 'x_36', 'x_37', 'x_38', 'x_39', 'x_40', 'x_41', 'x_42', 'x_43', 'x_44', 'x_45', 'x_46', 'x_47', 'x_48', 'x_49', 'x_50', 'x_51', 'x_52', 'x_53', 'x_54', 'x_55', 'x_56', 'x_57', 'x_58', 'x_59', 'x_60', 'x_61', 'x_62', 'x_63', 'x_64', 'x_65', 'x_66', 'x_67', 'x_68', 'x_69', 'x_70', 'x_71', 'x_72', 'x_73', 'x_74', 'x_75', 'x_76', 'x_77', 'x_78', 'setupHour', 'isNew', 'cardtype', 'gender_1', 'gender_2', '5yearBadloan_0', '5yearBadloan_1', 'loanProduct_1', 'loanProduct_2', 'loanProduct_3', 'basicLevel_1', 'basicLevel_2', 'basicLevel_3', 'basicLevel_4', 'edu_-999', 'edu_0', 'edu_10', 'edu_20', 'edu_30', 'edu_40', 'edu_47', 'edu_60', 'edu_70', 'job_1', 'job_2', 'job_3', 'job_4', 'job_5', 'job_6', 'job_7', 'job_8', 'job_9', 'job_10', 'job_12', 'job_14', 'cardname_', 'cardname_E时代卡', 'cardname_IC借记卡普卡', 'cardname_IC绿卡通', 'cardname_IC绿卡通VIP卡', 'cardname_IC联名卡', 'cardname_一卡通（银联卡）', 'cardname_万事顺借记卡', 'cardname_专用惠农卡', 'cardname_东方卡（银联卡）', 'cardname_个人普卡', 'cardname_中信借记卡（银联卡）', 'cardname_中信理财宝金卡', 'cardname_中国旅游卡', 'cardname_中国旅游卡（普卡）', 'cardname_中职学生资助卡', 'cardname_乐当家白金卡', 'cardname_乐当家银卡VISA', 'cardname_交银IC卡', 'cardname_借记IC个人普卡', 'cardname_借记IC个人金卡', 'cardname_借记IC卡金卡', 'cardname_借记IC白金卡', 'cardname_借记IC联名卡', 'cardname_借记卡', 'cardname_借记卡普卡', 'cardname_兴业卡（银联标准卡）', 'cardname_兴业自然人生理财卡', 'cardname_其他卡产品', 'cardname_医保联名借记IC卡', 'cardname_华夏普卡', 'cardname_华夏白金卡', 'cardname_发展卡（银联卡）', 'cardname_员工普卡', 'cardname_太平洋借记卡', 'cardname_工银财富卡', 'cardname_平安银行（深圳发展银行）IC借记卡', 'cardname_广发理财通卡', 'cardname_新磁条借记卡', 'cardname_普通高中学生资助卡', 'cardname_民生借记卡（银联卡）', 'cardname_灵通卡', 'cardname_牡丹卡普卡', 'cardname_牡丹灵通卡（银联卡）', 'cardname_理财宝IC卡', 'cardname_理财白金卡', 'cardname_理财通卡', 'cardname_理财金卡', 'cardname_理财银卡', 'cardname_社保IC卡', 'cardname_社保联名借记IC卡', 'cardname_福农卡', 'cardname_福农灵通卡', 'cardname_移动联名卡', 'cardname_绿卡VIP卡', 'cardname_绿卡通', 'cardname_绿卡银联标准卡', 'cardname_联名IC卡普卡', 'cardname_联名卡', 'cardname_薪资理财卡', 'cardname_轻松理财普卡（复合卡）', 'cardname_轻松理财金卡（复合卡）', 'cardname_金卡', 'cardname_金穗惠农卡', 'cardname_金穗星座卡（银联卡）', 'cardname_金穗校园卡（银联卡）', 'cardname_金穗海通卡', 'cardname_金穗社保卡（银联卡）', 'cardname_金穗通宝卡', 'cardname_金穗通宝卡（银联卡）', 'cardname_金穗通宝钻石卡', 'cardname_金穗通宝银卡', 'cardname_金穗青年卡（银联卡）', 'cardname_金融IC卡', 'cardname_银联IC普卡', 'cardname_银联IC金卡', 'cardname_银联储蓄卡', 'cardname_银联标准卡', 'cardname_银联金葵花IC卡', 'cardname_长城电子借记卡', 'cardname_长城福农借记卡普卡', 'cardname_长城福农借记卡金卡', 'cardname_阳光卡（银联卡）', 'cardname_龙卡储蓄卡', 'cardname_龙卡储蓄卡（银联卡）', 'cardname_龙卡通', 'highestEdu_-999', 'highestEdu_10', 'highestEdu_20', 'highestEdu_30', 'highestEdu_40', 'highestEdu_60', 'highestEdu_70', 'highestEdu_99', 'linkRela_-999', 'linkRela_0', 'linkRela_1', 'linkRela_2', 'linkRela_10', 'linkRela_11', 'linkRela_12', 'linkRela_306', 'ncloseCreditCard_-999', 'ncloseCreditCard_0', 'ncloseCreditCard_1', 'unpayIndvLoan_-999', 'unpayIndvLoan_0', 'unpayIndvLoan_1', 'unpayOtherLoan_-999', 'unpayOtherLoan_0', 'unpayOtherLoan_1', 'unpayNormalLoan_-999', 'unpayNormalLoan_0', 'unpayNormalLoan_1', 'weekday_1', 'weekday_2', 'weekday_3', 'weekday_4', 'weekday_5', 'weekday_6', 'weekday_7', 'ethnic_0', 'ethnic_1', 'ethnic_2', 'ethnic_3', 'ethnic_4', 'ethnic_5', 'ethnic_6', 'ethnic_7', 'ethnic_8', 'ethnic_9', 'ethnic_10', 'ethnic_11', 'ethnic_12', 'ethnic_13', 'ethnic_14', 'ethnic_15', 'ethnic_16', 'ethnic_17', 'ethnic_18', 'ethnic_19', 'ethnic_20', 'ethnic_21', 'ethnic_22', 'ethnic_23', 'ethnic_24', 'ethnic_26', 'ethnic_27', 'ethnic_28', 'ethnic_29', 'ethnic_31', 'ethnic_32', 'ethnic_33', 'ethnic_34', 'ethnic_36', 'ethnic_38', 'ethnic_39', 'ethnic_40', 'lmt_Bin_WOE', 'certId_br_encoding_Bin_WOE', 'dist_br_encoding_Bin_WOE', 'certValidBegin_br_encoding_Bin_WOE', 'certValidStop_br_encoding_Bin_WOE', 'residentAddr_br_encoding_Bin_WOE']\n"
     ]
    }
   ],
   "source": [
    "print(testData.columns.tolist())"
   ]
  },
  {
   "cell_type": "code",
   "execution_count": 279,
   "metadata": {},
   "outputs": [
    {
     "name": "stdout",
     "output_type": "stream",
     "text": [
      "set()\n",
      "set()\n",
      "0\n"
     ]
    }
   ],
   "source": [
    "train_WOE_cols = []\n",
    "test_WOE_cols = []\n",
    "for col in X.columns.tolist():\n",
    "    if col.find('_WOE') > -1:\n",
    "        train_WOE_cols.append(col)\n",
    "        \n",
    "for col in testData.columns.tolist():\n",
    "    if col.find('_WOE') > -1:\n",
    "        test_WOE_cols.append(col)    \n",
    "\n",
    "print(set(train_WOE_cols) - set(test_WOE_cols))\n",
    "print(set(test_WOE_cols) - set(train_WOE_cols))\n",
    "print(len(test_WOE_cols) - len(train_WOE_cols))"
   ]
  },
  {
   "cell_type": "code",
   "execution_count": 280,
   "metadata": {},
   "outputs": [
    {
     "name": "stdout",
     "output_type": "stream",
     "text": [
      "columns not in test data set is [ ['basicLevel_-999', 'basicLevel_5', 'job_11', 'job_13', 'job_16', 'cardname_一账通借贷合一卡金卡', 'cardname_中信理财宝白金卡', 'cardname_乐当家', 'cardname_乐当家金卡VISA', 'cardname_兴业卡（银联卡）', 'cardname_华夏丽人卡（银联卡）', 'cardname_华夏卡（银联卡）', 'cardname_华夏至尊金卡（银联卡）', 'cardname_华夏金卡', 'cardname_发展借记卡（银联卡）', 'cardname_太平洋万事顺卡', 'cardname_太平洋互连卡', 'cardname_平安银行（深圳发展银行）借记卡', 'cardname_招行国际卡（银联卡）', 'cardname_民生借记卡', 'cardname_理财金账户金卡', 'cardname_社会保障IC卡', 'cardname_社保联名卡', 'cardname_绿卡（银联卡）', 'cardname_财富卡私人银行卡', 'cardname_轻松理财消贷易卡', 'cardname_轻松理财白金卡（复合卡）', 'cardname_退役金卡', 'highestEdu_50', 'linkRela_301', 'ethnic_25', 'ethnic_30', 'ethnic_35', 'ethnic_37', 'ethnic_41', 'ethnic_42', 'ethnic_43', 'ethnic_44', 'ethnic_45', 'ethnic_46', 'ethnic_47', 'ethnic_48'] ]\n"
     ]
    }
   ],
   "source": [
    "col_not_in_testset = []\n",
    "test_X = test_x[['id']]\n",
    "for col in X.columns:\n",
    "    #print(\"do  {} .....\".format(col))\n",
    "    if col in testData.columns:\n",
    "        test_X[col] = testData[col]\n",
    "    else:\n",
    "        test_X[col] = 0 \n",
    "        col_not_in_testset.append(col)\n",
    "test_X.drop(columns=['id'], axis=1, inplace=True)\n",
    "print(\"columns not in test data set is [ {} ]\".format(col_not_in_testset))"
   ]
  },
  {
   "cell_type": "code",
   "execution_count": 281,
   "metadata": {},
   "outputs": [
    {
     "data": {
      "text/html": [
       "<div>\n",
       "<style scoped>\n",
       "    .dataframe tbody tr th:only-of-type {\n",
       "        vertical-align: middle;\n",
       "    }\n",
       "\n",
       "    .dataframe tbody tr th {\n",
       "        vertical-align: top;\n",
       "    }\n",
       "\n",
       "    .dataframe thead th {\n",
       "        text-align: right;\n",
       "    }\n",
       "</style>\n",
       "<table border=\"1\" class=\"dataframe\">\n",
       "  <thead>\n",
       "    <tr style=\"text-align: right;\">\n",
       "      <th></th>\n",
       "      <th>x_0</th>\n",
       "      <th>x_1</th>\n",
       "      <th>x_2</th>\n",
       "      <th>x_3</th>\n",
       "      <th>x_4</th>\n",
       "      <th>x_5</th>\n",
       "      <th>x_6</th>\n",
       "      <th>x_7</th>\n",
       "      <th>x_8</th>\n",
       "      <th>x_9</th>\n",
       "      <th>...</th>\n",
       "      <th>ethnic_39</th>\n",
       "      <th>ethnic_40</th>\n",
       "      <th>ethnic_41</th>\n",
       "      <th>ethnic_42</th>\n",
       "      <th>ethnic_43</th>\n",
       "      <th>ethnic_44</th>\n",
       "      <th>ethnic_45</th>\n",
       "      <th>ethnic_46</th>\n",
       "      <th>ethnic_47</th>\n",
       "      <th>ethnic_48</th>\n",
       "    </tr>\n",
       "  </thead>\n",
       "  <tbody>\n",
       "    <tr>\n",
       "      <th>0</th>\n",
       "      <td>0</td>\n",
       "      <td>0</td>\n",
       "      <td>0</td>\n",
       "      <td>0</td>\n",
       "      <td>0</td>\n",
       "      <td>0</td>\n",
       "      <td>0</td>\n",
       "      <td>0</td>\n",
       "      <td>0</td>\n",
       "      <td>0</td>\n",
       "      <td>...</td>\n",
       "      <td>0</td>\n",
       "      <td>0</td>\n",
       "      <td>0</td>\n",
       "      <td>0</td>\n",
       "      <td>0</td>\n",
       "      <td>0</td>\n",
       "      <td>0</td>\n",
       "      <td>0</td>\n",
       "      <td>0</td>\n",
       "      <td>0</td>\n",
       "    </tr>\n",
       "    <tr>\n",
       "      <th>1</th>\n",
       "      <td>0</td>\n",
       "      <td>0</td>\n",
       "      <td>0</td>\n",
       "      <td>0</td>\n",
       "      <td>0</td>\n",
       "      <td>0</td>\n",
       "      <td>0</td>\n",
       "      <td>0</td>\n",
       "      <td>0</td>\n",
       "      <td>0</td>\n",
       "      <td>...</td>\n",
       "      <td>0</td>\n",
       "      <td>0</td>\n",
       "      <td>0</td>\n",
       "      <td>0</td>\n",
       "      <td>0</td>\n",
       "      <td>0</td>\n",
       "      <td>0</td>\n",
       "      <td>0</td>\n",
       "      <td>0</td>\n",
       "      <td>0</td>\n",
       "    </tr>\n",
       "    <tr>\n",
       "      <th>2</th>\n",
       "      <td>0</td>\n",
       "      <td>0</td>\n",
       "      <td>0</td>\n",
       "      <td>0</td>\n",
       "      <td>0</td>\n",
       "      <td>0</td>\n",
       "      <td>0</td>\n",
       "      <td>0</td>\n",
       "      <td>0</td>\n",
       "      <td>0</td>\n",
       "      <td>...</td>\n",
       "      <td>0</td>\n",
       "      <td>0</td>\n",
       "      <td>0</td>\n",
       "      <td>0</td>\n",
       "      <td>0</td>\n",
       "      <td>0</td>\n",
       "      <td>0</td>\n",
       "      <td>0</td>\n",
       "      <td>0</td>\n",
       "      <td>0</td>\n",
       "    </tr>\n",
       "    <tr>\n",
       "      <th>3</th>\n",
       "      <td>0</td>\n",
       "      <td>0</td>\n",
       "      <td>0</td>\n",
       "      <td>0</td>\n",
       "      <td>0</td>\n",
       "      <td>0</td>\n",
       "      <td>0</td>\n",
       "      <td>0</td>\n",
       "      <td>0</td>\n",
       "      <td>0</td>\n",
       "      <td>...</td>\n",
       "      <td>0</td>\n",
       "      <td>0</td>\n",
       "      <td>0</td>\n",
       "      <td>0</td>\n",
       "      <td>0</td>\n",
       "      <td>0</td>\n",
       "      <td>0</td>\n",
       "      <td>0</td>\n",
       "      <td>0</td>\n",
       "      <td>0</td>\n",
       "    </tr>\n",
       "    <tr>\n",
       "      <th>4</th>\n",
       "      <td>0</td>\n",
       "      <td>0</td>\n",
       "      <td>0</td>\n",
       "      <td>0</td>\n",
       "      <td>0</td>\n",
       "      <td>0</td>\n",
       "      <td>0</td>\n",
       "      <td>0</td>\n",
       "      <td>0</td>\n",
       "      <td>0</td>\n",
       "      <td>...</td>\n",
       "      <td>0</td>\n",
       "      <td>0</td>\n",
       "      <td>0</td>\n",
       "      <td>0</td>\n",
       "      <td>0</td>\n",
       "      <td>0</td>\n",
       "      <td>0</td>\n",
       "      <td>0</td>\n",
       "      <td>0</td>\n",
       "      <td>0</td>\n",
       "    </tr>\n",
       "  </tbody>\n",
       "</table>\n",
       "<p>5 rows × 312 columns</p>\n",
       "</div>"
      ],
      "text/plain": [
       "   x_0  x_1  x_2  x_3  x_4  x_5  x_6  x_7  x_8  x_9  ...  ethnic_39  \\\n",
       "0    0    0    0    0    0    0    0    0    0    0  ...          0   \n",
       "1    0    0    0    0    0    0    0    0    0    0  ...          0   \n",
       "2    0    0    0    0    0    0    0    0    0    0  ...          0   \n",
       "3    0    0    0    0    0    0    0    0    0    0  ...          0   \n",
       "4    0    0    0    0    0    0    0    0    0    0  ...          0   \n",
       "\n",
       "   ethnic_40  ethnic_41  ethnic_42  ethnic_43  ethnic_44  ethnic_45  \\\n",
       "0          0          0          0          0          0          0   \n",
       "1          0          0          0          0          0          0   \n",
       "2          0          0          0          0          0          0   \n",
       "3          0          0          0          0          0          0   \n",
       "4          0          0          0          0          0          0   \n",
       "\n",
       "   ethnic_46  ethnic_47  ethnic_48  \n",
       "0          0          0          0  \n",
       "1          0          0          0  \n",
       "2          0          0          0  \n",
       "3          0          0          0  \n",
       "4          0          0          0  \n",
       "\n",
       "[5 rows x 312 columns]"
      ]
     },
     "execution_count": 281,
     "metadata": {},
     "output_type": "execute_result"
    }
   ],
   "source": [
    "test_X.head()"
   ]
  },
  {
   "cell_type": "code",
   "execution_count": 282,
   "metadata": {},
   "outputs": [
    {
     "name": "stdout",
     "output_type": "stream",
     "text": [
      "(132029, 312)\n",
      "(23561, 280)\n",
      "(23561, 312)\n"
     ]
    }
   ],
   "source": [
    "print(X.shape)\n",
    "print(test_x.shape)\n",
    "print(test_X.shape)  "
   ]
  },
  {
   "cell_type": "code",
   "execution_count": 210,
   "metadata": {},
   "outputs": [
    {
     "name": "stdout",
     "output_type": "stream",
     "text": [
      "['x_0', 'x_1', 'x_2', 'x_3', 'x_4', 'x_5', 'x_6', 'x_7', 'x_8', 'x_9', 'x_10', 'x_11', 'x_12', 'x_13', 'x_14', 'x_15', 'x_16', 'x_17', 'x_18', 'x_19', 'x_20', 'x_21', 'x_22', 'x_23', 'x_24', 'x_25', 'x_26', 'x_27', 'x_28', 'x_29', 'x_30', 'x_31', 'x_32', 'x_33', 'x_34', 'x_35', 'x_36', 'x_37', 'x_38', 'x_39', 'x_40', 'x_41', 'x_42', 'x_43', 'x_44', 'x_45', 'x_46', 'x_47', 'x_48', 'x_49', 'x_50', 'x_51', 'x_52', 'x_53', 'x_54', 'x_55', 'x_56', 'x_57', 'x_58', 'x_59', 'x_60', 'x_61', 'x_62', 'x_63', 'x_64', 'x_65', 'x_66', 'x_67', 'x_68', 'x_69', 'x_70', 'x_71', 'x_72', 'x_73', 'x_74', 'x_75', 'x_76', 'x_77', 'x_78', 'lmt_Bin_WOE', 'certId_br_encoding_Bin_WOE', 'dist_br_encoding_Bin_WOE', 'certValidBegin_br_encoding_Bin_WOE', 'certValidStop_br_encoding_Bin_WOE', 'ethnic_br_encoding_Bin_WOE', 'residentAddr_br_encoding_Bin_WOE', 'gender_1', 'gender_2', '5yearBadloan_0', '5yearBadloan_1', 'loanProduct_1', 'loanProduct_2', 'loanProduct_3', 'basicLevel_-999', 'basicLevel_1', 'basicLevel_2', 'basicLevel_3', 'basicLevel_4', 'basicLevel_5', 'edu_-999', 'edu_0', 'edu_10', 'edu_20', 'edu_30', 'edu_40', 'edu_47', 'edu_60', 'edu_70', 'job_1', 'job_2', 'job_3', 'job_4', 'job_5', 'job_6', 'job_7', 'job_8', 'job_10', 'job_11', 'job_12', 'job_13', 'job_16', 'cardname_', 'cardname_E时代卡', 'cardname_IC借记卡普卡', 'cardname_IC绿卡通', 'cardname_IC绿卡通VIP卡', 'cardname_IC联名卡', 'cardname_一卡通（银联卡）', 'cardname_一账通借贷合一卡金卡', 'cardname_万事顺借记卡', 'cardname_专用惠农卡', 'cardname_东方卡（银联卡）', 'cardname_个人普卡', 'cardname_中信借记卡（银联卡）', 'cardname_中信理财宝白金卡', 'cardname_中信理财宝金卡', 'cardname_中国旅游卡', 'cardname_中国旅游卡（普卡）', 'cardname_中职学生资助卡', 'cardname_乐当家', 'cardname_乐当家白金卡', 'cardname_乐当家金卡VISA', 'cardname_乐当家银卡VISA', 'cardname_交银IC卡', 'cardname_借记IC个人普卡', 'cardname_借记IC个人金卡', 'cardname_借记IC卡金卡', 'cardname_借记IC白金卡', 'cardname_借记IC联名卡', 'cardname_借记卡', 'cardname_借记卡普卡', 'cardname_兴业卡（银联卡）', 'cardname_兴业卡（银联标准卡）', 'cardname_兴业自然人生理财卡', 'cardname_其他卡产品', 'cardname_医保联名借记IC卡', 'cardname_华夏丽人卡（银联卡）', 'cardname_华夏卡（银联卡）', 'cardname_华夏普卡', 'cardname_华夏至尊金卡（银联卡）', 'cardname_华夏金卡', 'cardname_发展借记卡（银联卡）', 'cardname_发展卡（银联卡）', 'cardname_员工普卡', 'cardname_太平洋万事顺卡', 'cardname_太平洋互连卡', 'cardname_太平洋借记卡', 'cardname_工银财富卡', 'cardname_平安银行（深圳发展银行）IC借记卡', 'cardname_平安银行（深圳发展银行）借记卡', 'cardname_广发理财通卡', 'cardname_招行国际卡（银联卡）', 'cardname_新磁条借记卡', 'cardname_普通高中学生资助卡', 'cardname_民生借记卡', 'cardname_民生借记卡（银联卡）', 'cardname_灵通卡', 'cardname_牡丹卡普卡', 'cardname_牡丹灵通卡（银联卡）', 'cardname_理财宝IC卡', 'cardname_理财白金卡', 'cardname_理财通卡', 'cardname_理财金卡', 'cardname_理财金账户金卡', 'cardname_理财银卡', 'cardname_社会保障IC卡', 'cardname_社保IC卡', 'cardname_社保联名借记IC卡', 'cardname_社保联名卡', 'cardname_福农卡', 'cardname_福农灵通卡', 'cardname_绿卡VIP卡', 'cardname_绿卡通', 'cardname_绿卡银联标准卡', 'cardname_绿卡（银联卡）', 'cardname_联名IC卡普卡', 'cardname_联名卡', 'cardname_薪资理财卡', 'cardname_财富卡私人银行卡', 'cardname_轻松理财普卡（复合卡）', 'cardname_轻松理财消贷易卡', 'cardname_轻松理财白金卡（复合卡）', 'cardname_轻松理财金卡（复合卡）', 'cardname_退役金卡', 'cardname_金卡', 'cardname_金穗惠农卡', 'cardname_金穗校园卡（银联卡）', 'cardname_金穗海通卡', 'cardname_金穗社保卡（银联卡）', 'cardname_金穗通宝卡', 'cardname_金穗通宝卡（银联卡）', 'cardname_金穗通宝钻石卡', 'cardname_金穗通宝银卡', 'cardname_金穗青年卡（银联卡）', 'cardname_金融IC卡', 'cardname_银联IC普卡', 'cardname_银联IC金卡', 'cardname_银联储蓄卡', 'cardname_银联标准卡', 'cardname_银联金葵花IC卡', 'cardname_长城电子借记卡', 'cardname_长城福农借记卡普卡', 'cardname_长城福农借记卡金卡', 'cardname_阳光卡（银联卡）', 'cardname_龙卡储蓄卡', 'cardname_龙卡储蓄卡（银联卡）', 'cardname_龙卡通', 'highestEdu_-999', 'highestEdu_10', 'highestEdu_20', 'highestEdu_30', 'highestEdu_40', 'highestEdu_50', 'highestEdu_60', 'highestEdu_70', 'highestEdu_99', 'linkRela_-999', 'linkRela_0', 'linkRela_1', 'linkRela_2', 'linkRela_10', 'linkRela_11', 'linkRela_12', 'linkRela_301', 'linkRela_306', 'ncloseCreditCard_-999', 'ncloseCreditCard_0', 'ncloseCreditCard_1', 'unpayIndvLoan_-999', 'unpayIndvLoan_0', 'unpayIndvLoan_1', 'unpayOtherLoan_-999', 'unpayOtherLoan_0', 'unpayOtherLoan_1', 'unpayNormalLoan_-999', 'unpayNormalLoan_0', 'unpayNormalLoan_1']\n"
     ]
    }
   ],
   "source": [
    "print(X.columns.to_list())"
   ]
  },
  {
   "cell_type": "code",
   "execution_count": 211,
   "metadata": {},
   "outputs": [
    {
     "name": "stdout",
     "output_type": "stream",
     "text": [
      "['x_0', 'x_1', 'x_2', 'x_3', 'x_4', 'x_5', 'x_6', 'x_7', 'x_8', 'x_9', 'x_10', 'x_11', 'x_12', 'x_13', 'x_14', 'x_15', 'x_16', 'x_17', 'x_18', 'x_19', 'x_20', 'x_21', 'x_22', 'x_23', 'x_24', 'x_25', 'x_26', 'x_27', 'x_28', 'x_29', 'x_30', 'x_31', 'x_32', 'x_33', 'x_34', 'x_35', 'x_36', 'x_37', 'x_38', 'x_39', 'x_40', 'x_41', 'x_42', 'x_43', 'x_44', 'x_45', 'x_46', 'x_47', 'x_48', 'x_49', 'x_50', 'x_51', 'x_52', 'x_53', 'x_54', 'x_55', 'x_56', 'x_57', 'x_58', 'x_59', 'x_60', 'x_61', 'x_62', 'x_63', 'x_64', 'x_65', 'x_66', 'x_67', 'x_68', 'x_69', 'x_70', 'x_71', 'x_72', 'x_73', 'x_74', 'x_75', 'x_76', 'x_77', 'x_78', 'lmt_Bin_WOE', 'certId_br_encoding_Bin_WOE', 'dist_br_encoding_Bin_WOE', 'certValidBegin_br_encoding_Bin_WOE', 'certValidStop_br_encoding_Bin_WOE', 'ethnic_br_encoding_Bin_WOE', 'residentAddr_br_encoding_Bin_WOE', 'gender_1', 'gender_2', '5yearBadloan_0', '5yearBadloan_1', 'loanProduct_1', 'loanProduct_2', 'loanProduct_3', 'basicLevel_-999', 'basicLevel_1', 'basicLevel_2', 'basicLevel_3', 'basicLevel_4', 'basicLevel_5', 'edu_-999', 'edu_0', 'edu_10', 'edu_20', 'edu_30', 'edu_40', 'edu_47', 'edu_60', 'edu_70', 'job_1', 'job_2', 'job_3', 'job_4', 'job_5', 'job_6', 'job_7', 'job_8', 'job_10', 'job_11', 'job_12', 'job_13', 'job_16', 'cardname_', 'cardname_E时代卡', 'cardname_IC借记卡普卡', 'cardname_IC绿卡通', 'cardname_IC绿卡通VIP卡', 'cardname_IC联名卡', 'cardname_一卡通（银联卡）', 'cardname_一账通借贷合一卡金卡', 'cardname_万事顺借记卡', 'cardname_专用惠农卡', 'cardname_东方卡（银联卡）', 'cardname_个人普卡', 'cardname_中信借记卡（银联卡）', 'cardname_中信理财宝白金卡', 'cardname_中信理财宝金卡', 'cardname_中国旅游卡', 'cardname_中国旅游卡（普卡）', 'cardname_中职学生资助卡', 'cardname_乐当家', 'cardname_乐当家白金卡', 'cardname_乐当家金卡VISA', 'cardname_乐当家银卡VISA', 'cardname_交银IC卡', 'cardname_借记IC个人普卡', 'cardname_借记IC个人金卡', 'cardname_借记IC卡金卡', 'cardname_借记IC白金卡', 'cardname_借记IC联名卡', 'cardname_借记卡', 'cardname_借记卡普卡', 'cardname_兴业卡（银联卡）', 'cardname_兴业卡（银联标准卡）', 'cardname_兴业自然人生理财卡', 'cardname_其他卡产品', 'cardname_医保联名借记IC卡', 'cardname_华夏丽人卡（银联卡）', 'cardname_华夏卡（银联卡）', 'cardname_华夏普卡', 'cardname_华夏至尊金卡（银联卡）', 'cardname_华夏金卡', 'cardname_发展借记卡（银联卡）', 'cardname_发展卡（银联卡）', 'cardname_员工普卡', 'cardname_太平洋万事顺卡', 'cardname_太平洋互连卡', 'cardname_太平洋借记卡', 'cardname_工银财富卡', 'cardname_平安银行（深圳发展银行）IC借记卡', 'cardname_平安银行（深圳发展银行）借记卡', 'cardname_广发理财通卡', 'cardname_招行国际卡（银联卡）', 'cardname_新磁条借记卡', 'cardname_普通高中学生资助卡', 'cardname_民生借记卡', 'cardname_民生借记卡（银联卡）', 'cardname_灵通卡', 'cardname_牡丹卡普卡', 'cardname_牡丹灵通卡（银联卡）', 'cardname_理财宝IC卡', 'cardname_理财白金卡', 'cardname_理财通卡', 'cardname_理财金卡', 'cardname_理财金账户金卡', 'cardname_理财银卡', 'cardname_社会保障IC卡', 'cardname_社保IC卡', 'cardname_社保联名借记IC卡', 'cardname_社保联名卡', 'cardname_福农卡', 'cardname_福农灵通卡', 'cardname_绿卡VIP卡', 'cardname_绿卡通', 'cardname_绿卡银联标准卡', 'cardname_绿卡（银联卡）', 'cardname_联名IC卡普卡', 'cardname_联名卡', 'cardname_薪资理财卡', 'cardname_财富卡私人银行卡', 'cardname_轻松理财普卡（复合卡）', 'cardname_轻松理财消贷易卡', 'cardname_轻松理财白金卡（复合卡）', 'cardname_轻松理财金卡（复合卡）', 'cardname_退役金卡', 'cardname_金卡', 'cardname_金穗惠农卡', 'cardname_金穗校园卡（银联卡）', 'cardname_金穗海通卡', 'cardname_金穗社保卡（银联卡）', 'cardname_金穗通宝卡', 'cardname_金穗通宝卡（银联卡）', 'cardname_金穗通宝钻石卡', 'cardname_金穗通宝银卡', 'cardname_金穗青年卡（银联卡）', 'cardname_金融IC卡', 'cardname_银联IC普卡', 'cardname_银联IC金卡', 'cardname_银联储蓄卡', 'cardname_银联标准卡', 'cardname_银联金葵花IC卡', 'cardname_长城电子借记卡', 'cardname_长城福农借记卡普卡', 'cardname_长城福农借记卡金卡', 'cardname_阳光卡（银联卡）', 'cardname_龙卡储蓄卡', 'cardname_龙卡储蓄卡（银联卡）', 'cardname_龙卡通', 'highestEdu_-999', 'highestEdu_10', 'highestEdu_20', 'highestEdu_30', 'highestEdu_40', 'highestEdu_50', 'highestEdu_60', 'highestEdu_70', 'highestEdu_99', 'linkRela_-999', 'linkRela_0', 'linkRela_1', 'linkRela_2', 'linkRela_10', 'linkRela_11', 'linkRela_12', 'linkRela_301', 'linkRela_306', 'ncloseCreditCard_-999', 'ncloseCreditCard_0', 'ncloseCreditCard_1', 'unpayIndvLoan_-999', 'unpayIndvLoan_0', 'unpayIndvLoan_1', 'unpayOtherLoan_-999', 'unpayOtherLoan_0', 'unpayOtherLoan_1', 'unpayNormalLoan_-999', 'unpayNormalLoan_0', 'unpayNormalLoan_1']\n"
     ]
    }
   ],
   "source": [
    "print(test_X.columns.to_list())"
   ]
  },
  {
   "cell_type": "markdown",
   "metadata": {},
   "source": [
    "##### 用训练好的模型预测"
   ]
  },
  {
   "cell_type": "code",
   "execution_count": 283,
   "metadata": {},
   "outputs": [
    {
     "name": "stdout",
     "output_type": "stream",
     "text": [
      "(23561,)\n"
     ]
    }
   ],
   "source": [
    "#y_pred = BFC_Model.predict(test_X)\n",
    "y_pred = best_est.predict(test_X)\n",
    "print(y_pred.shape)"
   ]
  },
  {
   "cell_type": "code",
   "execution_count": 284,
   "metadata": {},
   "outputs": [
    {
     "data": {
      "text/plain": [
       "array([0, 0, 0, ..., 0, 0, 0], dtype=int64)"
      ]
     },
     "execution_count": 284,
     "metadata": {},
     "output_type": "execute_result"
    }
   ],
   "source": [
    "y_pred"
   ]
  },
  {
   "cell_type": "code",
   "execution_count": 285,
   "metadata": {},
   "outputs": [
    {
     "name": "stdout",
     "output_type": "stream",
     "text": [
      "(23561, 280)\n",
      "(23561,)\n"
     ]
    }
   ],
   "source": [
    "print(test_x.shape)\n",
    "print(y_pred.shape)"
   ]
  },
  {
   "cell_type": "code",
   "execution_count": 286,
   "metadata": {},
   "outputs": [
    {
     "data": {
      "text/html": [
       "<div>\n",
       "<style scoped>\n",
       "    .dataframe tbody tr th:only-of-type {\n",
       "        vertical-align: middle;\n",
       "    }\n",
       "\n",
       "    .dataframe tbody tr th {\n",
       "        vertical-align: top;\n",
       "    }\n",
       "\n",
       "    .dataframe thead th {\n",
       "        text-align: right;\n",
       "    }\n",
       "</style>\n",
       "<table border=\"1\" class=\"dataframe\">\n",
       "  <thead>\n",
       "    <tr style=\"text-align: right;\">\n",
       "      <th></th>\n",
       "      <th>id</th>\n",
       "      <th>target</th>\n",
       "    </tr>\n",
       "  </thead>\n",
       "  <tbody>\n",
       "    <tr>\n",
       "      <th>0</th>\n",
       "      <td>132030</td>\n",
       "      <td>0</td>\n",
       "    </tr>\n",
       "    <tr>\n",
       "      <th>1</th>\n",
       "      <td>132031</td>\n",
       "      <td>0</td>\n",
       "    </tr>\n",
       "    <tr>\n",
       "      <th>2</th>\n",
       "      <td>132032</td>\n",
       "      <td>0</td>\n",
       "    </tr>\n",
       "    <tr>\n",
       "      <th>3</th>\n",
       "      <td>132033</td>\n",
       "      <td>0</td>\n",
       "    </tr>\n",
       "    <tr>\n",
       "      <th>4</th>\n",
       "      <td>132034</td>\n",
       "      <td>1</td>\n",
       "    </tr>\n",
       "  </tbody>\n",
       "</table>\n",
       "</div>"
      ],
      "text/plain": [
       "       id  target\n",
       "0  132030       0\n",
       "1  132031       0\n",
       "2  132032       0\n",
       "3  132033       0\n",
       "4  132034       1"
      ]
     },
     "execution_count": 286,
     "metadata": {},
     "output_type": "execute_result"
    }
   ],
   "source": [
    "y_pred_0 = pd.DataFrame(y_pred, columns=['target'])\n",
    "y_pred_0.insert(0,'id',test_x.id)\n",
    "y_pred_0.to_csv('sub_brfc_lable_2019_11_07.csv', index=False)\n",
    "y_pred_0.head()"
   ]
  },
  {
   "cell_type": "code",
   "execution_count": 287,
   "metadata": {},
   "outputs": [
    {
     "data": {
      "text/plain": [
       "0    19473\n",
       "1     4088\n",
       "Name: target, dtype: int64"
      ]
     },
     "execution_count": 287,
     "metadata": {},
     "output_type": "execute_result"
    }
   ],
   "source": [
    "#y_pred_0.target.vaue_counts()\n",
    "#type(y_pred_0)\n",
    "y_pred_0.target.value_counts()"
   ]
  },
  {
   "cell_type": "code",
   "execution_count": 296,
   "metadata": {},
   "outputs": [
    {
     "data": {
      "text/plain": [
       "8328"
      ]
     },
     "execution_count": 296,
     "metadata": {},
     "output_type": "execute_result"
    }
   ],
   "source": []
  },
  {
   "cell_type": "code",
   "execution_count": 300,
   "metadata": {},
   "outputs": [
    {
     "name": "stdout",
     "output_type": "stream",
     "text": [
      "原始训练集:\n",
      "------------------------------\n",
      "正常贷款： 99.27 % of the dataset\n",
      "逾期贷款： 0.73 % of the dataset\n",
      "\n",
      "\n",
      "训练结果:\n",
      "------------------------------\n",
      "正常贷款： 99.09 % of the dataset\n",
      "逾期贷款： 0.91 % of the dataset\n",
      "预测正常贷款： 82.59 % of the dataset\n",
      "预测逾期贷款： 17.41 % of the dataset\n",
      "\n",
      "\n",
      "提交测试集:\n",
      "------------------------------\n",
      "正常贷款： 82.65 % of the dataset\n",
      "逾期贷款： 17.35 % of the dataset\n"
     ]
    }
   ],
   "source": [
    "#检查预测结果的lable分布\n",
    "\n",
    "# The classes are heavily skewed we need to solve this issue later.\n",
    "print(\"原始训练集:\")\n",
    "print(\"------------------------------\")\n",
    "print('正常贷款：', round(train_y['target'].value_counts()[0]/len(train_y) * 100,2), '% of the dataset')\n",
    "print('逾期贷款：', round(train_y['target'].value_counts()[1]/len(train_y) * 100,2), '% of the dataset')\n",
    "\n",
    "\n",
    "print(\"\\n\\n训练结果:\")\n",
    "print(\"------------------------------\")\n",
    "\n",
    "zc = original_ytest[original_ytest == 0].shape[0]\n",
    "yq = original_ytest[original_ytest == 1].shape[0]\n",
    "print('正常贷款：', round(zc/len(y_pred_1) * 100,2), '% of the dataset')\n",
    "print('逾期贷款：', round(yq/len(y_pred_1) * 100,2), '% of the dataset')\n",
    "\n",
    "pred_zc = y_pred_1[y_pred_1 == 0].shape[0]\n",
    "pred_yq = y_pred_1[y_pred_1 == 1].shape[0]\n",
    "print('预测正常贷款：', round(pred_zc/len(y_pred_1) * 100,2), '% of the dataset')\n",
    "print('预测逾期贷款：', round(pred_yq/len(y_pred_1) * 100,2), '% of the dataset')\n",
    "\n",
    "\n",
    "print(\"\\n\\n提交测试集:\")\n",
    "print(\"------------------------------\")\n",
    "print('正常贷款：', round(y_pred_0['target'].value_counts()[0]/len(y_pred_0) * 100,2), '% of the dataset')\n",
    "print('逾期贷款：', round(y_pred_0['target'].value_counts()[1]/len(y_pred_0) * 100,2), '% of the dataset')"
   ]
  },
  {
   "cell_type": "markdown",
   "metadata": {},
   "source": [
    "### LGBMClassifier"
   ]
  },
  {
   "cell_type": "code",
   "execution_count": 200,
   "metadata": {},
   "outputs": [],
   "source": [
    "from imblearn.pipeline import make_pipeline\n",
    "\n",
    "from imblearn.over_sampling import SMOTE\n",
    "from sklearn.model_selection import train_test_split, RandomizedSearchCV,GridSearchCV\n",
    "\n",
    "from imblearn.pipeline import make_pipeline\n",
    "from imblearn.over_sampling import SMOTE\n",
    "from sklearn.model_selection import train_test_split, RandomizedSearchCV,GridSearchCV\n",
    "from sklearn.ensemble import RandomForestClassifier\n",
    "# machine learning: XGB\n",
    "import xgboost as xgb\n",
    "import lightgbm as lgb\n",
    "\n",
    "\n",
    "\n",
    "def run_lgb(train_X, train_y, val_X, val_y):\n",
    "    params = {\n",
    "        \"objective\" : \"binary\",\n",
    "        \"boosting_type\": \"gbdt\",\n",
    "        \"metric\" : \"auc\",\n",
    "        \"num_leaves\" : 100,\n",
    "        \"learning_rate\" : 0.05,\n",
    "        \"bagging_fraction\" : 0.6,\n",
    "        \"feature_fraction\" : 0.6,\n",
    "        \"bagging_frequency\" : 6,\n",
    "        \"bagging_seed\" : 42,\n",
    "        \"max_bin\": 512,\n",
    "        \"verbosity\" : -1,\n",
    "        \"seed\": 42\n",
    "    }\n",
    "    \n",
    "    lgtrain = lgb.Dataset(train_X, label=train_y)\n",
    "    lgval = lgb.Dataset(val_X, label=val_y)\n",
    "    evals_result = {}\n",
    "    model = lgb.train(params, lgtrain, 5000, \n",
    "                      valid_sets=[lgtrain, lgval], \n",
    "                      early_stopping_rounds=100, \n",
    "                      verbose_eval=150, \n",
    "                      evals_result=evals_result)\n",
    "    \n",
    "    #pred_test_y = np.expm1(model.predict(test_X, num_iteration=model.best_iteration))\n",
    "    return model, evals_result"
   ]
  },
  {
   "cell_type": "code",
   "execution_count": 201,
   "metadata": {},
   "outputs": [
    {
     "name": "stdout",
     "output_type": "stream",
     "text": [
      "Resampled dataset shape Counter({0: 117963, 1: 117963})\n",
      "Training until validation scores don't improve for 100 rounds.\n",
      "Early stopping, best iteration is:\n",
      "[41]\ttraining's auc: 0.999568\tvalid_1's auc: 0.889576\n"
     ]
    }
   ],
   "source": [
    "\n",
    "sm = SMOTE(sampling_strategy='minority',random_state=42)\n",
    "original_Xtrain_res, original_ytrain_res = sm.fit_resample(original_Xtrain, original_ytrain)\n",
    "\n",
    "print('Resampled dataset shape %s' % Counter(original_ytrain_res))\n",
    "model_lgb, evals_result = run_lgb(original_Xtrain_res, original_ytrain_res, original_Xtest, original_ytest)"
   ]
  },
  {
   "cell_type": "code",
   "execution_count": 203,
   "metadata": {},
   "outputs": [
    {
     "name": "stdout",
     "output_type": "stream",
     "text": [
      "roc_auc_score: \n",
      " 0.889576339614964\n",
      "\n",
      "LightGBM Training Completed\n"
     ]
    }
   ],
   "source": [
    "print(\"roc_auc_score: \\n {}\\n\".format(roc_auc_score(original_ytest, model_lgb.predict(original_Xtest))))\n",
    "print(\"LightGBM Training Completed\")"
   ]
  },
  {
   "cell_type": "code",
   "execution_count": 204,
   "metadata": {},
   "outputs": [
    {
     "data": {
      "text/html": [
       "<div>\n",
       "<style scoped>\n",
       "    .dataframe tbody tr th:only-of-type {\n",
       "        vertical-align: middle;\n",
       "    }\n",
       "\n",
       "    .dataframe tbody tr th {\n",
       "        vertical-align: top;\n",
       "    }\n",
       "\n",
       "    .dataframe thead th {\n",
       "        text-align: right;\n",
       "    }\n",
       "</style>\n",
       "<table border=\"1\" class=\"dataframe\">\n",
       "  <thead>\n",
       "    <tr style=\"text-align: right;\">\n",
       "      <th></th>\n",
       "      <th>x_0</th>\n",
       "      <th>x_1</th>\n",
       "      <th>x_2</th>\n",
       "      <th>x_3</th>\n",
       "      <th>x_4</th>\n",
       "      <th>x_5</th>\n",
       "      <th>x_6</th>\n",
       "      <th>x_7</th>\n",
       "      <th>x_8</th>\n",
       "      <th>x_9</th>\n",
       "      <th>...</th>\n",
       "      <th>ncloseCreditCard_1</th>\n",
       "      <th>unpayIndvLoan_-999</th>\n",
       "      <th>unpayIndvLoan_0</th>\n",
       "      <th>unpayIndvLoan_1</th>\n",
       "      <th>unpayOtherLoan_-999</th>\n",
       "      <th>unpayOtherLoan_0</th>\n",
       "      <th>unpayOtherLoan_1</th>\n",
       "      <th>unpayNormalLoan_-999</th>\n",
       "      <th>unpayNormalLoan_0</th>\n",
       "      <th>unpayNormalLoan_1</th>\n",
       "    </tr>\n",
       "  </thead>\n",
       "  <tbody>\n",
       "    <tr>\n",
       "      <th>0</th>\n",
       "      <td>0</td>\n",
       "      <td>0</td>\n",
       "      <td>0</td>\n",
       "      <td>0</td>\n",
       "      <td>0</td>\n",
       "      <td>0</td>\n",
       "      <td>0</td>\n",
       "      <td>0</td>\n",
       "      <td>0</td>\n",
       "      <td>0</td>\n",
       "      <td>...</td>\n",
       "      <td>1</td>\n",
       "      <td>0</td>\n",
       "      <td>1</td>\n",
       "      <td>0</td>\n",
       "      <td>0</td>\n",
       "      <td>0</td>\n",
       "      <td>1</td>\n",
       "      <td>0</td>\n",
       "      <td>1</td>\n",
       "      <td>0</td>\n",
       "    </tr>\n",
       "    <tr>\n",
       "      <th>1</th>\n",
       "      <td>0</td>\n",
       "      <td>0</td>\n",
       "      <td>0</td>\n",
       "      <td>0</td>\n",
       "      <td>0</td>\n",
       "      <td>0</td>\n",
       "      <td>0</td>\n",
       "      <td>0</td>\n",
       "      <td>0</td>\n",
       "      <td>0</td>\n",
       "      <td>...</td>\n",
       "      <td>1</td>\n",
       "      <td>0</td>\n",
       "      <td>1</td>\n",
       "      <td>0</td>\n",
       "      <td>0</td>\n",
       "      <td>0</td>\n",
       "      <td>1</td>\n",
       "      <td>0</td>\n",
       "      <td>1</td>\n",
       "      <td>0</td>\n",
       "    </tr>\n",
       "    <tr>\n",
       "      <th>2</th>\n",
       "      <td>0</td>\n",
       "      <td>0</td>\n",
       "      <td>0</td>\n",
       "      <td>0</td>\n",
       "      <td>0</td>\n",
       "      <td>0</td>\n",
       "      <td>0</td>\n",
       "      <td>0</td>\n",
       "      <td>0</td>\n",
       "      <td>0</td>\n",
       "      <td>...</td>\n",
       "      <td>1</td>\n",
       "      <td>0</td>\n",
       "      <td>0</td>\n",
       "      <td>1</td>\n",
       "      <td>0</td>\n",
       "      <td>0</td>\n",
       "      <td>1</td>\n",
       "      <td>0</td>\n",
       "      <td>1</td>\n",
       "      <td>0</td>\n",
       "    </tr>\n",
       "    <tr>\n",
       "      <th>3</th>\n",
       "      <td>0</td>\n",
       "      <td>0</td>\n",
       "      <td>0</td>\n",
       "      <td>0</td>\n",
       "      <td>0</td>\n",
       "      <td>0</td>\n",
       "      <td>0</td>\n",
       "      <td>0</td>\n",
       "      <td>0</td>\n",
       "      <td>0</td>\n",
       "      <td>...</td>\n",
       "      <td>1</td>\n",
       "      <td>0</td>\n",
       "      <td>1</td>\n",
       "      <td>0</td>\n",
       "      <td>0</td>\n",
       "      <td>0</td>\n",
       "      <td>1</td>\n",
       "      <td>0</td>\n",
       "      <td>0</td>\n",
       "      <td>1</td>\n",
       "    </tr>\n",
       "    <tr>\n",
       "      <th>4</th>\n",
       "      <td>0</td>\n",
       "      <td>0</td>\n",
       "      <td>0</td>\n",
       "      <td>0</td>\n",
       "      <td>0</td>\n",
       "      <td>0</td>\n",
       "      <td>0</td>\n",
       "      <td>0</td>\n",
       "      <td>0</td>\n",
       "      <td>0</td>\n",
       "      <td>...</td>\n",
       "      <td>0</td>\n",
       "      <td>0</td>\n",
       "      <td>1</td>\n",
       "      <td>0</td>\n",
       "      <td>0</td>\n",
       "      <td>1</td>\n",
       "      <td>0</td>\n",
       "      <td>0</td>\n",
       "      <td>1</td>\n",
       "      <td>0</td>\n",
       "    </tr>\n",
       "  </tbody>\n",
       "</table>\n",
       "<p>5 rows × 169 columns</p>\n",
       "</div>"
      ],
      "text/plain": [
       "   x_0  x_1  x_2  x_3  x_4  x_5  x_6  x_7  x_8  x_9  ...  ncloseCreditCard_1  \\\n",
       "0    0    0    0    0    0    0    0    0    0    0  ...                   1   \n",
       "1    0    0    0    0    0    0    0    0    0    0  ...                   1   \n",
       "2    0    0    0    0    0    0    0    0    0    0  ...                   1   \n",
       "3    0    0    0    0    0    0    0    0    0    0  ...                   1   \n",
       "4    0    0    0    0    0    0    0    0    0    0  ...                   0   \n",
       "\n",
       "   unpayIndvLoan_-999  unpayIndvLoan_0  unpayIndvLoan_1  unpayOtherLoan_-999  \\\n",
       "0                   0                1                0                    0   \n",
       "1                   0                1                0                    0   \n",
       "2                   0                0                1                    0   \n",
       "3                   0                1                0                    0   \n",
       "4                   0                1                0                    0   \n",
       "\n",
       "   unpayOtherLoan_0  unpayOtherLoan_1  unpayNormalLoan_-999  \\\n",
       "0                 0                 1                     0   \n",
       "1                 0                 1                     0   \n",
       "2                 0                 1                     0   \n",
       "3                 0                 1                     0   \n",
       "4                 1                 0                     0   \n",
       "\n",
       "   unpayNormalLoan_0  unpayNormalLoan_1  \n",
       "0                  1                  0  \n",
       "1                  1                  0  \n",
       "2                  1                  0  \n",
       "3                  0                  1  \n",
       "4                  1                  0  \n",
       "\n",
       "[5 rows x 169 columns]"
      ]
     },
     "execution_count": 204,
     "metadata": {},
     "output_type": "execute_result"
    }
   ],
   "source": [
    "test_X.head()"
   ]
  },
  {
   "cell_type": "code",
   "execution_count": 213,
   "metadata": {},
   "outputs": [],
   "source": [
    "y_pred_lgb = model_lgb.predict(test_X)\n",
    "y_pred_lgb = pd.DataFrame(y_pred_lgb, columns=['target'])\n",
    "y_pred_lgb.insert(0,'id',test_x.id)\n",
    "y_pred_lgb['target'] = y_pred_lgb['target'].apply(lambda x:1 if x>=0.2 else 0)"
   ]
  },
  {
   "cell_type": "code",
   "execution_count": 215,
   "metadata": {},
   "outputs": [
    {
     "name": "stdout",
     "output_type": "stream",
     "text": [
      "0    21715\n",
      "1     1846\n",
      "Name: target, dtype: int64\n"
     ]
    }
   ],
   "source": [
    "print(y_pred_lgb.target.value_counts())"
   ]
  },
  {
   "cell_type": "code",
   "execution_count": 216,
   "metadata": {},
   "outputs": [
    {
     "name": "stdout",
     "output_type": "stream",
     "text": [
      "train default ratio:0.0072635557339675375\n",
      "test default ratio:0.07834981537286194\n"
     ]
    }
   ],
   "source": [
    "t_0_ = train_y.target.value_counts()[0] \n",
    "t_1_ = train_y.target.value_counts()[1] \n",
    "\n",
    "print(\"train default ratio:{}\".format(t_1_ / (t_0_ + t_1_)) )\n",
    "\n",
    "p_0_ = y_pred_lgb.target.value_counts()[0] \n",
    "p_1_ = y_pred_lgb.target.value_counts()[1] \n",
    "\n",
    "print(\"test default ratio:{}\".format(p_1_ / (p_0_ + p_1_)) )"
   ]
  },
  {
   "cell_type": "code",
   "execution_count": 218,
   "metadata": {},
   "outputs": [
    {
     "data": {
      "text/html": [
       "<div>\n",
       "<style scoped>\n",
       "    .dataframe tbody tr th:only-of-type {\n",
       "        vertical-align: middle;\n",
       "    }\n",
       "\n",
       "    .dataframe tbody tr th {\n",
       "        vertical-align: top;\n",
       "    }\n",
       "\n",
       "    .dataframe thead th {\n",
       "        text-align: right;\n",
       "    }\n",
       "</style>\n",
       "<table border=\"1\" class=\"dataframe\">\n",
       "  <thead>\n",
       "    <tr style=\"text-align: right;\">\n",
       "      <th></th>\n",
       "      <th>id</th>\n",
       "      <th>target</th>\n",
       "    </tr>\n",
       "  </thead>\n",
       "  <tbody>\n",
       "    <tr>\n",
       "      <th>0</th>\n",
       "      <td>132030</td>\n",
       "      <td>0</td>\n",
       "    </tr>\n",
       "    <tr>\n",
       "      <th>1</th>\n",
       "      <td>132031</td>\n",
       "      <td>0</td>\n",
       "    </tr>\n",
       "    <tr>\n",
       "      <th>2</th>\n",
       "      <td>132032</td>\n",
       "      <td>0</td>\n",
       "    </tr>\n",
       "    <tr>\n",
       "      <th>3</th>\n",
       "      <td>132033</td>\n",
       "      <td>0</td>\n",
       "    </tr>\n",
       "    <tr>\n",
       "      <th>4</th>\n",
       "      <td>132034</td>\n",
       "      <td>0</td>\n",
       "    </tr>\n",
       "  </tbody>\n",
       "</table>\n",
       "</div>"
      ],
      "text/plain": [
       "       id  target\n",
       "0  132030       0\n",
       "1  132031       0\n",
       "2  132032       0\n",
       "3  132033       0\n",
       "4  132034       0"
      ]
     },
     "execution_count": 218,
     "metadata": {},
     "output_type": "execute_result"
    }
   ],
   "source": [
    "y_pred_lgb.to_csv('sub_lgbm_lable_2019_11_06.csv', index=False)\n",
    "y_pred_lgb.head()"
   ]
  },
  {
   "cell_type": "code",
   "execution_count": null,
   "metadata": {},
   "outputs": [],
   "source": []
  },
  {
   "cell_type": "markdown",
   "metadata": {},
   "source": [
    "## 参考链接\n",
    "\n",
    "- 信息价值（IV）和证据权重（WOE）–来自银行业的案例研究（第4部分），http://ucanalytics.com/blogs/information-value-and-weight-of-evidencebanking-case/\n",
    "- python-申请评分卡模型，https://www.jianshu.com/p/eaf80fcaeed0\n",
    "- credit-fraud-dealing-with-imbalanced-datasets，https://www.kaggle.com/janiobachmann/credit-fraud-dealing-with-imbalanced-datasets#notebook-container"
   ]
  },
  {
   "cell_type": "code",
   "execution_count": null,
   "metadata": {},
   "outputs": [],
   "source": []
  },
  {
   "cell_type": "code",
   "execution_count": null,
   "metadata": {},
   "outputs": [],
   "source": []
  }
 ],
 "metadata": {
  "kernelspec": {
   "display_name": "Python 3",
   "language": "python",
   "name": "python3"
  },
  "language_info": {
   "codemirror_mode": {
    "name": "ipython",
    "version": 3
   },
   "file_extension": ".py",
   "mimetype": "text/x-python",
   "name": "python",
   "nbconvert_exporter": "python",
   "pygments_lexer": "ipython3",
   "version": "3.7.3"
  },
  "toc": {
   "base_numbering": 1,
   "nav_menu": {},
   "number_sections": true,
   "sideBar": true,
   "skip_h1_title": false,
   "title_cell": "Table of Contents",
   "title_sidebar": "Contents",
   "toc_cell": false,
   "toc_position": {
    "height": "calc(100% - 180px)",
    "left": "10px",
    "top": "150px",
    "width": "319.547px"
   },
   "toc_section_display": true,
   "toc_window_display": true
  }
 },
 "nbformat": 4,
 "nbformat_minor": 2
}
