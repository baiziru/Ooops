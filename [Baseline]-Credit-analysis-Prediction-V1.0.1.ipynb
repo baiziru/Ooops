{
 "cells": [
  {
   "cell_type": "markdown",
   "metadata": {},
   "source": [
    "# **2019厦门国际银行“数创金融杯”数据建模大赛**"
   ]
  },
  {
   "cell_type": "markdown",
   "metadata": {},
   "source": [
    "## 任务\n",
    "\n",
    "- 信用风险是金融监管机构重点关注的风险，关乎金融系统运行的稳定。在实际业务开展和模型构建过程中，面临着高维稀疏特征以及样本不平衡等各种问题，如何应用机器学习等数据挖掘方法提高信用风险的评估和预测能力，是各家金融机构积极探索的方向。本次竞赛提供实际业务场景中的信贷数据作为建模的对象，希望能借此展现各参赛选手数据挖掘的实战能力。"
   ]
  },
  {
   "cell_type": "markdown",
   "metadata": {},
   "source": [
    "## 加载数据\n",
    "\n",
    "- 本次数据共分为两个数据集，train_x.csv、train_target.csv和test_x.csv，其中train_x.csv为训练集的特征，train_target.csv为训练集的目标变量，其中，为了增强模型的泛化能力，训练集由两个阶段的样本组成，由字段isNew标记。test_x.csv为测试集的特征，特征变量与训练集一致。建模的目标即根据训练集对模型进行训练，并对测试集进行预测。\n",
    "\n",
    "\n",
    "- 用户征信相关信息\n",
    "\n",
    "  x_0至x_78以及ncloseCreditCard, unpayIndvLoan, unpayOtherLoan, unpayNormalLoan, 5yearBadloan该部分数据涉及较为第三方敏感数据，未做进一步说明。"
   ]
  },
  {
   "cell_type": "code",
   "execution_count": 1,
   "metadata": {},
   "outputs": [
    {
     "data": {
      "text/html": [
       "<img src=\"./data/userinfo.png\", width=320, heigth=240>\n",
       "<img src=\"./data/loans_info.png\", width=320, heigth=240>\n"
      ],
      "text/plain": [
       "<IPython.core.display.HTML object>"
      ]
     },
     "metadata": {},
     "output_type": "display_data"
    }
   ],
   "source": [
    "%%html\n",
    "<img src=\"./data/userinfo.png\", width=320, heigth=240>\n",
    "<img src=\"./data/loans_info.png\", width=320, heigth=240>"
   ]
  },
  {
   "cell_type": "code",
   "execution_count": 1,
   "metadata": {},
   "outputs": [],
   "source": [
    "# -*- coding: utf-8 -*-\n",
    "import warnings\n",
    "warnings.filterwarnings(\"ignore\")\n",
    "\n",
    "# loading packages\n",
    "# basic + dates \n",
    "import numpy as np\n",
    "import pandas as pd\n",
    "from pandas import datetime\n",
    "from scipy import sparse\n",
    "\n",
    "# data visualization\n",
    "import matplotlib.pyplot as plt\n",
    "import seaborn as sns # advanced vizs\n",
    "%matplotlib inline\n",
    "\n",
    "\n",
    "from tqdm import tqdm\n",
    "\n",
    "\n",
    "# machine learning: XGB\n",
    "import xgboost as xgb\n",
    "import lightgbm as lgb\n",
    "\n",
    "from sklearn.model_selection import train_test_split, GridSearchCV, RandomizedSearchCV\n",
    "from sklearn.preprocessing import LabelEncoder\n",
    "from sklearn.model_selection import StratifiedKFold\n",
    "\n",
    "from sklearn.ensemble import RandomForestRegressor\n",
    "from xgboost.sklearn import XGBRegressor"
   ]
  },
  {
   "cell_type": "code",
   "execution_count": 2,
   "metadata": {},
   "outputs": [],
   "source": [
    "## D:\\study\\notebook\\2019厦门国际银行“数创金融杯”数据建模大赛\\data\n",
    "path = r'D:\\study\\notebook\\2019厦门国际银行“数创金融杯”数据建模大赛\\data\\\\'\n",
    "\n",
    "train_x_file = path + 'train.csv'\n",
    "train_target_file = path + 'train_target.csv'\n",
    "test_x_file = path + 'test.csv'"
   ]
  },
  {
   "cell_type": "code",
   "execution_count": 3,
   "metadata": {},
   "outputs": [],
   "source": [
    "def load_data():\n",
    "    train_x = pd.read_csv(train_x_file,low_memory = False,)\n",
    "    train_y = pd.read_csv(train_target_file,low_memory = False)\n",
    "    test_x = pd.read_csv(test_x_file,low_memory = False)\n",
    "    return train_x,train_y,test_x"
   ]
  },
  {
   "cell_type": "code",
   "execution_count": 4,
   "metadata": {},
   "outputs": [
    {
     "data": {
      "text/html": [
       "<div>\n",
       "<style scoped>\n",
       "    .dataframe tbody tr th:only-of-type {\n",
       "        vertical-align: middle;\n",
       "    }\n",
       "\n",
       "    .dataframe tbody tr th {\n",
       "        vertical-align: top;\n",
       "    }\n",
       "\n",
       "    .dataframe thead th {\n",
       "        text-align: right;\n",
       "    }\n",
       "</style>\n",
       "<table border=\"1\" class=\"dataframe\">\n",
       "  <thead>\n",
       "    <tr style=\"text-align: right;\">\n",
       "      <th></th>\n",
       "      <th>id</th>\n",
       "      <th>certId</th>\n",
       "      <th>loanProduct</th>\n",
       "      <th>gender</th>\n",
       "      <th>age</th>\n",
       "      <th>dist</th>\n",
       "      <th>edu</th>\n",
       "      <th>job</th>\n",
       "      <th>lmt</th>\n",
       "      <th>basicLevel</th>\n",
       "      <th>...</th>\n",
       "      <th>linkRela</th>\n",
       "      <th>setupHour</th>\n",
       "      <th>weekday</th>\n",
       "      <th>ncloseCreditCard</th>\n",
       "      <th>unpayIndvLoan</th>\n",
       "      <th>unpayOtherLoan</th>\n",
       "      <th>unpayNormalLoan</th>\n",
       "      <th>5yearBadloan</th>\n",
       "      <th>isNew</th>\n",
       "      <th>target</th>\n",
       "    </tr>\n",
       "  </thead>\n",
       "  <tbody>\n",
       "    <tr>\n",
       "      <th>0</th>\n",
       "      <td>1</td>\n",
       "      <td>640582</td>\n",
       "      <td>1</td>\n",
       "      <td>2</td>\n",
       "      <td>27</td>\n",
       "      <td>640500</td>\n",
       "      <td>0</td>\n",
       "      <td>8</td>\n",
       "      <td>5.963</td>\n",
       "      <td>3</td>\n",
       "      <td>...</td>\n",
       "      <td>0</td>\n",
       "      <td>9</td>\n",
       "      <td>6</td>\n",
       "      <td>1</td>\n",
       "      <td>0</td>\n",
       "      <td>1</td>\n",
       "      <td>0</td>\n",
       "      <td>0</td>\n",
       "      <td>1</td>\n",
       "      <td>0</td>\n",
       "    </tr>\n",
       "    <tr>\n",
       "      <th>1</th>\n",
       "      <td>2</td>\n",
       "      <td>621023</td>\n",
       "      <td>2</td>\n",
       "      <td>2</td>\n",
       "      <td>25</td>\n",
       "      <td>640600</td>\n",
       "      <td>0</td>\n",
       "      <td>3</td>\n",
       "      <td>6.467</td>\n",
       "      <td>3</td>\n",
       "      <td>...</td>\n",
       "      <td>11</td>\n",
       "      <td>6</td>\n",
       "      <td>5</td>\n",
       "      <td>1</td>\n",
       "      <td>0</td>\n",
       "      <td>1</td>\n",
       "      <td>0</td>\n",
       "      <td>0</td>\n",
       "      <td>1</td>\n",
       "      <td>0</td>\n",
       "    </tr>\n",
       "    <tr>\n",
       "      <th>2</th>\n",
       "      <td>3</td>\n",
       "      <td>641283</td>\n",
       "      <td>1</td>\n",
       "      <td>2</td>\n",
       "      <td>37</td>\n",
       "      <td>641200</td>\n",
       "      <td>70</td>\n",
       "      <td>5</td>\n",
       "      <td>0.596</td>\n",
       "      <td>1</td>\n",
       "      <td>...</td>\n",
       "      <td>0</td>\n",
       "      <td>1</td>\n",
       "      <td>6</td>\n",
       "      <td>0</td>\n",
       "      <td>0</td>\n",
       "      <td>0</td>\n",
       "      <td>0</td>\n",
       "      <td>0</td>\n",
       "      <td>1</td>\n",
       "      <td>0</td>\n",
       "    </tr>\n",
       "    <tr>\n",
       "      <th>3</th>\n",
       "      <td>4</td>\n",
       "      <td>340821</td>\n",
       "      <td>3</td>\n",
       "      <td>2</td>\n",
       "      <td>29</td>\n",
       "      <td>340821</td>\n",
       "      <td>0</td>\n",
       "      <td>4</td>\n",
       "      <td>6.300</td>\n",
       "      <td>3</td>\n",
       "      <td>...</td>\n",
       "      <td>-999</td>\n",
       "      <td>13</td>\n",
       "      <td>6</td>\n",
       "      <td>1</td>\n",
       "      <td>0</td>\n",
       "      <td>1</td>\n",
       "      <td>0</td>\n",
       "      <td>0</td>\n",
       "      <td>1</td>\n",
       "      <td>0</td>\n",
       "    </tr>\n",
       "    <tr>\n",
       "      <th>4</th>\n",
       "      <td>5</td>\n",
       "      <td>732628</td>\n",
       "      <td>2</td>\n",
       "      <td>2</td>\n",
       "      <td>22</td>\n",
       "      <td>732628</td>\n",
       "      <td>0</td>\n",
       "      <td>2</td>\n",
       "      <td>6.700</td>\n",
       "      <td>2</td>\n",
       "      <td>...</td>\n",
       "      <td>11</td>\n",
       "      <td>8</td>\n",
       "      <td>3</td>\n",
       "      <td>1</td>\n",
       "      <td>0</td>\n",
       "      <td>1</td>\n",
       "      <td>0</td>\n",
       "      <td>0</td>\n",
       "      <td>1</td>\n",
       "      <td>0</td>\n",
       "    </tr>\n",
       "  </tbody>\n",
       "</table>\n",
       "<p>5 rows × 105 columns</p>\n",
       "</div>"
      ],
      "text/plain": [
       "   id  certId  loanProduct  gender  age    dist  edu  job    lmt  basicLevel  \\\n",
       "0   1  640582            1       2   27  640500    0    8  5.963           3   \n",
       "1   2  621023            2       2   25  640600    0    3  6.467           3   \n",
       "2   3  641283            1       2   37  641200   70    5  0.596           1   \n",
       "3   4  340821            3       2   29  340821    0    4  6.300           3   \n",
       "4   5  732628            2       2   22  732628    0    2  6.700           2   \n",
       "\n",
       "   ...  linkRela  setupHour  weekday  ncloseCreditCard  unpayIndvLoan  \\\n",
       "0  ...         0          9        6                 1              0   \n",
       "1  ...        11          6        5                 1              0   \n",
       "2  ...         0          1        6                 0              0   \n",
       "3  ...      -999         13        6                 1              0   \n",
       "4  ...        11          8        3                 1              0   \n",
       "\n",
       "   unpayOtherLoan  unpayNormalLoan  5yearBadloan  isNew  target  \n",
       "0               1                0             0      1       0  \n",
       "1               1                0             0      1       0  \n",
       "2               0                0             0      1       0  \n",
       "3               1                0             0      1       0  \n",
       "4               1                0             0      1       0  \n",
       "\n",
       "[5 rows x 105 columns]"
      ]
     },
     "execution_count": 4,
     "metadata": {},
     "output_type": "execute_result"
    }
   ],
   "source": [
    "train_x,train_y,test_x = load_data()\n",
    "data = train_x.merge(train_y, on='id', how='left')\n",
    "data.head()"
   ]
  },
  {
   "cell_type": "code",
   "execution_count": 5,
   "metadata": {},
   "outputs": [
    {
     "name": "stdout",
     "output_type": "stream",
     "text": [
      "<class 'pandas.core.frame.DataFrame'>\n",
      "RangeIndex: 132029 entries, 0 to 132028\n",
      "Columns: 104 entries, id to isNew\n",
      "dtypes: float64(3), int64(101)\n",
      "memory usage: 104.8 MB\n"
     ]
    }
   ],
   "source": [
    "train_x.info()"
   ]
  },
  {
   "cell_type": "code",
   "execution_count": 6,
   "metadata": {},
   "outputs": [
    {
     "data": {
      "text/plain": [
       "Series([], dtype: float64)"
      ]
     },
     "execution_count": 6,
     "metadata": {},
     "output_type": "execute_result"
    }
   ],
   "source": [
    "train_x.select_dtypes('object').apply(pd.Series.nunique, axis = 0)"
   ]
  },
  {
   "cell_type": "code",
   "execution_count": 7,
   "metadata": {},
   "outputs": [
    {
     "name": "stdout",
     "output_type": "stream",
     "text": [
      "<class 'pandas.core.frame.DataFrame'>\n",
      "RangeIndex: 132029 entries, 0 to 132028\n",
      "Data columns (total 2 columns):\n",
      "id        132029 non-null int64\n",
      "target    132029 non-null int64\n",
      "dtypes: int64(2)\n",
      "memory usage: 2.0 MB\n"
     ]
    }
   ],
   "source": [
    "train_y.info()"
   ]
  },
  {
   "cell_type": "code",
   "execution_count": 8,
   "metadata": {},
   "outputs": [
    {
     "name": "stdout",
     "output_type": "stream",
     "text": [
      "<class 'pandas.core.frame.DataFrame'>\n",
      "RangeIndex: 23561 entries, 0 to 23560\n",
      "Columns: 104 entries, id to isNew\n",
      "dtypes: float64(2), int64(102)\n",
      "memory usage: 18.7 MB\n"
     ]
    }
   ],
   "source": [
    "test_x.info()"
   ]
  },
  {
   "cell_type": "markdown",
   "metadata": {},
   "source": [
    "## EDA"
   ]
  },
  {
   "cell_type": "code",
   "execution_count": 9,
   "metadata": {},
   "outputs": [
    {
     "data": {
      "text/plain": [
       "<matplotlib.axes._subplots.AxesSubplot at 0x1d23dc6f0f0>"
      ]
     },
     "execution_count": 9,
     "metadata": {},
     "output_type": "execute_result"
    },
    {
     "data": {
      "image/png": "[encoded data removed]",
      "text/plain": [
       "<Figure size 432x288 with 1 Axes>"
      ]
     },
     "metadata": {
      "needs_background": "light"
     },
     "output_type": "display_data"
    }
   ],
   "source": [
    "train_y.target.value_counts().plot(kind='bar')"
   ]
  },
  {
   "cell_type": "markdown",
   "metadata": {},
   "source": [
    ">**分析：** 可以看出样本中 **target** 变量存在严重的数据不平衡。需要使用技术手段进行样本平衡，例如：上采样、下采样、SMOTE等。\n",
    "\n",
    "> - **过采样（oversampling）和欠采样（undersampling）** \n",
    "> 最简单的方法只需要对处理步骤进行一点点修改，并简单地涉及到调整样本集直到它们达到平衡。过采样会随机复制少数样例以增大它们的规模。欠采样则随机地少采样主要的类。一些数据科学家（天真地）认为过采样更好，因为其会得到更多的数据，而欠采样会将数据丢掉。但请记住复制数据不是没有后果的——因为其会得到复制出来的数据，它就会使变量的方差表面上比实际上更小。而过采样的好处是它也会复制误差的数量：如果一个分类器在原始的少数类数据集上做出了一个错误的负面错误，那么将该数据集复制五次之后，该分类器就会在新的数据集上出现六个错误。相对地，欠采样会让独立变量（independent variable）的方差看起来比其实际的方差更高。\n",
    "\n",
    "> - **SMOTE（Synthetic Minority Oversampling TEchnique：合成少数类过采样技术）**\n",
    "> 其思想是通过在已有的样本间插值来创造新的少数类样本。具体参考：https://www.cnblogs.com/zhizhan/p/5821542.html\n"
   ]
  },
  {
   "cell_type": "code",
   "execution_count": 10,
   "metadata": {},
   "outputs": [
    {
     "data": {
      "text/plain": [
       "(132029, 105)"
      ]
     },
     "execution_count": 10,
     "metadata": {},
     "output_type": "execute_result"
    }
   ],
   "source": [
    "data.shape"
   ]
  },
  {
   "cell_type": "code",
   "execution_count": 11,
   "metadata": {},
   "outputs": [
    {
     "data": {
      "text/plain": [
       "Index(['id', 'certId', 'loanProduct', 'gender', 'age', 'dist', 'edu', 'job',\n",
       "       'lmt', 'basicLevel',\n",
       "       ...\n",
       "       'highestEdu', 'linkRela', 'setupHour', 'weekday', 'ncloseCreditCard',\n",
       "       'unpayIndvLoan', 'unpayOtherLoan', 'unpayNormalLoan', '5yearBadloan',\n",
       "       'isNew'],\n",
       "      dtype='object', length=104)"
      ]
     },
     "execution_count": 11,
     "metadata": {},
     "output_type": "execute_result"
    }
   ],
   "source": [
    "train_x.columns"
   ]
  },
  {
   "cell_type": "code",
   "execution_count": 12,
   "metadata": {},
   "outputs": [
    {
     "data": {
      "text/plain": [
       "<matplotlib.axes._subplots.AxesSubplot at 0x1d23dd23160>"
      ]
     },
     "execution_count": 12,
     "metadata": {},
     "output_type": "execute_result"
    },
    {
     "data": {
      "image/png": "[encoded data removed]",
      "text/plain": [
       "<Figure size 720x432 with 1 Axes>"
      ]
     },
     "metadata": {
      "needs_background": "light"
     },
     "output_type": "display_data"
    }
   ],
   "source": [
    "plt.xlabel(\"Age of the client\",fontsize=18)\n",
    "plt.ylabel(\"Count\",fontsize=18)\n",
    "plt.title(\"Age histogram of the Age\",fontsize=22)\n",
    "train_x['age'].hist(bins=30,color='darkred',alpha=0.7,figsize=(10,6))"
   ]
  },
  {
   "cell_type": "code",
   "execution_count": 13,
   "metadata": {},
   "outputs": [
    {
     "data": {
      "text/plain": [
       "<matplotlib.axes._subplots.AxesSubplot at 0x1d23dd12550>"
      ]
     },
     "execution_count": 13,
     "metadata": {},
     "output_type": "execute_result"
    },
    {
     "data": {
      "image/png": "[encoded data removed]",
      "text/plain": [
       "<Figure size 576x432 with 1 Axes>"
      ]
     },
     "metadata": {
      "needs_background": "light"
     },
     "output_type": "display_data"
    }
   ],
   "source": [
    "plt.figure(figsize=(8, 6))\n",
    "plt.xlabel(\"target\",fontsize=18)\n",
    "plt.ylabel(\"Age\",fontsize=18)\n",
    "sns.boxplot(x='target',y='age',data=data,palette='winter')"
   ]
  },
  {
   "cell_type": "markdown",
   "metadata": {},
   "source": [
    "> 可以看出**年龄（age）**对目标目标变量区分度不高，年龄因素可能不是产生预期的主要原因。"
   ]
  },
  {
   "cell_type": "code",
   "execution_count": 32,
   "metadata": {},
   "outputs": [
    {
     "data": {
      "text/plain": [
       " 0      128766\n",
       " 40        873\n",
       " 30        741\n",
       " 20        312\n",
       " 70        272\n",
       " 60         51\n",
       " 10         34\n",
       "-999        18\n",
       " 47          3\n",
       "Name: edu, dtype: int64"
      ]
     },
     "execution_count": 32,
     "metadata": {},
     "output_type": "execute_result"
    }
   ],
   "source": [
    "data[(data.target == 0)].edu.value_counts()"
   ]
  },
  {
   "cell_type": "code",
   "execution_count": 24,
   "metadata": {},
   "outputs": [
    {
     "data": {
      "text/plain": [
       "0     956\n",
       "30      2\n",
       "70      1\n",
       "Name: edu, dtype: int64"
      ]
     },
     "execution_count": 24,
     "metadata": {},
     "output_type": "execute_result"
    }
   ],
   "source": [
    "data[(data.target == 1)].edu.value_counts()"
   ]
  },
  {
   "cell_type": "code",
   "execution_count": 14,
   "metadata": {},
   "outputs": [
    {
     "data": {
      "text/plain": [
       "<matplotlib.axes._subplots.AxesSubplot at 0x1d23df7aa58>"
      ]
     },
     "execution_count": 14,
     "metadata": {},
     "output_type": "execute_result"
    },
    {
     "data": {
      "image/png": "[encoded data removed]",
      "text/plain": [
       "<Figure size 576x432 with 1 Axes>"
      ]
     },
     "metadata": {
      "needs_background": "light"
     },
     "output_type": "display_data"
    }
   ],
   "source": [
    "plt.figure(figsize=(8, 6))\n",
    "plt.xlabel(\"target\",fontsize=18)\n",
    "plt.ylabel(\"lmt\",fontsize=18)\n",
    "temp = data[['lmt','target']]\n",
    "temp['lmt'] = np.log1p(temp['lmt'])\n",
    "sns.boxplot(x='target',y='lmt',data=temp,palette='winter')"
   ]
  },
  {
   "cell_type": "markdown",
   "metadata": {},
   "source": [
    "> \n",
    "> （1:违约，0：正常）可以看出产生违约的贷款授信额度总体要小于正常贷款的授信金额，也就是说预授信金额（lmt）越高，违约的可能性越低，说明这是个很好的特征，具有较高的区分度。"
   ]
  },
  {
   "cell_type": "code",
   "execution_count": 15,
   "metadata": {},
   "outputs": [
    {
     "data": {
      "image/png": "[encoded data removed]",
      "text/plain": [
       "<Figure size 1296x576 with 1 Axes>"
      ]
     },
     "metadata": {},
     "output_type": "display_data"
    }
   ],
   "source": [
    "#正常贷款\n",
    "sns.set_style('whitegrid')\n",
    "#subplot(numRows, numCols, plotNum)\n",
    "plt.figure()\n",
    "\n",
    "data['job'].fillna(value=0,inplace=True)\n",
    "temp = data[(data.target == 0)]['job'].value_counts().sort_values(ascending=True).plot(kind='barh',figsize=(18,8))\n",
    "\n",
    "plt.title('Number of loans distributed by job type',fontsize=20)\n",
    "plt.xlabel('Number of loans',fontsize=15)\n",
    "plt.ylabel('Job Type',fontsize=15);"
   ]
  },
  {
   "cell_type": "code",
   "execution_count": 16,
   "metadata": {},
   "outputs": [
    {
     "data": {
      "image/png": "[encoded data removed]",
      "text/plain": [
       "<Figure size 1296x576 with 1 Axes>"
      ]
     },
     "metadata": {},
     "output_type": "display_data"
    }
   ],
   "source": [
    "#违约贷款\n",
    "sns.set_style('whitegrid')\n",
    "data['job'].fillna(value=0,inplace=True)\n",
    "data[(data.target == 1)]['job'].value_counts().sort_values().plot(kind='barh',figsize=(18,8))\n",
    "plt.title('Number of loans distributed by job type',fontsize=20)\n",
    "plt.xlabel('Number of loans',fontsize=15)\n",
    "plt.ylabel('Job Type',fontsize=15);"
   ]
  },
  {
   "cell_type": "code",
   "execution_count": 17,
   "metadata": {},
   "outputs": [
    {
     "data": {
      "image/png": "[encoded data removed]",
      "text/plain": [
       "<Figure size 1296x720 with 1 Axes>"
      ]
     },
     "metadata": {},
     "output_type": "display_data"
    }
   ],
   "source": [
    "#违约贷款\n",
    "fig = plt.figure(figsize=(18,10))\n",
    "data[data['target']== 1].groupby('dist')['target'].count().sort_values(ascending=False).head(30).plot(kind='barh')\n",
    "plt.ylabel('State',fontsize=15)\n",
    "plt.xlabel('Number of loans',fontsize=15)\n",
    "plt.title('Number of defaulted loans per state',fontsize=20);"
   ]
  },
  {
   "cell_type": "code",
   "execution_count": 18,
   "metadata": {},
   "outputs": [
    {
     "data": {
      "image/png": "[encoded data removed]",
      "text/plain": [
       "<Figure size 1296x720 with 1 Axes>"
      ]
     },
     "metadata": {},
     "output_type": "display_data"
    }
   ],
   "source": [
    "# 正常贷款\n",
    "fig = plt.figure(figsize=(18,10))\n",
    "data[data['target']== 0].groupby('dist')['target'].count().sort_values(ascending=False).head(30).plot(kind='barh')\n",
    "plt.ylabel('State',fontsize=15)\n",
    "plt.xlabel('Number of loans',fontsize=15)\n",
    "plt.title('Number of Non-defaulted loans per state',fontsize=20);"
   ]
  },
  {
   "cell_type": "markdown",
   "metadata": {},
   "source": [
    "可以看出，640300、640100等的地区中，违约和正常的贷款均是最多的，所以地区编码不能很好地代码客户质量。"
   ]
  },
  {
   "cell_type": "markdown",
   "metadata": {},
   "source": [
    "## 数据预处理"
   ]
  },
  {
   "cell_type": "markdown",
   "metadata": {},
   "source": [
    "### 缺失值"
   ]
  },
  {
   "cell_type": "code",
   "execution_count": 19,
   "metadata": {},
   "outputs": [],
   "source": [
    "#Reffer From:https://www.kaggle.com/kernels/scriptcontent/5167439/\n",
    "def null_values(df):\n",
    "        mis_val = df.isnull().sum()\n",
    "        mis_val_percent = 100 * df.isnull().sum() / len(df)\n",
    "        mis_val_table = pd.concat([mis_val, mis_val_percent], axis=1)\n",
    "        mis_val_table_ren_columns = mis_val_table.rename(\n",
    "        columns = {0 : 'Missing Values', 1 : '% of Total Values'})\n",
    "        mis_val_table_ren_columns = mis_val_table_ren_columns[\n",
    "            mis_val_table_ren_columns.iloc[:,1] != 0].sort_values(\n",
    "        '% of Total Values', ascending=False).round(1)\n",
    "        print (\"Dataframe has \" + str(df.shape[1]) + \" columns.\\n\"      \n",
    "            \"There are \" + str(mis_val_table_ren_columns.shape[0]) +\n",
    "              \" columns that have missing values.\")\n",
    "        return mis_val_table_ren_columns"
   ]
  },
  {
   "cell_type": "code",
   "execution_count": 20,
   "metadata": {},
   "outputs": [
    {
     "name": "stdout",
     "output_type": "stream",
     "text": [
      "Dataframe has 104 columns.\n",
      "There are 1 columns that have missing values.\n"
     ]
    },
    {
     "data": {
      "text/html": [
       "<div>\n",
       "<style scoped>\n",
       "    .dataframe tbody tr th:only-of-type {\n",
       "        vertical-align: middle;\n",
       "    }\n",
       "\n",
       "    .dataframe tbody tr th {\n",
       "        vertical-align: top;\n",
       "    }\n",
       "\n",
       "    .dataframe thead th {\n",
       "        text-align: right;\n",
       "    }\n",
       "</style>\n",
       "<table border=\"1\" class=\"dataframe\">\n",
       "  <thead>\n",
       "    <tr style=\"text-align: right;\">\n",
       "      <th></th>\n",
       "      <th>Missing Values</th>\n",
       "      <th>% of Total Values</th>\n",
       "    </tr>\n",
       "  </thead>\n",
       "  <tbody>\n",
       "    <tr>\n",
       "      <th>bankCard</th>\n",
       "      <td>20152</td>\n",
       "      <td>15.3</td>\n",
       "    </tr>\n",
       "  </tbody>\n",
       "</table>\n",
       "</div>"
      ],
      "text/plain": [
       "          Missing Values  % of Total Values\n",
       "bankCard           20152               15.3"
      ]
     },
     "execution_count": 20,
     "metadata": {},
     "output_type": "execute_result"
    }
   ],
   "source": [
    "# Missing values statistics\n",
    "miss_values = null_values(train_x)\n",
    "miss_values.head(20)"
   ]
  },
  {
   "cell_type": "markdown",
   "metadata": {},
   "source": [
    "> 可以看出，其他通过业务处理过的缺失值除外，仅有bankCard变量存在缺失值（NaN）。"
   ]
  },
  {
   "cell_type": "markdown",
   "metadata": {},
   "source": [
    "### 特征构造"
   ]
  },
  {
   "cell_type": "code",
   "execution_count": 21,
   "metadata": {},
   "outputs": [
    {
     "name": "stdout",
     "output_type": "stream",
     "text": [
      "Index(['id', 'certId', 'loanProduct', 'gender', 'age', 'dist', 'edu', 'job',\n",
      "       'lmt', 'basicLevel', 'x_0', 'x_1', 'x_2', 'x_3', 'x_4', 'x_5', 'x_6',\n",
      "       'x_7', 'x_8', 'x_9'],\n",
      "      dtype='object')\n",
      "Index(['x_10', 'x_11', 'x_12', 'x_13', 'x_14', 'x_15', 'x_16', 'x_17', 'x_18',\n",
      "       'x_19', 'x_20', 'x_21', 'x_22', 'x_23', 'x_24', 'x_25', 'x_26', 'x_27',\n",
      "       'x_28', 'x_29'],\n",
      "      dtype='object')\n",
      "Index(['x_30', 'x_31', 'x_32', 'x_33', 'x_34', 'x_35', 'x_36', 'x_37', 'x_38',\n",
      "       'x_39', 'x_40', 'x_41', 'x_42', 'x_43', 'x_44', 'x_45', 'x_46', 'x_47',\n",
      "       'x_48', 'x_49'],\n",
      "      dtype='object')\n",
      "Index(['x_50', 'x_51', 'x_52', 'x_53', 'x_54', 'x_55', 'x_56', 'x_57', 'x_58',\n",
      "       'x_59', 'x_60', 'x_61', 'x_62', 'x_63', 'x_64', 'x_65', 'x_66', 'x_67',\n",
      "       'x_68', 'x_69'],\n",
      "      dtype='object')\n",
      "Index(['x_70', 'x_71', 'x_72', 'x_73', 'x_74', 'x_75', 'x_76', 'x_77', 'x_78',\n",
      "       'certValidBegin', 'certValidStop', 'bankCard', 'ethnic', 'residentAddr',\n",
      "       'highestEdu', 'linkRela', 'setupHour', 'weekday', 'ncloseCreditCard',\n",
      "       'unpayIndvLoan', 'unpayOtherLoan', 'unpayNormalLoan', '5yearBadloan',\n",
      "       'isNew'],\n",
      "      dtype='object')\n"
     ]
    }
   ],
   "source": [
    "print(train_x.columns[:20])\n",
    "print(train_x.columns[20:40])\n",
    "print(train_x.columns[40:60])\n",
    "print(train_x.columns[60:80])\n",
    "print(train_x.columns[80:])"
   ]
  },
  {
   "cell_type": "code",
   "execution_count": 88,
   "metadata": {},
   "outputs": [],
   "source": [
    "#定义特征处理函数\n",
    "from sklearn.preprocessing import StandardScaler\n",
    "## import labelencoder\n",
    "from sklearn.preprocessing import LabelEncoder\n",
    "from imblearn.over_sampling import SMOTE\n",
    "\n",
    "#refer from:https://www.kaggle.com/samratp/lightgbm-xgboost-catboost\n",
    "def drop_sparse(train, test):\n",
    "    flist = [x for x in train.columns if not x in ['ID','target']]\n",
    "    for f in flist:\n",
    "        if len(np.unique(train[f]))<2:\n",
    "            train.drop(f, axis=1, inplace=True)\n",
    "            test.drop(f, axis=1, inplace=True)\n",
    "    return train, test\n",
    "\n",
    "\n",
    "def transform_feature(df,shrink_x=False,train=True):\n",
    "    temp = df.copy(deep=True)\n",
    "    \n",
    "    if shrink_x:\n",
    "        #合并30天内预期\n",
    "        temp['x_0_30'] = temp['x_0']\n",
    "        temp.drop(['x_0'],axis=1,inplace=True)\n",
    "        for i in range(1,31):\n",
    "            loc='x_'+str(i)\n",
    "            temp['x_0_30'] = temp['x_0_30'] + temp[loc]\n",
    "            temp.drop([loc],axis=1,inplace=True)    \n",
    "        #print(loc)\n",
    "        \n",
    "        temp['x_31_60'] = temp['x_31']\n",
    "        temp.drop(['x_31'],axis=1,inplace=True)\n",
    "        for i in range(32,61):\n",
    "            loc='x_'+str(i)\n",
    "            temp['x_31_60'] = temp['x_31_60'] + temp[loc]\n",
    "            temp.drop([loc],axis=1,inplace=True)\n",
    "        #print(loc)\n",
    "        \n",
    "        temp['x_60+'] = temp['x_61']\n",
    "        temp.drop(['x_61'],axis=1,inplace=True)\n",
    "        for i in range(62,79):\n",
    "            loc='x_'+str(i)\n",
    "            temp['x_60+'] = temp['x_60+'] + temp[loc]\n",
    "            temp.drop([loc],axis=1,inplace=True)\n",
    "        #print(loc)\n",
    "            \n",
    "    #居住地和申请地城市是否一致:\n",
    "    #0:一致   1：不一致\n",
    "    temp['certId'] = temp.certId.astype(str)\n",
    "    temp['dist'] = temp.dist.astype(str)\n",
    "    temp['residentAddr'] = temp.residentAddr.astype(str)\n",
    "\n",
    "    temp['is_moving'] = temp.apply(lambda x:0 if  x['residentAddr'][0:4] == x['dist'][0:4] else 1, axis=1)\n",
    "    temp['dist'] = temp['dist'].apply(lambda x: x[0:4])\n",
    "    #temp.drop(['certId','residentAddr'],axis=1,inplace=True)\n",
    "    \n",
    "    #卡号信息处理，获取银行信息\n",
    "    #相当于完成一次简单的聚类\n",
    "    from cardbin import BANKBIN\n",
    "    def getbankinfo(cardbin):\n",
    "        key = BANKBIN.get(cardbin[:6]) if BANKBIN.get(\n",
    "            cardbin[:7]) else BANKBIN.get(cardbin[:6], None)\n",
    "        if key:\n",
    "            key = key.split('|')\n",
    "            return key[0]\n",
    "        return  '其他银行'\n",
    "    \n",
    "    temp.fillna(-999, inplace=True)\n",
    "    temp['bankCard'] = temp['bankCard'].astype(int)\n",
    "    temp['bankCard'] = temp['bankCard'].astype(str)\n",
    "    temp['cardbin'] = temp['bankCard'].apply(lambda x: x[0:6])\n",
    "    temp['bankname'] = temp.cardbin.apply(lambda x: getbankinfo(x))\n",
    "    bankname = pd.get_dummies(temp['bankname'],prefix=\"bankname\",drop_first=True)\n",
    "    temp.drop(['bankCard','cardbin','bankname','bankCard'],axis=1,inplace=True)\n",
    "    temp = pd.concat([temp,bankname],axis=1)\n",
    "\n",
    "    #将年龄进行分箱处理    \n",
    "    bins = [-np.inf, 18, 30, 35,40,50,60, np.inf]\n",
    "    labels = ['age_18-', 'age_18_30', 'age_30_35','age_35_40', 'age_40_50', 'age50_60', 'age_60+']\n",
    "    temp['age_info'] = pd.cut(temp[\"age\"], bins, labels = labels).astype('object')\n",
    "    ## instantiate labelencoder object\n",
    "    le = LabelEncoder()\n",
    "    ## apply le on categorical feature columns\n",
    "    temp['age_info'] = temp[['age_info']].apply(lambda col: le.fit_transform(col))\n",
    "\n",
    "    #Convert categorial feature like 'gender' and 'edu' to dummy variables\n",
    "    job = pd.get_dummies(temp['job'],prefix=\"job\",drop_first=True)\n",
    "    loanProduct = pd.get_dummies(temp['loanProduct'],prefix=\"loanProduct\",drop_first=True)\n",
    "    gender = pd.get_dummies(temp['gender'],prefix=\"gender\",drop_first=True)\n",
    "    edu = pd.get_dummies(temp['edu'],prefix=\"edu\",drop_first=True)\n",
    "    highestEdu = pd.get_dummies(temp['highestEdu'],prefix=\"highestEdu\",drop_first=True)\n",
    "    ethnic = pd.get_dummies(temp['ethnic'],prefix=\"ethnic\",drop_first=True)\n",
    "    weekday = pd.get_dummies(temp['weekday'],prefix=\"weekday\",drop_first=True)\n",
    "    dist = pd.get_dummies(temp['dist'],prefix=\"dist\",drop_first=True)\n",
    "    \n",
    "    temp.drop(['job','loanProduct','gender','edu','highestEdu','ethnic','weekday','dist','age','certId','residentAddr'],axis=1,inplace=True)\n",
    "    temp = pd.concat([temp,job,loanProduct,gender,edu,highestEdu,ethnic,weekday,dist],axis=1)\n",
    "    \n",
    "    #TODO:删除暂时不处理的列\n",
    "    temp.drop(['id','certValidBegin','certValidStop','isNew'],axis=1,inplace=True)\n",
    "    \n",
    "    #print(\"feature:\")\n",
    "    #print(temp.columns[:21].values)\n",
    "    #print(temp.columns[21:].values)\n",
    "   \n",
    "    #temp.fillna(0,inplace=True)\n",
    "    #temp.replace(np.NaN,0,inplace=True)\n",
    "    \n",
    "    #return temp\n",
    "    if train:\n",
    "        features=temp.columns.tolist()\n",
    "        features.remove('target')\n",
    "    \n",
    "        X = temp[features]\n",
    "        y = temp['target']\n",
    "        \n",
    "        sc = StandardScaler()\n",
    "        X_train = sc.fit_transform(X)\n",
    "        \n",
    "        sm = SMOTE(random_state=12, ratio = 1.0)\n",
    "        X_r, y_r = sm.fit_sample(X, y)\n",
    "        \n",
    "        X = pd.DataFrame(X_r,columns=features)\n",
    "        y = pd.DataFrame(y_r, columns=['target'])\n",
    "        print(\"training dataset build finish!\")\n",
    "        return X, y\n",
    "    else:\n",
    "        features=temp.columns.tolist()\n",
    "        X = temp[features]\n",
    "        print(\"test dataset build finish!\")\n",
    "        return X"
   ]
  },
  {
   "cell_type": "code",
   "execution_count": 84,
   "metadata": {},
   "outputs": [],
   "source": [
    "X,y  = transform_feature(data)"
   ]
  },
  {
   "cell_type": "code",
   "execution_count": 91,
   "metadata": {},
   "outputs": [
    {
     "data": {
      "text/html": [
       "<div>\n",
       "<style scoped>\n",
       "    .dataframe tbody tr th:only-of-type {\n",
       "        vertical-align: middle;\n",
       "    }\n",
       "\n",
       "    .dataframe tbody tr th {\n",
       "        vertical-align: top;\n",
       "    }\n",
       "\n",
       "    .dataframe thead th {\n",
       "        text-align: right;\n",
       "    }\n",
       "</style>\n",
       "<table border=\"1\" class=\"dataframe\">\n",
       "  <thead>\n",
       "    <tr style=\"text-align: right;\">\n",
       "      <th></th>\n",
       "      <th>lmt</th>\n",
       "      <th>basicLevel</th>\n",
       "      <th>x_0</th>\n",
       "      <th>x_1</th>\n",
       "      <th>x_2</th>\n",
       "      <th>x_3</th>\n",
       "      <th>x_4</th>\n",
       "      <th>x_5</th>\n",
       "      <th>x_6</th>\n",
       "      <th>x_7</th>\n",
       "      <th>...</th>\n",
       "      <th>dist_8528</th>\n",
       "      <th>dist_8529</th>\n",
       "      <th>dist_8530</th>\n",
       "      <th>dist_8531</th>\n",
       "      <th>dist_8532</th>\n",
       "      <th>dist_8540</th>\n",
       "      <th>dist_8541</th>\n",
       "      <th>dist_8542</th>\n",
       "      <th>dist_8543</th>\n",
       "      <th>dist_8590</th>\n",
       "    </tr>\n",
       "  </thead>\n",
       "  <tbody>\n",
       "    <tr>\n",
       "      <th>0</th>\n",
       "      <td>5.963</td>\n",
       "      <td>3.0</td>\n",
       "      <td>0.0</td>\n",
       "      <td>0.0</td>\n",
       "      <td>0.0</td>\n",
       "      <td>0.0</td>\n",
       "      <td>0.0</td>\n",
       "      <td>0.0</td>\n",
       "      <td>0.0</td>\n",
       "      <td>0.0</td>\n",
       "      <td>...</td>\n",
       "      <td>0.0</td>\n",
       "      <td>0.0</td>\n",
       "      <td>0.0</td>\n",
       "      <td>0.0</td>\n",
       "      <td>0.0</td>\n",
       "      <td>0.0</td>\n",
       "      <td>0.0</td>\n",
       "      <td>0.0</td>\n",
       "      <td>0.0</td>\n",
       "      <td>0.0</td>\n",
       "    </tr>\n",
       "    <tr>\n",
       "      <th>1</th>\n",
       "      <td>6.467</td>\n",
       "      <td>3.0</td>\n",
       "      <td>0.0</td>\n",
       "      <td>0.0</td>\n",
       "      <td>0.0</td>\n",
       "      <td>0.0</td>\n",
       "      <td>0.0</td>\n",
       "      <td>0.0</td>\n",
       "      <td>0.0</td>\n",
       "      <td>0.0</td>\n",
       "      <td>...</td>\n",
       "      <td>0.0</td>\n",
       "      <td>0.0</td>\n",
       "      <td>0.0</td>\n",
       "      <td>0.0</td>\n",
       "      <td>0.0</td>\n",
       "      <td>0.0</td>\n",
       "      <td>0.0</td>\n",
       "      <td>0.0</td>\n",
       "      <td>0.0</td>\n",
       "      <td>0.0</td>\n",
       "    </tr>\n",
       "    <tr>\n",
       "      <th>2</th>\n",
       "      <td>0.596</td>\n",
       "      <td>1.0</td>\n",
       "      <td>0.0</td>\n",
       "      <td>0.0</td>\n",
       "      <td>0.0</td>\n",
       "      <td>0.0</td>\n",
       "      <td>0.0</td>\n",
       "      <td>0.0</td>\n",
       "      <td>0.0</td>\n",
       "      <td>0.0</td>\n",
       "      <td>...</td>\n",
       "      <td>0.0</td>\n",
       "      <td>0.0</td>\n",
       "      <td>0.0</td>\n",
       "      <td>0.0</td>\n",
       "      <td>0.0</td>\n",
       "      <td>0.0</td>\n",
       "      <td>0.0</td>\n",
       "      <td>0.0</td>\n",
       "      <td>0.0</td>\n",
       "      <td>0.0</td>\n",
       "    </tr>\n",
       "    <tr>\n",
       "      <th>3</th>\n",
       "      <td>6.300</td>\n",
       "      <td>3.0</td>\n",
       "      <td>0.0</td>\n",
       "      <td>0.0</td>\n",
       "      <td>0.0</td>\n",
       "      <td>0.0</td>\n",
       "      <td>0.0</td>\n",
       "      <td>0.0</td>\n",
       "      <td>0.0</td>\n",
       "      <td>0.0</td>\n",
       "      <td>...</td>\n",
       "      <td>0.0</td>\n",
       "      <td>0.0</td>\n",
       "      <td>0.0</td>\n",
       "      <td>0.0</td>\n",
       "      <td>0.0</td>\n",
       "      <td>0.0</td>\n",
       "      <td>0.0</td>\n",
       "      <td>0.0</td>\n",
       "      <td>0.0</td>\n",
       "      <td>0.0</td>\n",
       "    </tr>\n",
       "    <tr>\n",
       "      <th>4</th>\n",
       "      <td>6.700</td>\n",
       "      <td>2.0</td>\n",
       "      <td>0.0</td>\n",
       "      <td>0.0</td>\n",
       "      <td>0.0</td>\n",
       "      <td>0.0</td>\n",
       "      <td>0.0</td>\n",
       "      <td>0.0</td>\n",
       "      <td>0.0</td>\n",
       "      <td>0.0</td>\n",
       "      <td>...</td>\n",
       "      <td>0.0</td>\n",
       "      <td>0.0</td>\n",
       "      <td>0.0</td>\n",
       "      <td>0.0</td>\n",
       "      <td>0.0</td>\n",
       "      <td>0.0</td>\n",
       "      <td>0.0</td>\n",
       "      <td>0.0</td>\n",
       "      <td>0.0</td>\n",
       "      <td>0.0</td>\n",
       "    </tr>\n",
       "  </tbody>\n",
       "</table>\n",
       "<p>5 rows × 674 columns</p>\n",
       "</div>"
      ],
      "text/plain": [
       "     lmt  basicLevel  x_0  x_1  x_2  x_3  x_4  x_5  x_6  x_7  ...  dist_8528  \\\n",
       "0  5.963         3.0  0.0  0.0  0.0  0.0  0.0  0.0  0.0  0.0  ...        0.0   \n",
       "1  6.467         3.0  0.0  0.0  0.0  0.0  0.0  0.0  0.0  0.0  ...        0.0   \n",
       "2  0.596         1.0  0.0  0.0  0.0  0.0  0.0  0.0  0.0  0.0  ...        0.0   \n",
       "3  6.300         3.0  0.0  0.0  0.0  0.0  0.0  0.0  0.0  0.0  ...        0.0   \n",
       "4  6.700         2.0  0.0  0.0  0.0  0.0  0.0  0.0  0.0  0.0  ...        0.0   \n",
       "\n",
       "   dist_8529  dist_8530  dist_8531  dist_8532  dist_8540  dist_8541  \\\n",
       "0        0.0        0.0        0.0        0.0        0.0        0.0   \n",
       "1        0.0        0.0        0.0        0.0        0.0        0.0   \n",
       "2        0.0        0.0        0.0        0.0        0.0        0.0   \n",
       "3        0.0        0.0        0.0        0.0        0.0        0.0   \n",
       "4        0.0        0.0        0.0        0.0        0.0        0.0   \n",
       "\n",
       "   dist_8542  dist_8543  dist_8590  \n",
       "0        0.0        0.0        0.0  \n",
       "1        0.0        0.0        0.0  \n",
       "2        0.0        0.0        0.0  \n",
       "3        0.0        0.0        0.0  \n",
       "4        0.0        0.0        0.0  \n",
       "\n",
       "[5 rows x 674 columns]"
      ]
     },
     "execution_count": 91,
     "metadata": {},
     "output_type": "execute_result"
    }
   ],
   "source": [
    "X.head()"
   ]
  },
  {
   "cell_type": "code",
   "execution_count": 89,
   "metadata": {},
   "outputs": [
    {
     "name": "stdout",
     "output_type": "stream",
     "text": [
      "test dataset build finish!\n"
     ]
    }
   ],
   "source": [
    "X_submission = transform_feature(test_x,train=False)"
   ]
  },
  {
   "cell_type": "code",
   "execution_count": 92,
   "metadata": {},
   "outputs": [
    {
     "data": {
      "text/html": [
       "<div>\n",
       "<style scoped>\n",
       "    .dataframe tbody tr th:only-of-type {\n",
       "        vertical-align: middle;\n",
       "    }\n",
       "\n",
       "    .dataframe tbody tr th {\n",
       "        vertical-align: top;\n",
       "    }\n",
       "\n",
       "    .dataframe thead th {\n",
       "        text-align: right;\n",
       "    }\n",
       "</style>\n",
       "<table border=\"1\" class=\"dataframe\">\n",
       "  <thead>\n",
       "    <tr style=\"text-align: right;\">\n",
       "      <th></th>\n",
       "      <th>lmt</th>\n",
       "      <th>basicLevel</th>\n",
       "      <th>x_0</th>\n",
       "      <th>x_1</th>\n",
       "      <th>x_2</th>\n",
       "      <th>x_3</th>\n",
       "      <th>x_4</th>\n",
       "      <th>x_5</th>\n",
       "      <th>x_6</th>\n",
       "      <th>x_7</th>\n",
       "      <th>...</th>\n",
       "      <th>dist_8523</th>\n",
       "      <th>dist_8527</th>\n",
       "      <th>dist_8528</th>\n",
       "      <th>dist_8529</th>\n",
       "      <th>dist_8531</th>\n",
       "      <th>dist_8540</th>\n",
       "      <th>dist_8541</th>\n",
       "      <th>dist_8542</th>\n",
       "      <th>dist_8543</th>\n",
       "      <th>dist_8590</th>\n",
       "    </tr>\n",
       "  </thead>\n",
       "  <tbody>\n",
       "    <tr>\n",
       "      <th>0</th>\n",
       "      <td>9.963</td>\n",
       "      <td>1</td>\n",
       "      <td>0</td>\n",
       "      <td>0</td>\n",
       "      <td>0</td>\n",
       "      <td>0</td>\n",
       "      <td>0</td>\n",
       "      <td>0</td>\n",
       "      <td>0</td>\n",
       "      <td>0</td>\n",
       "      <td>...</td>\n",
       "      <td>0</td>\n",
       "      <td>0</td>\n",
       "      <td>0</td>\n",
       "      <td>0</td>\n",
       "      <td>0</td>\n",
       "      <td>0</td>\n",
       "      <td>0</td>\n",
       "      <td>0</td>\n",
       "      <td>0</td>\n",
       "      <td>0</td>\n",
       "    </tr>\n",
       "    <tr>\n",
       "      <th>1</th>\n",
       "      <td>0.730</td>\n",
       "      <td>1</td>\n",
       "      <td>0</td>\n",
       "      <td>0</td>\n",
       "      <td>0</td>\n",
       "      <td>0</td>\n",
       "      <td>0</td>\n",
       "      <td>0</td>\n",
       "      <td>0</td>\n",
       "      <td>0</td>\n",
       "      <td>...</td>\n",
       "      <td>0</td>\n",
       "      <td>0</td>\n",
       "      <td>0</td>\n",
       "      <td>0</td>\n",
       "      <td>0</td>\n",
       "      <td>0</td>\n",
       "      <td>0</td>\n",
       "      <td>0</td>\n",
       "      <td>0</td>\n",
       "      <td>0</td>\n",
       "    </tr>\n",
       "    <tr>\n",
       "      <th>2</th>\n",
       "      <td>5.768</td>\n",
       "      <td>1</td>\n",
       "      <td>0</td>\n",
       "      <td>0</td>\n",
       "      <td>0</td>\n",
       "      <td>0</td>\n",
       "      <td>0</td>\n",
       "      <td>0</td>\n",
       "      <td>0</td>\n",
       "      <td>0</td>\n",
       "      <td>...</td>\n",
       "      <td>0</td>\n",
       "      <td>0</td>\n",
       "      <td>0</td>\n",
       "      <td>0</td>\n",
       "      <td>0</td>\n",
       "      <td>0</td>\n",
       "      <td>0</td>\n",
       "      <td>0</td>\n",
       "      <td>0</td>\n",
       "      <td>0</td>\n",
       "    </tr>\n",
       "    <tr>\n",
       "      <th>3</th>\n",
       "      <td>17.233</td>\n",
       "      <td>1</td>\n",
       "      <td>0</td>\n",
       "      <td>0</td>\n",
       "      <td>0</td>\n",
       "      <td>0</td>\n",
       "      <td>0</td>\n",
       "      <td>0</td>\n",
       "      <td>0</td>\n",
       "      <td>0</td>\n",
       "      <td>...</td>\n",
       "      <td>0</td>\n",
       "      <td>0</td>\n",
       "      <td>0</td>\n",
       "      <td>0</td>\n",
       "      <td>0</td>\n",
       "      <td>0</td>\n",
       "      <td>0</td>\n",
       "      <td>0</td>\n",
       "      <td>0</td>\n",
       "      <td>0</td>\n",
       "    </tr>\n",
       "    <tr>\n",
       "      <th>4</th>\n",
       "      <td>0.463</td>\n",
       "      <td>3</td>\n",
       "      <td>0</td>\n",
       "      <td>0</td>\n",
       "      <td>0</td>\n",
       "      <td>0</td>\n",
       "      <td>0</td>\n",
       "      <td>0</td>\n",
       "      <td>0</td>\n",
       "      <td>0</td>\n",
       "      <td>...</td>\n",
       "      <td>0</td>\n",
       "      <td>0</td>\n",
       "      <td>0</td>\n",
       "      <td>0</td>\n",
       "      <td>0</td>\n",
       "      <td>0</td>\n",
       "      <td>0</td>\n",
       "      <td>0</td>\n",
       "      <td>0</td>\n",
       "      <td>0</td>\n",
       "    </tr>\n",
       "  </tbody>\n",
       "</table>\n",
       "<p>5 rows × 629 columns</p>\n",
       "</div>"
      ],
      "text/plain": [
       "      lmt  basicLevel  x_0  x_1  x_2  x_3  x_4  x_5  x_6  x_7  ...  dist_8523  \\\n",
       "0   9.963           1    0    0    0    0    0    0    0    0  ...          0   \n",
       "1   0.730           1    0    0    0    0    0    0    0    0  ...          0   \n",
       "2   5.768           1    0    0    0    0    0    0    0    0  ...          0   \n",
       "3  17.233           1    0    0    0    0    0    0    0    0  ...          0   \n",
       "4   0.463           3    0    0    0    0    0    0    0    0  ...          0   \n",
       "\n",
       "   dist_8527  dist_8528  dist_8529  dist_8531  dist_8540  dist_8541  \\\n",
       "0          0          0          0          0          0          0   \n",
       "1          0          0          0          0          0          0   \n",
       "2          0          0          0          0          0          0   \n",
       "3          0          0          0          0          0          0   \n",
       "4          0          0          0          0          0          0   \n",
       "\n",
       "   dist_8542  dist_8543  dist_8590  \n",
       "0          0          0          0  \n",
       "1          0          0          0  \n",
       "2          0          0          0  \n",
       "3          0          0          0  \n",
       "4          0          0          0  \n",
       "\n",
       "[5 rows x 629 columns]"
      ]
     },
     "execution_count": 92,
     "metadata": {},
     "output_type": "execute_result"
    }
   ],
   "source": [
    "X_submission.head()"
   ]
  },
  {
   "cell_type": "code",
   "execution_count": 112,
   "metadata": {},
   "outputs": [
    {
     "name": "stdout",
     "output_type": "stream",
     "text": [
      "feature:\n",
      "['lmt' 'basicLevel' 'x_0' 'x_1' 'x_2' 'x_3' 'x_4' 'x_5' 'x_6' 'x_7' 'x_8'\n",
      " 'x_9' 'x_10' 'x_11' 'x_12' 'x_13' 'x_14' 'x_15' 'x_16' 'x_17' 'x_18']\n",
      "['x_19' 'x_20' 'x_21' 'x_22' 'x_23' 'x_24' 'x_25' 'x_26' 'x_27' 'x_28'\n",
      " 'x_29' 'x_30' 'x_31' 'x_32' 'x_33' 'x_34' 'x_35' 'x_36' 'x_37' 'x_38'\n",
      " 'x_39' 'x_40' 'x_41' 'x_42' 'x_43' 'x_44' 'x_45' 'x_46' 'x_47' 'x_48'\n",
      " 'x_49' 'x_50' 'x_51' 'x_52' 'x_53' 'x_54' 'x_55' 'x_56' 'x_57' 'x_58'\n",
      " 'x_59' 'x_60' 'x_61' 'x_62' 'x_63' 'x_64' 'x_65' 'x_66' 'x_67' 'x_68'\n",
      " 'x_69' 'x_70' 'x_71' 'x_72' 'x_73' 'x_74' 'x_75' 'x_76' 'x_77' 'x_78'\n",
      " 'linkRela' 'setupHour' 'ncloseCreditCard' 'unpayIndvLoan'\n",
      " 'unpayOtherLoan' 'unpayNormalLoan' '5yearBadloan' 'is_moving'\n",
      " 'bankname_中国工商银行' 'bankname_中国建设银行' 'bankname_中国银行' 'bankname_交通银行'\n",
      " 'bankname_光大银行' 'bankname_兴业银行' 'bankname_其他银行' 'bankname_农业银行'\n",
      " 'bankname_华夏银行' 'bankname_工商银行' 'bankname_平安银行' 'bankname_建设银行'\n",
      " 'bankname_招商银行' 'bankname_民生银行' 'bankname_浦东发展银行' 'bankname_邮储银行'\n",
      " 'bankname_邮政储蓄银行' 'age_info' 'job_2' 'job_3' 'job_4' 'job_5' 'job_6'\n",
      " 'job_7' 'job_8' 'job_9' 'job_10' 'job_12' 'job_14' 'loanProduct_2'\n",
      " 'loanProduct_3' 'gender_2' 'edu_0' 'edu_10' 'edu_20' 'edu_30' 'edu_40'\n",
      " 'edu_47' 'edu_60' 'edu_70' 'highestEdu_10' 'highestEdu_20'\n",
      " 'highestEdu_30' 'highestEdu_40' 'highestEdu_60' 'highestEdu_70'\n",
      " 'highestEdu_99' 'ethnic_1' 'ethnic_2' 'ethnic_3' 'ethnic_4' 'ethnic_5'\n",
      " 'ethnic_6' 'ethnic_7' 'ethnic_8' 'ethnic_9' 'ethnic_10' 'ethnic_11'\n",
      " 'ethnic_12' 'ethnic_13' 'ethnic_14' 'ethnic_15' 'ethnic_16' 'ethnic_17'\n",
      " 'ethnic_18' 'ethnic_19' 'ethnic_20' 'ethnic_21' 'ethnic_22' 'ethnic_23'\n",
      " 'ethnic_24' 'ethnic_26' 'ethnic_27' 'ethnic_28' 'ethnic_29' 'ethnic_31'\n",
      " 'ethnic_32' 'ethnic_33' 'ethnic_34' 'ethnic_36' 'ethnic_38' 'ethnic_39'\n",
      " 'ethnic_40' 'weekday_2' 'weekday_3' 'weekday_4' 'weekday_5' 'weekday_6'\n",
      " 'weekday_7' 'dist_3102' 'dist_3201' 'dist_3202' 'dist_3301' 'dist_3302'\n",
      " 'dist_3303' 'dist_3304' 'dist_3305' 'dist_3306' 'dist_3307' 'dist_3308'\n",
      " 'dist_3309' 'dist_3310' 'dist_3311' 'dist_3321' 'dist_3322' 'dist_3323'\n",
      " 'dist_3324' 'dist_3325' 'dist_3326' 'dist_3328' 'dist_3329' 'dist_3330'\n",
      " 'dist_3401' 'dist_3402' 'dist_3403' 'dist_3404' 'dist_3405' 'dist_3406'\n",
      " 'dist_3407' 'dist_3408' 'dist_3409' 'dist_3410' 'dist_3411' 'dist_3422'\n",
      " 'dist_3423' 'dist_3424' 'dist_3426' 'dist_3427' 'dist_3501' 'dist_3502'\n",
      " 'dist_3503' 'dist_3504' 'dist_3505' 'dist_3506' 'dist_3507' 'dist_3508'\n",
      " 'dist_3509' 'dist_3521' 'dist_3522' 'dist_3523' 'dist_3525' 'dist_3526'\n",
      " 'dist_3527' 'dist_3528' 'dist_3529' 'dist_4101' 'dist_4102' 'dist_4103'\n",
      " 'dist_4104' 'dist_4105' 'dist_4106' 'dist_4107' 'dist_4108' 'dist_4109'\n",
      " 'dist_4110' 'dist_4111' 'dist_4112' 'dist_4113' 'dist_4114' 'dist_4201'\n",
      " 'dist_4202' 'dist_4203' 'dist_4204' 'dist_4205' 'dist_4206' 'dist_4207'\n",
      " 'dist_4208' 'dist_4224' 'dist_4301' 'dist_4302' 'dist_4303' 'dist_4304'\n",
      " 'dist_4305' 'dist_4306' 'dist_4307' 'dist_4308' 'dist_4309' 'dist_4310'\n",
      " 'dist_4311' 'dist_4312' 'dist_4321' 'dist_4323' 'dist_4327' 'dist_4390'\n",
      " 'dist_5101' 'dist_5102' 'dist_5201' 'dist_5202' 'dist_5203' 'dist_5204'\n",
      " 'dist_5205' 'dist_5206' 'dist_5207' 'dist_5208' 'dist_5209' 'dist_5210'\n",
      " 'dist_5211' 'dist_5212' 'dist_5213' 'dist_5301' 'dist_5302' 'dist_5303'\n",
      " 'dist_5304' 'dist_5305' 'dist_5306' 'dist_5307' 'dist_5308' 'dist_5309'\n",
      " 'dist_5310' 'dist_5311' 'dist_5325' 'dist_5326' 'dist_5390' 'dist_5401'\n",
      " 'dist_5402' 'dist_5403' 'dist_5404' 'dist_5405' 'dist_5406' 'dist_5407'\n",
      " 'dist_5408' 'dist_5410' 'dist_5411' 'dist_5412' 'dist_5413' 'dist_5414'\n",
      " 'dist_5415' 'dist_5416' 'dist_5417' 'dist_5418' 'dist_5421' 'dist_5422'\n",
      " 'dist_5424' 'dist_5425' 'dist_5426' 'dist_5428' 'dist_5429' 'dist_5501'\n",
      " 'dist_5502' 'dist_5503' 'dist_5504' 'dist_5505' 'dist_5506' 'dist_5507'\n",
      " 'dist_5508' 'dist_5509' 'dist_5521' 'dist_5522' 'dist_5526' 'dist_5601'\n",
      " 'dist_5602' 'dist_5603' 'dist_5604' 'dist_5605' 'dist_5606' 'dist_5607'\n",
      " 'dist_5608' 'dist_5609' 'dist_5610' 'dist_5611' 'dist_5621' 'dist_5622'\n",
      " 'dist_5623' 'dist_5624' 'dist_5625' 'dist_5701' 'dist_5702' 'dist_5703'\n",
      " 'dist_5704' 'dist_5705' 'dist_5706' 'dist_5707' 'dist_5708' 'dist_5709'\n",
      " 'dist_5710' 'dist_5711' 'dist_5712' 'dist_5713' 'dist_5714' 'dist_5715'\n",
      " 'dist_5716' 'dist_5717' 'dist_5723' 'dist_5724' 'dist_5725' 'dist_5728'\n",
      " 'dist_5729' 'dist_5790' 'dist_6101' 'dist_6102' 'dist_6103' 'dist_6104'\n",
      " 'dist_6105' 'dist_6106' 'dist_6107' 'dist_6108' 'dist_6109' 'dist_6110'\n",
      " 'dist_6111' 'dist_6112' 'dist_6113' 'dist_6114' 'dist_6115' 'dist_6116'\n",
      " 'dist_6117' 'dist_6123' 'dist_6127' 'dist_6128' 'dist_6129' 'dist_6130'\n",
      " 'dist_6201' 'dist_6202' 'dist_6203' 'dist_6205' 'dist_6206' 'dist_6207'\n",
      " 'dist_6208' 'dist_6209' 'dist_6210' 'dist_6211' 'dist_6212' 'dist_6213'\n",
      " 'dist_6221' 'dist_6222' 'dist_6223' 'dist_6224' 'dist_6226' 'dist_6227'\n",
      " 'dist_6228' 'dist_6290' 'dist_6301' 'dist_6302' 'dist_6303' 'dist_6304'\n",
      " 'dist_6305' 'dist_6306' 'dist_6307' 'dist_6308' 'dist_6309' 'dist_6310'\n",
      " 'dist_6311' 'dist_6312' 'dist_6313' 'dist_6323' 'dist_6324' 'dist_6325'\n",
      " 'dist_6326' 'dist_6328' 'dist_6329' 'dist_6330' 'dist_6331' 'dist_6401'\n",
      " 'dist_6402' 'dist_6403' 'dist_6404' 'dist_6405' 'dist_6406' 'dist_6407'\n",
      " 'dist_6408' 'dist_6409' 'dist_6412' 'dist_6413' 'dist_6414' 'dist_6415'\n",
      " 'dist_6416' 'dist_6417' 'dist_6418' 'dist_6419' 'dist_6420' 'dist_6425'\n",
      " 'dist_6451' 'dist_6452' 'dist_6453' 'dist_6501' 'dist_6502' 'dist_6503'\n",
      " 'dist_6504' 'dist_6505' 'dist_6506' 'dist_6507' 'dist_6508' 'dist_6509'\n",
      " 'dist_6510' 'dist_6511' 'dist_6512' 'dist_6513' 'dist_6514' 'dist_6521'\n",
      " 'dist_6522' 'dist_6523' 'dist_6524' 'dist_6525' 'dist_6526' 'dist_6527'\n",
      " 'dist_6528' 'dist_6600' 'dist_6601' 'dist_6602' 'dist_6604' 'dist_6690'\n",
      " 'dist_7001' 'dist_7002' 'dist_7003' 'dist_7101' 'dist_7102' 'dist_7103'\n",
      " 'dist_7104' 'dist_7105' 'dist_7106' 'dist_7107' 'dist_7108' 'dist_7109'\n",
      " 'dist_7110' 'dist_7111' 'dist_7112' 'dist_7113' 'dist_7114' 'dist_7115'\n",
      " 'dist_7116' 'dist_7117' 'dist_7118' 'dist_7119' 'dist_7120' 'dist_7122'\n",
      " 'dist_7123' 'dist_7125' 'dist_7129' 'dist_7130' 'dist_7131' 'dist_7132'\n",
      " 'dist_7133' 'dist_7134' 'dist_7135' 'dist_7136' 'dist_7137' 'dist_7138'\n",
      " 'dist_7139' 'dist_7201' 'dist_7202' 'dist_7203' 'dist_7204' 'dist_7205'\n",
      " 'dist_7206' 'dist_7221' 'dist_7222' 'dist_7223' 'dist_7224' 'dist_7225'\n",
      " 'dist_7226' 'dist_7227' 'dist_7301' 'dist_7303' 'dist_7304' 'dist_7305'\n",
      " 'dist_7306' 'dist_7307' 'dist_7308' 'dist_7309' 'dist_7321' 'dist_7322'\n",
      " 'dist_7323' 'dist_7324' 'dist_7325' 'dist_7326' 'dist_7327' 'dist_7328'\n",
      " 'dist_7329' 'dist_7330' 'dist_7331' 'dist_7332' 'dist_7333' 'dist_7335'\n",
      " 'dist_7401' 'dist_7403' 'dist_7422' 'dist_7423' 'dist_7426' 'dist_8101'\n",
      " 'dist_8102' 'dist_8103' 'dist_8104' 'dist_8105' 'dist_8106' 'dist_8107'\n",
      " 'dist_8108' 'dist_8109' 'dist_8110' 'dist_8121' 'dist_8123' 'dist_8124'\n",
      " 'dist_8125' 'dist_8126' 'dist_8127' 'dist_8201' 'dist_8202' 'dist_8203'\n",
      " 'dist_8204' 'dist_8205' 'dist_8206' 'dist_8207' 'dist_8208' 'dist_8209'\n",
      " 'dist_8210' 'dist_8211' 'dist_8212' 'dist_8221' 'dist_8222' 'dist_8223'\n",
      " 'dist_8224' 'dist_8226' 'dist_8227' 'dist_8228' 'dist_8229' 'dist_8230'\n",
      " 'dist_8301' 'dist_8302' 'dist_8321' 'dist_8322' 'dist_8323' 'dist_8325'\n",
      " 'dist_8401' 'dist_8402' 'dist_8403' 'dist_8404' 'dist_8405' 'dist_8421'\n",
      " 'dist_8422' 'dist_8501' 'dist_8502' 'dist_8522' 'dist_8523' 'dist_8527'\n",
      " 'dist_8528' 'dist_8529' 'dist_8531' 'dist_8540' 'dist_8541' 'dist_8542'\n",
      " 'dist_8543' 'dist_8590']\n"
     ]
    }
   ],
   "source": [
    "print(\"feature:\")\n",
    "print(X_submission.columns[:21].values)\n",
    "print(X_submission.columns[21:].values)"
   ]
  },
  {
   "cell_type": "code",
   "execution_count": 113,
   "metadata": {
    "scrolled": false
   },
   "outputs": [
    {
     "name": "stdout",
     "output_type": "stream",
     "text": [
      "feature:\n",
      "['lmt' 'basicLevel' 'x_0' 'x_1' 'x_2' 'x_3' 'x_4' 'x_5' 'x_6' 'x_7' 'x_8'\n",
      " 'x_9' 'x_10' 'x_11' 'x_12' 'x_13' 'x_14' 'x_15' 'x_16' 'x_17' 'x_18']\n",
      "['x_19' 'x_20' 'x_21' 'x_22' 'x_23' 'x_24' 'x_25' 'x_26' 'x_27' 'x_28'\n",
      " 'x_29' 'x_30' 'x_31' 'x_32' 'x_33' 'x_34' 'x_35' 'x_36' 'x_37' 'x_38'\n",
      " 'x_39' 'x_40' 'x_41' 'x_42' 'x_43' 'x_44' 'x_45' 'x_46' 'x_47' 'x_48'\n",
      " 'x_49' 'x_50' 'x_51' 'x_52' 'x_53' 'x_54' 'x_55' 'x_56' 'x_57' 'x_58'\n",
      " 'x_59' 'x_60' 'x_61' 'x_62' 'x_63' 'x_64' 'x_65' 'x_66' 'x_67' 'x_68'\n",
      " 'x_69' 'x_70' 'x_71' 'x_72' 'x_73' 'x_74' 'x_75' 'x_76' 'x_77' 'x_78'\n",
      " 'linkRela' 'setupHour' 'ncloseCreditCard' 'unpayIndvLoan'\n",
      " 'unpayOtherLoan' 'unpayNormalLoan' '5yearBadloan' 'is_moving'\n",
      " 'bankname_中国工商银行' 'bankname_中国建设银行' 'bankname_中国银行' 'bankname_交通银行'\n",
      " 'bankname_光大银行' 'bankname_兴业银行' 'bankname_其他银行' 'bankname_农业银行'\n",
      " 'bankname_华夏银行' 'bankname_工商银行' 'bankname_平安银行' 'bankname_建设银行'\n",
      " 'bankname_招商银行' 'bankname_民生银行' 'bankname_浦东发展银行' 'bankname_邮储银行'\n",
      " 'bankname_邮政储蓄银行' 'age_info' 'job_2' 'job_3' 'job_4' 'job_5' 'job_6'\n",
      " 'job_7' 'job_8' 'job_10' 'job_11' 'job_12' 'job_13' 'job_16'\n",
      " 'loanProduct_2' 'loanProduct_3' 'gender_2' 'edu_0' 'edu_10' 'edu_20'\n",
      " 'edu_30' 'edu_40' 'edu_47' 'edu_60' 'edu_70' 'highestEdu_10'\n",
      " 'highestEdu_20' 'highestEdu_30' 'highestEdu_40' 'highestEdu_50'\n",
      " 'highestEdu_60' 'highestEdu_70' 'highestEdu_99' 'ethnic_1' 'ethnic_2'\n",
      " 'ethnic_3' 'ethnic_4' 'ethnic_5' 'ethnic_6' 'ethnic_7' 'ethnic_8'\n",
      " 'ethnic_9' 'ethnic_10' 'ethnic_11' 'ethnic_12' 'ethnic_13' 'ethnic_14'\n",
      " 'ethnic_15' 'ethnic_16' 'ethnic_17' 'ethnic_18' 'ethnic_19' 'ethnic_20'\n",
      " 'ethnic_21' 'ethnic_22' 'ethnic_23' 'ethnic_24' 'ethnic_25' 'ethnic_26'\n",
      " 'ethnic_27' 'ethnic_28' 'ethnic_29' 'ethnic_30' 'ethnic_31' 'ethnic_32'\n",
      " 'ethnic_33' 'ethnic_34' 'ethnic_35' 'ethnic_36' 'ethnic_37' 'ethnic_38'\n",
      " 'ethnic_39' 'ethnic_40' 'ethnic_41' 'ethnic_42' 'ethnic_43' 'ethnic_44'\n",
      " 'ethnic_45' 'ethnic_46' 'ethnic_47' 'ethnic_48' 'weekday_2' 'weekday_3'\n",
      " 'weekday_4' 'weekday_5' 'weekday_6' 'weekday_7' 'dist_3101' 'dist_3102'\n",
      " 'dist_3201' 'dist_3202' 'dist_3301' 'dist_3302' 'dist_3303' 'dist_3304'\n",
      " 'dist_3305' 'dist_3306' 'dist_3307' 'dist_3308' 'dist_3309' 'dist_3310'\n",
      " 'dist_3311' 'dist_3321' 'dist_3322' 'dist_3323' 'dist_3324' 'dist_3325'\n",
      " 'dist_3326' 'dist_3328' 'dist_3329' 'dist_3330' 'dist_3401' 'dist_3402'\n",
      " 'dist_3403' 'dist_3404' 'dist_3405' 'dist_3406' 'dist_3407' 'dist_3408'\n",
      " 'dist_3409' 'dist_3410' 'dist_3411' 'dist_3421' 'dist_3422' 'dist_3423'\n",
      " 'dist_3424' 'dist_3426' 'dist_3427' 'dist_3490' 'dist_3501' 'dist_3502'\n",
      " 'dist_3503' 'dist_3504' 'dist_3505' 'dist_3506' 'dist_3507' 'dist_3508'\n",
      " 'dist_3509' 'dist_3521' 'dist_3522' 'dist_3523' 'dist_3525' 'dist_3526'\n",
      " 'dist_3527' 'dist_3528' 'dist_3529' 'dist_4101' 'dist_4102' 'dist_4103'\n",
      " 'dist_4104' 'dist_4105' 'dist_4106' 'dist_4107' 'dist_4108' 'dist_4109'\n",
      " 'dist_4110' 'dist_4111' 'dist_4112' 'dist_4113' 'dist_4114' 'dist_4201'\n",
      " 'dist_4202' 'dist_4203' 'dist_4204' 'dist_4205' 'dist_4206' 'dist_4207'\n",
      " 'dist_4208' 'dist_4223' 'dist_4224' 'dist_4290' 'dist_4301' 'dist_4302'\n",
      " 'dist_4303' 'dist_4304' 'dist_4305' 'dist_4306' 'dist_4307' 'dist_4308'\n",
      " 'dist_4309' 'dist_4310' 'dist_4311' 'dist_4312' 'dist_4321' 'dist_4323'\n",
      " 'dist_4326' 'dist_4327' 'dist_4390' 'dist_5101' 'dist_5102' 'dist_5201'\n",
      " 'dist_5202' 'dist_5203' 'dist_5204' 'dist_5205' 'dist_5206' 'dist_5207'\n",
      " 'dist_5208' 'dist_5209' 'dist_5210' 'dist_5211' 'dist_5212' 'dist_5213'\n",
      " 'dist_5301' 'dist_5302' 'dist_5303' 'dist_5304' 'dist_5305' 'dist_5306'\n",
      " 'dist_5307' 'dist_5308' 'dist_5309' 'dist_5310' 'dist_5311' 'dist_5325'\n",
      " 'dist_5326' 'dist_5390' 'dist_5401' 'dist_5402' 'dist_5403' 'dist_5404'\n",
      " 'dist_5405' 'dist_5406' 'dist_5407' 'dist_5408' 'dist_5409' 'dist_5410'\n",
      " 'dist_5411' 'dist_5412' 'dist_5413' 'dist_5414' 'dist_5415' 'dist_5416'\n",
      " 'dist_5417' 'dist_5418' 'dist_5421' 'dist_5422' 'dist_5423' 'dist_5424'\n",
      " 'dist_5425' 'dist_5426' 'dist_5427' 'dist_5428' 'dist_5429' 'dist_5501'\n",
      " 'dist_5502' 'dist_5503' 'dist_5504' 'dist_5505' 'dist_5506' 'dist_5507'\n",
      " 'dist_5508' 'dist_5509' 'dist_5521' 'dist_5522' 'dist_5526' 'dist_5590'\n",
      " 'dist_5601' 'dist_5602' 'dist_5603' 'dist_5604' 'dist_5605' 'dist_5606'\n",
      " 'dist_5607' 'dist_5608' 'dist_5609' 'dist_5610' 'dist_5611' 'dist_5621'\n",
      " 'dist_5622' 'dist_5623' 'dist_5624' 'dist_5625' 'dist_5701' 'dist_5702'\n",
      " 'dist_5703' 'dist_5704' 'dist_5705' 'dist_5706' 'dist_5707' 'dist_5708'\n",
      " 'dist_5709' 'dist_5710' 'dist_5711' 'dist_5712' 'dist_5713' 'dist_5714'\n",
      " 'dist_5715' 'dist_5716' 'dist_5717' 'dist_5723' 'dist_5724' 'dist_5725'\n",
      " 'dist_5728' 'dist_5729' 'dist_5790' 'dist_6101' 'dist_6102' 'dist_6103'\n",
      " 'dist_6104' 'dist_6105' 'dist_6106' 'dist_6107' 'dist_6108' 'dist_6109'\n",
      " 'dist_6110' 'dist_6111' 'dist_6112' 'dist_6113' 'dist_6114' 'dist_6115'\n",
      " 'dist_6116' 'dist_6117' 'dist_6123' 'dist_6127' 'dist_6128' 'dist_6129'\n",
      " 'dist_6130' 'dist_6190' 'dist_6201' 'dist_6202' 'dist_6203' 'dist_6204'\n",
      " 'dist_6205' 'dist_6206' 'dist_6207' 'dist_6208' 'dist_6209' 'dist_6210'\n",
      " 'dist_6211' 'dist_6212' 'dist_6213' 'dist_6221' 'dist_6222' 'dist_6223'\n",
      " 'dist_6224' 'dist_6226' 'dist_6227' 'dist_6228' 'dist_6290' 'dist_6301'\n",
      " 'dist_6302' 'dist_6303' 'dist_6304' 'dist_6305' 'dist_6306' 'dist_6307'\n",
      " 'dist_6308' 'dist_6309' 'dist_6310' 'dist_6311' 'dist_6312' 'dist_6313'\n",
      " 'dist_6323' 'dist_6324' 'dist_6325' 'dist_6326' 'dist_6328' 'dist_6329'\n",
      " 'dist_6330' 'dist_6331' 'dist_6390' 'dist_6401' 'dist_6402' 'dist_6403'\n",
      " 'dist_6404' 'dist_6405' 'dist_6406' 'dist_6407' 'dist_6408' 'dist_6409'\n",
      " 'dist_6412' 'dist_6413' 'dist_6414' 'dist_6415' 'dist_6416' 'dist_6417'\n",
      " 'dist_6418' 'dist_6419' 'dist_6420' 'dist_6425' 'dist_6428' 'dist_6451'\n",
      " 'dist_6452' 'dist_6453' 'dist_6501' 'dist_6502' 'dist_6503' 'dist_6504'\n",
      " 'dist_6505' 'dist_6506' 'dist_6507' 'dist_6508' 'dist_6509' 'dist_6510'\n",
      " 'dist_6511' 'dist_6512' 'dist_6513' 'dist_6514' 'dist_6521' 'dist_6522'\n",
      " 'dist_6523' 'dist_6524' 'dist_6525' 'dist_6526' 'dist_6527' 'dist_6528'\n",
      " 'dist_6600' 'dist_6601' 'dist_6602' 'dist_6603' 'dist_6604' 'dist_6690'\n",
      " 'dist_7001' 'dist_7002' 'dist_7003' 'dist_7101' 'dist_7102' 'dist_7103'\n",
      " 'dist_7104' 'dist_7105' 'dist_7106' 'dist_7107' 'dist_7108' 'dist_7109'\n",
      " 'dist_7110' 'dist_7111' 'dist_7112' 'dist_7113' 'dist_7114' 'dist_7115'\n",
      " 'dist_7116' 'dist_7117' 'dist_7118' 'dist_7119' 'dist_7120' 'dist_7122'\n",
      " 'dist_7123' 'dist_7125' 'dist_7129' 'dist_7130' 'dist_7131' 'dist_7132'\n",
      " 'dist_7133' 'dist_7134' 'dist_7135' 'dist_7136' 'dist_7137' 'dist_7138'\n",
      " 'dist_7139' 'dist_7190' 'dist_7201' 'dist_7202' 'dist_7203' 'dist_7204'\n",
      " 'dist_7205' 'dist_7206' 'dist_7221' 'dist_7222' 'dist_7223' 'dist_7224'\n",
      " 'dist_7225' 'dist_7226' 'dist_7227' 'dist_7301' 'dist_7303' 'dist_7304'\n",
      " 'dist_7305' 'dist_7306' 'dist_7307' 'dist_7308' 'dist_7309' 'dist_7321'\n",
      " 'dist_7322' 'dist_7323' 'dist_7324' 'dist_7325' 'dist_7326' 'dist_7327'\n",
      " 'dist_7328' 'dist_7329' 'dist_7330' 'dist_7331' 'dist_7332' 'dist_7333'\n",
      " 'dist_7334' 'dist_7335' 'dist_7401' 'dist_7402' 'dist_7403' 'dist_7404'\n",
      " 'dist_7405' 'dist_7421' 'dist_7422' 'dist_7423' 'dist_7424' 'dist_7425'\n",
      " 'dist_7426' 'dist_8101' 'dist_8102' 'dist_8103' 'dist_8104' 'dist_8105'\n",
      " 'dist_8106' 'dist_8107' 'dist_8108' 'dist_8109' 'dist_8110' 'dist_8121'\n",
      " 'dist_8123' 'dist_8124' 'dist_8125' 'dist_8126' 'dist_8127' 'dist_8201'\n",
      " 'dist_8202' 'dist_8203' 'dist_8204' 'dist_8205' 'dist_8206' 'dist_8207'\n",
      " 'dist_8208' 'dist_8209' 'dist_8210' 'dist_8211' 'dist_8212' 'dist_8221'\n",
      " 'dist_8222' 'dist_8223' 'dist_8224' 'dist_8226' 'dist_8227' 'dist_8228'\n",
      " 'dist_8229' 'dist_8230' 'dist_8301' 'dist_8302' 'dist_8321' 'dist_8322'\n",
      " 'dist_8323' 'dist_8324' 'dist_8325' 'dist_8326' 'dist_8327' 'dist_8328'\n",
      " 'dist_8401' 'dist_8402' 'dist_8403' 'dist_8404' 'dist_8405' 'dist_8421'\n",
      " 'dist_8422' 'dist_8501' 'dist_8502' 'dist_8505' 'dist_8521' 'dist_8522'\n",
      " 'dist_8523' 'dist_8527' 'dist_8528' 'dist_8529' 'dist_8530' 'dist_8531'\n",
      " 'dist_8532' 'dist_8540' 'dist_8541' 'dist_8542' 'dist_8543' 'dist_8590']\n"
     ]
    }
   ],
   "source": [
    "print(\"feature:\")\n",
    "print(X.columns[:21].values)\n",
    "print(X.columns[21:].values)"
   ]
  },
  {
   "cell_type": "code",
   "execution_count": 81,
   "metadata": {
    "scrolled": false
   },
   "outputs": [
    {
     "data": {
      "text/plain": [
       "20"
      ]
     },
     "execution_count": 81,
     "metadata": {},
     "output_type": "execute_result"
    }
   ],
   "source": [
    "import gc\n",
    "gc.collect()"
   ]
  },
  {
   "cell_type": "markdown",
   "metadata": {},
   "source": [
    "## 特征选择"
   ]
  },
  {
   "cell_type": "markdown",
   "metadata": {},
   "source": [
    "### 使用lightgbm选择特征"
   ]
  },
  {
   "cell_type": "code",
   "execution_count": null,
   "metadata": {
    "scrolled": false
   },
   "outputs": [],
   "source": []
  },
  {
   "cell_type": "code",
   "execution_count": 94,
   "metadata": {},
   "outputs": [
    {
     "name": "stdout",
     "output_type": "stream",
     "text": [
      "training dataset build finish!\n",
      "fold 0\n",
      "Training until validation scores don't improve for 100 rounds.\n",
      "[100]\ttraining's auc: 0.996102\tvalid_1's auc: 0.995572\n",
      "[200]\ttraining's auc: 0.998075\tvalid_1's auc: 0.997697\n",
      "[300]\ttraining's auc: 0.998378\tvalid_1's auc: 0.998011\n",
      "[400]\ttraining's auc: 0.998503\tvalid_1's auc: 0.998104\n",
      "[500]\ttraining's auc: 0.998641\tvalid_1's auc: 0.99818\n",
      "[600]\ttraining's auc: 0.998869\tvalid_1's auc: 0.998253\n",
      "[700]\ttraining's auc: 0.999225\tvalid_1's auc: 0.998281\n",
      "[800]\ttraining's auc: 0.999493\tvalid_1's auc: 0.998286\n",
      "Early stopping, best iteration is:\n",
      "[768]\ttraining's auc: 0.999415\tvalid_1's auc: 0.99829\n",
      "fold 1\n",
      "Training until validation scores don't improve for 100 rounds.\n",
      "[100]\ttraining's auc: 0.996147\tvalid_1's auc: 0.996214\n",
      "[200]\ttraining's auc: 0.998023\tvalid_1's auc: 0.998094\n",
      "[300]\ttraining's auc: 0.998337\tvalid_1's auc: 0.998422\n",
      "[400]\ttraining's auc: 0.998466\tvalid_1's auc: 0.998526\n",
      "[500]\ttraining's auc: 0.998607\tvalid_1's auc: 0.998593\n",
      "[600]\ttraining's auc: 0.998838\tvalid_1's auc: 0.99863\n",
      "[700]\ttraining's auc: 0.999208\tvalid_1's auc: 0.998635\n",
      "Early stopping, best iteration is:\n",
      "[689]\ttraining's auc: 0.999168\tvalid_1's auc: 0.99864\n",
      "fold 2\n",
      "Training until validation scores don't improve for 100 rounds.\n",
      "[100]\ttraining's auc: 0.996159\tvalid_1's auc: 0.995923\n",
      "[200]\ttraining's auc: 0.998055\tvalid_1's auc: 0.997785\n",
      "[300]\ttraining's auc: 0.998386\tvalid_1's auc: 0.998109\n",
      "[400]\ttraining's auc: 0.99852\tvalid_1's auc: 0.99817\n",
      "[500]\ttraining's auc: 0.998656\tvalid_1's auc: 0.998249\n",
      "[600]\ttraining's auc: 0.99887\tvalid_1's auc: 0.998275\n",
      "[700]\ttraining's auc: 0.999217\tvalid_1's auc: 0.998307\n",
      "[800]\ttraining's auc: 0.999483\tvalid_1's auc: 0.998343\n",
      "[900]\ttraining's auc: 0.999669\tvalid_1's auc: 0.998345\n",
      "Early stopping, best iteration is:\n",
      "[823]\ttraining's auc: 0.99953\tvalid_1's auc: 0.998352\n",
      "fold 3\n",
      "Training until validation scores don't improve for 100 rounds.\n",
      "[100]\ttraining's auc: 0.996144\tvalid_1's auc: 0.995604\n",
      "[200]\ttraining's auc: 0.998052\tvalid_1's auc: 0.997544\n",
      "[300]\ttraining's auc: 0.998382\tvalid_1's auc: 0.997785\n",
      "[400]\ttraining's auc: 0.99852\tvalid_1's auc: 0.997865\n",
      "[500]\ttraining's auc: 0.998674\tvalid_1's auc: 0.997949\n",
      "[600]\ttraining's auc: 0.998881\tvalid_1's auc: 0.998052\n",
      "[700]\ttraining's auc: 0.999239\tvalid_1's auc: 0.998088\n",
      "[800]\ttraining's auc: 0.999504\tvalid_1's auc: 0.99813\n",
      "[900]\ttraining's auc: 0.999692\tvalid_1's auc: 0.99818\n",
      "[1000]\ttraining's auc: 0.999812\tvalid_1's auc: 0.99819\n",
      "[1100]\ttraining's auc: 0.999886\tvalid_1's auc: 0.998206\n",
      "Early stopping, best iteration is:\n",
      "[1070]\ttraining's auc: 0.999865\tvalid_1's auc: 0.998209\n",
      "fold 4\n",
      "Training until validation scores don't improve for 100 rounds.\n",
      "[100]\ttraining's auc: 0.996038\tvalid_1's auc: 0.996566\n",
      "[200]\ttraining's auc: 0.998012\tvalid_1's auc: 0.998288\n",
      "[300]\ttraining's auc: 0.998329\tvalid_1's auc: 0.99852\n",
      "[400]\ttraining's auc: 0.998464\tvalid_1's auc: 0.998559\n",
      "[500]\ttraining's auc: 0.998616\tvalid_1's auc: 0.998591\n",
      "[600]\ttraining's auc: 0.998855\tvalid_1's auc: 0.998626\n",
      "[700]\ttraining's auc: 0.999223\tvalid_1's auc: 0.998619\n",
      "Early stopping, best iteration is:\n",
      "[651]\ttraining's auc: 0.999031\tvalid_1's auc: 0.998632\n",
      "fold 5\n",
      "Training until validation scores don't improve for 100 rounds.\n",
      "[100]\ttraining's auc: 0.996173\tvalid_1's auc: 0.996135\n",
      "[200]\ttraining's auc: 0.998004\tvalid_1's auc: 0.998157\n",
      "[300]\ttraining's auc: 0.99833\tvalid_1's auc: 0.998428\n",
      "[400]\ttraining's auc: 0.998464\tvalid_1's auc: 0.998498\n",
      "[500]\ttraining's auc: 0.998605\tvalid_1's auc: 0.998535\n",
      "[600]\ttraining's auc: 0.998837\tvalid_1's auc: 0.998576\n",
      "[700]\ttraining's auc: 0.999171\tvalid_1's auc: 0.998596\n",
      "[800]\ttraining's auc: 0.999461\tvalid_1's auc: 0.998583\n",
      "Early stopping, best iteration is:\n",
      "[703]\ttraining's auc: 0.999182\tvalid_1's auc: 0.998598\n",
      "fold 6\n",
      "Training until validation scores don't improve for 100 rounds.\n",
      "[100]\ttraining's auc: 0.996116\tvalid_1's auc: 0.996035\n",
      "[200]\ttraining's auc: 0.998023\tvalid_1's auc: 0.998118\n",
      "[300]\ttraining's auc: 0.99833\tvalid_1's auc: 0.998434\n"
     ]
    },
    {
     "ename": "KeyboardInterrupt",
     "evalue": "",
     "output_type": "error",
     "traceback": [
      "\u001b[1;31m---------------------------------------------------------------------------\u001b[0m",
      "\u001b[1;31mKeyboardInterrupt\u001b[0m                         Traceback (most recent call last)",
      "\u001b[1;32m<ipython-input-94-f256c1973f84>\u001b[0m in \u001b[0;36m<module>\u001b[1;34m\u001b[0m\n\u001b[0;32m     36\u001b[0m \u001b[1;33m\u001b[0m\u001b[0m\n\u001b[0;32m     37\u001b[0m     \u001b[0mnum_round\u001b[0m \u001b[1;33m=\u001b[0m \u001b[1;36m10000\u001b[0m\u001b[1;33m\u001b[0m\u001b[1;33m\u001b[0m\u001b[0m\n\u001b[1;32m---> 38\u001b[1;33m     \u001b[0mclf\u001b[0m \u001b[1;33m=\u001b[0m \u001b[0mlgb\u001b[0m\u001b[1;33m.\u001b[0m\u001b[0mtrain\u001b[0m\u001b[1;33m(\u001b[0m\u001b[0mparam\u001b[0m\u001b[1;33m,\u001b[0m \u001b[0mtrn_data\u001b[0m\u001b[1;33m,\u001b[0m \u001b[0mnum_round\u001b[0m\u001b[1;33m,\u001b[0m \u001b[0mvalid_sets\u001b[0m \u001b[1;33m=\u001b[0m \u001b[1;33m[\u001b[0m\u001b[0mtrn_data\u001b[0m\u001b[1;33m,\u001b[0m \u001b[0mval_data\u001b[0m\u001b[1;33m]\u001b[0m\u001b[1;33m,\u001b[0m \u001b[0mverbose_eval\u001b[0m\u001b[1;33m=\u001b[0m\u001b[1;36m100\u001b[0m\u001b[1;33m,\u001b[0m \u001b[0mearly_stopping_rounds\u001b[0m \u001b[1;33m=\u001b[0m \u001b[1;36m100\u001b[0m\u001b[1;33m)\u001b[0m\u001b[1;33m\u001b[0m\u001b[1;33m\u001b[0m\u001b[0m\n\u001b[0m\u001b[0;32m     39\u001b[0m     \u001b[0moof\u001b[0m\u001b[1;33m[\u001b[0m\u001b[0mval_idx\u001b[0m\u001b[1;33m]\u001b[0m \u001b[1;33m=\u001b[0m \u001b[0mclf\u001b[0m\u001b[1;33m.\u001b[0m\u001b[0mpredict\u001b[0m\u001b[1;33m(\u001b[0m\u001b[0mdf_train\u001b[0m\u001b[1;33m.\u001b[0m\u001b[0miloc\u001b[0m\u001b[1;33m[\u001b[0m\u001b[0mval_idx\u001b[0m\u001b[1;33m]\u001b[0m\u001b[1;33m[\u001b[0m\u001b[0mdf_train_columns\u001b[0m\u001b[1;33m]\u001b[0m\u001b[1;33m,\u001b[0m \u001b[0mnum_iteration\u001b[0m\u001b[1;33m=\u001b[0m\u001b[0mclf\u001b[0m\u001b[1;33m.\u001b[0m\u001b[0mbest_iteration\u001b[0m\u001b[1;33m)\u001b[0m\u001b[1;33m\u001b[0m\u001b[1;33m\u001b[0m\u001b[0m\n\u001b[0;32m     40\u001b[0m     \u001b[0mfold_importance_df\u001b[0m \u001b[1;33m=\u001b[0m \u001b[0mpd\u001b[0m\u001b[1;33m.\u001b[0m\u001b[0mDataFrame\u001b[0m\u001b[1;33m(\u001b[0m\u001b[1;33m)\u001b[0m\u001b[1;33m\u001b[0m\u001b[1;33m\u001b[0m\u001b[0m\n",
      "\u001b[1;32m~\\Anaconda3\\lib\\site-packages\\lightgbm\\engine.py\u001b[0m in \u001b[0;36mtrain\u001b[1;34m(params, train_set, num_boost_round, valid_sets, valid_names, fobj, feval, init_model, feature_name, categorical_feature, early_stopping_rounds, evals_result, verbose_eval, learning_rates, keep_training_booster, callbacks)\u001b[0m\n\u001b[0;32m    211\u001b[0m                                     evaluation_result_list=None))\n\u001b[0;32m    212\u001b[0m \u001b[1;33m\u001b[0m\u001b[0m\n\u001b[1;32m--> 213\u001b[1;33m         \u001b[0mbooster\u001b[0m\u001b[1;33m.\u001b[0m\u001b[0mupdate\u001b[0m\u001b[1;33m(\u001b[0m\u001b[0mfobj\u001b[0m\u001b[1;33m=\u001b[0m\u001b[0mfobj\u001b[0m\u001b[1;33m)\u001b[0m\u001b[1;33m\u001b[0m\u001b[1;33m\u001b[0m\u001b[0m\n\u001b[0m\u001b[0;32m    214\u001b[0m \u001b[1;33m\u001b[0m\u001b[0m\n\u001b[0;32m    215\u001b[0m         \u001b[0mevaluation_result_list\u001b[0m \u001b[1;33m=\u001b[0m \u001b[1;33m[\u001b[0m\u001b[1;33m]\u001b[0m\u001b[1;33m\u001b[0m\u001b[1;33m\u001b[0m\u001b[0m\n",
      "\u001b[1;32m~\\Anaconda3\\lib\\site-packages\\lightgbm\\basic.py\u001b[0m in \u001b[0;36mupdate\u001b[1;34m(self, train_set, fobj)\u001b[0m\n\u001b[0;32m   1753\u001b[0m             _safe_call(_LIB.LGBM_BoosterUpdateOneIter(\n\u001b[0;32m   1754\u001b[0m                 \u001b[0mself\u001b[0m\u001b[1;33m.\u001b[0m\u001b[0mhandle\u001b[0m\u001b[1;33m,\u001b[0m\u001b[1;33m\u001b[0m\u001b[1;33m\u001b[0m\u001b[0m\n\u001b[1;32m-> 1755\u001b[1;33m                 ctypes.byref(is_finished)))\n\u001b[0m\u001b[0;32m   1756\u001b[0m             \u001b[0mself\u001b[0m\u001b[1;33m.\u001b[0m\u001b[0m__is_predicted_cur_iter\u001b[0m \u001b[1;33m=\u001b[0m \u001b[1;33m[\u001b[0m\u001b[1;32mFalse\u001b[0m \u001b[1;32mfor\u001b[0m \u001b[0m_\u001b[0m \u001b[1;32min\u001b[0m \u001b[0mrange_\u001b[0m\u001b[1;33m(\u001b[0m\u001b[0mself\u001b[0m\u001b[1;33m.\u001b[0m\u001b[0m__num_dataset\u001b[0m\u001b[1;33m)\u001b[0m\u001b[1;33m]\u001b[0m\u001b[1;33m\u001b[0m\u001b[1;33m\u001b[0m\u001b[0m\n\u001b[0;32m   1757\u001b[0m             \u001b[1;32mreturn\u001b[0m \u001b[0mis_finished\u001b[0m\u001b[1;33m.\u001b[0m\u001b[0mvalue\u001b[0m \u001b[1;33m==\u001b[0m \u001b[1;36m1\u001b[0m\u001b[1;33m\u001b[0m\u001b[1;33m\u001b[0m\u001b[0m\n",
      "\u001b[1;31mKeyboardInterrupt\u001b[0m: "
     ]
    }
   ],
   "source": [
    "#df_train = df.copy(deep=True)\n",
    "X,y  = transform_feature(data)\n",
    "\n",
    "df_train = X\n",
    "target =  y\n",
    "df_train_columns=df_train.columns.tolist()\n",
    "\n",
    "param = {'num_leaves': 51,\n",
    "         'min_data_in_leaf': 50, \n",
    "         'objective':'binary',\n",
    "         'max_depth': -1,\n",
    "         'learning_rate': 0.01,\n",
    "         \"min_child_samples\": 20,\n",
    "         \"boosting\": \"gbdt\",\n",
    "         \"feature_fraction\": 0.9,\n",
    "         \"bagging_freq\": 1,\n",
    "         \"bagging_fraction\": 0.9 ,\n",
    "         \"bagging_seed\": 11,\n",
    "         \"metric\": 'auc',  #按照要求使用AUC进行训练评估\n",
    "         \"lambda_l1\": 0.01,\n",
    "         \"verbosity\": -1,\n",
    "         \"nthread\": 4,\n",
    "         \"random_state\": 666}\n",
    "folds = StratifiedKFold(n_splits=10, shuffle=True, random_state=666)\n",
    "oof = np.zeros(len(df_train))\n",
    "#predictions = np.zeros(len(df_test))\n",
    "feature_importance_df = pd.DataFrame()\n",
    "\n",
    "for fold_, (trn_idx, val_idx) in enumerate(folds.split(df_train,target['target'].values)):\n",
    "    print(\"fold {}\".format(fold_))\n",
    "    trn_data = lgb.Dataset(df_train.iloc[trn_idx][df_train_columns], label=target.iloc[trn_idx])\n",
    "    val_data = lgb.Dataset(df_train.iloc[val_idx][df_train_columns], label=target.iloc[val_idx])\n",
    "\n",
    "    num_round = 10000\n",
    "    clf = lgb.train(param, trn_data, num_round, valid_sets = [trn_data, val_data], verbose_eval=100, early_stopping_rounds = 100)\n",
    "    oof[val_idx] = clf.predict(df_train.iloc[val_idx][df_train_columns], num_iteration=clf.best_iteration)\n",
    "    fold_importance_df = pd.DataFrame()\n",
    "    fold_importance_df[\"Feature\"] = df_train_columns\n",
    "    fold_importance_df[\"importance\"] = clf.feature_importance()\n",
    "    fold_importance_df[\"fold\"] = fold_ + 1\n",
    "    feature_importance_df = pd.concat([feature_importance_df, fold_importance_df], axis=0)\n",
    "    #predictions += clf.predict(df_test[df_train_columns], num_iteration=clf.best_iteration) / folds.n_splits"
   ]
  },
  {
   "cell_type": "code",
   "execution_count": 78,
   "metadata": {},
   "outputs": [
    {
     "data": {
      "text/plain": [
       "0.7155885109589293"
      ]
     },
     "execution_count": 78,
     "metadata": {},
     "output_type": "execute_result"
    }
   ],
   "source": [
    "from sklearn.metrics import roc_auc_score\n",
    "roc_auc_score(target,oof)"
   ]
  },
  {
   "cell_type": "code",
   "execution_count": null,
   "metadata": {},
   "outputs": [],
   "source": [
    "ax = clf.plot_importance(gbm, max_num_features=10)\n",
    "plt.show()\n",
    " \n",
    "ax = clf.plot_tree(gbm)\n",
    "plt.show()"
   ]
  },
  {
   "cell_type": "code",
   "execution_count": 79,
   "metadata": {},
   "outputs": [
    {
     "data": {
      "image/png": "[encoded data removed]",
      "text/plain": [
       "<Figure size 1008x1152 with 1 Axes>"
      ]
     },
     "metadata": {},
     "output_type": "display_data"
    }
   ],
   "source": [
    "import seaborn as sns\n",
    "import matplotlib.pyplot as plt\n",
    "plt.rcParams['font.family'] = 'SimHei'  #解决中文显示问题\n",
    "plt.style.use('ggplot') #自带的美化方式\n",
    "\n",
    "cols = (feature_importance_df[[\"Feature\", \"importance\"]]\n",
    "        .groupby(\"Feature\")\n",
    "        .mean()\n",
    "        .sort_values(by=\"importance\", ascending=False)[:50].index)\n",
    "\n",
    "best_features = feature_importance_df.loc[feature_importance_df.Feature.isin(cols)]\n",
    "\n",
    "plt.figure(figsize=(14,16))\n",
    "sns.barplot(x=\"importance\",\n",
    "            y=\"Feature\",\n",
    "            data=best_features.sort_values(by=\"importance\",\n",
    "                                           ascending=False))\n",
    "plt.title('LightGBM Features importance')\n",
    "plt.tight_layout()"
   ]
  },
  {
   "cell_type": "code",
   "execution_count": 84,
   "metadata": {},
   "outputs": [
    {
     "data": {
      "text/plain": [
       "['age_info',\n",
       " 'basicLevel',\n",
       " 'gender_2',\n",
       " 'is_moving',\n",
       " 'job',\n",
       " 'linkRela',\n",
       " 'lmt',\n",
       " 'loanProduct_3',\n",
       " 'setupHour',\n",
       " 'x_14',\n",
       " 'x_33',\n",
       " 'x_34',\n",
       " 'x_46',\n",
       " 'x_52',\n",
       " 'x_62',\n",
       " 'x_67',\n",
       " 'x_75']"
      ]
     },
     "execution_count": 84,
     "metadata": {},
     "output_type": "execute_result"
    }
   ],
   "source": [
    "features = best_features[['Feature','importance']].sort_values(by=\"importance\",ascending=False)\n",
    "features = np.unique(features['Feature'][:100].values)\n",
    "features = list(features)\n",
    "features"
   ]
  },
  {
   "cell_type": "code",
   "execution_count": 174,
   "metadata": {},
   "outputs": [],
   "source": []
  },
  {
   "cell_type": "markdown",
   "metadata": {},
   "source": [
    "## 模型参数估计"
   ]
  },
  {
   "cell_type": "code",
   "execution_count": 101,
   "metadata": {},
   "outputs": [],
   "source": [
    "from sklearn.model_selection import cross_val_score, cross_val_predict\n",
    "from sklearn.metrics import accuracy_score, classification_report, confusion_matrix\n",
    "from sklearn.metrics import accuracy_score, f1_score, auc, roc_curve, roc_auc_score"
   ]
  },
  {
   "cell_type": "code",
   "execution_count": 99,
   "metadata": {},
   "outputs": [],
   "source": [
    "def print_score(clf, X_train, y_train, X_test, y_test, train=True):\n",
    "    if train:\n",
    "        print(\"Train Result:\\n\")\n",
    "        print(\"accuracy score: {0:.4f}\\n\".format(accuracy_score(y_train, clf.predict(X_train))))\n",
    "        print(\"Classification Report: \\n {}\\n\".format(classification_report(y_train, clf.predict(X_train))))\n",
    "        print(\"Confusion Matrix: \\n {}\\n\".format(confusion_matrix(y_train, clf.predict(X_train))))\n",
    "\n",
    "        res = cross_val_score(clf, X_train, y_train, cv=10, scoring='accuracy')\n",
    "        print(\"Average Accuracy: \\t {0:.4f}\".format(np.mean(res)))\n",
    "        print(\"Accuracy SD: \\t\\t {0:.4f}\".format(np.std(res)))\n",
    "        \n",
    "    elif train==False:\n",
    "        print(\"Test Result:\\n\")        \n",
    "        print(\"accuracy score: {0:.4f}\\n\".format(accuracy_score(y_test, clf.predict(X_test))))\n",
    "        print(\"Classification Report: \\n {}\\n\".format(classification_report(y_test, clf.predict(X_test))))\n",
    "        print(\"Confusion Matrix: \\n {}\\n\".format(confusion_matrix(y_test, clf.predict(X_test))))   \n",
    "        print(\"roc_auc_score: \\n {}\\n\".format(roc_auc_score(y_test, clf.predict_proba(X_test)[:,1] )))"
   ]
  },
  {
   "cell_type": "code",
   "execution_count": 95,
   "metadata": {},
   "outputs": [],
   "source": [
    "X_train, X_test, y_train, y_test = train_test_split(X,y,test_size=0.15,random_state=101)"
   ]
  },
  {
   "cell_type": "code",
   "execution_count": 102,
   "metadata": {},
   "outputs": [
    {
     "name": "stderr",
     "output_type": "stream",
     "text": [
      "C:\\Users\\baiziru\\Anaconda3\\lib\\site-packages\\ipykernel_launcher.py:3: DataConversionWarning: A column-vector y was passed when a 1d array was expected. Please change the shape of y to (n_samples,), for example using ravel().\n",
      "  This is separate from the ipykernel package so we can avoid doing imports until\n"
     ]
    },
    {
     "name": "stdout",
     "output_type": "stream",
     "text": [
      "Test Result:\n",
      "\n",
      "accuracy score: 0.9998\n",
      "\n",
      "Classification Report: \n",
      "               precision    recall  f1-score   support\n",
      "\n",
      "           0       1.00      1.00      1.00     19786\n",
      "           1       1.00      1.00      1.00     19535\n",
      "\n",
      "    accuracy                           1.00     39321\n",
      "   macro avg       1.00      1.00      1.00     39321\n",
      "weighted avg       1.00      1.00      1.00     39321\n",
      "\n",
      "\n",
      "Confusion Matrix: \n",
      " [[19786     0]\n",
      " [    9 19526]]\n",
      "\n",
      "roc_auc_score: \n",
      " 1.0\n",
      "\n"
     ]
    }
   ],
   "source": [
    "from sklearn.ensemble import RandomForestClassifier\n",
    "clf_rf = RandomForestClassifier(n_estimators=20, random_state=21)\n",
    "clf_rf.fit(X, y)\n",
    "print_score(clf_rf, x_train_r, y_train_r, X_test, y_test, train=False)"
   ]
  },
  {
   "cell_type": "markdown",
   "metadata": {},
   "source": [
    "### LogisticRegression Modeling"
   ]
  },
  {
   "cell_type": "code",
   "execution_count": 171,
   "metadata": {},
   "outputs": [
    {
     "name": "stderr",
     "output_type": "stream",
     "text": [
      "C:\\Users\\baiziru\\Anaconda3\\lib\\site-packages\\sklearn\\utils\\validation.py:724: DataConversionWarning: A column-vector y was passed when a 1d array was expected. Please change the shape of y to (n_samples, ), for example using ravel().\n",
      "  y = column_or_1d(y, warn=True)\n"
     ]
    },
    {
     "name": "stdout",
     "output_type": "stream",
     "text": [
      "Test Result:\n",
      "\n",
      "accuracy score: 0.7435\n",
      "\n",
      "Classification Report: \n",
      "               precision    recall  f1-score   support\n",
      "\n",
      "           0       0.76      0.72      0.74     19786\n",
      "           1       0.73      0.77      0.75     19535\n",
      "\n",
      "    accuracy                           0.74     39321\n",
      "   macro avg       0.74      0.74      0.74     39321\n",
      "weighted avg       0.74      0.74      0.74     39321\n",
      "\n",
      "\n",
      "Confusion Matrix: \n",
      " [[14248  5538]\n",
      " [ 4549 14986]]\n",
      "\n",
      "roc_auc_score: \n",
      " 0.8138573548331364\n",
      "\n"
     ]
    }
   ],
   "source": [
    "from sklearn.linear_model import LogisticRegression\n",
    "#X_train, X_test, y_train, y_test = train_test_split(X,y,test_size=0.15,random_state=101)\n",
    "model_lrg = LogisticRegression(C = 0.05,random_state=21)\n",
    "model_lrg.fit(X_train, y_train)\n",
    "print_score(model_lrg, X_train, y_train, X_test, y_test, train=False)"
   ]
  },
  {
   "cell_type": "code",
   "execution_count": null,
   "metadata": {},
   "outputs": [],
   "source": []
  },
  {
   "cell_type": "markdown",
   "metadata": {},
   "source": [
    "###  LightGBM  Modeling\n",
    "- http://lightgbm.apachecn.org/cn/latest/index.html\n",
    "- lightGBM包含两个关键点：light即轻量级，GBM 梯度提升机。"
   ]
  },
  {
   "cell_type": "code",
   "execution_count": 191,
   "metadata": {},
   "outputs": [],
   "source": [
    "#import shap"
   ]
  },
  {
   "cell_type": "code",
   "execution_count": 189,
   "metadata": {},
   "outputs": [],
   "source": [
    "def run_lgb(train_X, train_y, val_X, val_y):\n",
    "    params = {\n",
    "        \"objective\" : \"binary\",\n",
    "        \"boosting_type\": \"gbdt\",\n",
    "        \"metric\" : \"auc\",\n",
    "        \"num_leaves\" : 100,\n",
    "        \"learning_rate\" : 0.05,\n",
    "        \"bagging_fraction\" : 0.6,\n",
    "        \"feature_fraction\" : 0.6,\n",
    "        \"bagging_frequency\" : 6,\n",
    "        \"bagging_seed\" : 42,\n",
    "        \"max_bin\": 512,\n",
    "        \"verbosity\" : -1,\n",
    "        \"seed\": 42\n",
    "    }\n",
    "    \n",
    "    lgtrain = lgb.Dataset(train_X, label=train_y)\n",
    "    lgval = lgb.Dataset(val_X, label=val_y)\n",
    "    evals_result = {}\n",
    "    model = lgb.train(params, lgtrain, 5000, \n",
    "                      valid_sets=[lgtrain, lgval], \n",
    "                      early_stopping_rounds=100, \n",
    "                      verbose_eval=150, \n",
    "                      evals_result=evals_result)\n",
    "    \n",
    "    #pred_test_y = np.expm1(model.predict(test_X, num_iteration=model.best_iteration))\n",
    "    return model, evals_result"
   ]
  },
  {
   "cell_type": "code",
   "execution_count": 192,
   "metadata": {},
   "outputs": [
    {
     "name": "stdout",
     "output_type": "stream",
     "text": [
      "Training until validation scores don't improve for 100 rounds.\n",
      "[150]\ttraining's auc: 0.999928\tvalid_1's auc: 0.998489\n",
      "Early stopping, best iteration is:\n",
      "[97]\ttraining's auc: 0.999279\tvalid_1's auc: 0.998619\n",
      "LightGBM Training Completed...\n"
     ]
    }
   ],
   "source": [
    "# Training LGB\n",
    "#X,y  = transform_feature(data)\n",
    "#X_train, X_test, y_train, y_test = train_test_split(X,y,test_size=0.15,random_state=101)\n",
    "model_lgb, evals_result = run_lgb(X_train, y_train, X_test, y_test)\n",
    "print(\"LightGBM Training Completed...\")"
   ]
  },
  {
   "cell_type": "code",
   "execution_count": 175,
   "metadata": {},
   "outputs": [
    {
     "name": "stdout",
     "output_type": "stream",
     "text": [
      "Features Importance...\n",
      "            feature  split       gain\n",
      "48             x_46   1068  13.963250\n",
      "47             x_45   1062   7.973938\n",
      "77             x_75   1358   7.364785\n",
      "69             x_67   1714   6.469777\n",
      "88        is_moving   2213   4.860900\n",
      "109           job_4   2688   3.931035\n",
      "74             x_72   1196   3.311284\n",
      "121        gender_2   2329   2.910026\n",
      "85   unpayOtherLoan    448   2.758023\n",
      "35             x_33   2770   2.654205\n"
     ]
    }
   ],
   "source": [
    "# feature importance\n",
    "print(\"Features Importance...\")\n",
    "gain = model_lgb.feature_importance('gain')\n",
    "featureimp = pd.DataFrame({'feature':model_lgb.feature_name(), \n",
    "                   'split':model_lgb.feature_importance('split'), \n",
    "                   'gain':100 * gain / gain.sum()}).sort_values('gain', ascending=False)\n",
    "print(featureimp[:10])"
   ]
  },
  {
   "cell_type": "code",
   "execution_count": null,
   "metadata": {},
   "outputs": [],
   "source": [
    "# 保存模型到文件\n",
    "print('Save model...')\n",
    "model_lgb.save_model('model_lgb.txt')"
   ]
  },
  {
   "cell_type": "markdown",
   "metadata": {},
   "source": [
    "###  XGBoost Modeling"
   ]
  },
  {
   "cell_type": "code",
   "execution_count": 195,
   "metadata": {},
   "outputs": [],
   "source": [
    "def run_xgb(train_X, train_y, val_X, val_y):\n",
    "    params = {'objective': 'binary:logistic', \n",
    "          'eval_metric': 'auc',\n",
    "          'eta': 0.05,\n",
    "          'max_depth': 100, \n",
    "          'subsample': 0.6, \n",
    "          'colsample_bytree': 0.6,\n",
    "          'alpha':0.001,\n",
    "          'random_state': 42, \n",
    "          'nthread':4,\n",
    "          'silent': True}\n",
    "    \n",
    "    tr_data = xgb.DMatrix(train_X, train_y)\n",
    "    va_data = xgb.DMatrix(val_X, val_y)\n",
    "    \n",
    "    watchlist = [(tr_data, 'train'), (va_data, 'valid')]\n",
    "    \n",
    "    model_xgb = xgb.train(params, tr_data, 2000, watchlist, maximize=False, early_stopping_rounds = 200, verbose_eval=100)\n",
    "    \n",
    "    #dtest = xgb.DMatrix(test_X)\n",
    "    #xgb_pred_y = np.expm1(model_xgb.predict(dtest, ntree_limit=model_xgb.best_ntree_limit))\n",
    "    \n",
    "    return model_xgb"
   ]
  },
  {
   "cell_type": "code",
   "execution_count": null,
   "metadata": {},
   "outputs": [
    {
     "name": "stdout",
     "output_type": "stream",
     "text": [
      "[0]\ttrain-auc:0.997301\tvalid-auc:0.996435\n",
      "Multiple eval metrics have been passed: 'valid-auc' will be used for early stopping.\n",
      "\n",
      "Will train until valid-auc hasn't improved in 200 rounds.\n",
      "[100]\ttrain-auc:0.999991\tvalid-auc:0.999152\n"
     ]
    }
   ],
   "source": [
    "# Training XGB\n",
    "model_xgb = run_xgb(X_train, y_train, X_test, y_test)\n",
    "print(\"XGB Training Completed...\")"
   ]
  },
  {
   "cell_type": "code",
   "execution_count": null,
   "metadata": {},
   "outputs": [],
   "source": [
    "#[1039]\ttrain-auc:0.977261\tvalid-auc:0.708885"
   ]
  },
  {
   "cell_type": "markdown",
   "metadata": {},
   "source": [
    "### Combine Predictions"
   ]
  },
  {
   "cell_type": "markdown",
   "metadata": {},
   "source": [
    "#### 构建与训练集相同维度的特征的测试集"
   ]
  },
  {
   "cell_type": "code",
   "execution_count": 186,
   "metadata": {},
   "outputs": [
    {
     "name": "stdout",
     "output_type": "stream",
     "text": [
      "test dataset build finish!\n",
      "True\n",
      "False\n"
     ]
    }
   ],
   "source": [
    "X_test_submission = transform_feature(test_x,train=False)\n",
    "df_X = pd.DataFrame(columns = X.columns)\n",
    "for col in X.columns:\n",
    "    if col  in X_test_submission.columns:\n",
    "        df_X[col] = X_test_submission[col]\n",
    "    else:\n",
    "        df_X[col] = 0\n",
    "        \n",
    "import operator\n",
    "print(\"调整前：\")\n",
    "print(operator.eq(list(X.columns),list(X_test_submission.columns)))\n",
    "print(\"调整后：\")\n",
    "print(operator.eq(list(X.columns),list(df_X.columns)))"
   ]
  },
  {
   "cell_type": "code",
   "execution_count": 187,
   "metadata": {},
   "outputs": [
    {
     "data": {
      "text/html": [
       "<div>\n",
       "<style scoped>\n",
       "    .dataframe tbody tr th:only-of-type {\n",
       "        vertical-align: middle;\n",
       "    }\n",
       "\n",
       "    .dataframe tbody tr th {\n",
       "        vertical-align: top;\n",
       "    }\n",
       "\n",
       "    .dataframe thead th {\n",
       "        text-align: right;\n",
       "    }\n",
       "</style>\n",
       "<table border=\"1\" class=\"dataframe\">\n",
       "  <thead>\n",
       "    <tr style=\"text-align: right;\">\n",
       "      <th></th>\n",
       "      <th>id</th>\n",
       "      <th>certId</th>\n",
       "      <th>loanProduct</th>\n",
       "      <th>gender</th>\n",
       "      <th>age</th>\n",
       "      <th>dist</th>\n",
       "      <th>edu</th>\n",
       "      <th>job</th>\n",
       "      <th>lmt</th>\n",
       "      <th>basicLevel</th>\n",
       "      <th>...</th>\n",
       "      <th>highestEdu</th>\n",
       "      <th>linkRela</th>\n",
       "      <th>setupHour</th>\n",
       "      <th>weekday</th>\n",
       "      <th>ncloseCreditCard</th>\n",
       "      <th>unpayIndvLoan</th>\n",
       "      <th>unpayOtherLoan</th>\n",
       "      <th>unpayNormalLoan</th>\n",
       "      <th>5yearBadloan</th>\n",
       "      <th>isNew</th>\n",
       "    </tr>\n",
       "  </thead>\n",
       "  <tbody>\n",
       "    <tr>\n",
       "      <th>0</th>\n",
       "      <td>132030</td>\n",
       "      <td>541202</td>\n",
       "      <td>1</td>\n",
       "      <td>2</td>\n",
       "      <td>28</td>\n",
       "      <td>540100</td>\n",
       "      <td>0</td>\n",
       "      <td>3</td>\n",
       "      <td>9.963</td>\n",
       "      <td>1</td>\n",
       "      <td>...</td>\n",
       "      <td>-999</td>\n",
       "      <td>0</td>\n",
       "      <td>9</td>\n",
       "      <td>6</td>\n",
       "      <td>1</td>\n",
       "      <td>0</td>\n",
       "      <td>1</td>\n",
       "      <td>0</td>\n",
       "      <td>0</td>\n",
       "      <td>1</td>\n",
       "    </tr>\n",
       "    <tr>\n",
       "      <th>1</th>\n",
       "      <td>132031</td>\n",
       "      <td>733521</td>\n",
       "      <td>1</td>\n",
       "      <td>1</td>\n",
       "      <td>42</td>\n",
       "      <td>730900</td>\n",
       "      <td>0</td>\n",
       "      <td>6</td>\n",
       "      <td>0.730</td>\n",
       "      <td>1</td>\n",
       "      <td>...</td>\n",
       "      <td>-999</td>\n",
       "      <td>0</td>\n",
       "      <td>4</td>\n",
       "      <td>6</td>\n",
       "      <td>1</td>\n",
       "      <td>0</td>\n",
       "      <td>1</td>\n",
       "      <td>0</td>\n",
       "      <td>0</td>\n",
       "      <td>1</td>\n",
       "    </tr>\n",
       "    <tr>\n",
       "      <th>2</th>\n",
       "      <td>132032</td>\n",
       "      <td>710231</td>\n",
       "      <td>1</td>\n",
       "      <td>2</td>\n",
       "      <td>43</td>\n",
       "      <td>710100</td>\n",
       "      <td>0</td>\n",
       "      <td>2</td>\n",
       "      <td>5.768</td>\n",
       "      <td>1</td>\n",
       "      <td>...</td>\n",
       "      <td>-999</td>\n",
       "      <td>0</td>\n",
       "      <td>18</td>\n",
       "      <td>5</td>\n",
       "      <td>1</td>\n",
       "      <td>1</td>\n",
       "      <td>1</td>\n",
       "      <td>0</td>\n",
       "      <td>0</td>\n",
       "      <td>1</td>\n",
       "    </tr>\n",
       "    <tr>\n",
       "      <th>3</th>\n",
       "      <td>132033</td>\n",
       "      <td>722122</td>\n",
       "      <td>3</td>\n",
       "      <td>2</td>\n",
       "      <td>32</td>\n",
       "      <td>722120</td>\n",
       "      <td>0</td>\n",
       "      <td>4</td>\n",
       "      <td>17.233</td>\n",
       "      <td>1</td>\n",
       "      <td>...</td>\n",
       "      <td>-999</td>\n",
       "      <td>-999</td>\n",
       "      <td>6</td>\n",
       "      <td>5</td>\n",
       "      <td>1</td>\n",
       "      <td>0</td>\n",
       "      <td>1</td>\n",
       "      <td>1</td>\n",
       "      <td>0</td>\n",
       "      <td>1</td>\n",
       "    </tr>\n",
       "    <tr>\n",
       "      <th>4</th>\n",
       "      <td>132034</td>\n",
       "      <td>641723</td>\n",
       "      <td>1</td>\n",
       "      <td>2</td>\n",
       "      <td>22</td>\n",
       "      <td>641700</td>\n",
       "      <td>0</td>\n",
       "      <td>4</td>\n",
       "      <td>0.463</td>\n",
       "      <td>3</td>\n",
       "      <td>...</td>\n",
       "      <td>-999</td>\n",
       "      <td>1</td>\n",
       "      <td>4</td>\n",
       "      <td>6</td>\n",
       "      <td>0</td>\n",
       "      <td>0</td>\n",
       "      <td>0</td>\n",
       "      <td>0</td>\n",
       "      <td>0</td>\n",
       "      <td>1</td>\n",
       "    </tr>\n",
       "  </tbody>\n",
       "</table>\n",
       "<p>5 rows × 104 columns</p>\n",
       "</div>"
      ],
      "text/plain": [
       "       id  certId  loanProduct  gender  age    dist  edu  job     lmt  \\\n",
       "0  132030  541202            1       2   28  540100    0    3   9.963   \n",
       "1  132031  733521            1       1   42  730900    0    6   0.730   \n",
       "2  132032  710231            1       2   43  710100    0    2   5.768   \n",
       "3  132033  722122            3       2   32  722120    0    4  17.233   \n",
       "4  132034  641723            1       2   22  641700    0    4   0.463   \n",
       "\n",
       "   basicLevel  ...  highestEdu  linkRela  setupHour  weekday  \\\n",
       "0           1  ...        -999         0          9        6   \n",
       "1           1  ...        -999         0          4        6   \n",
       "2           1  ...        -999         0         18        5   \n",
       "3           1  ...        -999      -999          6        5   \n",
       "4           3  ...        -999         1          4        6   \n",
       "\n",
       "   ncloseCreditCard  unpayIndvLoan  unpayOtherLoan  unpayNormalLoan  \\\n",
       "0                 1              0               1                0   \n",
       "1                 1              0               1                0   \n",
       "2                 1              1               1                0   \n",
       "3                 1              0               1                1   \n",
       "4                 0              0               0                0   \n",
       "\n",
       "   5yearBadloan  isNew  \n",
       "0             0      1  \n",
       "1             0      1  \n",
       "2             0      1  \n",
       "3             0      1  \n",
       "4             0      1  \n",
       "\n",
       "[5 rows x 104 columns]"
      ]
     },
     "execution_count": 187,
     "metadata": {},
     "output_type": "execute_result"
    }
   ],
   "source": [
    "test_x.head()"
   ]
  },
  {
   "cell_type": "code",
   "execution_count": 188,
   "metadata": {},
   "outputs": [
    {
     "data": {
      "text/html": [
       "<div>\n",
       "<style scoped>\n",
       "    .dataframe tbody tr th:only-of-type {\n",
       "        vertical-align: middle;\n",
       "    }\n",
       "\n",
       "    .dataframe tbody tr th {\n",
       "        vertical-align: top;\n",
       "    }\n",
       "\n",
       "    .dataframe thead th {\n",
       "        text-align: right;\n",
       "    }\n",
       "</style>\n",
       "<table border=\"1\" class=\"dataframe\">\n",
       "  <thead>\n",
       "    <tr style=\"text-align: right;\">\n",
       "      <th></th>\n",
       "      <th>lmt</th>\n",
       "      <th>basicLevel</th>\n",
       "      <th>x_0</th>\n",
       "      <th>x_1</th>\n",
       "      <th>x_2</th>\n",
       "      <th>x_3</th>\n",
       "      <th>x_4</th>\n",
       "      <th>x_5</th>\n",
       "      <th>x_6</th>\n",
       "      <th>x_7</th>\n",
       "      <th>...</th>\n",
       "      <th>dist_8528</th>\n",
       "      <th>dist_8529</th>\n",
       "      <th>dist_8530</th>\n",
       "      <th>dist_8531</th>\n",
       "      <th>dist_8532</th>\n",
       "      <th>dist_8540</th>\n",
       "      <th>dist_8541</th>\n",
       "      <th>dist_8542</th>\n",
       "      <th>dist_8543</th>\n",
       "      <th>dist_8590</th>\n",
       "    </tr>\n",
       "  </thead>\n",
       "  <tbody>\n",
       "    <tr>\n",
       "      <th>0</th>\n",
       "      <td>9.963</td>\n",
       "      <td>1</td>\n",
       "      <td>0</td>\n",
       "      <td>0</td>\n",
       "      <td>0</td>\n",
       "      <td>0</td>\n",
       "      <td>0</td>\n",
       "      <td>0</td>\n",
       "      <td>0</td>\n",
       "      <td>0</td>\n",
       "      <td>...</td>\n",
       "      <td>0</td>\n",
       "      <td>0</td>\n",
       "      <td>0</td>\n",
       "      <td>0</td>\n",
       "      <td>0</td>\n",
       "      <td>0</td>\n",
       "      <td>0</td>\n",
       "      <td>0</td>\n",
       "      <td>0</td>\n",
       "      <td>0</td>\n",
       "    </tr>\n",
       "    <tr>\n",
       "      <th>1</th>\n",
       "      <td>0.730</td>\n",
       "      <td>1</td>\n",
       "      <td>0</td>\n",
       "      <td>0</td>\n",
       "      <td>0</td>\n",
       "      <td>0</td>\n",
       "      <td>0</td>\n",
       "      <td>0</td>\n",
       "      <td>0</td>\n",
       "      <td>0</td>\n",
       "      <td>...</td>\n",
       "      <td>0</td>\n",
       "      <td>0</td>\n",
       "      <td>0</td>\n",
       "      <td>0</td>\n",
       "      <td>0</td>\n",
       "      <td>0</td>\n",
       "      <td>0</td>\n",
       "      <td>0</td>\n",
       "      <td>0</td>\n",
       "      <td>0</td>\n",
       "    </tr>\n",
       "    <tr>\n",
       "      <th>2</th>\n",
       "      <td>5.768</td>\n",
       "      <td>1</td>\n",
       "      <td>0</td>\n",
       "      <td>0</td>\n",
       "      <td>0</td>\n",
       "      <td>0</td>\n",
       "      <td>0</td>\n",
       "      <td>0</td>\n",
       "      <td>0</td>\n",
       "      <td>0</td>\n",
       "      <td>...</td>\n",
       "      <td>0</td>\n",
       "      <td>0</td>\n",
       "      <td>0</td>\n",
       "      <td>0</td>\n",
       "      <td>0</td>\n",
       "      <td>0</td>\n",
       "      <td>0</td>\n",
       "      <td>0</td>\n",
       "      <td>0</td>\n",
       "      <td>0</td>\n",
       "    </tr>\n",
       "    <tr>\n",
       "      <th>3</th>\n",
       "      <td>17.233</td>\n",
       "      <td>1</td>\n",
       "      <td>0</td>\n",
       "      <td>0</td>\n",
       "      <td>0</td>\n",
       "      <td>0</td>\n",
       "      <td>0</td>\n",
       "      <td>0</td>\n",
       "      <td>0</td>\n",
       "      <td>0</td>\n",
       "      <td>...</td>\n",
       "      <td>0</td>\n",
       "      <td>0</td>\n",
       "      <td>0</td>\n",
       "      <td>0</td>\n",
       "      <td>0</td>\n",
       "      <td>0</td>\n",
       "      <td>0</td>\n",
       "      <td>0</td>\n",
       "      <td>0</td>\n",
       "      <td>0</td>\n",
       "    </tr>\n",
       "    <tr>\n",
       "      <th>4</th>\n",
       "      <td>0.463</td>\n",
       "      <td>3</td>\n",
       "      <td>0</td>\n",
       "      <td>0</td>\n",
       "      <td>0</td>\n",
       "      <td>0</td>\n",
       "      <td>0</td>\n",
       "      <td>0</td>\n",
       "      <td>0</td>\n",
       "      <td>0</td>\n",
       "      <td>...</td>\n",
       "      <td>0</td>\n",
       "      <td>0</td>\n",
       "      <td>0</td>\n",
       "      <td>0</td>\n",
       "      <td>0</td>\n",
       "      <td>0</td>\n",
       "      <td>0</td>\n",
       "      <td>0</td>\n",
       "      <td>0</td>\n",
       "      <td>0</td>\n",
       "    </tr>\n",
       "  </tbody>\n",
       "</table>\n",
       "<p>5 rows × 674 columns</p>\n",
       "</div>"
      ],
      "text/plain": [
       "      lmt  basicLevel  x_0  x_1  x_2  x_3  x_4  x_5  x_6  x_7  ...  dist_8528  \\\n",
       "0   9.963           1    0    0    0    0    0    0    0    0  ...          0   \n",
       "1   0.730           1    0    0    0    0    0    0    0    0  ...          0   \n",
       "2   5.768           1    0    0    0    0    0    0    0    0  ...          0   \n",
       "3  17.233           1    0    0    0    0    0    0    0    0  ...          0   \n",
       "4   0.463           3    0    0    0    0    0    0    0    0  ...          0   \n",
       "\n",
       "   dist_8529  dist_8530  dist_8531  dist_8532  dist_8540  dist_8541  \\\n",
       "0          0          0          0          0          0          0   \n",
       "1          0          0          0          0          0          0   \n",
       "2          0          0          0          0          0          0   \n",
       "3          0          0          0          0          0          0   \n",
       "4          0          0          0          0          0          0   \n",
       "\n",
       "   dist_8542  dist_8543  dist_8590  \n",
       "0          0          0          0  \n",
       "1          0          0          0  \n",
       "2          0          0          0  \n",
       "3          0          0          0  \n",
       "4          0          0          0  \n",
       "\n",
       "[5 rows x 674 columns]"
      ]
     },
     "execution_count": 188,
     "metadata": {},
     "output_type": "execute_result"
    }
   ],
   "source": [
    "df_X.head()"
   ]
  },
  {
   "cell_type": "markdown",
   "metadata": {},
   "source": [
    "#### 使用训练好的模型进行预测"
   ]
  },
  {
   "cell_type": "code",
   "execution_count": 169,
   "metadata": {},
   "outputs": [
    {
     "data": {
      "text/html": [
       "<div>\n",
       "<style scoped>\n",
       "    .dataframe tbody tr th:only-of-type {\n",
       "        vertical-align: middle;\n",
       "    }\n",
       "\n",
       "    .dataframe tbody tr th {\n",
       "        vertical-align: top;\n",
       "    }\n",
       "\n",
       "    .dataframe thead th {\n",
       "        text-align: right;\n",
       "    }\n",
       "</style>\n",
       "<table border=\"1\" class=\"dataframe\">\n",
       "  <thead>\n",
       "    <tr style=\"text-align: right;\">\n",
       "      <th></th>\n",
       "      <th>id</th>\n",
       "      <th>target</th>\n",
       "    </tr>\n",
       "  </thead>\n",
       "  <tbody>\n",
       "    <tr>\n",
       "      <th>0</th>\n",
       "      <td>132030</td>\n",
       "      <td>0</td>\n",
       "    </tr>\n",
       "    <tr>\n",
       "      <th>1</th>\n",
       "      <td>132031</td>\n",
       "      <td>0</td>\n",
       "    </tr>\n",
       "    <tr>\n",
       "      <th>2</th>\n",
       "      <td>132032</td>\n",
       "      <td>0</td>\n",
       "    </tr>\n",
       "    <tr>\n",
       "      <th>3</th>\n",
       "      <td>132033</td>\n",
       "      <td>0</td>\n",
       "    </tr>\n",
       "    <tr>\n",
       "      <th>4</th>\n",
       "      <td>132034</td>\n",
       "      <td>1</td>\n",
       "    </tr>\n",
       "  </tbody>\n",
       "</table>\n",
       "</div>"
      ],
      "text/plain": [
       "       id  target\n",
       "0  132030       0\n",
       "1  132031       0\n",
       "2  132032       0\n",
       "3  132033       0\n",
       "4  132034       1"
      ]
     },
     "execution_count": 169,
     "metadata": {},
     "output_type": "execute_result"
    }
   ],
   "source": [
    "# 预测数据集\n",
    "pred_yprob_lrg = model_lrg.predict_proba(df_X)\n",
    "pred_y_lrg = model_lrg.predict(df_X)\n",
    "\n",
    "#每个客户违约概率预测\n",
    "y = pd.DataFrame(pred_yprob_lrg[:,1], columns=['target'])\n",
    "y_pred_prob = pd.concat([test_x.id, y],axis=1)\n",
    "#y_pred_prob.to_csv('sub_lrg_prob.csv', index=False)\n",
    "#y_pred_prob.head()\n",
    "\n",
    "#每个客户是否违约\n",
    "y = pd.DataFrame(pred_y_lrg, columns=['target'])\n",
    "y_pred = pd.concat([test_x.id, y],axis=1)\n",
    "y_pred_prob.to_csv('sub_lrg_lable.csv', index=False)\n",
    "\n",
    "y_pred.head()"
   ]
  },
  {
   "cell_type": "code",
   "execution_count": null,
   "metadata": {},
   "outputs": [],
   "source": [
    "test_x.shape"
   ]
  },
  {
   "cell_type": "code",
   "execution_count": 184,
   "metadata": {},
   "outputs": [],
   "source": [
    "# 预测数据集\n",
    "#pred_lgb = np.expm1(model_lgb.predict(df_X, num_iteration=model_lgb.best_iteration))\n",
    "pred_lgb = model_lgb.predict(df_X, num_iteration=model_lgb.best_iteration)\n",
    "\n",
    "#每个客户是否违约\n",
    "y = pd.DataFrame(pred_lgb, columns=['target'])\n",
    "y_pred = pd.concat([test_x.id, y],axis=1)\n",
    "y_pred_prob.to_csv('sub_lgb_lable.csv', index=False)\n",
    "\n",
    "y_pred.head()"
   ]
  },
  {
   "cell_type": "code",
   "execution_count": 185,
   "metadata": {},
   "outputs": [
    {
     "data": {
      "text/plain": [
       "array([0.01551073, 0.02586425, 0.01533486, ..., 0.0158809 , 0.01249904,\n",
       "       0.01041978])"
      ]
     },
     "execution_count": 185,
     "metadata": {},
     "output_type": "execute_result"
    }
   ],
   "source": [
    "pred_lgb"
   ]
  },
  {
   "cell_type": "code",
   "execution_count": null,
   "metadata": {},
   "outputs": [],
   "source": [
    "# 预测数据集\n",
    "pred_xgb = np.expm1(model_xgb.predict(df_X, num_iteration=model_xgb.best_iteration))"
   ]
  },
  {
   "cell_type": "code",
   "execution_count": null,
   "metadata": {},
   "outputs": [],
   "source": [
    "#sub = pd.read_csv('../input/sample_submission.csv')\n",
    "\n",
    "sub_lrg = pd.DataFrame()\n",
    "sub_lrg[\"target\"] = pred_lrg\n",
    "\n",
    "sub_lgb = pd.DataFrame()\n",
    "sub_lgb[\"target\"] = pred_lgb\n",
    "\n",
    "sub_xgb = pd.DataFrame()\n",
    "sub_xgb[\"target\"] = pred_xgb\n",
    "\n",
    "sub[\"target\"] = ( sub_lrg[\"target\"] * 0.2 + sub_lgb[\"target\"] * 0.5 + sub_xgb[\"target\"] * 0.3 )\n",
    "\n",
    "print(sub.head())\n",
    "sub.to_csv('sub_lr_lgb_xgb.csv', index=False)"
   ]
  },
  {
   "cell_type": "markdown",
   "metadata": {},
   "source": [
    "##  模型评价\n",
    "二分类问题在机器学习中是一个很常见的问题，经常会用到。ROC (Receiver Operating Characteristic) 曲线和 AUC (Area Under the Curve)(Area Under theCurve) 值常被用来评价一个二值分类器 (binary classifier) 的优劣。\n",
    "\n",
    "对于分类器，或者说分类算法，评价指标主要有precision，recall，F-score等，以及这里要讨论的ROC和AUC。\n",
    "AUC(Area under the ROC curve)\n",
    "ROC曲线一定程度上可以反映分类器的分类效果，但是不够直观，我们希望有这么一个指标，如果这个指标越大越好，越小越差，于是，就有了AUC。AUC实际上就是ROC曲线下的面积。AUC直观地反映了ROC曲线表达的分类能力。\n",
    "\n",
    " - AUC ＝ 1，代表完美分类器\n",
    " - 0.5 < AUC < 1，优于随机分类器\n",
    " - 0 < AUC < 0.5，差于随机分类器\n",
    "\n",
    "**总结：**\n",
    " - ROC曲线反映了分类器的分类能力，结合考虑了分类器输出概率的准确性\n",
    " - AUC量化了ROC曲线的分类能力，越大分类效果越好，输出概率越合理\n",
    " - AUC常用作CTR的离线评价，AUC越大，CTR的排序能力越强\n",
    "\n",
    "\n",
    "作者：尼小摩\n",
    "链接：<a href='https://www.jianshu.com/p/848838ecbc2d'>https://www.jianshu.com/p/848838ecbc2d</a>\n",
    "来源：简书\n",
    "著作权归作者所有。商业转载请联系作者获得授权，非商业转载请注明出处。"
   ]
  },
  {
   "cell_type": "code",
   "execution_count": 108,
   "metadata": {},
   "outputs": [],
   "source": [
    "#计算ROC曲线的AUC值\n",
    "from sklearn.metrics import accuracy_score, classification_report, confusion_matrix\n",
    "from sklearn.metrics import accuracy_score, f1_score, auc, roc_curve, roc_auc_score\n",
    "#area = metrics.roc_auc_score(label, prob)\n",
    "#print(area)"
   ]
  },
  {
   "cell_type": "code",
   "execution_count": null,
   "metadata": {},
   "outputs": [],
   "source": [
    "X_test_submission = transform_feature(test_x,train=False)\n",
    "\n",
    "y_scores = model.predict_proba(X_test)\n",
    "y_scores = y_scores[:,1]\n",
    "\n",
    "auroc = roc_auc_score(y_test, y_scores)\n",
    "\n",
    "print(\"ROC-AUC Score:\", auroc)"
   ]
  },
  {
   "cell_type": "markdown",
   "metadata": {},
   "source": [
    "## 提交结果"
   ]
  },
  {
   "cell_type": "markdown",
   "metadata": {},
   "source": [
    "> **提交数据格式说明**\n",
    "> - 1. 参赛者提交CSV结果文件；\n",
    "> - 2. 文件内容分为两列，第一列为“id”（即用户id），第二列为”target”(坏样本的概率)； \n",
    "> - 3. 复赛阶段参赛队伍须向大赛组委会邮箱（zhangzhiy@xib.com.cn）提交源代码和解决方案报告（如赛题分析与理解、建模流程设计、特征工程、模型选取与训练、模型评估、建模过程中的发现与创新点等）。组委会将进行代码审核，代码需具有通用性和普适性。同时，专家评分将综合考察解决方案中的创新性、复杂度、稳定性等多项指标；"
   ]
  },
  {
   "cell_type": "code",
   "execution_count": null,
   "metadata": {},
   "outputs": [],
   "source": []
  }
 ],
 "metadata": {
  "kernelspec": {
   "display_name": "Python 3",
   "language": "python",
   "name": "python3"
  },
  "language_info": {
   "codemirror_mode": {
    "name": "ipython",
    "version": 3
   },
   "file_extension": ".py",
   "mimetype": "text/x-python",
   "name": "python",
   "nbconvert_exporter": "python",
   "pygments_lexer": "ipython3",
   "version": "3.7.3"
  },
  "toc": {
   "base_numbering": 1,
   "nav_menu": {},
   "number_sections": true,
   "sideBar": true,
   "skip_h1_title": false,
   "title_cell": "Table of Contents",
   "title_sidebar": "Contents",
   "toc_cell": false,
   "toc_position": {
    "height": "calc(100% - 180px)",
    "left": "10px",
    "top": "150px",
    "width": "287.594px"
   },
   "toc_section_display": true,
   "toc_window_display": true
  }
 },
 "nbformat": 4,
 "nbformat_minor": 2
}
